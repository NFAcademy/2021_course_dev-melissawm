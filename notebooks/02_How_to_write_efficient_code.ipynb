{
 "cells": [
  {
   "cell_type": "markdown",
   "id": "113c4d2a",
   "metadata": {},
   "source": [
    "# How to write efficient code"
   ]
  },
  {
   "cell_type": "markdown",
   "id": "ad62b536",
   "metadata": {},
   "source": [
    "In this notebook, you will learn about\n",
    "- Slicing\n",
    "- Advanced indexing\n",
    "- Broadcasting\n",
    "- How to convert a 1D array into a 2D array (how to add a new axis to an array)\n",
    "- Views/copies"
   ]
  },
  {
   "cell_type": "markdown",
   "id": "05f46e5a",
   "metadata": {},
   "source": [
    "## How to convert a 1D array into a 2D array\n",
    "\n",
    "You can use np.newaxis and np.expand_dims to increase the dimensions of your existing array.\n",
    "\n",
    "Using np.newaxis will increase the dimensions of your array by one dimension when used once. This means that a 1D array will become a 2D array, a 2D array will become a 3D array, and so on.\n",
    "\n",
    "https://numpy.org/devdocs/user/absolute_beginners.html#how-to-convert-a-1d-array-into-a-2d-array-how-to-add-a-new-axis-to-an-array"
   ]
  },
  {
   "cell_type": "markdown",
   "id": "1e4409b8",
   "metadata": {},
   "source": [
    "Reshaping and flattening multidimensional arrays\n",
    "\n",
    "This section covers .flatten(), ravel()\n",
    "\n",
    "There are two popular ways to flatten an array: .flatten() and .ravel(). The primary difference between the two is that the new array created using ravel() is actually a reference to the parent array (i.e., a “view”). This means that any changes to the new array will affect the parent array as well. Since ravel does not create a copy, it’s memory efficient."
   ]
  },
  {
   "cell_type": "code",
   "execution_count": null,
   "id": "cfa303ab",
   "metadata": {},
   "outputs": [],
   "source": []
  }
 ],
 "metadata": {
  "kernelspec": {
   "display_name": "Python 3",
   "language": "python",
   "name": "python3"
  },
  "language_info": {
   "codemirror_mode": {
    "name": "ipython",
    "version": 3
   },
   "file_extension": ".py",
   "mimetype": "text/x-python",
   "name": "python",
   "nbconvert_exporter": "python",
   "pygments_lexer": "ipython3",
   "version": "3.9.0"
  }
 },
 "nbformat": 4,
 "nbformat_minor": 5
}
