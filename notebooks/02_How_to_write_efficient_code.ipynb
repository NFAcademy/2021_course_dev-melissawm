{
 "cells": [
  {
   "cell_type": "markdown",
   "id": "113c4d2a",
   "metadata": {},
   "source": [
    "# How to write efficient code"
   ]
  },
  {
   "cell_type": "markdown",
   "id": "ad62b536",
   "metadata": {},
   "source": [
    "In this notebook, you will learn about\n",
    "- Slicing\n",
    "- Views/copies\n",
    "- Advanced indexing\n",
    "- How to reshape, flatten and increase the dimensions of an array"
   ]
  },
  {
   "cell_type": "markdown",
   "id": "d22a2b51-8cc8-4dde-82cb-c8f288b4ee2a",
   "metadata": {},
   "source": [
    "---"
   ]
  },
  {
   "cell_type": "markdown",
   "id": "7ea8952c-4034-4913-b318-dd62a62f4e9d",
   "metadata": {},
   "source": [
    "## 1. What is efficient code?"
   ]
  },
  {
   "cell_type": "markdown",
   "id": "fc82c7ec-fc3b-4886-b550-364d94369809",
   "metadata": {},
   "source": [
    "NumPy was created with the goal of making scientific computing in Python possible (and with good performance). While its high-level Python syntax makes it accessible and easy to learn, the core of NumPy is well-optimized C code. When we say efficient NumPy code, we mean taking advantage of the structure and C-level implementation of arrays, operations and functions as much as possible and avoiding extra computational cost. Let's see how to take full advantage of this efficient implementation."
   ]
  },
  {
   "cell_type": "markdown",
   "id": "0e79f11b-bd09-4b86-862d-146a3693d5fd",
   "metadata": {},
   "source": [
    "We will continue using the example of [Notebook 1](01_Intro.ipynb):"
   ]
  },
  {
   "cell_type": "code",
   "execution_count": null,
   "id": "d080748d-c233-43b7-b973-d4703c2651c5",
   "metadata": {},
   "outputs": [],
   "source": [
    "import numpy as np\n",
    "import pandas as pd\n",
    "\n",
    "quality_of_life = pd.read_csv('../data/quality_of_life_index.csv')"
   ]
  },
  {
   "cell_type": "markdown",
   "id": "dbf7baa0-afe6-4c51-881a-92ce770a9ed2",
   "metadata": {},
   "source": [
    "This time, let's select one 1D array containing only the Quality of Life index, and let's build another 2D array containing Quality of Life, Cost of Living and Pollution indices."
   ]
  },
  {
   "cell_type": "code",
   "execution_count": null,
   "id": "b39944a5-0a86-4869-a499-135a1fecd2cb",
   "metadata": {},
   "outputs": [],
   "source": [
    "quality_index = np.array(quality_of_life['Quality of Life Index'])\n",
    "quality_cost_pollution = np.array(quality_of_life[['Quality of Life Index', 'Cost of Living Index', 'Pollution Index']]) "
   ]
  },
  {
   "cell_type": "markdown",
   "id": "e30294a7-5958-48ed-bbc0-d4c9de9c56d8",
   "metadata": {},
   "source": [
    "## 2. Operations and built-in utilities"
   ]
  },
  {
   "cell_type": "markdown",
   "id": "01ab6d2a-50d0-44d8-9710-3474ecf88aa6",
   "metadata": {},
   "source": [
    "There are several built-in utilities that can be applied to a NumPy array. For example, we can compute the maximum and minimum values of an array using"
   ]
  },
  {
   "cell_type": "code",
   "execution_count": null,
   "id": "47c81ff3-a648-44ee-9d54-956fe71760ea",
   "metadata": {},
   "outputs": [],
   "source": [
    "np.amax(quality_index), np.amin(quality_index)"
   ]
  },
  {
   "cell_type": "markdown",
   "id": "e9f2729c-e19b-4675-a572-a989dd3d8258",
   "metadata": {},
   "source": [
    "Note that when applying these functions to an array with more than one axis, we can pick which axis to compute the maximum or minimum for. Take, for example, our `quality_cost_pollution` array. Let's say we want to compute the *maximum along all rows*."
   ]
  },
  {
   "cell_type": "markdown",
   "id": "adc0c210-edf8-4c9b-b8b3-a55d773e5e5b",
   "metadata": {},
   "source": [
    "**Note** There is a source of confusion that may arise with the expression *along all rows*. One way to think about this is to reason that the axis selected in the function call is the axis to be collapsed at the end of the operation. For example:"
   ]
  },
  {
   "cell_type": "code",
   "execution_count": null,
   "id": "d1b0d6d2-cde2-4e27-a137-04827961bc9d",
   "metadata": {},
   "outputs": [],
   "source": [
    "quality_cost_pollution.shape"
   ]
  },
  {
   "cell_type": "markdown",
   "id": "cdf86725-a42f-468a-8192-e96e5799fa96",
   "metadata": {},
   "source": [
    "Selecting to compute the maximum over `axis=0`, the axis corresponding to the rows will be collapsed: "
   ]
  },
  {
   "cell_type": "code",
   "execution_count": null,
   "id": "c9e2534c-eca8-4afb-915c-8c3671d80393",
   "metadata": {},
   "outputs": [],
   "source": [
    "np.amax(quality_cost_pollution, axis=0)"
   ]
  },
  {
   "cell_type": "markdown",
   "id": "f1d47182-9a7c-4297-89c0-e55a33a5c5c3",
   "metadata": {},
   "source": [
    "If we select `axis=1`, the axis corresponding to the columns will be collapsed:"
   ]
  },
  {
   "cell_type": "code",
   "execution_count": null,
   "id": "cc344f61-5654-45e6-879d-cfb30baccc61",
   "metadata": {
    "scrolled": true,
    "tags": []
   },
   "outputs": [],
   "source": [
    "np.amax(quality_cost_pollution, axis=1)"
   ]
  },
  {
   "cell_type": "markdown",
   "id": "2c2c50b1-3c7b-4355-96d6-9b873812cca0",
   "metadata": {},
   "source": [
    "As expected,"
   ]
  },
  {
   "cell_type": "code",
   "execution_count": null,
   "id": "7856911c-1d19-4e19-9033-059112e69cb1",
   "metadata": {},
   "outputs": [],
   "source": [
    "np.amax(quality_cost_pollution, axis=1).shape"
   ]
  },
  {
   "cell_type": "markdown",
   "id": "3b8829d8-ae63-4914-bbbc-35e8c2b34d66",
   "metadata": {},
   "source": [
    "If no axis is selected, these functions compute the result over the *flattened* array - meaning they compare every element, disregarding the dimensions of the array."
   ]
  },
  {
   "cell_type": "code",
   "execution_count": null,
   "id": "495d15a3-62b4-4577-90ca-a2b5fa2f8ad2",
   "metadata": {},
   "outputs": [],
   "source": [
    "np.amax(quality_cost_pollution)"
   ]
  },
  {
   "cell_type": "markdown",
   "id": "5d31ef56-13d6-4767-8556-942c62c50a7c",
   "metadata": {},
   "source": [
    "Other useful functions include:"
   ]
  },
  {
   "cell_type": "code",
   "execution_count": null,
   "id": "660bec58-1586-49ac-ba69-ab2ea3c2e454",
   "metadata": {},
   "outputs": [],
   "source": [
    "np.mean(quality_index)  # Compute the arithmetic mean along the specified axis."
   ]
  },
  {
   "cell_type": "code",
   "execution_count": null,
   "id": "222cc012-0e48-4013-8ab0-6763846b7ea5",
   "metadata": {},
   "outputs": [],
   "source": [
    "mean_indices = np.mean(quality_cost_pollution, axis=0)\n",
    "print(f'The mean for the Quality of Life index is {mean_indices[0]}')\n",
    "print(f'The mean for the Cost of Living index is {mean_indices[1]}')\n",
    "print(f'The mean for the Pollution index is {mean_indices[2]}')"
   ]
  },
  {
   "cell_type": "markdown",
   "id": "9987cae9-d441-461c-a2f5-b9af12fc1091",
   "metadata": {},
   "source": [
    "Now, let's say we want to compute the sum all the elements in the array. We can use the `np.sum` function to do this:"
   ]
  },
  {
   "cell_type": "code",
   "execution_count": null,
   "id": "5b1d7911-075a-4bde-a612-9d44f4df0bae",
   "metadata": {},
   "outputs": [],
   "source": [
    "np.sum(quality_index)"
   ]
  },
  {
   "cell_type": "markdown",
   "id": "5d756c62-1f9a-4bfa-a549-e51b62047890",
   "metadata": {},
   "source": [
    "Note also that, if our array has two possible `axis` over which to compute the sum, we can tell `sum` what to do using the `axis` keyword: "
   ]
  },
  {
   "cell_type": "code",
   "execution_count": null,
   "id": "03f8d32f-7382-44af-a2bc-95630af7cd29",
   "metadata": {},
   "outputs": [],
   "source": [
    "quality_cost_pollution.shape"
   ]
  },
  {
   "cell_type": "markdown",
   "id": "7c7b936e-8804-4deb-8711-364e8ab1e684",
   "metadata": {},
   "source": [
    "Here, `axis=0` corresponds to the sum over all rows: "
   ]
  },
  {
   "cell_type": "code",
   "execution_count": null,
   "id": "2a99bd4c-ac8d-4dde-8477-c27ae08a5c12",
   "metadata": {},
   "outputs": [],
   "source": [
    "np.sum(quality_cost_pollution, axis=0)"
   ]
  },
  {
   "cell_type": "markdown",
   "id": "390db8c2-c442-464c-a076-dc408c5ae7da",
   "metadata": {},
   "source": [
    "While `axis=1` corresponds to the sum over all columns:"
   ]
  },
  {
   "cell_type": "code",
   "execution_count": null,
   "id": "b9746a9a-4985-474a-89b9-6f3e926bedb7",
   "metadata": {
    "scrolled": true,
    "tags": []
   },
   "outputs": [],
   "source": [
    "np.sum(quality_cost_pollution, axis=1)"
   ]
  },
  {
   "cell_type": "markdown",
   "id": "01067e49-d4c4-458a-9aa6-b8ac86749d08",
   "metadata": {},
   "source": [
    "---"
   ]
  },
  {
   "cell_type": "markdown",
   "id": "6f3114ce-e71b-4ebc-a07c-155114b51172",
   "metadata": {},
   "source": [
    "#### Self-assessment 1"
   ]
  },
  {
   "cell_type": "markdown",
   "id": "b7abcbdb-147a-4e7b-8f1d-ef7e4c09eadd",
   "metadata": {},
   "source": [
    "---"
   ]
  },
  {
   "cell_type": "markdown",
   "id": "6147e6f8-b12c-457f-a474-f891988744f9",
   "metadata": {},
   "source": [
    "## 3. Slicing"
   ]
  },
  {
   "cell_type": "markdown",
   "id": "1a981762-3a6c-47f1-9ca9-e7bee69fb5e6",
   "metadata": {},
   "source": [
    "NumPy allows you to select items in an array not only individually, but as a subset of the initial array. For example, you can take up a *slice* of a NumPy array by using the same slicing syntax as you would use with Python lists, extending this concept to N dimensions. For example, to select the top 5 quality of life indices from our array, we can do"
   ]
  },
  {
   "cell_type": "code",
   "execution_count": null,
   "id": "b0d58211-cd81-4fbf-9b51-e1fb5c10bc1c",
   "metadata": {
    "tags": []
   },
   "outputs": [],
   "source": [
    "top_quality = quality_index[0:5]\n",
    "print(top_quality)"
   ]
  },
  {
   "cell_type": "markdown",
   "id": "8879e45c-4a9f-48c5-9303-1e94f47703e6",
   "metadata": {},
   "source": [
    "Note that"
   ]
  },
  {
   "cell_type": "code",
   "execution_count": null,
   "id": "c330d880-dbf0-4820-a114-9c76a6c348ad",
   "metadata": {},
   "outputs": [],
   "source": [
    "top_quality.shape"
   ]
  },
  {
   "cell_type": "markdown",
   "id": "c3f1c13a-ca7f-44dd-8f97-a82a2306fb04",
   "metadata": {},
   "source": [
    "Consider now our 2-d array"
   ]
  },
  {
   "cell_type": "code",
   "execution_count": null,
   "id": "c1f87a7d-cd44-4698-97da-1a93e0f9161e",
   "metadata": {
    "scrolled": true,
    "tags": []
   },
   "outputs": [],
   "source": [
    "quality_cost_pollution"
   ]
  },
  {
   "cell_type": "markdown",
   "id": "845684f1-40ab-4d31-a6f3-673cda8adf7f",
   "metadata": {},
   "source": [
    "If we want to select the first 5 rows of this 2D array, we can use the following syntax:"
   ]
  },
  {
   "cell_type": "code",
   "execution_count": null,
   "id": "22e6d5a0-e845-44f7-b20e-1b097adcad02",
   "metadata": {},
   "outputs": [],
   "source": [
    "quality_cost_pollution[0:5, :]"
   ]
  },
  {
   "cell_type": "markdown",
   "id": "63b5d9d1-ca8e-4abc-9b2f-d8b4ef8a1699",
   "metadata": {},
   "source": [
    "(Note that the colon `:` denotes we didn't make any explicit choice of indices for the second axis, which in this case means we take all columns for the result)"
   ]
  },
  {
   "cell_type": "markdown",
   "id": "21c5d370-24b5-40f1-ac3d-4a457cbb3486",
   "metadata": {},
   "source": [
    "If instead we wanted to choose the first two columns, with all rows, we would do"
   ]
  },
  {
   "cell_type": "code",
   "execution_count": null,
   "id": "4e2bec26-07ed-4245-8683-4962d2248cf4",
   "metadata": {
    "scrolled": true,
    "tags": []
   },
   "outputs": [],
   "source": [
    "quality_cost_pollution[:, 0:2]"
   ]
  },
  {
   "cell_type": "markdown",
   "id": "a604da3a-c501-439d-8ca1-16e397b5e148",
   "metadata": {},
   "source": [
    "To select elements from a sub-array located in rows 5 through 9, and columns 0 and 1, we would do"
   ]
  },
  {
   "cell_type": "code",
   "execution_count": null,
   "id": "f420a952-037e-4cb1-b76f-29de52624276",
   "metadata": {},
   "outputs": [],
   "source": [
    "quality_cost_pollution[5:10, 0:2]"
   ]
  },
  {
   "cell_type": "markdown",
   "id": "ca5c7d73-465e-4c80-86b0-028dd08fb21e",
   "metadata": {},
   "source": [
    "**Note** You may use slicing to set values in the array, but (unlike lists) you can never grow the array using slicing. For that, you need to create a new array with the appropriate size and copy the data to this new object."
   ]
  },
  {
   "cell_type": "markdown",
   "id": "8618e193-bb89-47f1-a49e-e0c47dc00f5b",
   "metadata": {},
   "source": [
    "---"
   ]
  },
  {
   "cell_type": "markdown",
   "id": "03a22c48-869e-4abd-8704-88a1b6f75ebb",
   "metadata": {},
   "source": [
    "#### Self-assessment 2"
   ]
  },
  {
   "cell_type": "markdown",
   "id": "9b1f0b8d-2f62-4cf1-ae28-93fa14dc7b15",
   "metadata": {},
   "source": [
    "---"
   ]
  },
  {
   "cell_type": "markdown",
   "id": "8be06723-fe47-48cf-bf8c-ca479c11aad9",
   "metadata": {
    "tags": []
   },
   "source": [
    "## 4. Views and copies"
   ]
  },
  {
   "cell_type": "markdown",
   "id": "13f7e870-f74d-44e3-a114-510637ff4a60",
   "metadata": {},
   "source": [
    "Behind the scenes, the NumPy array is a contiguous block of memory consisting of two parts: the data buffer with the actual data elements, and the metadata which contains information about the data buffer. The metadata includes data type, strides and other important information that helps manipulate the ndarray easily.\n",
    "\n",
    "Because of the way NumPy is built, it is often possible to access the data buffer directly for more efficient computations: we call this a `view`. When this is not possible, for example when we need to increase the number of elements of an array, a `copy` is made. Copies take more space in memory and can impact performance for large datasets, so they should be avoided."
   ]
  },
  {
   "cell_type": "markdown",
   "id": "eab20152-726a-4c42-bed1-4dcacee6a3ac",
   "metadata": {},
   "source": [
    "You don't need to understand all the details about copies and views, but you should be aware that some NumPy operations creates views, while others creates copies - this can create serious bottlenecks for your algorithm's performance and should be handled carefully if you want to write efficient code."
   ]
  },
  {
   "cell_type": "markdown",
   "id": "142f50de-6346-41b8-949a-57f62b82f959",
   "metadata": {},
   "source": [
    "Let's look at a concrete example:"
   ]
  },
  {
   "cell_type": "code",
   "execution_count": null,
   "id": "429fe278-0010-4f66-88dd-ca330fdad5cc",
   "metadata": {},
   "outputs": [],
   "source": [
    "quality_index[0:5]"
   ]
  },
  {
   "cell_type": "code",
   "execution_count": null,
   "id": "84e74caa-f4b6-450d-9ff4-e929f313abfc",
   "metadata": {},
   "outputs": [],
   "source": [
    "top_quality = quality_index[0:5]  # The slicing operation creates a view of the original array"
   ]
  },
  {
   "cell_type": "code",
   "execution_count": null,
   "id": "64c91cd8-924a-4c7e-b493-1f8facae7500",
   "metadata": {},
   "outputs": [],
   "source": [
    "top_quality[0] = 300  # By changing this element of the view, we are also changing the element in the original array!"
   ]
  },
  {
   "cell_type": "code",
   "execution_count": null,
   "id": "d39b45bf-9c79-4173-b990-1c3e76832d95",
   "metadata": {},
   "outputs": [],
   "source": [
    "top_quality"
   ]
  },
  {
   "cell_type": "code",
   "execution_count": null,
   "id": "ade4d4a2-6d72-412a-b42b-33ffa4059076",
   "metadata": {
    "scrolled": true,
    "tags": []
   },
   "outputs": [],
   "source": [
    "quality_index"
   ]
  },
  {
   "cell_type": "markdown",
   "id": "ad4ee472-bb83-4c0a-b0c1-9ddeaf42eba7",
   "metadata": {},
   "source": [
    "The base attribute of the ndarray makes it easy to tell if an array is a view or a copy. The base attribute of a view returns the original array while for a copy it returns `None`."
   ]
  },
  {
   "cell_type": "code",
   "execution_count": null,
   "id": "a4baec5b-ad57-4dd2-8736-331b1d001ce0",
   "metadata": {},
   "outputs": [],
   "source": [
    "top_quality.base is quality_index  # top_quality is a view of quality_index"
   ]
  },
  {
   "cell_type": "markdown",
   "id": "51c42eef-ebb1-4f29-a85c-1ee0913aff67",
   "metadata": {},
   "source": [
    "If we want to make sure `top_quality` is an entirely different array from `quality_index`, we can use the `.copy()` method:"
   ]
  },
  {
   "cell_type": "code",
   "execution_count": null,
   "id": "68a473c5-9ef1-4cb4-ab54-8170d2a10f24",
   "metadata": {},
   "outputs": [],
   "source": [
    "top_quality = quality_index[0:5].copy()"
   ]
  },
  {
   "cell_type": "code",
   "execution_count": null,
   "id": "19c2d62e-9802-4582-ac68-46f49f86332f",
   "metadata": {},
   "outputs": [],
   "source": [
    "top_quality.base is quality_index"
   ]
  },
  {
   "cell_type": "markdown",
   "id": "8a43d487-bd77-4c5b-a2c8-19c7e4aeefb1",
   "metadata": {},
   "source": [
    "## 5. Advanced indexing"
   ]
  },
  {
   "cell_type": "markdown",
   "id": "c7ee359b-e128-4e5c-abc8-a38a19ce72bd",
   "metadata": {},
   "source": [
    "In addition to selecting elements with integer or tuple indices, NumPy implements *advanced indexing* techniques, allowing us to use ndarrays or boolean objects as indices. For example, suppose we want to select all elements in our `quality_index` array above a certain value - say 200. First, to detect which elements satisfy this condition, we can test the array directly:"
   ]
  },
  {
   "cell_type": "code",
   "execution_count": null,
   "id": "5c05895d-c8f1-49df-a77a-b7d53193f59f",
   "metadata": {
    "scrolled": true,
    "tags": []
   },
   "outputs": [],
   "source": [
    "quality_index > 200"
   ]
  },
  {
   "cell_type": "markdown",
   "id": "9ce48066-a8f5-4cbf-a623-4986fa10ac27",
   "metadata": {},
   "source": [
    "Note that the output from this is an array with boolean values:"
   ]
  },
  {
   "cell_type": "code",
   "execution_count": null,
   "id": "ff83ba48-c011-4f2a-b111-dd907900e1e1",
   "metadata": {},
   "outputs": [],
   "source": [
    "boolean_array = quality_index > 200\n",
    "boolean_array.dtype"
   ]
  },
  {
   "cell_type": "markdown",
   "id": "56ef89db-000a-402e-a5bd-1e6d0aeb4774",
   "metadata": {},
   "source": [
    "This boolean array can then be used to directly select the elements from the original array for which the condition is met:"
   ]
  },
  {
   "cell_type": "code",
   "execution_count": null,
   "id": "f452aef8-4a2a-4a0b-a8a0-6f697fd1af71",
   "metadata": {},
   "outputs": [],
   "source": [
    "quality_index[quality_index > 200]"
   ]
  },
  {
   "cell_type": "markdown",
   "id": "ca4e0182-bf3a-439f-bbb9-9e87ff36eee3",
   "metadata": {},
   "source": [
    "This syntax can be very powerful and compact. Let's say we want to select only the values larger than the array average. We can do this by using"
   ]
  },
  {
   "cell_type": "code",
   "execution_count": null,
   "id": "32b0d259-21ff-4668-af2c-a142a6cb9287",
   "metadata": {},
   "outputs": [],
   "source": [
    "quality_index[quality_index >= np.mean(quality_index)]"
   ]
  },
  {
   "cell_type": "markdown",
   "id": "3380a47b-37f8-4fc3-964c-033e47e5791e",
   "metadata": {},
   "source": [
    "Note that it is also possible to select elements from an array using another array (or a list, or tuple). For example:"
   ]
  },
  {
   "cell_type": "code",
   "execution_count": null,
   "id": "42a5de8c-c312-471f-875a-5e555c42ae73",
   "metadata": {},
   "outputs": [],
   "source": [
    "top_quality = quality_index[0:5]\n",
    "print(top_quality)"
   ]
  },
  {
   "cell_type": "code",
   "execution_count": null,
   "id": "2f3ff4ff-6b38-4ed7-ad2e-0d0957c8c346",
   "metadata": {},
   "outputs": [],
   "source": [
    "top_quality[[1, 1, 2, 3]]"
   ]
  },
  {
   "cell_type": "markdown",
   "id": "3934cc10-87b0-4d10-afa1-655202bc2001",
   "metadata": {},
   "source": [
    "**Note** Advanced indexing always returns a copy of the data (contrast with basic slicing that returns a view). This can have serious impact in the performance and memory cost of these indexing operations."
   ]
  },
  {
   "cell_type": "code",
   "execution_count": null,
   "id": "5fb37222-a9f6-4c73-8093-ecb90421775e",
   "metadata": {},
   "outputs": [],
   "source": [
    "top_quality[[1, 1, 2, 3]].base is quality_index"
   ]
  },
  {
   "cell_type": "markdown",
   "id": "4b91ae57-4ad8-4c03-9dfc-16cb7255c290",
   "metadata": {},
   "source": [
    "---"
   ]
  },
  {
   "cell_type": "markdown",
   "id": "b1b9abef-be6e-478d-bcc7-3e2f8bf733e1",
   "metadata": {},
   "source": [
    "#### Self-assessment 3"
   ]
  },
  {
   "cell_type": "markdown",
   "id": "3d7c2816-c075-4ff9-9777-fddc68cfe8ba",
   "metadata": {},
   "source": [
    "---"
   ]
  },
  {
   "cell_type": "markdown",
   "id": "05f46e5a",
   "metadata": {},
   "source": [
    "## 5. How to reshape, flatten and increase the dimensions of an array\n",
    "\n",
    "Consider the array"
   ]
  },
  {
   "cell_type": "code",
   "execution_count": null,
   "id": "34ee9f51-2668-4d23-8635-e410bd8c9c9b",
   "metadata": {},
   "outputs": [],
   "source": [
    "a = np.arange(12)"
   ]
  },
  {
   "cell_type": "code",
   "execution_count": null,
   "id": "ef6f2b73-e52d-4621-94d3-cf619b29c816",
   "metadata": {},
   "outputs": [],
   "source": [
    "a.shape"
   ]
  },
  {
   "cell_type": "markdown",
   "id": "38d09dfe-035d-4f84-8bf2-0aa3e7d994ad",
   "metadata": {},
   "source": [
    "Let's say we wanted to make sure this array has shape `(12, 1)` (we'll see why this can be important in a minute!) Using `np.newaxis` will increase the dimensions of your array by one dimension when used once. This means that a 1D array will become a 2D array, a 2D array will become a 3D array, and so on."
   ]
  },
  {
   "cell_type": "code",
   "execution_count": null,
   "id": "c51855a8-c817-445a-b26f-5092a0a6aba9",
   "metadata": {},
   "outputs": [],
   "source": [
    "b = a[:, np.newaxis]\n",
    "b.shape"
   ]
  },
  {
   "cell_type": "markdown",
   "id": "7f97ec94-da03-4240-b29c-b44950ee903e",
   "metadata": {},
   "source": [
    "Now, let's say we wanted to re-organize `b` into a different shape. We can use `np.reshape` to do this:"
   ]
  },
  {
   "cell_type": "code",
   "execution_count": null,
   "id": "4e02089a-5a5d-46ad-acb1-3fe28223ef53",
   "metadata": {},
   "outputs": [],
   "source": [
    "c = b.reshape(2, 3, 2)\n",
    "c.shape"
   ]
  },
  {
   "cell_type": "markdown",
   "id": "5c223cf3-b0b7-488e-806c-54b1159087bb",
   "metadata": {},
   "source": [
    "**Note** The product of the new shape selected in the reshape operation must be equal to the product of the original array shape. In this case, the original array had a shape product of 12 and the reshaped array had a product of `2*3*2` which is also 12. If we had tried another shape with a different product, we would get an error:"
   ]
  },
  {
   "cell_type": "markdown",
   "id": "0fa16439-0508-4fb6-9e99-3243dba4c1ab",
   "metadata": {},
   "source": [
    "```python\n",
    "d = b.reshape(2, 5)\n",
    "\n",
    "---------------------------------------------------------------------------\n",
    "ValueError                                Traceback (most recent call last)\n",
    "/var/folders/3w/490kdvj917n7kpxjpx14zztw0000gq/T/ipykernel_46779/3997546504.py in <module>\n",
    "----> 1 d = b.reshape(2, 5)\n",
    "\n",
    "ValueError: cannot reshape array of size 12 into shape (2,5)\n",
    "```"
   ]
  },
  {
   "cell_type": "markdown",
   "id": "1e4409b8",
   "metadata": {},
   "source": [
    "On the other hand, there are two popular ways to flatten an array: `np.flatten()` and `np.ravel()`. The primary difference between the two is that the new array created using `np.ravel()` is actually a reference to the parent array (i.e., a “view”). This means that any changes to the new array will affect the parent array as well. Since `np.ravel` does not create a copy, it’s memory efficient."
   ]
  },
  {
   "cell_type": "code",
   "execution_count": null,
   "id": "7795a19b-85cb-4ab2-aaf4-02bc2d52d9cd",
   "metadata": {},
   "outputs": [],
   "source": [
    "c"
   ]
  },
  {
   "cell_type": "code",
   "execution_count": null,
   "id": "6eb7a888-513f-47d5-9937-c41f0a3b393c",
   "metadata": {},
   "outputs": [],
   "source": [
    "c.flatten()"
   ]
  },
  {
   "cell_type": "code",
   "execution_count": null,
   "id": "97563c7e-f6a7-4374-98bb-d777d01ab869",
   "metadata": {},
   "outputs": [],
   "source": [
    "c.ravel()"
   ]
  },
  {
   "cell_type": "markdown",
   "id": "f184acff-846f-467c-a1b2-cc6f9d53d330",
   "metadata": {},
   "source": [
    "You can see that `c.ravel()` creates a view and not a copy, because if we change `e`, `c` also gets changed:"
   ]
  },
  {
   "cell_type": "code",
   "execution_count": null,
   "id": "e65afa74-42a1-403f-a649-94aabb2cfe24",
   "metadata": {},
   "outputs": [],
   "source": [
    "e = c.ravel()\n",
    "e[0] = -1\n",
    "c"
   ]
  },
  {
   "cell_type": "markdown",
   "id": "7094eea7-d791-4383-afee-9fd43b022fc4",
   "metadata": {},
   "source": [
    "---"
   ]
  },
  {
   "cell_type": "markdown",
   "id": "2ba7c375-1621-4bca-8030-352260137b15",
   "metadata": {},
   "source": [
    "#### Self-assessment 4"
   ]
  },
  {
   "cell_type": "markdown",
   "id": "188485c6-5b3f-4f85-bb39-801c69f1a7b8",
   "metadata": {},
   "source": [
    "---"
   ]
  },
  {
   "cell_type": "markdown",
   "id": "9c205013-aab5-48d2-9107-7f47b62282f4",
   "metadata": {},
   "source": [
    "---"
   ]
  },
  {
   "cell_type": "markdown",
   "id": "e28c9e1b-f59c-4307-a272-f62e507854d6",
   "metadata": {},
   "source": [
    "## Read more"
   ]
  },
  {
   "cell_type": "markdown",
   "id": "d947a32d-8710-403a-b69c-cf47b7504004",
   "metadata": {},
   "source": [
    "- [Indexing on ndarrays](https://numpy.org/devdocs/user/basics.indexing.html)\n",
    "- [Copies and Views](to be added)\n",
    "- [Routines documentation](https://numpy.org/devdocs/reference/routines.html)"
   ]
  },
  {
   "cell_type": "markdown",
   "id": "aba69619-6165-4df9-89f7-68e74f28935c",
   "metadata": {},
   "source": [
    "## Next"
   ]
  },
  {
   "cell_type": "markdown",
   "id": "1394a92e-3c39-45d7-a392-6dac5e55444d",
   "metadata": {},
   "source": [
    "Go to [Notebook 3: Vectorization](03_Vectorization.ipynb)."
   ]
  }
 ],
 "metadata": {
  "kernelspec": {
   "display_name": "Python 3 (ipykernel)",
   "language": "python",
   "name": "python3"
  },
  "language_info": {
   "codemirror_mode": {
    "name": "ipython",
    "version": 3
   },
   "file_extension": ".py",
   "mimetype": "text/x-python",
   "name": "python",
   "nbconvert_exporter": "python",
   "pygments_lexer": "ipython3",
   "version": "3.9.6"
  }
 },
 "nbformat": 4,
 "nbformat_minor": 5
}
