{
 "cells": [
  {
   "cell_type": "markdown",
   "id": "240294ca",
   "metadata": {},
   "source": [
    "# How to write efficient code"
   ]
  },
  {
   "cell_type": "markdown",
   "id": "1a0f8feb",
   "metadata": {},
   "source": [
    "In this notebook, you will learn about\n",
    "- Slicing\n",
    "- Advanced indexing\n",
    "- Broadcasting\n",
    "- How to convert a 1D array into a 2D array (how to add a new axis to an array)\n",
    "- Views/copies"
   ]
  },
  {
   "cell_type": "markdown",
   "id": "5279df7c-677a-4788-b1ac-85f85477cf47",
   "metadata": {},
   "source": [
    "## How to convert a 1D array into a 2D array\n",
    "\n",
    "You can use np.newaxis and np.expand_dims to increase the dimensions of your existing array.\n",
    "\n",
    "Using np.newaxis will increase the dimensions of your array by one dimension when used once. This means that a 1D array will become a 2D array, a 2D array will become a 3D array, and so on.\n",
    "\n",
    "https://numpy.org/devdocs/user/absolute_beginners.html#how-to-convert-a-1d-array-into-a-2d-array-how-to-add-a-new-axis-to-an-array"
   ]
  },
  {
   "cell_type": "markdown",
   "id": "d3904c76-0907-4848-b991-633ee5c5cb86",
   "metadata": {},
   "source": [
    "Reshaping and flattening multidimensional arrays\n",
    "\n",
    "This section covers .flatten(), ravel()\n",
    "\n",
    "There are two popular ways to flatten an array: .flatten() and .ravel(). The primary difference between the two is that the new array created using ravel() is actually a reference to the parent array (i.e., a “view”). This means that any changes to the new array will affect the parent array as well. Since ravel does not create a copy, it’s memory efficient."
   ]
  },
  {
   "cell_type": "code",
   "execution_count": null,
   "id": "2795ba71-8df6-48e3-9fb1-dba2aac39354",
   "metadata": {},
   "outputs": [],
   "source": []
  }
 ],
 "metadata": {
  "kernelspec": {
   "display_name": "Python 3 (ipykernel)",
   "language": "python",
   "name": "python3"
  },
  "language_info": {
   "codemirror_mode": {
    "name": "ipython",
    "version": 3
   },
   "file_extension": ".py",
   "mimetype": "text/x-python",
   "name": "python",
   "nbconvert_exporter": "python",
   "pygments_lexer": "ipython3",
   "version": "3.9.6"
  }
 },
 "nbformat": 4,
 "nbformat_minor": 5
}
