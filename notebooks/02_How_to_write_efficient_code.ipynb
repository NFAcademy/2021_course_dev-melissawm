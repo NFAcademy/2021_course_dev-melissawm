{
 "cells": [
  {
   "cell_type": "markdown",
   "id": "prompt-retention",
   "metadata": {},
   "source": [
    "# How to write efficient code"
   ]
  },
  {
   "cell_type": "markdown",
   "id": "painful-great",
   "metadata": {},
   "source": [
    "In this notebook, you will learn about\n",
    "- Slicing\n",
    "- Views/copies\n",
    "- Advanced indexing\n",
    "- How to reshape, flatten and increase the dimensions of an array"
   ]
  },
  {
   "cell_type": "markdown",
   "id": "accurate-region",
   "metadata": {},
   "source": [
    "---"
   ]
  },
  {
   "cell_type": "markdown",
   "id": "matched-placement",
   "metadata": {},
   "source": [
    "## 1. What is efficient code?"
   ]
  },
  {
   "cell_type": "markdown",
   "id": "constant-berkeley",
   "metadata": {},
   "source": [
    "NumPy was created with the goal of making scientific computing in Python\n",
    "possible (and with good performance). While its high-level Python syntax\n",
    "makes it accessible and easy to learn, the core of NumPy is\n",
    "well-optimized C code. When we say efficient NumPy code, we mean taking\n",
    "advantage of the structure and C-level implementation of arrays,\n",
    "operations and functions as much as possible and avoiding extra\n",
    "computational cost. Let's see how to take full advantage of this\n",
    "efficient implementation."
   ]
  },
  {
   "cell_type": "markdown",
   "id": "powerful-objective",
   "metadata": {},
   "source": [
    "We will continue using the example of [Notebook 1](01_Intro.ipynb):"
   ]
  },
  {
   "cell_type": "code",
   "execution_count": null,
   "id": "swiss-holiday",
   "metadata": {},
   "outputs": [],
   "source": [
    "import numpy as np\n",
    "import pandas as pd\n",
    "\n",
    "quality_of_life = pd.read_csv('../data/quality_of_life_index.csv')"
   ]
  },
  {
   "cell_type": "markdown",
   "id": "selective-amplifier",
   "metadata": {},
   "source": [
    "This time, let's select one 1D array containing only the Quality of Life index, and let's build another 2D array containing Quality of Life, Cost of Living and Pollution indices."
   ]
  },
  {
   "cell_type": "code",
   "execution_count": null,
   "id": "interior-november",
   "metadata": {},
   "outputs": [],
   "source": [
    "quality_index = np.array(quality_of_life['Quality of Life Index'])\n",
    "quality_cost_pollution = np.array(quality_of_life[['Quality of Life Index', 'Cost of Living Index', 'Pollution Index']]) "
   ]
  },
  {
   "cell_type": "markdown",
   "id": "chicken-street",
   "metadata": {},
   "source": [
    "## 2. Operations and built-in utilities"
   ]
  },
  {
   "cell_type": "markdown",
   "id": "static-penguin",
   "metadata": {},
   "source": [
    "There are several built-in utilities that can be applied to a NumPy array. For example, we can compute the maximum and minimum values of an array using"
   ]
  },
  {
   "cell_type": "code",
   "execution_count": null,
   "id": "prerequisite-plane",
   "metadata": {},
   "outputs": [],
   "source": [
    "np.amax(quality_index), np.amin(quality_index)"
   ]
  },
  {
   "cell_type": "markdown",
   "id": "heated-sheffield",
   "metadata": {},
   "source": [
    "Note that when applying these functions to an array with more than one axis, we can pick which axis to compute the maximum or minimum for. Take, for example, our `quality_cost_pollution` array. Let's say we want to compute the *maximum along all rows*."
   ]
  },
  {
   "cell_type": "markdown",
   "id": "cooked-cause",
   "metadata": {},
   "source": [
    "**Note** There is a source of confusion that may arise with the expression *along all rows*. One way to think about this is to reason that the axis selected in the function call is the axis to be collapsed at the end of the operation. For example:"
   ]
  },
  {
   "cell_type": "code",
   "execution_count": null,
   "id": "julian-boards",
   "metadata": {},
   "outputs": [],
   "source": [
    "quality_cost_pollution.shape"
   ]
  },
  {
   "cell_type": "markdown",
   "id": "adjustable-machine",
   "metadata": {},
   "source": [
    "Selecting to compute the maximum over `axis=0`, the axis corresponding to the rows will be collapsed: "
   ]
  },
  {
   "cell_type": "code",
   "execution_count": null,
   "id": "animated-postcard",
   "metadata": {},
   "outputs": [],
   "source": [
    "np.amax(quality_cost_pollution, axis=0)"
   ]
  },
  {
   "cell_type": "markdown",
   "id": "sized-principal",
   "metadata": {},
   "source": [
    "If we select `axis=1`, the axis corresponding to the columns will be collapsed:"
   ]
  },
  {
   "cell_type": "code",
   "execution_count": null,
   "id": "treated-advertising",
   "metadata": {
    "scrolled": true,
    "tags": []
   },
   "outputs": [],
   "source": [
    "np.amax(quality_cost_pollution, axis=1)"
   ]
  },
  {
   "cell_type": "markdown",
   "id": "conventional-shipping",
   "metadata": {},
   "source": [
    "As expected,"
   ]
  },
  {
   "cell_type": "code",
   "execution_count": null,
   "id": "southeast-general",
   "metadata": {},
   "outputs": [],
   "source": [
    "np.amax(quality_cost_pollution, axis=1).shape"
   ]
  },
  {
   "cell_type": "markdown",
   "id": "accessible-negative",
   "metadata": {},
   "source": [
    "If no axis is selected, these functions compute the result over the *flattened* array - meaning they compare every element, disregarding the dimensions of the array."
   ]
  },
  {
   "cell_type": "code",
   "execution_count": null,
   "id": "compact-henry",
   "metadata": {},
   "outputs": [],
   "source": [
    "np.amax(quality_cost_pollution)"
   ]
  },
  {
   "cell_type": "markdown",
   "id": "arctic-donor",
   "metadata": {},
   "source": [
    "Other useful functions include:"
   ]
  },
  {
   "cell_type": "code",
   "execution_count": null,
   "id": "daily-oracle",
   "metadata": {},
   "outputs": [],
   "source": [
    "np.mean(quality_index)  # Compute the arithmetic mean along the specified axis."
   ]
  },
  {
   "cell_type": "code",
   "execution_count": null,
   "id": "innovative-thinking",
   "metadata": {},
   "outputs": [],
   "source": [
    "mean_indices = np.mean(quality_cost_pollution, axis=0)\n",
    "print(f'The mean for the Quality of Life index is {mean_indices[0]}')\n",
    "print(f'The mean for the Cost of Living index is {mean_indices[1]}')\n",
    "print(f'The mean for the Pollution index is {mean_indices[2]}')"
   ]
  },
  {
   "cell_type": "markdown",
   "id": "mexican-enlargement",
   "metadata": {},
   "source": [
    "Now, let's say we want to compute the sum all the elements in the array. We can use the `np.sum` function to do this:"
   ]
  },
  {
   "cell_type": "code",
   "execution_count": null,
   "id": "proud-lesbian",
   "metadata": {},
   "outputs": [],
   "source": [
    "np.sum(quality_index)"
   ]
  },
  {
   "cell_type": "markdown",
   "id": "adopted-aurora",
   "metadata": {},
   "source": [
    "If our array has two possible `axis` over which to compute the sum, we can tell `sum` what to do using the `axis` keyword: "
   ]
  },
  {
   "cell_type": "code",
   "execution_count": null,
   "id": "chronic-judge",
   "metadata": {},
   "outputs": [],
   "source": [
    "quality_cost_pollution.shape"
   ]
  },
  {
   "cell_type": "markdown",
   "id": "laughing-replacement",
   "metadata": {},
   "source": [
    "Here, `axis=0` corresponds to the sum over all rows: "
   ]
  },
  {
   "cell_type": "code",
   "execution_count": null,
   "id": "equipped-namibia",
   "metadata": {},
   "outputs": [],
   "source": [
    "np.sum(quality_cost_pollution, axis=0)"
   ]
  },
  {
   "cell_type": "markdown",
   "id": "motivated-management",
   "metadata": {},
   "source": [
    "While `axis=1` corresponds to the sum over all columns:"
   ]
  },
  {
   "cell_type": "code",
   "execution_count": null,
   "id": "interracial-greensboro",
   "metadata": {
    "scrolled": true,
    "tags": []
   },
   "outputs": [],
   "source": [
    "np.sum(quality_cost_pollution, axis=1)"
   ]
  },
  {
   "cell_type": "markdown",
   "id": "coastal-concept",
   "metadata": {},
   "source": [
    "---"
   ]
  },
  {
   "cell_type": "markdown",
   "id": "worth-andorra",
   "metadata": {},
   "source": [
    "#### Self-assessment 1"
   ]
  },
  {
   "cell_type": "markdown",
   "id": "healthy-recipient",
   "metadata": {},
   "source": [
    "---"
   ]
  },
  {
   "cell_type": "markdown",
   "id": "automated-camping",
   "metadata": {},
   "source": [
    "## 3. Slicing"
   ]
  },
  {
   "cell_type": "markdown",
   "id": "needed-posting",
   "metadata": {},
   "source": [
    "NumPy allows you to select items in an array individually **and** as a\n",
    "subset of the initial array. For example, you can take up a *slice* of a\n",
    "NumPy array by using the same slicing syntax as you would use with\n",
    "Python lists, extending this concept to N dimensions. For example, to\n",
    "select the top 5 quality of life indices from our array, we can do"
   ]
  },
  {
   "cell_type": "code",
   "execution_count": null,
   "id": "greatest-season",
   "metadata": {
    "tags": []
   },
   "outputs": [],
   "source": [
    "top_quality = quality_index[0:5]\n",
    "print(top_quality)"
   ]
  },
  {
   "cell_type": "markdown",
   "id": "prostate-support",
   "metadata": {},
   "source": [
    "Note that"
   ]
  },
  {
   "cell_type": "code",
   "execution_count": null,
   "id": "bottom-information",
   "metadata": {},
   "outputs": [],
   "source": [
    "top_quality.shape"
   ]
  },
  {
   "cell_type": "markdown",
   "id": "fourth-capacity",
   "metadata": {},
   "source": [
    "Consider now our 2-d array"
   ]
  },
  {
   "cell_type": "code",
   "execution_count": null,
   "id": "covered-identifier",
   "metadata": {
    "scrolled": true,
    "tags": []
   },
   "outputs": [],
   "source": [
    "quality_cost_pollution"
   ]
  },
  {
   "cell_type": "markdown",
   "id": "fatal-longer",
   "metadata": {},
   "source": [
    "If we want to select the first 5 rows of this 2D array, we can use the following syntax:"
   ]
  },
  {
   "cell_type": "code",
   "execution_count": null,
   "id": "hollywood-powell",
   "metadata": {},
   "outputs": [],
   "source": [
    "quality_cost_pollution[0:5, :]"
   ]
  },
  {
   "cell_type": "markdown",
   "id": "corporate-elements",
   "metadata": {},
   "source": [
    "> **Note**: The colon `:` after the comma denotes we didn't make any explicit\n",
    "> choice of indices for the second axis, which in this case means we\n",
    "> take all columns for the result. You could also specify\n",
    "> `0:-1` to go from the first-to-last element."
   ]
  },
  {
   "cell_type": "markdown",
   "id": "quality-silly",
   "metadata": {},
   "source": [
    "If instead we wanted to choose the first two columns, with all rows, we would do"
   ]
  },
  {
   "cell_type": "code",
   "execution_count": null,
   "id": "swiss-incidence",
   "metadata": {
    "scrolled": true,
    "tags": []
   },
   "outputs": [],
   "source": [
    "quality_cost_pollution[:, 0:2]"
   ]
  },
  {
   "cell_type": "markdown",
   "id": "executive-genius",
   "metadata": {},
   "source": [
    "To select elements from a sub-array located in rows 5 through 9, and columns 0 and 1, we would do"
   ]
  },
  {
   "cell_type": "code",
   "execution_count": null,
   "id": "impressed-rebound",
   "metadata": {},
   "outputs": [],
   "source": [
    "quality_cost_pollution[5:10, 0:2]"
   ]
  },
  {
   "cell_type": "markdown",
   "id": "boolean-contest",
   "metadata": {},
   "source": [
    "> **Note** You may use slicing to set values in the array, but (unlike\n",
    "> lists) you can never grow the array using slicing. For that, you need\n",
    "> to create a new array with the appropriate size and copy the data to\n",
    "> this new object."
   ]
  },
  {
   "cell_type": "markdown",
   "id": "gorgeous-sullivan",
   "metadata": {},
   "source": [
    "---"
   ]
  },
  {
   "cell_type": "markdown",
   "id": "legendary-devil",
   "metadata": {},
   "source": [
    "#### Self-assessment 2"
   ]
  },
  {
   "cell_type": "markdown",
   "id": "honey-smoke",
   "metadata": {},
   "source": [
    "---"
   ]
  },
  {
   "cell_type": "markdown",
   "id": "vertical-diameter",
   "metadata": {
    "tags": []
   },
   "source": [
    "## 4. Views and copies"
   ]
  },
  {
   "cell_type": "markdown",
   "id": "italic-barrel",
   "metadata": {},
   "source": [
    "Behind the scenes, the NumPy array is a contiguous block of memory consisting of two parts: the data buffer with the actual data elements, and the metadata which contains information about the data buffer. The metadata includes data type, strides and other important information that helps process the ndarray easily.\n",
    "\n",
    "Because of the way NumPy is built, it is often possible to access the data buffer directly for more efficient computations: we call this a `view`. When this is not possible, for example when we need to increase the number of elements of an array, a `copy` is made. Copies take more space in memory and can impact performance for large datasets, so they should be avoided."
   ]
  },
  {
   "cell_type": "markdown",
   "id": "removable-infrared",
   "metadata": {},
   "source": [
    "You don't need to understand all the details about copies and views, but you should be aware that some NumPy operations creates views, while others creates copies - this can create serious bottlenecks for your algorithm's performance and should be handled carefully if you want to write efficient code."
   ]
  },
  {
   "cell_type": "markdown",
   "id": "seasonal-links",
   "metadata": {},
   "source": [
    "Let's look at a concrete example:"
   ]
  },
  {
   "cell_type": "code",
   "execution_count": null,
   "id": "blank-nickel",
   "metadata": {},
   "outputs": [],
   "source": [
    "quality_index[0:5]"
   ]
  },
  {
   "cell_type": "code",
   "execution_count": null,
   "id": "boring-season",
   "metadata": {},
   "outputs": [],
   "source": [
    "top_quality = quality_index[0:5]  # The slicing operation creates a view of the original array"
   ]
  },
  {
   "cell_type": "code",
   "execution_count": null,
   "id": "declared-rings",
   "metadata": {},
   "outputs": [],
   "source": [
    "top_quality[0] = 300  # By changing this element of the view, we are also changing the element in the original array!"
   ]
  },
  {
   "cell_type": "code",
   "execution_count": null,
   "id": "standard-exhibition",
   "metadata": {},
   "outputs": [],
   "source": [
    "top_quality"
   ]
  },
  {
   "cell_type": "code",
   "execution_count": null,
   "id": "unauthorized-headline",
   "metadata": {
    "scrolled": true,
    "tags": []
   },
   "outputs": [],
   "source": [
    "quality_index"
   ]
  },
  {
   "cell_type": "markdown",
   "id": "exempt-fourth",
   "metadata": {},
   "source": [
    "The base attribute of the ndarray makes it easy to tell if an array is a view or a copy. The base attribute of a view returns the original array while for a copy it returns `None`."
   ]
  },
  {
   "cell_type": "code",
   "execution_count": null,
   "id": "greatest-eugene",
   "metadata": {},
   "outputs": [],
   "source": [
    "top_quality.base is quality_index  # top_quality is a view of quality_index"
   ]
  },
  {
   "cell_type": "markdown",
   "id": "fifty-charge",
   "metadata": {},
   "source": [
    "If we want to make sure `top_quality` is an entirely different array from `quality_index`, we can use the `.copy()` method:"
   ]
  },
  {
   "cell_type": "code",
   "execution_count": null,
   "id": "minus-western",
   "metadata": {},
   "outputs": [],
   "source": [
    "top_quality = quality_index[0:5].copy()"
   ]
  },
  {
   "cell_type": "code",
   "execution_count": null,
   "id": "korean-overhead",
   "metadata": {},
   "outputs": [],
   "source": [
    "top_quality.base is quality_index"
   ]
  },
  {
   "cell_type": "markdown",
   "id": "collected-monitoring",
   "metadata": {},
   "source": [
    "## 5. Advanced indexing"
   ]
  },
  {
   "cell_type": "markdown",
   "id": "current-december",
   "metadata": {},
   "source": [
    "In addition to selecting elements with integer or tuple indices, NumPy implements *advanced indexing* techniques, allowing us to use ndarrays or boolean objects as indices. For example, suppose we want to select all elements in our `quality_index` array above a certain value - say 200. First, to detect which elements satisfy this condition, we can test the array directly:"
   ]
  },
  {
   "cell_type": "code",
   "execution_count": null,
   "id": "visible-hurricane",
   "metadata": {
    "scrolled": true,
    "tags": []
   },
   "outputs": [],
   "source": [
    "quality_index > 200"
   ]
  },
  {
   "cell_type": "markdown",
   "id": "guided-chassis",
   "metadata": {},
   "source": [
    "Note that the output from this is an array with boolean values:"
   ]
  },
  {
   "cell_type": "code",
   "execution_count": null,
   "id": "expensive-nashville",
   "metadata": {},
   "outputs": [],
   "source": [
    "boolean_array = quality_index > 200\n",
    "boolean_array.dtype"
   ]
  },
  {
   "cell_type": "markdown",
   "id": "grand-hollywood",
   "metadata": {},
   "source": [
    "This boolean array can then be used to directly select the elements from the original array for which the condition is met:"
   ]
  },
  {
   "cell_type": "code",
   "execution_count": null,
   "id": "declared-airline",
   "metadata": {},
   "outputs": [],
   "source": [
    "quality_index[quality_index > 200]"
   ]
  },
  {
   "cell_type": "markdown",
   "id": "conscious-courage",
   "metadata": {},
   "source": [
    "This syntax can be very powerful and compact. Let's say we want to select only the values larger than the array average. We can do this by using"
   ]
  },
  {
   "cell_type": "code",
   "execution_count": null,
   "id": "level-virgin",
   "metadata": {},
   "outputs": [],
   "source": [
    "quality_index[quality_index >= np.mean(quality_index)]"
   ]
  },
  {
   "cell_type": "markdown",
   "id": "israeli-democracy",
   "metadata": {},
   "source": [
    "Note that it is also possible to select elements from an array using another array (or a list, or tuple). For example:"
   ]
  },
  {
   "cell_type": "code",
   "execution_count": null,
   "id": "authorized-diameter",
   "metadata": {},
   "outputs": [],
   "source": [
    "top_quality = quality_index[0:5]\n",
    "print(top_quality)"
   ]
  },
  {
   "cell_type": "code",
   "execution_count": null,
   "id": "commercial-lender",
   "metadata": {},
   "outputs": [],
   "source": [
    "top_quality[[1, 1, 2, 3]]"
   ]
  },
  {
   "cell_type": "markdown",
   "id": "personal-soviet",
   "metadata": {},
   "source": [
    "**Note** Advanced indexing always returns a copy of the data (contrast with basic slicing that returns a view). This can have serious impact in the performance and memory cost of these indexing operations."
   ]
  },
  {
   "cell_type": "code",
   "execution_count": null,
   "id": "functional-deficit",
   "metadata": {},
   "outputs": [],
   "source": [
    "top_quality[[1, 1, 2, 3]].base is quality_index"
   ]
  },
  {
   "cell_type": "markdown",
   "id": "relative-operator",
   "metadata": {},
   "source": [
    "---"
   ]
  },
  {
   "cell_type": "markdown",
   "id": "suspected-newark",
   "metadata": {},
   "source": [
    "#### Self-assessment 3"
   ]
  },
  {
   "cell_type": "markdown",
   "id": "structured-cancer",
   "metadata": {},
   "source": [
    "---"
   ]
  },
  {
   "cell_type": "markdown",
   "id": "bearing-basics",
   "metadata": {},
   "source": [
    "## 5. How to reshape, flatten and increase the dimensions of an array\n",
    "\n",
    "Consider the array"
   ]
  },
  {
   "cell_type": "code",
   "execution_count": null,
   "id": "signal-darwin",
   "metadata": {},
   "outputs": [],
   "source": [
    "a = np.arange(12)"
   ]
  },
  {
   "cell_type": "code",
   "execution_count": null,
   "id": "genuine-magic",
   "metadata": {},
   "outputs": [],
   "source": [
    "a.shape"
   ]
  },
  {
   "cell_type": "markdown",
   "id": "twenty-opportunity",
   "metadata": {},
   "source": [
    "Let's say we wanted to make sure this array has shape `(12, 1)` (we'll see why this can be important in a minute!) Using `np.newaxis` will increase the dimensions of your array by one dimension when used once. This means that a 1D array will become a 2D array, a 2D array will become a 3D array, and so on."
   ]
  },
  {
   "cell_type": "code",
   "execution_count": null,
   "id": "cleared-bacon",
   "metadata": {},
   "outputs": [],
   "source": [
    "b = a[:, np.newaxis]\n",
    "b.shape"
   ]
  },
  {
   "cell_type": "markdown",
   "id": "focal-natural",
   "metadata": {},
   "source": [
    "Now, let's say we wanted to re-organize `b` into a different shape. We can use `np.reshape` to do this:"
   ]
  },
  {
   "cell_type": "code",
   "execution_count": null,
   "id": "romantic-kruger",
   "metadata": {},
   "outputs": [],
   "source": [
    "c = b.reshape(2, 3, 2)\n",
    "c.shape"
   ]
  },
  {
   "cell_type": "markdown",
   "id": "billion-oxide",
   "metadata": {},
   "source": [
    "**Note** The product of the new shape selected in the reshape operation must be equal to the product of the original array shape. In this case, the original array had a shape product of 12 and the reshaped array had a product of `2*3*2` which is also 12. If we had tried another shape with a different product, we would get an error:"
   ]
  },
  {
   "cell_type": "markdown",
   "id": "tight-timothy",
   "metadata": {},
   "source": [
    "```python\n",
    "d = b.reshape(2, 5)\n",
    "\n",
    "---------------------------------------------------------------------------\n",
    "ValueError                                Traceback (most recent call last)\n",
    "/var/folders/3w/490kdvj917n7kpxjpx14zztw0000gq/T/ipykernel_46779/3997546504.py in <module>\n",
    "----> 1 d = b.reshape(2, 5)\n",
    "\n",
    "ValueError: cannot reshape array of size 12 into shape (2,5)\n",
    "```"
   ]
  },
  {
   "cell_type": "markdown",
   "id": "qualified-monte",
   "metadata": {},
   "source": [
    "On the other hand, there are two popular ways to flatten an array: `np.flatten()` and `np.ravel()`. The primary difference between the two is that the new array created using `np.ravel()` is actually a reference to the parent array (i.e., a “view”). This means that any changes to the new array will affect the parent array as well. Since `np.ravel` does not create a copy, it’s memory efficient."
   ]
  },
  {
   "cell_type": "code",
   "execution_count": null,
   "id": "latter-period",
   "metadata": {},
   "outputs": [],
   "source": [
    "c"
   ]
  },
  {
   "cell_type": "code",
   "execution_count": null,
   "id": "ceramic-scroll",
   "metadata": {},
   "outputs": [],
   "source": [
    "c.flatten()"
   ]
  },
  {
   "cell_type": "code",
   "execution_count": null,
   "id": "partial-istanbul",
   "metadata": {},
   "outputs": [],
   "source": [
    "c.ravel()"
   ]
  },
  {
   "cell_type": "markdown",
   "id": "clear-solomon",
   "metadata": {},
   "source": [
    "You can see that `c.ravel()` creates a view and not a copy, because if we change `e`, `c` also gets changed:"
   ]
  },
  {
   "cell_type": "code",
   "execution_count": null,
   "id": "enormous-leader",
   "metadata": {},
   "outputs": [],
   "source": [
    "e = c.ravel()\n",
    "e[0] = -1\n",
    "c"
   ]
  },
  {
   "cell_type": "markdown",
   "id": "clean-mirror",
   "metadata": {},
   "source": [
    "---"
   ]
  },
  {
   "cell_type": "markdown",
   "id": "funded-visiting",
   "metadata": {},
   "source": [
    "#### Self-assessment 4"
   ]
  },
  {
   "cell_type": "markdown",
   "id": "minor-mercury",
   "metadata": {},
   "source": [
    "---"
   ]
  },
  {
   "cell_type": "markdown",
   "id": "allied-vehicle",
   "metadata": {},
   "source": [
    "---"
   ]
  },
  {
   "cell_type": "markdown",
   "id": "qualified-macedonia",
   "metadata": {},
   "source": [
    "## Read more"
   ]
  },
  {
   "cell_type": "markdown",
   "id": "conscious-belief",
   "metadata": {},
   "source": [
    "- [Indexing on ndarrays](https://numpy.org/devdocs/user/basics.indexing.html)\n",
    "- [Copies and Views](to be added)\n",
    "- [Routines documentation](https://numpy.org/devdocs/reference/routines.html)"
   ]
  },
  {
   "cell_type": "markdown",
   "id": "fresh-shaft",
   "metadata": {},
   "source": [
    "## Next"
   ]
  },
  {
   "cell_type": "markdown",
   "id": "knowing-police",
   "metadata": {},
   "source": [
    "Go to [Notebook 3: Vectorization](03_Vectorization.ipynb)."
   ]
  }
 ],
 "metadata": {
  "kernelspec": {
   "display_name": "Python 3 (ipykernel)",
   "language": "python",
   "name": "python3"
  },
  "language_info": {
   "codemirror_mode": {
    "name": "ipython",
    "version": 3
   },
   "file_extension": ".py",
   "mimetype": "text/x-python",
   "name": "python",
   "nbconvert_exporter": "python",
   "pygments_lexer": "ipython3",
   "version": "3.9.6"
  }
 },
 "nbformat": 4,
 "nbformat_minor": 5
}
