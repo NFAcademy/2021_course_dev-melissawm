{
 "cells": [
  {
   "cell_type": "markdown",
   "id": "113c4d2a",
   "metadata": {},
   "source": [
    "# How to write efficient code"
   ]
  },
  {
   "cell_type": "markdown",
   "id": "ad62b536",
   "metadata": {},
   "source": [
    "In this notebook, you will learn about\n",
    "- Slicing\n",
    "- Advanced indexing\n",
    "- Broadcasting\n",
    "- How to convert a 1D array into a 2D array (how to add a new axis to an array)\n",
    "- Views/copies"
   ]
  },
  {
   "cell_type": "markdown",
   "id": "d22a2b51-8cc8-4dde-82cb-c8f288b4ee2a",
   "metadata": {},
   "source": [
    "---"
   ]
  },
  {
   "cell_type": "markdown",
   "id": "7ea8952c-4034-4913-b318-dd62a62f4e9d",
   "metadata": {},
   "source": [
    "## What is efficient code?"
   ]
  },
  {
   "cell_type": "markdown",
   "id": "fc82c7ec-fc3b-4886-b550-364d94369809",
   "metadata": {},
   "source": [
    "NumPy was created with the goal of making scientific computing in Python possible (and with good performance). While its high-level Python syntax makes it accessible and easy to learn, the core of NumPy is well-optimized C code. Let's see how to take full advantage of this efficient implementation."
   ]
  },
  {
   "cell_type": "markdown",
   "id": "0e79f11b-bd09-4b86-862d-146a3693d5fd",
   "metadata": {},
   "source": [
    "We will continue using the example of [Notebook 1](01_Intro.ipynb):"
   ]
  },
  {
   "cell_type": "code",
   "execution_count": null,
   "id": "2ed2d731-c70d-464b-9203-1ab981f24e56",
   "metadata": {},
   "outputs": [],
   "source": [
    "import numpy as np\n",
    "import pandas as pd\n",
    "\n",
    "quality_of_life = pd.read_csv('../data/quality_of_life_index.csv')\n",
    "quality_index = np.array(quality_of_life['Quality of Life Index'])\n",
    "quality_cost_pollution = np.array(quality_of_life[['Quality of Life Index', 'Cost of Living Index', 'Pollution Index']]) "
   ]
  },
  {
   "cell_type": "markdown",
   "id": "6147e6f8-b12c-457f-a474-f891988744f9",
   "metadata": {},
   "source": [
    "## Slicing"
   ]
  },
  {
   "cell_type": "markdown",
   "id": "1a981762-3a6c-47f1-9ca9-e7bee69fb5e6",
   "metadata": {},
   "source": [
    "NumPy allows you to select items in an array not only individually, but as a group. For example, you can take up a *slice* (a sub-array) of a NumPy array by using the same slicing syntax as you would use with Python lists, extending this concept to N dimensions. To select the top 5 quality of life indices from our array, we can do"
   ]
  },
  {
   "cell_type": "code",
   "execution_count": null,
   "id": "b0d58211-cd81-4fbf-9b51-e1fb5c10bc1c",
   "metadata": {
    "tags": []
   },
   "outputs": [],
   "source": [
    "top_quality = quality_index[0:5]\n",
    "print(top_quality)"
   ]
  },
  {
   "cell_type": "markdown",
   "id": "8879e45c-4a9f-48c5-9303-1e94f47703e6",
   "metadata": {},
   "source": [
    "Note that"
   ]
  },
  {
   "cell_type": "code",
   "execution_count": null,
   "id": "c330d880-dbf0-4820-a114-9c76a6c348ad",
   "metadata": {},
   "outputs": [],
   "source": [
    "top_quality.shape"
   ]
  },
  {
   "cell_type": "markdown",
   "id": "c3f1c13a-ca7f-44dd-8f97-a82a2306fb04",
   "metadata": {},
   "source": [
    "Consider now our 2-d array"
   ]
  },
  {
   "cell_type": "code",
   "execution_count": null,
   "id": "c1f87a7d-cd44-4698-97da-1a93e0f9161e",
   "metadata": {
    "scrolled": true,
    "tags": []
   },
   "outputs": [],
   "source": [
    "quality_cost_pollution"
   ]
  },
  {
   "cell_type": "markdown",
   "id": "845684f1-40ab-4d31-a6f3-673cda8adf7f",
   "metadata": {},
   "source": [
    "If we want to select the first 5 rows of this 2-d array, we can use the following syntax:"
   ]
  },
  {
   "cell_type": "code",
   "execution_count": null,
   "id": "22e6d5a0-e845-44f7-b20e-1b097adcad02",
   "metadata": {},
   "outputs": [],
   "source": [
    "quality_cost_pollution[0:5, :]"
   ]
  },
  {
   "cell_type": "markdown",
   "id": "63b5d9d1-ca8e-4abc-9b2f-d8b4ef8a1699",
   "metadata": {},
   "source": [
    "(Note that the colon `:` denotes we didn't make any explicit choice of indices for this axis, which in this case means we take all columns for the result)"
   ]
  },
  {
   "cell_type": "markdown",
   "id": "21c5d370-24b5-40f1-ac3d-4a457cbb3486",
   "metadata": {},
   "source": [
    "If instead we wanted to choose the first two columns, with all rows, we would do"
   ]
  },
  {
   "cell_type": "code",
   "execution_count": null,
   "id": "4e2bec26-07ed-4245-8683-4962d2248cf4",
   "metadata": {
    "scrolled": true,
    "tags": []
   },
   "outputs": [],
   "source": [
    "quality_cost_pollution[:, 0:2]"
   ]
  },
  {
   "cell_type": "markdown",
   "id": "ca5c7d73-465e-4c80-86b0-028dd08fb21e",
   "metadata": {},
   "source": [
    "**Note** You may use slicing to set values in the array, but (unlike lists) you can never grow the array using slicing. For that, you need to create a new array with the appropriate size and copy the data to this new object."
   ]
  },
  {
   "cell_type": "markdown",
   "id": "8a43d487-bd77-4c5b-a2c8-19c7e4aeefb1",
   "metadata": {},
   "source": [
    "## Advanced indexing"
   ]
  },
  {
   "cell_type": "markdown",
   "id": "c7ee359b-e128-4e5c-abc8-a38a19ce72bd",
   "metadata": {},
   "source": [
    "In addition to selecting elements with integer or tuple indices, NumPy implements *advanced indexing* techniques, allowing us to use ndarrays or boolean objects as indices. For example, suppose we want to select all elements in our `quality_index` array above a certain value - say 200. We can use"
   ]
  },
  {
   "cell_type": "code",
   "execution_count": null,
   "id": "f452aef8-4a2a-4a0b-a8a0-6f697fd1af71",
   "metadata": {},
   "outputs": [],
   "source": [
    "quality_index[quality_index > 200]"
   ]
  },
  {
   "cell_type": "markdown",
   "id": "ca4e0182-bf3a-439f-bbb9-9e87ff36eee3",
   "metadata": {},
   "source": [
    "For example, let's say we want to select only the values larger than the array average. We can do this by"
   ]
  },
  {
   "cell_type": "code",
   "execution_count": null,
   "id": "32b0d259-21ff-4668-af2c-a142a6cb9287",
   "metadata": {},
   "outputs": [],
   "source": [
    "quality_index[quality_index >= np.mean(quality_index)]"
   ]
  },
  {
   "cell_type": "markdown",
   "id": "3380a47b-37f8-4fc3-964c-033e47e5791e",
   "metadata": {},
   "source": [
    "Note that it is also possible to select elements from an array using another array (or a list, or tuple). For example:"
   ]
  },
  {
   "cell_type": "code",
   "execution_count": null,
   "id": "42a5de8c-c312-471f-875a-5e555c42ae73",
   "metadata": {},
   "outputs": [],
   "source": [
    "top_quality = quality_index[0:5]\n",
    "print(top_quality)"
   ]
  },
  {
   "cell_type": "code",
   "execution_count": null,
   "id": "2f3ff4ff-6b38-4ed7-ad2e-0d0957c8c346",
   "metadata": {},
   "outputs": [],
   "source": [
    "top_quality[[1, 1, 2, 3]]"
   ]
  },
  {
   "cell_type": "markdown",
   "id": "3934cc10-87b0-4d10-afa1-655202bc2001",
   "metadata": {},
   "source": [
    "**Note** Advanced indexing always returns a copy of the data (contrast with basic slicing that returns a view). We will talk about copies and views later."
   ]
  },
  {
   "cell_type": "markdown",
   "id": "9cff6486-7bc8-4629-b9b9-efcec15080d1",
   "metadata": {
    "tags": []
   },
   "source": [
    "## Broadcasting"
   ]
  },
  {
   "cell_type": "markdown",
   "id": "4e15234a-4c22-4f05-9dfa-f599da4e8c37",
   "metadata": {},
   "source": [
    "The term broadcasting describes how NumPy treats arrays with different shapes during arithmetic operations. Subject to certain constraints, the smaller array is “broadcast” across the larger array so that they have compatible shapes. Broadcasting provides a means of vectorizing array operations so that looping occurs in C instead of Python. It does this without making needless copies of data and usually leads to efficient algorithm implementations. There are, however, cases where broadcasting is a bad idea because it leads to inefficient use of memory that slows computation."
   ]
  },
  {
   "cell_type": "markdown",
   "id": "c20fecae-fc69-464c-96a4-a6698cc83572",
   "metadata": {},
   "source": [
    "NumPy operations are usually done on pairs of arrays on an element-by-element basis. In the simplest case, the two arrays must have exactly the same shape, as in the following example:"
   ]
  },
  {
   "cell_type": "code",
   "execution_count": null,
   "id": "b2904ff2-33b7-4430-ab66-e2fe98a6f33b",
   "metadata": {},
   "outputs": [],
   "source": [
    "a = np.array([1.0, 2.0, 3.0])\n",
    "b = np.array([2.0, 2.0, 2.0])\n",
    "a * b"
   ]
  },
  {
   "cell_type": "markdown",
   "id": "320c2e1f-ef47-4b3e-a9a6-411bcc59b8c6",
   "metadata": {},
   "source": [
    "NumPy’s broadcasting rule relaxes this constraint when the arrays’ shapes meet certain constraints. The simplest broadcasting example occurs when an array and a scalar value are combined in an operation:"
   ]
  },
  {
   "cell_type": "code",
   "execution_count": null,
   "id": "673d1ce1-e17b-49d1-8592-c9ebcf33f5c0",
   "metadata": {},
   "outputs": [],
   "source": [
    "a = np.array([1.0, 2.0, 3.0])\n",
    "b = 2.0\n",
    "a * b"
   ]
  },
  {
   "cell_type": "markdown",
   "id": "5d48d744-6efb-45af-9a01-6ff9a93ab61a",
   "metadata": {},
   "source": [
    "We can think of the scalar `b` being stretched during the arithmetic operation into an array with the same shape as `a`. The new elements in `b`, as shown in the figure below, are simply copies of the original scalar."
   ]
  },
  {
   "cell_type": "markdown",
   "id": "6049acc4-82f1-4d81-adc1-8d3ab371343a",
   "metadata": {},
   "source": [
    "![\"A scalar is broadcast to match the shape of the 1-d array it is being multiplied to.\"](https://numpy.org/devdocs/_images/broadcasting_1.svg)"
   ]
  },
  {
   "cell_type": "markdown",
   "id": "7e158018-816e-4de7-9e28-2f1879d572ba",
   "metadata": {},
   "source": [
    "*TODO: think of an example involving the current application.*"
   ]
  },
  {
   "cell_type": "markdown",
   "id": "9f2d4e54-4395-4cfc-b4d5-e92b9ec41e68",
   "metadata": {},
   "source": [
    "### Exercises"
   ]
  },
  {
   "cell_type": "code",
   "execution_count": null,
   "id": "bd60530d-e034-4909-8116-1c73046e331f",
   "metadata": {},
   "outputs": [],
   "source": []
  },
  {
   "cell_type": "markdown",
   "id": "05f46e5a",
   "metadata": {},
   "source": [
    "## How to reshape, flatten and increase the dimensions of an array\n",
    "\n",
    "You can use `np.newaxis` and `np.expand_dims` to increase the dimensions of your existing array.\n",
    "\n",
    "Using `np.newaxis` will increase the dimensions of your array by one dimension when used once. This means that a 1D array will become a 2D array, a 2D array will become a 3D array, and so on."
   ]
  },
  {
   "cell_type": "code",
   "execution_count": null,
   "id": "34ee9f51-2668-4d23-8635-e410bd8c9c9b",
   "metadata": {},
   "outputs": [],
   "source": [
    "# TODO: example "
   ]
  },
  {
   "cell_type": "markdown",
   "id": "1e4409b8",
   "metadata": {},
   "source": [
    "There are two popular ways to flatten an array: `np.flatten()` and `np.ravel()`. The primary difference between the two is that the new array created using `np.ravel()` is actually a reference to the parent array (i.e., a “view”). This means that any changes to the new array will affect the parent array as well. Since ravel does not create a copy, it’s memory efficient."
   ]
  },
  {
   "cell_type": "markdown",
   "id": "8be06723-fe47-48cf-bf8c-ca479c11aad9",
   "metadata": {},
   "source": [
    "## Views and copies"
   ]
  },
  {
   "cell_type": "markdown",
   "id": "13f7e870-f74d-44e3-a114-510637ff4a60",
   "metadata": {},
   "source": [
    "Behind the scenes, the NumPy array is a contiguous block of memory consisting of two parts: the data buffer with the actual data elements, and the metadata which contains information about the data buffer. The metadata includes data type, strides and other important information that helps manipulate the ndarray easily.\n",
    "\n",
    "Because of the way NumPy is built, it is often possible to access the data buffer directly for more efficient computations: we call this a `view`. When this is not possible, for example when we need to increase the number of elements of an array, a `copy` is made. Copies take more space in memory and can impact performance for large datasets, so they should be avoided."
   ]
  },
  {
   "cell_type": "markdown",
   "id": "eab20152-726a-4c42-bed1-4dcacee6a3ac",
   "metadata": {},
   "source": [
    "You don't need to understand all the details, but you should be aware that basic indexing creates views, while advanced indexing creates copies - which is why it should not be overused."
   ]
  },
  {
   "cell_type": "markdown",
   "id": "ad4ee472-bb83-4c0a-b0c1-9ddeaf42eba7",
   "metadata": {},
   "source": [
    "The base attribute of the ndarray makes it easy to tell if an array is a view or a copy. The base attribute of a view returns the original array while for a copy it returns `None`."
   ]
  },
  {
   "cell_type": "code",
   "execution_count": null,
   "id": "a4baec5b-ad57-4dd2-8736-331b1d001ce0",
   "metadata": {},
   "outputs": [],
   "source": [
    "top_quality.base is quality_index  # top_quality is a view of quality_index"
   ]
  },
  {
   "cell_type": "code",
   "execution_count": null,
   "id": "5fb37222-a9f6-4c73-8093-ecb90421775e",
   "metadata": {},
   "outputs": [],
   "source": [
    "top_quality[[1, 1, 2, 3]].base is quality_index  # when advanced indexing is used, we create a copy"
   ]
  },
  {
   "cell_type": "markdown",
   "id": "9c205013-aab5-48d2-9107-7f47b62282f4",
   "metadata": {},
   "source": [
    "---"
   ]
  },
  {
   "cell_type": "markdown",
   "id": "e28c9e1b-f59c-4307-a272-f62e507854d6",
   "metadata": {},
   "source": [
    "## Read more"
   ]
  },
  {
   "cell_type": "markdown",
   "id": "d947a32d-8710-403a-b69c-cf47b7504004",
   "metadata": {},
   "source": [
    "- [Indexing on ndarrays](https://numpy.org/devdocs/user/basics.indexing.html)\n",
    "- [Broadcasting](https://numpy.org/devdocs/user/basics.broadcasting.html)\n",
    "- [Copies and Views]()"
   ]
  },
  {
   "cell_type": "markdown",
   "id": "aba69619-6165-4df9-89f7-68e74f28935c",
   "metadata": {},
   "source": [
    "## Next"
   ]
  },
  {
   "cell_type": "markdown",
   "id": "1394a92e-3c39-45d7-a392-6dac5e55444d",
   "metadata": {},
   "source": [
    "Go to [Notebook 3: Vectorization](03_Vectorization.ipynb)."
   ]
  },
  {
   "cell_type": "code",
   "execution_count": null,
   "id": "395bd2da-d03e-41e9-964c-81978b70d45e",
   "metadata": {},
   "outputs": [],
   "source": []
  }
 ],
 "metadata": {
  "kernelspec": {
   "display_name": "Python 3 (ipykernel)",
   "language": "python",
   "name": "python3"
  },
  "language_info": {
   "codemirror_mode": {
    "name": "ipython",
    "version": 3
   },
   "file_extension": ".py",
   "mimetype": "text/x-python",
   "name": "python",
   "nbconvert_exporter": "python",
   "pygments_lexer": "ipython3",
   "version": "3.9.6"
  }
 },
 "nbformat": 4,
 "nbformat_minor": 5
}
