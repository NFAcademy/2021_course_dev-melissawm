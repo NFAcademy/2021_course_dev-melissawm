{
 "cells": [
  {
   "cell_type": "markdown",
   "id": "f953b246-10ab-4959-be49-00a576ad29db",
   "metadata": {},
   "source": [
    "# Array computations in Python"
   ]
  },
  {
   "cell_type": "markdown",
   "id": "fe831061-5607-49a9-85b6-d416bd15f93c",
   "metadata": {},
   "source": [
    "## Course Description\n",
    "\n",
    "As the fundamental package for scientific computing with Python, NumPy offers powerful n-dimensional arrays along with comprehensive mathematical functions and tools. Even if your goal is to use high-level libraries for specific applications such as data science, astronomy, computational biology or finance, familiarity with NumPy data structures and techniques is essential for writing performant and elegant code.\n",
    "\n",
    "This course is designed for people who are familiar with Python and want to use NumPy to write efficient scientific code. We will focus on the main features of NumPy arrays and show how to use them to represent and manipulate data.\n",
    "\n",
    "## Learning Objectives\n",
    "\n",
    "By the end of this course, you should be able to:\n",
    "\n",
    "1. Understand how to create, manipulate and efficiently use NumPy arrays\n",
    "2. Understand slicing, advanced indexing and vectorization to write performant scientific code in Python\n",
    "3. Apply tools from the Polynomial and Random Number Generation subpackages to solve specific problems\n",
    "\n",
    "## Course Outline\n",
    "\n",
    "The course is structured around four Jupyter notebooks.\n",
    "\n",
    "1. [Introduction](01_Intro.ipynb)\n",
    "    * Getting data from a csv file\n",
    "    * Basic indexing and manipulation\n",
    "    * Saving data for later use with `np.savez`\n",
    "    * Basic built-in NumPy tools for plotting and integrating with Matplotlib.\n",
    "\n",
    "2. [How to write efficient code](02_How_to_write_efficient_code.ipynb)\n",
    "    * Slicing\n",
    "    * Advanced indexing\n",
    "\n",
    "3. [Vectorization: an introduction to universion functions](03_Vectorization.ipynb)\n",
    "    * When and how to vectorize\n",
    "    * Why this works: ufuncs\n",
    "    * Examples and applications\n",
    "\n",
    "4. [Submodules](04_Submodules.ipynb)\n",
    "    * The polynomial submodule: analyzing and building an approximation to existing data\n",
    "    * Random Number Generation and manipulation\n",
    "\n",
    "## Instructions\n",
    "\n",
    "All content is in Jupyter notebooks in the `notebooks` folder, named using the following pattern:\n",
    "\n",
    "- `01_title_of_first_lesson.ipynb`\n",
    "- `02_title_of_second_lesson.ipynb`\n",
    "\n",
    "All data sets used in the worked examples are in the `data` folder, and there is a file index in the README.md file in that folder."
   ]
  },
  {
   "cell_type": "code",
   "execution_count": null,
   "id": "76f6d741-b243-4365-a325-744ee150364d",
   "metadata": {},
   "outputs": [],
   "source": []
  }
 ],
 "metadata": {
  "kernelspec": {
   "display_name": "Python 3 (ipykernel)",
   "language": "python",
   "name": "python3"
  },
  "language_info": {
   "codemirror_mode": {
    "name": "ipython",
    "version": 3
   },
   "file_extension": ".py",
   "mimetype": "text/x-python",
   "name": "python",
   "nbconvert_exporter": "python",
   "pygments_lexer": "ipython3",
   "version": "3.9.6"
  }
 },
 "nbformat": 4,
 "nbformat_minor": 5
}
