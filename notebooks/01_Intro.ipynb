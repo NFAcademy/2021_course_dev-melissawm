{
 "cells": [
  {
   "cell_type": "markdown",
   "id": "5efedba1",
   "metadata": {},
   "source": [
    "# Introduction"
   ]
  },
  {
   "cell_type": "markdown",
   "id": "83d77baf",
   "metadata": {},
   "source": [
    "In this notebook, you will learn about\n",
    "- Getting data from a csv file\n",
    "- Basic indexing and manipulation\n",
    "- Exploring array properties"
   ]
  },
  {
   "cell_type": "markdown",
   "id": "f74a0a09",
   "metadata": {},
   "source": [
    "---"
   ]
  },
  {
   "cell_type": "markdown",
   "id": "c9ce28a7",
   "metadata": {},
   "source": [
    "## 1. What is NumPy?"
   ]
  },
  {
   "cell_type": "markdown",
   "id": "90e94d55",
   "metadata": {},
   "source": [
    "NumPy (Numerical Python) is an open source Python library that’s used in almost every field of science and engineering. It’s the universal standard for working with numerical data in Python, and it’s at the core of the scientific Python and PyData ecosystems. NumPy users include everyone from beginning coders to experienced researchers doing state-of-the-art scientific and industrial research and development. The NumPy API is used extensively in Pandas, SciPy, Matplotlib, scikit-learn, scikit-image and most other data science and scientific Python packages.\n",
    "\n",
    "The NumPy library contains multidimensional array and matrix data structures (you’ll find more information about this in later sections). It provides ndarray, a homogeneous n-dimensional array object, with methods to efficiently operate on it. NumPy can be used to perform a wide variety of mathematical operations on arrays. It adds powerful data structures to Python that guarantee efficient calculations with arrays and matrices and it supplies an enormous library of high-level mathematical functions that operate on these arrays and matrices.\n",
    "\n",
    "Learn more about NumPy [here](https://numpy.org/devdocs/user/whatisnumpy.html#whatisnumpy)."
   ]
  },
  {
   "cell_type": "markdown",
   "id": "a3be491a-1416-4711-aa2c-40445c0392c1",
   "metadata": {},
   "source": [
    "### Getting started"
   ]
  },
  {
   "cell_type": "markdown",
   "id": "636ff5cc",
   "metadata": {},
   "source": [
    "To access NumPy and its functions import it in your Python code like this:"
   ]
  },
  {
   "cell_type": "code",
   "execution_count": null,
   "id": "8130494c",
   "metadata": {},
   "outputs": [],
   "source": [
    "import numpy as np"
   ]
  },
  {
   "cell_type": "markdown",
   "id": "a61d5eb6",
   "metadata": {},
   "source": [
    "We shorten the imported name to `np` for better readability of code using NumPy. This is a widely adopted convention that you should follow so that anyone working with your code can easily understand it."
   ]
  },
  {
   "cell_type": "markdown",
   "id": "06fd2f1c",
   "metadata": {},
   "source": [
    "### What's the difference between a Python list and a NumPy array?"
   ]
  },
  {
   "cell_type": "markdown",
   "id": "d0a8d1cd",
   "metadata": {},
   "source": [
    "NumPy gives you an enormous range of fast and efficient ways of creating arrays and manipulating numerical data inside them. While a Python list can contain different data types within a single list, all of the elements in a NumPy array should be homogeneous. The mathematical operations that are meant to be performed on arrays would be extremely inefficient if the arrays weren’t homogeneous."
   ]
  },
  {
   "cell_type": "markdown",
   "id": "31d808c3",
   "metadata": {},
   "source": [
    "### Why use NumPy?"
   ]
  },
  {
   "cell_type": "markdown",
   "id": "311f149a",
   "metadata": {},
   "source": [
    "NumPy arrays are faster and more compact than Python lists. An array consumes less memory and is convenient to use. NumPy uses much less memory to store data and it provides a mechanism of specifying the data types. This allows the code to be optimized even further."
   ]
  },
  {
   "cell_type": "markdown",
   "id": "9379880f",
   "metadata": {},
   "source": [
    "### What is an array?"
   ]
  },
  {
   "cell_type": "markdown",
   "id": "c8eaf34b",
   "metadata": {},
   "source": [
    "An array is a central data structure of the NumPy library. An array is a grid of values and it contains information about the raw data, how to locate an element, and how to interpret an element. It has a grid of elements that can be indexed in various ways. The elements are all of the same type, referred to as the array dtype. In a sense, arrays can be seen as generalized vectors or matrices commonly used in mathematics.\n",
    "\n",
    "An array can be indexed by a tuple of nonnegative integers, by booleans, by another array, or by integers. The rank of the array is the number of dimensions. The shape of the array is a tuple of integers giving the size of the array along each dimension.\n",
    "\n",
    "One way we can initialize NumPy arrays is from Python lists, using nested lists for two- or higher-dimensional data. For this, we can use the `np.array()` function.\n",
    "\n",
    "For example:"
   ]
  },
  {
   "cell_type": "code",
   "execution_count": null,
   "id": "10b89743",
   "metadata": {},
   "outputs": [],
   "source": [
    "a = np.array([1, 2, 3, 4, 5, 6])"
   ]
  },
  {
   "cell_type": "markdown",
   "id": "972c1993",
   "metadata": {},
   "source": [
    "or"
   ]
  },
  {
   "cell_type": "code",
   "execution_count": null,
   "id": "bf4b4387",
   "metadata": {},
   "outputs": [],
   "source": [
    "a = np.array([[1, 2, 3, 4], \n",
    "              [5, 6, 7, 8], \n",
    "              [9, 10, 11, 12]])"
   ]
  },
  {
   "cell_type": "markdown",
   "id": "3f0f2ec7",
   "metadata": {},
   "source": [
    "We can access the elements in the array using square brackets. When you’re accessing elements, remember that indexing in NumPy starts at 0. That means that if you want to access the first element in your array, you’ll be accessing element “0”."
   ]
  },
  {
   "cell_type": "code",
   "execution_count": null,
   "id": "5a32e7a8",
   "metadata": {},
   "outputs": [],
   "source": [
    "print(a[0])"
   ]
  },
  {
   "cell_type": "markdown",
   "id": "db852c39",
   "metadata": {},
   "source": [
    "You might occasionally hear an array referred to as a “ndarray,” which is shorthand for “N-dimensional array.” An N-dimensional array is simply an array with any number of dimensions. You might also hear 1-D, or one-dimensional array, 2-D, or two-dimensional array, and so on. The NumPy ndarray class is used to represent both matrices and vectors. A vector is an array with a single dimension (there’s no difference between row and column vectors), while a matrix refers to an array with two dimensions. For 3-D or higher dimensional arrays, the term tensor is also commonly used."
   ]
  },
  {
   "cell_type": "markdown",
   "id": "942efa20-acb3-49d2-8eae-5d06e74742e8",
   "metadata": {},
   "source": [
    "<img src=\"https://www.oreilly.com/library/view/elegant-scipy/9781491922927/assets/elsp_0105.png\" alt=\"Image showing 3 diagrams representing arrays of different shapes and sizes. First, there is a 1D array, represented by four squares stacked horizontally, an indication that this represents axis 0, and shape (4,). In the center, there is a representation of a 2D array, with 6 squares organized in a 2 rows, 3 columns matrix. It shows axis 0 and axis 1 and shape (2, 3). Finally, a diagram of a 3D array, showing a 'cube' of data with shape (4, 3, 2)- 4 items in axis 0, 3 items in axis 1 and 2 items in axis 2.\" width=\"800\" align=\"middle\"/>"
   ]
  },
  {
   "cell_type": "markdown",
   "id": "7a474176-052f-4bf5-888f-dc33cc23c2b6",
   "metadata": {},
   "source": [
    "*Image credits: [Elegant SciPy, O'Reilly](https://github.com/elegant-scipy/elegant-scipy)*"
   ]
  },
  {
   "cell_type": "markdown",
   "id": "1a45fe27",
   "metadata": {},
   "source": [
    "### What are the attributes of an array?"
   ]
  },
  {
   "cell_type": "markdown",
   "id": "72c8f100-5741-4207-8c00-20c2b40c327e",
   "metadata": {},
   "source": [
    "An array is usually a fixed-size container of items of the same type and size. The number of dimensions and items in an array is defined by its shape. The shape of an array is a tuple of non-negative integers that specify the sizes of each dimension.\n",
    "\n",
    "In NumPy, dimensions are called axes. This means that if you have a 2D array that looks like this:\n",
    "\n",
    "```python\n",
    "[[0., 0., 0.],\n",
    " [1., 1., 1.]]\n",
    "```\n",
    "\n",
    "Your array has 2 axes. The first axis has a length of 2 and the second axis has a length of 3."
   ]
  },
  {
   "cell_type": "markdown",
   "id": "84818c3c-7062-4d36-a61e-43f406c999a2",
   "metadata": {},
   "source": [
    "**Note** Just like in other Python container objects, the contents of an array can be accessed and modified by indexing or slicing the array. Unlike the typical container objects, different arrays can share the same data, so changes made on one array might be visible in another.\n",
    "\n",
    "Array attributes reflect information intrinsic to the array itself. If you need to get, or even set, properties of an array without creating a new array, you can often access an array through its attributes."
   ]
  },
  {
   "cell_type": "markdown",
   "id": "81238320",
   "metadata": {},
   "source": [
    "## 2. A problem to explore"
   ]
  },
  {
   "cell_type": "markdown",
   "id": "569baae1",
   "metadata": {},
   "source": [
    "From [Wikipedia](https://en.wikipedia.org/wiki/Cost_of_living):\n",
    "    \n",
    "    Cost of living is the cost of maintaining a certain standard of living. Changes in the cost of living over time are often operationalized in a cost-of-living index. Cost of living calculations are also used to compare the cost of maintaining a certain standard of living in different geographic areas. Differences in cost of living between locations can also be measured in terms of purchasing power parity rates. \n",
    "    \n",
    "From [Numbeo](https://www.numbeo.com), it is possible to obtain data about the cost of living and quality of life indices for several cities across the world as a `.csv` (comma separated values) file. We will explore this data using NumPy and its array manipulating capabilities."
   ]
  },
  {
   "cell_type": "markdown",
   "id": "b1222fee",
   "metadata": {},
   "source": [
    "### Getting data from a `.csv` file"
   ]
  },
  {
   "cell_type": "markdown",
   "id": "5264afcc",
   "metadata": {},
   "source": [
    "CSV files are standard in data analysis and other applications. Because we are mostly interested in the array manipulations, we will use the [pandas library](https://pandas.pydata.org/), which is the industry standard, to obtain the data and later convert it into NumPy arrays."
   ]
  },
  {
   "cell_type": "code",
   "execution_count": null,
   "id": "26bdd56a",
   "metadata": {},
   "outputs": [],
   "source": [
    "import pandas as pd\n",
    "\n",
    "quality_of_life = pd.read_csv('../data/quality_of_life_index.csv')"
   ]
  },
  {
   "cell_type": "markdown",
   "id": "0a7af0e6",
   "metadata": {},
   "source": [
    "First, let's explore what is in this file: "
   ]
  },
  {
   "cell_type": "code",
   "execution_count": null,
   "id": "dc08ee9a",
   "metadata": {},
   "outputs": [],
   "source": [
    "quality_of_life"
   ]
  },
  {
   "cell_type": "markdown",
   "id": "8270ef65",
   "metadata": {},
   "source": [
    "From [Numbeo](https://www.numbeo.com/quality-of-life/indices_explained.jsp):\n",
    "\n",
    "    Quality of Life Index (higher is better) is an estimation of overall quality of life by using an empirical formula which takes into account purchasing power index (higher is better), pollution index (lower is better), house price to income ratio (lower is better), cost of living index (lower is better), safety index (higher is better), health care index (higher is better), traffic commute time index (lower is better) and climate index (higher is better).\n",
    "\n",
    "For more details on the other indices, check Numbeo's website."
   ]
  },
  {
   "cell_type": "markdown",
   "id": "93be2b7b",
   "metadata": {},
   "source": [
    "## 3. Array properties"
   ]
  },
  {
   "cell_type": "markdown",
   "id": "2a8a9308-e20c-4255-812b-eb199afaa326",
   "metadata": {},
   "source": [
    "We can identify this `quality_of_life` object by inspecting its type:"
   ]
  },
  {
   "cell_type": "code",
   "execution_count": null,
   "id": "31267541",
   "metadata": {},
   "outputs": [],
   "source": [
    "type(quality_of_life)"
   ]
  },
  {
   "cell_type": "markdown",
   "id": "603021e7",
   "metadata": {},
   "source": [
    "At this point, because we used pandas to obtain the data from the csv files, what we have are objects called [DataFrames](https://pandas.pydata.org/docs/reference/api/pandas.DataFrame.html)."
   ]
  },
  {
   "cell_type": "markdown",
   "id": "10177a43-525a-4f57-b964-46c6321bf7f2",
   "metadata": {},
   "source": [
    "Because we want to work with NumPy arrays, we can convert this data using the `np.array()` function like we did earlier for lists:"
   ]
  },
  {
   "cell_type": "code",
   "execution_count": null,
   "id": "03969711",
   "metadata": {},
   "outputs": [],
   "source": [
    "data = np.array(quality_of_life)\n",
    "data"
   ]
  },
  {
   "cell_type": "markdown",
   "id": "9c4d1ed6-ad5f-46d5-ade9-d6d766b413f3",
   "metadata": {},
   "source": [
    "### Data type"
   ]
  },
  {
   "cell_type": "markdown",
   "id": "284f5a0c",
   "metadata": {},
   "source": [
    "The last line in the previous operation containes the expression `dtype=object`. As we mentioned before, what makes NumPy arrays efficient is the fact that it contains homogeneous data, meaning that every entry should have the same data type. Because we tried creating an array with different data types (integer numbers in the first column, character strings in the second, floating point numbers for the others), the only possible way for this array to contain a homogeneous set of data is by using the `object` data type, which is very general and includes all the data described. However, this is clearly as inefficient as using a plain Python list (maybe even worse!).\n",
    "\n",
    "To fix this, let's select only a subset of the data to put in our NumPy array. Using the pandas syntax, this can be done by, for example, choosing the `'Quality of Life Index'` columns from the pandas DataFrame, and converting it into a NumPy array:"
   ]
  },
  {
   "cell_type": "code",
   "execution_count": null,
   "id": "5967be71",
   "metadata": {},
   "outputs": [],
   "source": [
    "quality_index = np.array(quality_of_life['Quality of Life Index'])\n",
    "quality_index"
   ]
  },
  {
   "cell_type": "markdown",
   "id": "7cbdd581",
   "metadata": {},
   "source": [
    "Now, you can check the data type of this new array by querying the `dtype` property of this array:"
   ]
  },
  {
   "cell_type": "code",
   "execution_count": null,
   "id": "f0d9c8c1",
   "metadata": {},
   "outputs": [],
   "source": [
    "quality_index.dtype"
   ]
  },
  {
   "cell_type": "markdown",
   "id": "d83d1685",
   "metadata": {},
   "source": [
    "As expected, the data type for the `quality_index` array is now `float64`, or 64-bit floating point numbers."
   ]
  },
  {
   "cell_type": "markdown",
   "id": "cf560fde-424a-4417-8dde-453083244f8b",
   "metadata": {},
   "source": [
    "Now, let's check another subset of this DataFrame, the `Rank` column:"
   ]
  },
  {
   "cell_type": "code",
   "execution_count": null,
   "id": "9ad51076",
   "metadata": {},
   "outputs": [],
   "source": [
    "rank = np.array(quality_of_life['Rank'])\n",
    "rank"
   ]
  },
  {
   "cell_type": "code",
   "execution_count": null,
   "id": "91f69f1e",
   "metadata": {},
   "outputs": [],
   "source": [
    "rank.dtype"
   ]
  },
  {
   "cell_type": "markdown",
   "id": "02711fa7",
   "metadata": {},
   "source": [
    "Here we have integer data, but note that we could have selected a different data type to represent these items by using the `dtype` keyword when calling the `np.array()` function. Different data types available can be found [here](https://numpy.org/devdocs/reference/arrays.dtypes.html). For example, we can try with the `np.float64` data type:"
   ]
  },
  {
   "cell_type": "code",
   "execution_count": null,
   "id": "47098ff5",
   "metadata": {},
   "outputs": [],
   "source": [
    "rank_float = np.array(rank, dtype=np.float64)\n",
    "rank_float"
   ]
  },
  {
   "cell_type": "code",
   "execution_count": null,
   "id": "d87e1a6a-9d5d-4a10-a952-228170465b4b",
   "metadata": {},
   "outputs": [],
   "source": [
    "rank_float.dtype"
   ]
  },
  {
   "cell_type": "markdown",
   "id": "58a5fc10-5c2d-4434-8986-40e41bc4dfa5",
   "metadata": {},
   "source": [
    "### Shape and size"
   ]
  },
  {
   "cell_type": "markdown",
   "id": "f27fa89a",
   "metadata": {},
   "source": [
    "At this point, we may also be interested in checking for the physical layout of this array, like its shape and size. If you are used to Python lists, you may be tempted to apply the `len` function to this array:"
   ]
  },
  {
   "cell_type": "code",
   "execution_count": null,
   "id": "0c72a3e7-fbda-493a-8c5d-3180839fc787",
   "metadata": {},
   "outputs": [],
   "source": [
    "len(quality_index)"
   ]
  },
  {
   "cell_type": "markdown",
   "id": "091b3034",
   "metadata": {},
   "source": [
    "However, there are specific properties provided by NumPy for this information:"
   ]
  },
  {
   "cell_type": "markdown",
   "id": "ee9100b9",
   "metadata": {},
   "source": [
    "- `.ndim` will tell you the number of axes, or dimensions, of the array.\n",
    "- `.size` will tell you the total number of elements of the array. This is the product of the elements of the array’s shape.\n",
    "- `.shape` will display a tuple of integers that indicate the number of elements stored along each dimension of the array. If, for example, you have a 2-D array with 2 rows and 3 columns, the shape of your array is (2, 3)."
   ]
  },
  {
   "cell_type": "code",
   "execution_count": null,
   "id": "d3bd2e8e",
   "metadata": {},
   "outputs": [],
   "source": [
    "quality_index.ndim"
   ]
  },
  {
   "cell_type": "code",
   "execution_count": null,
   "id": "87623ee8",
   "metadata": {
    "tags": []
   },
   "outputs": [],
   "source": [
    "quality_index.size"
   ]
  },
  {
   "cell_type": "code",
   "execution_count": null,
   "id": "43cc80de",
   "metadata": {},
   "outputs": [],
   "source": [
    "quality_index.shape"
   ]
  },
  {
   "cell_type": "markdown",
   "id": "2f6008e8",
   "metadata": {},
   "source": [
    "Note that we could also have selected a 2-dimensional subset of the data, by choosing to represent two columns of the initial DataFrame as a NumPy array:"
   ]
  },
  {
   "cell_type": "code",
   "execution_count": null,
   "id": "9bfa15ab",
   "metadata": {},
   "outputs": [],
   "source": [
    "quality_safety = np.array(quality_of_life[['Quality of Life Index', 'Safety Index']])"
   ]
  },
  {
   "cell_type": "code",
   "execution_count": null,
   "id": "491cf521",
   "metadata": {
    "scrolled": true,
    "tags": []
   },
   "outputs": [],
   "source": [
    "quality_safety"
   ]
  },
  {
   "cell_type": "markdown",
   "id": "c73e7536",
   "metadata": {
    "tags": []
   },
   "source": [
    "Now, for this two-dimensional array, we have:"
   ]
  },
  {
   "cell_type": "code",
   "execution_count": null,
   "id": "8d215e44",
   "metadata": {},
   "outputs": [],
   "source": [
    "len(quality_safety)"
   ]
  },
  {
   "cell_type": "code",
   "execution_count": null,
   "id": "a14ed04c",
   "metadata": {},
   "outputs": [],
   "source": [
    "quality_safety.ndim"
   ]
  },
  {
   "cell_type": "code",
   "execution_count": null,
   "id": "f2af5136",
   "metadata": {},
   "outputs": [],
   "source": [
    "quality_safety.size"
   ]
  },
  {
   "cell_type": "code",
   "execution_count": null,
   "id": "249bc850",
   "metadata": {},
   "outputs": [],
   "source": [
    "quality_safety.shape"
   ]
  },
  {
   "cell_type": "markdown",
   "id": "61e9c7ef",
   "metadata": {},
   "source": [
    "In this case, it is clear that the `len` function is no longer appropriate, and that NumPy arrays require a bit more information to be understood correctly."
   ]
  },
  {
   "cell_type": "markdown",
   "id": "f470fd15-340a-4ab5-b193-62fea3f7be98",
   "metadata": {},
   "source": [
    "---"
   ]
  },
  {
   "cell_type": "markdown",
   "id": "52b5566c",
   "metadata": {},
   "source": [
    "#### Self-assessment 1"
   ]
  },
  {
   "cell_type": "markdown",
   "id": "3040ba83-450c-4602-8943-a9d03ff34ef1",
   "metadata": {},
   "source": [
    "---"
   ]
  },
  {
   "cell_type": "markdown",
   "id": "cf42ef60-01ca-4e71-98e8-bff2550edc84",
   "metadata": {},
   "source": [
    "### Creating arrays"
   ]
  },
  {
   "cell_type": "markdown",
   "id": "b478c668-6646-451a-8661-f56bd7d414c6",
   "metadata": {},
   "source": [
    "It is possible to create arrays [in several ways](https://numpy.org/devdocs/user/basics.creation.html). We have seen above how to create an array from a list, but we could also create an array with zeros in every entry, by choosing its shape:"
   ]
  },
  {
   "cell_type": "code",
   "execution_count": null,
   "id": "fb92105b-ab84-4e83-99f9-aa1e51a959ea",
   "metadata": {},
   "outputs": [],
   "source": [
    "z = np.zeros((2, 3))\n",
    "z"
   ]
  },
  {
   "cell_type": "markdown",
   "id": "db0f1d64-852f-443c-ad7f-ff387140a5f4",
   "metadata": {},
   "source": [
    "Similarly, we can create arrays containing only the value `1`:"
   ]
  },
  {
   "cell_type": "code",
   "execution_count": null,
   "id": "a5e0178c-a2d6-4403-80b8-6d9ba1458104",
   "metadata": {},
   "outputs": [],
   "source": [
    "all_ones = np.ones((2, 6, 3))\n",
    "all_ones"
   ]
  },
  {
   "cell_type": "markdown",
   "id": "bbfd769f-9afb-4feb-bdf8-cb12cb02a54f",
   "metadata": {},
   "source": [
    "Note that we could have selected the appropriate dtype if we wanted this to be an integer array:"
   ]
  },
  {
   "cell_type": "code",
   "execution_count": null,
   "id": "f00a00f1-0fd9-48d1-86e4-a23039cda881",
   "metadata": {},
   "outputs": [],
   "source": [
    "all_ones = np.ones((2, 6, 3), dtype=np.int64)\n",
    "all_ones"
   ]
  },
  {
   "cell_type": "markdown",
   "id": "9d34548f-b24c-485e-92f5-abe23c89f139",
   "metadata": {},
   "source": [
    "It is often useful to create arrays from regularly incrementing values. We can do that with the `np.arange()` function:"
   ]
  },
  {
   "cell_type": "code",
   "execution_count": null,
   "id": "e0aa4d5c-4fb1-4e31-a0a1-26690bb7bd57",
   "metadata": {
    "scrolled": true,
    "tags": []
   },
   "outputs": [],
   "source": [
    "np.arange?"
   ]
  },
  {
   "cell_type": "markdown",
   "id": "8989eda5-0086-40e2-a6da-a022fcd46e33",
   "metadata": {},
   "source": [
    "Note that we only need to specify the `stop` parameter, but we can be more specific by using the `start` and `step` parameters as needed. For example, to create an array of even numbers between 10 and 20, we can do"
   ]
  },
  {
   "cell_type": "code",
   "execution_count": null,
   "id": "9b0451a5-bab3-4f1c-aa3d-f3738e4492bb",
   "metadata": {},
   "outputs": [],
   "source": [
    "np.arange(10, 20, 2)"
   ]
  },
  {
   "cell_type": "markdown",
   "id": "63486c51-7ec3-42ce-bb01-d2e885080567",
   "metadata": {},
   "source": [
    "(Note that the `stop` value is not included in the output.)"
   ]
  },
  {
   "cell_type": "markdown",
   "id": "cee40501-9e24-4480-a7b4-59f7563dd495",
   "metadata": {},
   "source": [
    "---"
   ]
  },
  {
   "cell_type": "markdown",
   "id": "eb6f76aa-3fba-4d85-9def-fbc172f3d686",
   "metadata": {},
   "source": [
    "#### Self-assessment 2"
   ]
  },
  {
   "cell_type": "markdown",
   "id": "0922bd14-1f1b-418c-a649-0ab243b2e63a",
   "metadata": {},
   "source": [
    "---"
   ]
  },
  {
   "cell_type": "markdown",
   "id": "954d20aa",
   "metadata": {},
   "source": [
    "## 4. Basic indexing and manipulation"
   ]
  },
  {
   "cell_type": "markdown",
   "id": "96e23b69-6452-4848-a3f5-876c5e537e44",
   "metadata": {},
   "source": [
    "In the original `quality_of_life` table, the data corresponding to the city of Lagos in Nigeria had index 244:"
   ]
  },
  {
   "cell_type": "code",
   "execution_count": null,
   "id": "d34f95b1-8a4d-430e-866b-9fb335a4dcc8",
   "metadata": {},
   "outputs": [],
   "source": [
    "quality_of_life"
   ]
  },
  {
   "cell_type": "markdown",
   "id": "8d5c5ce7-2014-4e3b-aae8-adb82dc627ed",
   "metadata": {},
   "source": [
    "To consult data corresponding to Lagos from the current `quality_safety` array, we will access the entry with index 244:"
   ]
  },
  {
   "cell_type": "code",
   "execution_count": null,
   "id": "f36ddb8c",
   "metadata": {},
   "outputs": [],
   "source": [
    "quality_safety[244]"
   ]
  },
  {
   "cell_type": "markdown",
   "id": "79b45689-ab91-4039-865b-4b4c3779f055",
   "metadata": {},
   "source": [
    "Take some time to check that the values obtained here are as expected from the DataFrame above."
   ]
  },
  {
   "cell_type": "markdown",
   "id": "58310dde",
   "metadata": {},
   "source": [
    "Because of the way we built this array, at position 244 we have two items: the Quality of Life Index in the first position, and the Safety Index in the second position:"
   ]
  },
  {
   "cell_type": "code",
   "execution_count": null,
   "id": "767e63de-9929-418e-b1d1-0f45788bbf21",
   "metadata": {
    "scrolled": true,
    "tags": []
   },
   "outputs": [],
   "source": [
    "quality_safety"
   ]
  },
  {
   "cell_type": "markdown",
   "id": "147c905f-ca8a-4094-8b3c-56829e7d36ee",
   "metadata": {},
   "source": [
    "This means that we need two indices in order to access one individual entry, one for each axis. For example, to get the Quality of Life Index located at row 244 and column 0, we can do"
   ]
  },
  {
   "cell_type": "code",
   "execution_count": null,
   "id": "3fd15d60",
   "metadata": {},
   "outputs": [],
   "source": [
    "quality_safety[244, 0]"
   ]
  },
  {
   "cell_type": "markdown",
   "id": "4dcbb23e",
   "metadata": {},
   "source": [
    "(Note that it is not necessary to separate each dimension's index into its own set of square brackets, but it is allowed.)"
   ]
  },
  {
   "cell_type": "markdown",
   "id": "5e558269",
   "metadata": {},
   "source": [
    "Because of the nested nature of an ndarray, you can think of each row in the `quality_safety` array as a 1D array with two elements. Indeed:"
   ]
  },
  {
   "cell_type": "code",
   "execution_count": null,
   "id": "4397b0a7",
   "metadata": {},
   "outputs": [],
   "source": [
    "quality_safety[0]"
   ]
  },
  {
   "cell_type": "markdown",
   "id": "fa4e15f3-cdbe-448e-acdc-45c7094dda09",
   "metadata": {},
   "source": [
    "Just like for regular Python lists, we can use the index `-1` to select the last entry in our array:"
   ]
  },
  {
   "cell_type": "code",
   "execution_count": null,
   "id": "98fc847f",
   "metadata": {},
   "outputs": [],
   "source": [
    "quality_safety[-1]"
   ]
  },
  {
   "cell_type": "markdown",
   "id": "c5d412c0",
   "metadata": {},
   "source": [
    "Note that because this is a two-dimensional array, the shape is a 2-item tuple. "
   ]
  },
  {
   "cell_type": "code",
   "execution_count": null,
   "id": "8a1a142c",
   "metadata": {},
   "outputs": [],
   "source": [
    "quality_safety.shape"
   ]
  },
  {
   "cell_type": "markdown",
   "id": "4046ac9d",
   "metadata": {},
   "source": [
    "Because the indexing starts at 0, a shape of `(247, 2)` means an index range from 0 to 246, and if we try to access index 247 this will raise an `IndexError`:"
   ]
  },
  {
   "cell_type": "markdown",
   "id": "e0fa7816-16ad-4fa1-95a4-00ae14f6610a",
   "metadata": {},
   "source": [
    "```ipython\n",
    "quality_safety[247]\n",
    "\n",
    "---------------------------------------------------------------------------\n",
    "IndexError                                Traceback (most recent call last)\n",
    "/var/folders/3w/490kdvj917n7kpxjpx14zztw0000gq/T/ipykernel_36431/3641354653.py in <module>\n",
    "----> 1 quality_safety[247]\n",
    "\n",
    "IndexError: index 247 is out of bounds for axis 0 with size 247\n",
    "```"
   ]
  },
  {
   "cell_type": "markdown",
   "id": "068cf80c-dbbe-4218-8b82-51350c1f7135",
   "metadata": {},
   "source": [
    "---"
   ]
  },
  {
   "cell_type": "markdown",
   "id": "7c4662b5",
   "metadata": {
    "tags": []
   },
   "source": [
    "#### Self-assessment 3"
   ]
  },
  {
   "cell_type": "markdown",
   "id": "b8959a94-ae90-4c66-a39e-0bdb7ff2e47c",
   "metadata": {},
   "source": [
    "---"
   ]
  },
  {
   "cell_type": "markdown",
   "id": "b789711d",
   "metadata": {},
   "source": [
    "### Operations between arrays"
   ]
  },
  {
   "cell_type": "markdown",
   "id": "bed321ac-80c1-4741-958e-f3ba039b1d30",
   "metadata": {},
   "source": [
    "Let's gather more data from our initial dataframe:"
   ]
  },
  {
   "cell_type": "code",
   "execution_count": null,
   "id": "a1c2bcdd",
   "metadata": {},
   "outputs": [],
   "source": [
    "cost_index = np.array(quality_of_life['Cost of Living Index'])"
   ]
  },
  {
   "cell_type": "markdown",
   "id": "76166a7f-5cf3-4f30-8bab-18ad1ea72cb1",
   "metadata": {},
   "source": [
    "Suppose we wish to choose a city with a high quality of life index and a low cost of living index. A (perhaps very simplistic) way of computing this is by computing the ratio of these indexes. The higher the ratio, the closer the city is to our goal. "
   ]
  },
  {
   "cell_type": "markdown",
   "id": "272d4b23-2cfe-494f-993b-9368f3717f94",
   "metadata": {},
   "source": [
    "We could do: "
   ]
  },
  {
   "cell_type": "code",
   "execution_count": null,
   "id": "1a3d02f3-163a-4e4b-8214-cd8d58045a33",
   "metadata": {},
   "outputs": [],
   "source": [
    "ratio = np.zeros(cost_index.shape)\n",
    "for i in range(quality_index.shape[0]):\n",
    "    ratio[i] = quality_index[i]/cost_index[i]"
   ]
  },
  {
   "cell_type": "code",
   "execution_count": null,
   "id": "8aa65445-b6d5-47b9-a750-6febc355174b",
   "metadata": {
    "scrolled": true,
    "tags": []
   },
   "outputs": [],
   "source": [
    "ratio"
   ]
  },
  {
   "cell_type": "markdown",
   "id": "62f4a8d7-102b-401b-9395-f11d77da91de",
   "metadata": {},
   "source": [
    "In general, looping through an array is not necessary or efficient. Because of the vectorization properties of NumPy arrays, we could instead operate on these arrays as single objects, simplifying the way we manipulate the data:"
   ]
  },
  {
   "cell_type": "code",
   "execution_count": null,
   "id": "489ae265-5ead-403f-82cf-d5144caa1873",
   "metadata": {},
   "outputs": [],
   "source": [
    "ratio = quality_index/cost_index"
   ]
  },
  {
   "cell_type": "markdown",
   "id": "ae005ab7-d896-4008-a618-0f88c0dd40a0",
   "metadata": {},
   "source": [
    "This is valid for other operations as well."
   ]
  },
  {
   "cell_type": "code",
   "execution_count": null,
   "id": "8b7b8509-911a-4163-b157-c6eaf5e40c6c",
   "metadata": {
    "scrolled": true,
    "tags": []
   },
   "outputs": [],
   "source": [
    "2*quality_index"
   ]
  },
  {
   "cell_type": "markdown",
   "id": "61f5f111-ca3c-4e7f-b720-c8166fa95e38",
   "metadata": {},
   "source": [
    "**Note** There are subtleties when dealing with arrays of different shapes, and we will discuss this later when we talk about Broadcasting."
   ]
  },
  {
   "cell_type": "markdown",
   "id": "841c1473-f18a-4cc3-8d84-c203e0e054a3",
   "metadata": {},
   "source": [
    "Beware: the multiplication symbol `*` means element-by-element multiplication:"
   ]
  },
  {
   "cell_type": "code",
   "execution_count": null,
   "id": "ba92946b-8c63-41aa-83cb-63c6741e51d5",
   "metadata": {},
   "outputs": [],
   "source": [
    "product = rank*quality_index"
   ]
  },
  {
   "cell_type": "code",
   "execution_count": null,
   "id": "ed43f82d-1491-4df7-90e3-274cf1105bfa",
   "metadata": {},
   "outputs": [],
   "source": [
    "rank.shape"
   ]
  },
  {
   "cell_type": "code",
   "execution_count": null,
   "id": "b82a9897-0979-4440-ad86-b48fdf359a2a",
   "metadata": {},
   "outputs": [],
   "source": [
    "quality_index.shape"
   ]
  },
  {
   "cell_type": "code",
   "execution_count": null,
   "id": "3dc62504-f619-499b-b4f3-5068ca2db1db",
   "metadata": {},
   "outputs": [],
   "source": [
    "product.shape"
   ]
  },
  {
   "cell_type": "markdown",
   "id": "44337cc1-16a1-40e4-a19b-1731c726590d",
   "metadata": {},
   "source": [
    "To perform a matrix product operation, you can use the operator `@`:"
   ]
  },
  {
   "cell_type": "code",
   "execution_count": null,
   "id": "449ba67e-328a-4cb7-bd46-7fcdefc306aa",
   "metadata": {},
   "outputs": [],
   "source": [
    "rank@quality_index"
   ]
  },
  {
   "cell_type": "markdown",
   "id": "57a3c223-ffb4-47e6-8644-0c44ce492fb3",
   "metadata": {},
   "source": [
    "This is the same as "
   ]
  },
  {
   "cell_type": "code",
   "execution_count": null,
   "id": "c89cc36d-91f5-4d23-9dfb-27e9935634d3",
   "metadata": {},
   "outputs": [],
   "source": [
    "np.dot(rank, quality_index)"
   ]
  },
  {
   "cell_type": "markdown",
   "id": "00387407-00a9-4f0d-be9e-ea0d5958a3ef",
   "metadata": {},
   "source": [
    "---"
   ]
  },
  {
   "cell_type": "markdown",
   "id": "0ea70ac5-46e2-4ffe-9f57-0301705979bb",
   "metadata": {},
   "source": [
    "#### Self-assessment 4"
   ]
  },
  {
   "cell_type": "markdown",
   "id": "13d07db0-0958-4318-90bc-abcb3be2ebd3",
   "metadata": {},
   "source": [
    "---"
   ]
  },
  {
   "cell_type": "markdown",
   "id": "e3bc5216-2b9b-4f97-917e-14ff1e5dd614",
   "metadata": {},
   "source": [
    "### Adding, removing and sorting elements"
   ]
  },
  {
   "cell_type": "markdown",
   "id": "bb4b80c5-cdf2-4d13-a84b-8a6bceb928cb",
   "metadata": {},
   "source": [
    "Now, we can try and organize this data by *stacking* the existing arrays, meaning that we will create a 2-dimensional array from these four arrays. We can to that by using `np.stack()`:"
   ]
  },
  {
   "cell_type": "code",
   "execution_count": null,
   "id": "e79e9d4f-37d9-48c1-9545-8b5b646e4030",
   "metadata": {},
   "outputs": [],
   "source": [
    "new_index = np.stack((rank, quality_index, cost_index, ratio))"
   ]
  },
  {
   "cell_type": "markdown",
   "id": "9a546a1e-dc2a-45f8-b9d6-719c5064c203",
   "metadata": {},
   "source": [
    "This works, but note that"
   ]
  },
  {
   "cell_type": "code",
   "execution_count": null,
   "id": "a2c48f62-9ca0-4551-b26a-adca514cf973",
   "metadata": {},
   "outputs": [],
   "source": [
    "new_index.shape"
   ]
  },
  {
   "cell_type": "markdown",
   "id": "6e73228c-c8e4-4039-b929-7db837b79706",
   "metadata": {},
   "source": [
    "It would be more natural to organize these by columns, just like in the original dataframe. Now, we could look at the *transpose* of this 2-dimensional array:"
   ]
  },
  {
   "cell_type": "code",
   "execution_count": null,
   "id": "533c1e68-1792-427e-9c7b-5f0860b1f809",
   "metadata": {
    "scrolled": true,
    "tags": []
   },
   "outputs": [],
   "source": [
    "new_index.T"
   ]
  },
  {
   "cell_type": "markdown",
   "id": "c755f1b6-c553-4c1e-bf80-9dbea9625dcc",
   "metadata": {},
   "source": [
    "However, looking at the `np.stack` docstring might give us another idea:"
   ]
  },
  {
   "cell_type": "code",
   "execution_count": null,
   "id": "bb8a1286-4230-4810-8e7e-4b2a6882c091",
   "metadata": {
    "scrolled": true,
    "tags": []
   },
   "outputs": [],
   "source": [
    "np.stack?"
   ]
  },
  {
   "cell_type": "markdown",
   "id": "0b071f1b-3d04-42dd-89ce-77be2117a5a1",
   "metadata": {},
   "source": [
    "Using the `axis` keyword to denote that we want to stack columns (`axis=1`\n",
    ") together, we can get the desired shape:"
   ]
  },
  {
   "cell_type": "code",
   "execution_count": null,
   "id": "4cb7095a-90a1-4dbd-b0c7-00a24f227932",
   "metadata": {},
   "outputs": [],
   "source": [
    "new_index = np.stack((rank, quality_index, cost_index, ratio), axis=1)"
   ]
  },
  {
   "cell_type": "code",
   "execution_count": null,
   "id": "0ad3d378-8a8c-4989-b396-7139a5611f65",
   "metadata": {},
   "outputs": [],
   "source": [
    "new_index.shape"
   ]
  },
  {
   "cell_type": "code",
   "execution_count": null,
   "id": "137b3595-9303-4e36-9792-d60945a24c85",
   "metadata": {
    "scrolled": true,
    "tags": []
   },
   "outputs": [],
   "source": [
    "new_index"
   ]
  },
  {
   "cell_type": "markdown",
   "id": "f0962d6d-994b-41b8-87b0-35c238fbcd87",
   "metadata": {},
   "source": [
    "Now that we have computed the `quality_of_life/cost_of_living` ratio, we can sort the data by this ratio. To do that, we can use the `np.sort()` function from NumPy:  "
   ]
  },
  {
   "cell_type": "code",
   "execution_count": null,
   "id": "9b46ec83-3ce6-4b22-899a-a8fb5878686d",
   "metadata": {
    "scrolled": true,
    "tags": []
   },
   "outputs": [],
   "source": [
    "np.sort(ratio)"
   ]
  },
  {
   "cell_type": "markdown",
   "id": "7482cfad-f919-46fc-9295-bf3f056e82ec",
   "metadata": {},
   "source": [
    "We now have the ratios sorted, but we can't identify which city would have the best ratio. We can use `np.argsort()` to help with that:"
   ]
  },
  {
   "cell_type": "code",
   "execution_count": null,
   "id": "3ddf24a8-d522-4068-be14-f4037bffa76a",
   "metadata": {},
   "outputs": [],
   "source": [
    "np.argsort(ratio)"
   ]
  },
  {
   "cell_type": "markdown",
   "id": "1b612e03-7458-47eb-83be-57d407859f36",
   "metadata": {},
   "source": [
    "The result shows the original indices of the sorted elements in our array. This means that the smallest ratio, corresponding to the last element in the sorted `ratio` array, originally had index 132:"
   ]
  },
  {
   "cell_type": "code",
   "execution_count": null,
   "id": "b18b386d-8353-45ff-b085-d787543253b0",
   "metadata": {},
   "outputs": [],
   "source": [
    "ratio[132]"
   ]
  },
  {
   "cell_type": "markdown",
   "id": "d3f76022-6cc5-46c1-bf47-2e1e67a5cd73",
   "metadata": {},
   "source": [
    "Now, using the pandas `iloc` syntax, we can recover from our original dataset which city is this:"
   ]
  },
  {
   "cell_type": "code",
   "execution_count": null,
   "id": "f86a5e3c-1d9c-4d1e-bee0-7fa9c2e8de81",
   "metadata": {},
   "outputs": [],
   "source": [
    "quality_of_life.iloc[132]"
   ]
  },
  {
   "cell_type": "markdown",
   "id": "2e55cda6-7701-411e-b3c2-173b8939346d",
   "metadata": {},
   "source": [
    "---"
   ]
  },
  {
   "cell_type": "markdown",
   "id": "19babdec-4f5c-444b-b6ee-78d4ee8c8204",
   "metadata": {},
   "source": [
    "#### Self-assessment 5"
   ]
  },
  {
   "cell_type": "markdown",
   "id": "52e9211f-108a-47b6-a067-2f6debc11990",
   "metadata": {},
   "source": [
    "---"
   ]
  },
  {
   "cell_type": "markdown",
   "id": "e3d9fb4a",
   "metadata": {},
   "source": [
    "---"
   ]
  },
  {
   "cell_type": "markdown",
   "id": "51928877",
   "metadata": {},
   "source": [
    "## Read more"
   ]
  },
  {
   "cell_type": "markdown",
   "id": "b50ec4c5",
   "metadata": {},
   "source": [
    "- Some of the content in this page comes from the [NumPy for absolute beginners](https://numpy.org/devdocs/user/absolute_beginners.html) tutorial in the NumPy documentation.\n",
    "- [NumPy functions and methods overview](https://numpy.org/devdocs/user/quickstart.html#functions-and-methods-overview)\n",
    "- [NumPy Quickstart guide](https://numpy.org/devdocs/user/quickstart.html)"
   ]
  },
  {
   "cell_type": "markdown",
   "id": "7ca7d385-e0e9-4cdc-a099-b72ae5dc01c3",
   "metadata": {},
   "source": [
    "## Next"
   ]
  },
  {
   "cell_type": "markdown",
   "id": "41feb4f7-2a1a-4331-88b8-50e75e51d923",
   "metadata": {},
   "source": [
    "Go to [Notebook 2: How to write efficient code with NumPy](02_How_to_write_efficient_code.ipynb)."
   ]
  }
 ],
 "metadata": {
  "kernelspec": {
   "display_name": "Python 3 (ipykernel)",
   "language": "python",
   "name": "python3"
  },
  "language_info": {
   "codemirror_mode": {
    "name": "ipython",
    "version": 3
   },
   "file_extension": ".py",
   "mimetype": "text/x-python",
   "name": "python",
   "nbconvert_exporter": "python",
   "pygments_lexer": "ipython3",
   "version": "3.9.6"
  }
 },
 "nbformat": 4,
 "nbformat_minor": 5
}
