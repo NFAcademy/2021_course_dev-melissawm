{
 "cells": [
  {
   "cell_type": "markdown",
   "id": "641c33aa",
   "metadata": {},
   "source": [
    "# Intro"
   ]
  },
  {
   "cell_type": "markdown",
   "id": "38c97949",
   "metadata": {},
   "source": [
    "In this notebook, you will learn about\n",
    "- Getting data from a csv file\n",
    "- Basic indexing and manipulation\n",
    "- Saving data for later use with `np.savez`\n",
    "- Basic built-in NumPy tools for plotting and integrating with Matplotlib."
   ]
  },
  {
   "cell_type": "markdown",
   "id": "20e357d4",
   "metadata": {},
   "source": [
    "---"
   ]
  },
  {
   "cell_type": "markdown",
   "id": "6b4276f6",
   "metadata": {},
   "source": [
    "## 1. What is NumPy?"
   ]
  },
  {
   "cell_type": "markdown",
   "id": "9c88d878-adec-4b43-8eb2-d17890b7465c",
   "metadata": {},
   "source": [
    "NumPy (Numerical Python) is an open source Python library that’s used in almost every field of science and engineering. It’s the universal standard for working with numerical data in Python, and it’s at the core of the scientific Python and PyData ecosystems. NumPy users include everyone from beginning coders to experienced researchers doing state-of-the-art scientific and industrial research and development. The NumPy API is used extensively in Pandas, SciPy, Matplotlib, scikit-learn, scikit-image and most other data science and scientific Python packages.\n",
    "\n",
    "The NumPy library contains multidimensional array and matrix data structures (you’ll find more information about this in later sections). It provides ndarray, a homogeneous n-dimensional array object, with methods to efficiently operate on it. NumPy can be used to perform a wide variety of mathematical operations on arrays. It adds powerful data structures to Python that guarantee efficient calculations with arrays and matrices and it supplies an enormous library of high-level mathematical functions that operate on these arrays and matrices.\n",
    "\n",
    "Learn more about NumPy [here!](https://numpy.org/devdocs/user/whatisnumpy.html#whatisnumpy)"
   ]
  },
  {
   "cell_type": "markdown",
   "id": "0987fc7f-e8d9-4f9e-b9c7-9d92abd669fb",
   "metadata": {},
   "source": [
    "To access NumPy and its functions import it in your Python code like this:"
   ]
  },
  {
   "cell_type": "code",
   "execution_count": null,
   "id": "a06f64e1-361d-49ab-9196-792e6203f678",
   "metadata": {},
   "outputs": [],
   "source": [
    "import numpy as np"
   ]
  },
  {
   "cell_type": "markdown",
   "id": "3c02c835-46d9-4a09-8c47-9774c177a169",
   "metadata": {},
   "source": [
    "We shorten the imported name to `np` for better readability of code using NumPy. This is a widely adopted convention that you should follow so that anyone working with your code can easily understand it."
   ]
  },
  {
   "cell_type": "markdown",
   "id": "9bacf314-ffd8-4ef1-a274-1ba1fa740fc6",
   "metadata": {},
   "source": [
    "### What's the difference between a Python list and a NumPy array?"
   ]
  },
  {
   "cell_type": "markdown",
   "id": "62f492c7-3637-4e6a-a437-93426bf1ef9b",
   "metadata": {},
   "source": [
    "NumPy gives you an enormous range of fast and efficient ways of creating arrays and manipulating numerical data inside them. While a Python list can contain different data types within a single list, all of the elements in a NumPy array should be homogeneous. The mathematical operations that are meant to be performed on arrays would be extremely inefficient if the arrays weren’t homogeneous."
   ]
  },
  {
   "cell_type": "markdown",
   "id": "3f71c2e2-7194-42ca-ba9a-43e88be2847c",
   "metadata": {},
   "source": [
    "### Why use NumPy?"
   ]
  },
  {
   "cell_type": "markdown",
   "id": "9deabb93-6984-493d-a943-4f213526398a",
   "metadata": {},
   "source": [
    "NumPy arrays are faster and more compact than Python lists. An array consumes less memory and is convenient to use. NumPy uses much less memory to store data and it provides a mechanism of specifying the data types. This allows the code to be optimized even further."
   ]
  },
  {
   "cell_type": "markdown",
   "id": "e765e8da-5f2d-4ef4-b431-778676227107",
   "metadata": {},
   "source": [
    "### What is an array?"
   ]
  },
  {
   "cell_type": "markdown",
   "id": "02fa29cf-daf6-4496-8aeb-4a3bd584ba97",
   "metadata": {},
   "source": [
    "An array is a central data structure of the NumPy library. An array is a grid of values and it contains information about the raw data, how to locate an element, and how to interpret an element. It has a grid of elements that can be indexed in various ways. The elements are all of the same type, referred to as the array dtype.\n",
    "\n",
    "An array can be indexed by a tuple of nonnegative integers, by booleans, by another array, or by integers. The rank of the array is the number of dimensions. The shape of the array is a tuple of integers giving the size of the array along each dimension.\n",
    "\n",
    "One way we can initialize NumPy arrays is from Python lists, using nested lists for two- or higher-dimensional data. For this, we can use the `np.array()` function.\n",
    "\n",
    "For example:"
   ]
  },
  {
   "cell_type": "code",
   "execution_count": null,
   "id": "55c6e418-cb3c-4723-8eef-c852c13e10d8",
   "metadata": {},
   "outputs": [],
   "source": [
    "a = np.array([1, 2, 3, 4, 5, 6])"
   ]
  },
  {
   "cell_type": "markdown",
   "id": "323a660d-126c-4314-98b3-4c08e95e3a36",
   "metadata": {},
   "source": [
    "or:"
   ]
  },
  {
   "cell_type": "code",
   "execution_count": null,
   "id": "67d6888f-67c2-403a-b532-5adb0203ed35",
   "metadata": {},
   "outputs": [],
   "source": [
    "a = np.array([[1, 2, 3, 4], \n",
    "              [5, 6, 7, 8], \n",
    "              [9, 10, 11, 12]])"
   ]
  },
  {
   "cell_type": "markdown",
   "id": "4f194b63-967d-4914-8cc2-423b59efb88c",
   "metadata": {},
   "source": [
    "We can access the elements in the array using square brackets. When you’re accessing elements, remember that indexing in NumPy starts at 0. That means that if you want to access the first element in your array, you’ll be accessing element “0”."
   ]
  },
  {
   "cell_type": "code",
   "execution_count": null,
   "id": "559ac016-eaaa-4ff6-8d24-c759163512fd",
   "metadata": {},
   "outputs": [],
   "source": [
    "print(a[0])"
   ]
  },
  {
   "cell_type": "markdown",
   "id": "0d24ca3b-e3e2-4af5-9b58-f5c0005baae4",
   "metadata": {},
   "source": [
    "You might occasionally hear an array referred to as a “ndarray,” which is shorthand for “N-dimensional array.” An N-dimensional array is simply an array with any number of dimensions. You might also hear 1-D, or one-dimensional array, 2-D, or two-dimensional array, and so on. The NumPy ndarray class is used to represent both matrices and vectors. A vector is an array with a single dimension (there’s no difference between row and column vectors), while a matrix refers to an array with two dimensions. For 3-D or higher dimensional arrays, the term tensor is also commonly used."
   ]
  },
  {
   "cell_type": "markdown",
   "id": "27aef50d-9689-4857-b785-0779f9dce06f",
   "metadata": {},
   "source": [
    "![TODO](https://www.oreilly.com/library/view/elegant-scipy/9781491922927/assets/elsp_0105.png width=100px)"
   ]
  },
  {
   "cell_type": "markdown",
   "id": "d0cee439-8e4d-4562-90fc-5c3e1a745eb3",
   "metadata": {},
   "source": [
    "### What are the attributes of an array?"
   ]
  },
  {
   "cell_type": "markdown",
   "id": "9820ac0b-2fe9-4269-b139-d7d69e828d6b",
   "metadata": {},
   "source": [
    "An array is usually a fixed-size container of items of the same type and size. The number of dimensions and items in an array is defined by its shape. The shape of an array is a tuple of non-negative integers that specify the sizes of each dimension.\n",
    "\n",
    "In NumPy, dimensions are called axes. This means that if you have a 2D array that looks like this:\n",
    "\n",
    "```python\n",
    "[[0., 0., 0.],\n",
    " [1., 1., 1.]]\n",
    "```\n",
    "\n",
    "Your array has 2 axes. The first axis has a length of 2 and the second axis has a length of 3.\n",
    "\n",
    "Just like in other Python container objects, the contents of an array can be accessed and modified by indexing or slicing the array. Unlike the typical container objects, different arrays can share the same data, so changes made on one array might be visible in another.\n",
    "\n",
    "Array attributes reflect information intrinsic to the array itself. If you need to get, or even set, properties of an array without creating a new array, you can often access an array through its attributes."
   ]
  },
  {
   "cell_type": "markdown",
   "id": "01a34c98-95df-4a82-9ccd-24c22b534478",
   "metadata": {},
   "source": [
    "## 2. A problem to explore"
   ]
  },
  {
   "cell_type": "markdown",
   "id": "159b0944-5618-413a-a7d7-2fdd2a643e40",
   "metadata": {},
   "source": [
    "From [Wikipedia](https://en.wikipedia.org/wiki/Cost_of_living):\n",
    "    \n",
    "    Cost of living is the cost of maintaining a certain standard of living. Changes in the cost of living over time are often operationalized in a cost-of-living index. Cost of living calculations are also used to compare the cost of maintaining a certain standard of living in different geographic areas. Differences in cost of living between locations can also be measured in terms of purchasing power parity rates. \n",
    "    \n",
    "From [Numbeo](https://www.numbeo.com), it is possible to obtain data about the cost of living and quality of life indices for several cities across the world as a `.csv` (comma separated values) file. We will explore this data using NumPy and its array manipulating capabilities."
   ]
  },
  {
   "cell_type": "markdown",
   "id": "e647cbd7",
   "metadata": {},
   "source": [
    "### Getting data from a `.csv` file"
   ]
  },
  {
   "cell_type": "markdown",
   "id": "20720cdc-8d1e-4db5-b4b2-f28227f78925",
   "metadata": {},
   "source": [
    "CSV files are standard in data analysis and other applications. Because we are mostly interested in the array manipulations, we will use the [pandas library](https://pandas.pydata.org/), which is the industry standard, to obtain the data and later convert it into NumPy arrays. "
   ]
  },
  {
   "cell_type": "code",
   "execution_count": null,
   "id": "dab0b769-ae20-4346-95f2-d124b5aff61b",
   "metadata": {},
   "outputs": [],
   "source": [
    "import pandas as pd\n",
    "\n",
    "cost_of_living = pd.read_csv('../data/Cost_of_living_index.csv')\n",
    "quality_of_life = pd.read_csv('../data/quality_of_life_index.csv')"
   ]
  },
  {
   "cell_type": "markdown",
   "id": "ea6aef87-8f30-487d-8fa2-f4e47a38246b",
   "metadata": {},
   "source": [
    "First, let's explore what is in each file:"
   ]
  },
  {
   "cell_type": "code",
   "execution_count": null,
   "id": "c46235b2-6627-4c1a-8021-9fbcb2fe7443",
   "metadata": {},
   "outputs": [],
   "source": [
    "cost_of_living"
   ]
  },
  {
   "cell_type": "code",
   "execution_count": null,
   "id": "c0d12300-64ad-4bdd-801a-73ffe2066ff8",
   "metadata": {},
   "outputs": [],
   "source": [
    "quality_of_life"
   ]
  },
  {
   "cell_type": "markdown",
   "id": "f1033686-40b3-4776-9608-f41ae4642283",
   "metadata": {},
   "source": [
    "From [Numbeo](https://www.numbeo.com/cost-of-living/cpi_explained.jsp):\n",
    "\n",
    "    Cost of living indices are relative to New York City (NYC). Which means that for New York City, each index should be 100(%). If another city has, for example, rent index of 120, it means that on an average in that city rents are 20% more expensive than in New York City. If a city has rent index of 70, that means on average rent in that city is 30% less expensive than in New York City. \n",
    "\n",
    "For more details on the other indices, check Numbeo's website."
   ]
  },
  {
   "cell_type": "markdown",
   "id": "540cddae-9c06-4ccc-9cbf-eaccfa78030e",
   "metadata": {},
   "source": [
    "## 3. Array properties"
   ]
  },
  {
   "cell_type": "markdown",
   "id": "6f55af18-6e61-40b8-9f01-43ecc1b33d91",
   "metadata": {},
   "source": [
    "At this point, because we used pandas to obtain the data from the csv files, what we have are objects called [DataFrames](https://pandas.pydata.org/docs/reference/api/pandas.DataFrame.html):"
   ]
  },
  {
   "cell_type": "code",
   "execution_count": null,
   "id": "095a491d-9669-43ec-8780-c8bce9001d7e",
   "metadata": {},
   "outputs": [],
   "source": [
    "type(quality_of_life)"
   ]
  },
  {
   "cell_type": "markdown",
   "id": "d5d1faae-d94a-4828-b565-39ec254ed815",
   "metadata": {},
   "source": [
    "To create a NumPy array from this data, you can use the `np.array()` function:"
   ]
  },
  {
   "cell_type": "code",
   "execution_count": null,
   "id": "053b6582-c4e0-4cb8-b0e1-30affad456a4",
   "metadata": {},
   "outputs": [],
   "source": [
    "data = np.array(quality_of_life)\n",
    "data"
   ]
  },
  {
   "cell_type": "markdown",
   "id": "0339cdc8-2b65-45a9-8ff0-f2a387c97fb4",
   "metadata": {},
   "source": [
    "The last line containes the expression `dtype=object`. As we mentioned before, what makes NumPy arrays efficient is the fact that it contains homogeneous data, meaning that every entry should have the same data type. Because we tried creating an array with different data types (integer numbers in the first column, character strings in the second, floating point numbers for the others), the only possible way for this array to contain a homogeneous set of data is by using the `object` data type, which is very general and includes all the data described. However, this is clearly as inefficient as using a plain Python list (maybe even worse!).\n",
    "\n",
    "To fix this, let's select only a subset of the data to put in our NumPy array."
   ]
  },
  {
   "cell_type": "code",
   "execution_count": null,
   "id": "37698a0e-4588-4054-8531-c9f51b4e1416",
   "metadata": {},
   "outputs": [],
   "source": [
    "quality_index = np.array(quality_of_life['Quality of Life Index'])\n",
    "quality_index"
   ]
  },
  {
   "cell_type": "markdown",
   "id": "e9cf5620-30b4-4e4d-b5eb-7d1828f7a359",
   "metadata": {},
   "source": [
    "Now, you can check the data type of this new array by querying the `dtype` property of this array:"
   ]
  },
  {
   "cell_type": "code",
   "execution_count": null,
   "id": "aade4b6b-f22a-422b-9957-73c2b88a4a3d",
   "metadata": {},
   "outputs": [],
   "source": [
    "quality_index.dtype"
   ]
  },
  {
   "cell_type": "markdown",
   "id": "ddf7cc52-83a1-442e-8cef-2eb24b572955",
   "metadata": {},
   "source": [
    "As expected, the data type for the `quality_index` array is now `float64`, or 64-bit floating point numbers."
   ]
  },
  {
   "cell_type": "markdown",
   "id": "4d521327-7edd-4188-8a4f-3a484fd1865f",
   "metadata": {},
   "source": [
    "Now, let's look at the \"Rank\" column of our `quality_of_life` DataFrame:"
   ]
  },
  {
   "cell_type": "code",
   "execution_count": null,
   "id": "094fd124-3fde-4477-828c-154bdf97953c",
   "metadata": {},
   "outputs": [],
   "source": [
    "rank = np.array(quality_of_life['Rank'])\n",
    "rank"
   ]
  },
  {
   "cell_type": "code",
   "execution_count": null,
   "id": "21b89ef4-7c37-483c-bb90-b47f2a189c44",
   "metadata": {},
   "outputs": [],
   "source": [
    "rank.dtype"
   ]
  },
  {
   "cell_type": "markdown",
   "id": "86941da9-b796-43b9-9599-f6b49c461d6e",
   "metadata": {},
   "source": [
    "Here we have integer data, but not that we could have selected a different data type to represent these items by using the `dtype` keyword when calling the `np.array()` function. Different data types available can be found [here](dtype documentation)."
   ]
  },
  {
   "cell_type": "code",
   "execution_count": null,
   "id": "d44be863-7d56-4848-ac2b-3e52823e92e5",
   "metadata": {},
   "outputs": [],
   "source": [
    "rank_float = np.array(rank, dtype=np.float64)\n",
    "rank_float"
   ]
  },
  {
   "cell_type": "markdown",
   "id": "8a55b45b-0612-4eea-8d9a-2c98b38c1ca3",
   "metadata": {},
   "source": [
    "### Shape and size"
   ]
  },
  {
   "cell_type": "markdown",
   "id": "0ab5080f-736e-4ff0-b419-271efc0b2772",
   "metadata": {},
   "source": [
    "At this point, we may also be interested in checking for the physical layout of this array, like its size. If you are used to Python lists, you may be tempted to apply the `len` function to this array:"
   ]
  },
  {
   "cell_type": "code",
   "execution_count": null,
   "id": "f2cf60ac-97c6-4fd9-af7f-a2106cf4cde8",
   "metadata": {},
   "outputs": [],
   "source": [
    "len(quality_index)"
   ]
  },
  {
   "cell_type": "markdown",
   "id": "00a72d55-c52b-461b-a524-5efdb578ab4f",
   "metadata": {},
   "source": [
    "However, there are specific properties provided by NumPy for this information:"
   ]
  },
  {
   "cell_type": "markdown",
   "id": "4188f3c9-d3a5-49bf-99d5-8a908fee9fe1",
   "metadata": {},
   "source": [
    "- `.ndim` will tell you the number of axes, or dimensions, of the array.\n",
    "- `.size` will tell you the total number of elements of the array. This is the product of the elements of the array’s shape.\n",
    "- `.shape` will display a tuple of integers that indicate the number of elements stored along each dimension of the array. If, for example, you have a 2-D array with 2 rows and 3 columns, the shape of your array is (2, 3)."
   ]
  },
  {
   "cell_type": "code",
   "execution_count": null,
   "id": "5e82523c-53a5-4586-be24-afcb640c651b",
   "metadata": {},
   "outputs": [],
   "source": [
    "quality_index.ndim"
   ]
  },
  {
   "cell_type": "code",
   "execution_count": null,
   "id": "80c67e26-ba16-4cca-8e76-7731e931c10d",
   "metadata": {},
   "outputs": [],
   "source": [
    "quality_index.size"
   ]
  },
  {
   "cell_type": "code",
   "execution_count": null,
   "id": "fd6cbcf3-36af-4268-aa81-eb94255c5ecb",
   "metadata": {},
   "outputs": [],
   "source": [
    "quality_index.shape"
   ]
  },
  {
   "cell_type": "markdown",
   "id": "8944d7a9-db59-4a17-8858-ed4b55fad8ae",
   "metadata": {},
   "source": [
    "Note that we could also have selected a 2-dimensional subset of the data, by choosing to represent two columns of the initial DataFrame as a NumPy array:"
   ]
  },
  {
   "cell_type": "code",
   "execution_count": null,
   "id": "87089430-2828-4b4c-92ef-c48179562513",
   "metadata": {},
   "outputs": [],
   "source": [
    "quality_safety = np.array(quality_of_life[['Quality of Life Index', 'Safety Index']])"
   ]
  },
  {
   "cell_type": "code",
   "execution_count": null,
   "id": "ac770150-dcfa-4e74-a6b7-ae27070950cf",
   "metadata": {
    "tags": []
   },
   "outputs": [],
   "source": [
    "quality_safety"
   ]
  },
  {
   "cell_type": "markdown",
   "id": "dce57f44-ff63-4303-93fa-2fe0838f823c",
   "metadata": {},
   "source": [
    "Now:"
   ]
  },
  {
   "cell_type": "code",
   "execution_count": null,
   "id": "219dacd0-0c26-4a6c-a888-7b21da666e75",
   "metadata": {},
   "outputs": [],
   "source": [
    "len(quality_safety)"
   ]
  },
  {
   "cell_type": "code",
   "execution_count": null,
   "id": "fa7708e1-733e-43e7-8dd3-0f6132e20347",
   "metadata": {},
   "outputs": [],
   "source": [
    "quality_safety.ndim"
   ]
  },
  {
   "cell_type": "code",
   "execution_count": null,
   "id": "280955dc-a85a-459f-9869-5174a381efcc",
   "metadata": {},
   "outputs": [],
   "source": [
    "quality_safety.size"
   ]
  },
  {
   "cell_type": "code",
   "execution_count": null,
   "id": "4ff763dc-db3f-44c6-a942-70387ec8016c",
   "metadata": {},
   "outputs": [],
   "source": [
    "quality_safety.shape"
   ]
  },
  {
   "cell_type": "markdown",
   "id": "8c757e52-02a6-44a7-ac27-32f426d816da",
   "metadata": {},
   "source": [
    "In this case, it is clear that the `len` function is no longer appropriate, and that NumPy arrays require a bit more information to be understood correctly."
   ]
  },
  {
   "cell_type": "markdown",
   "id": "af73cca5-9db6-40c4-ae36-a696907c81b4",
   "metadata": {},
   "source": [
    "### Exercises"
   ]
  },
  {
   "cell_type": "markdown",
   "id": "c6db0280-5dbe-4b56-8041-6d3203738004",
   "metadata": {},
   "source": [
    "## 4. Basic indexing and manipulation"
   ]
  },
  {
   "cell_type": "markdown",
   "id": "6102293d-1386-493d-8278-60ceacbc8b34",
   "metadata": {},
   "source": [
    "In the original `quality_of_life` table, the data corresponding to the city of Lagos in Nigeria had index 244. Let's consult its data from the current `quality_safety` array:"
   ]
  },
  {
   "cell_type": "code",
   "execution_count": null,
   "id": "11c0a0b0-4393-4cf8-9b84-4627aed12701",
   "metadata": {},
   "outputs": [],
   "source": [
    "quality_safety[244]"
   ]
  },
  {
   "cell_type": "markdown",
   "id": "2c6471f0-cfdd-42cf-bce9-46a043afecf2",
   "metadata": {},
   "source": [
    "Because of the way we built this array, at position 244 we have two items: the Quality of Life Index in the first position, and the Safety Index in the second position. We can access those individually by using the following syntax:"
   ]
  },
  {
   "cell_type": "code",
   "execution_count": null,
   "id": "4b223544-fc84-4ab8-8808-da5505ce1ee6",
   "metadata": {},
   "outputs": [],
   "source": [
    "quality_safety[244, 0]"
   ]
  },
  {
   "cell_type": "markdown",
   "id": "ae89e866-7fe1-4e47-a8d2-fd71a967a71d",
   "metadata": {},
   "source": [
    "We could also use "
   ]
  },
  {
   "cell_type": "code",
   "execution_count": null,
   "id": "1fba1a14-f7e6-4683-89db-d96e0b27a6b3",
   "metadata": {},
   "outputs": [],
   "source": [
    "quality_safety[244][0]"
   ]
  },
  {
   "cell_type": "markdown",
   "id": "af4537c8-dcc8-490d-84e8-a032fa6a7a87",
   "metadata": {},
   "source": [
    "We can also access the extremities of our array:"
   ]
  },
  {
   "cell_type": "code",
   "execution_count": null,
   "id": "f04f9a63-fd68-44c1-ae19-fada98af0b4c",
   "metadata": {},
   "outputs": [],
   "source": [
    "quality_safety[0]"
   ]
  },
  {
   "cell_type": "code",
   "execution_count": null,
   "id": "5a6e7e28-8f0a-4fdd-8cac-a2657311aa80",
   "metadata": {},
   "outputs": [],
   "source": [
    "quality_safety[-1]"
   ]
  },
  {
   "cell_type": "code",
   "execution_count": null,
   "id": "09499828-9788-4edc-ba83-604ce08f5e1c",
   "metadata": {},
   "outputs": [],
   "source": [
    "quality_safety.shape"
   ]
  },
  {
   "cell_type": "markdown",
   "id": "06bb9e98-c50c-4b72-ba1b-85df8157823f",
   "metadata": {},
   "source": [
    "Note that because this is a two-dimensional array, the shape is a 2-item tuple. "
   ]
  },
  {
   "cell_type": "markdown",
   "id": "a9dcda5d-2a85-4937-a234-3621c17adf66",
   "metadata": {},
   "source": [
    "Because the indexing starts at 0, a shape of `(247, 2)` means an index range from 0 to 246, and if we try to access index 247 this will raise an `IndexError`:"
   ]
  },
  {
   "cell_type": "code",
   "execution_count": null,
   "id": "3523932a-d7ce-481b-8608-df22a4667449",
   "metadata": {},
   "outputs": [],
   "source": [
    "quality_safety[247]"
   ]
  },
  {
   "cell_type": "markdown",
   "id": "9939091e-f066-460b-b7fe-fb70d3e48260",
   "metadata": {},
   "source": [
    "### Exercises"
   ]
  },
  {
   "cell_type": "markdown",
   "id": "0923befd-20ae-49ef-a294-ab1642c1dda3",
   "metadata": {},
   "source": [
    "## 5. Operations and built-in utilities"
   ]
  },
  {
   "cell_type": "markdown",
   "id": "d906e4ad-8e79-446e-ab4b-c739827fec4f",
   "metadata": {},
   "source": [
    "Arrays can be operated on as single objects, simplifying the way we manipulate data. Say we wish to increase every item in the array by 1 unit. We could do:"
   ]
  },
  {
   "cell_type": "code",
   "execution_count": null,
   "id": "e805d830-7b4a-43f8-951c-9a0bdc508a8a",
   "metadata": {},
   "outputs": [],
   "source": [
    "for i in range(quality_index.shape[0]):\n",
    "    quality_index[i] += 1"
   ]
  },
  {
   "cell_type": "markdown",
   "id": "9e9f40c6-99b6-4ec0-a1c5-fd5f0e29627d",
   "metadata": {},
   "source": [
    "In general, looping through an array is not necessary or efficient. Because of the vectorization properties of NumPy arrays, we could do instead"
   ]
  },
  {
   "cell_type": "code",
   "execution_count": null,
   "id": "31ddbe46-5e4c-42a7-9b9f-2f84a8209424",
   "metadata": {},
   "outputs": [],
   "source": [
    "quality_index += 1"
   ]
  },
  {
   "cell_type": "markdown",
   "id": "7571d367-e0d4-4e23-86e7-4fdb41e111dc",
   "metadata": {},
   "source": [
    "This is valid for other operations as well."
   ]
  },
  {
   "cell_type": "code",
   "execution_count": null,
   "id": "36eacb31-234e-46c2-bc61-ff5d012f1c08",
   "metadata": {},
   "outputs": [],
   "source": [
    "2*quality_index"
   ]
  },
  {
   "cell_type": "markdown",
   "id": "6d229780-055b-4d28-a10c-afb0c68f9eec",
   "metadata": {},
   "source": [
    "We can also perform operations on pairs of arrays:"
   ]
  },
  {
   "cell_type": "code",
   "execution_count": null,
   "id": "0d1877b1-4920-4c8f-a3a0-1f3471491cd9",
   "metadata": {},
   "outputs": [],
   "source": [
    "quality_index+rank"
   ]
  },
  {
   "cell_type": "markdown",
   "id": "5e9aa325-282b-4852-89d8-cf64046ee122",
   "metadata": {},
   "source": [
    "There are subtleties when dealing with arrays of different shapes, and we will discuss this later."
   ]
  },
  {
   "cell_type": "markdown",
   "id": "a50aa0a5-09ef-46c5-b806-fdf6048f8f0b",
   "metadata": {},
   "source": [
    "Beware: the multiplication symbol `*` means element-by-element multiplication:"
   ]
  },
  {
   "cell_type": "code",
   "execution_count": null,
   "id": "0a7fc99d-3855-4d49-b4ab-26338ed3a31d",
   "metadata": {},
   "outputs": [],
   "source": [
    "product = rank*quality_index"
   ]
  },
  {
   "cell_type": "code",
   "execution_count": null,
   "id": "8a6e42d6-ac00-4098-a058-6877c6dbd3c0",
   "metadata": {},
   "outputs": [],
   "source": [
    "rank.shape"
   ]
  },
  {
   "cell_type": "code",
   "execution_count": null,
   "id": "50dea783-5e41-4c18-97cd-317303af0ab3",
   "metadata": {},
   "outputs": [],
   "source": [
    "quality_index.shape"
   ]
  },
  {
   "cell_type": "code",
   "execution_count": null,
   "id": "149a0ad6-a3f2-4b0e-a1ca-ea7defc2ec1e",
   "metadata": {},
   "outputs": [],
   "source": [
    "product.shape"
   ]
  },
  {
   "cell_type": "markdown",
   "id": "380a613c-6d77-41a4-9651-b2499ce7bda1",
   "metadata": {},
   "source": [
    "To perform a matrix product operation, you can use the operator `@`:"
   ]
  },
  {
   "cell_type": "code",
   "execution_count": null,
   "id": "edbb9ec7-90fc-4711-8d96-163d7f56cb70",
   "metadata": {},
   "outputs": [],
   "source": [
    "rank@quality_index"
   ]
  },
  {
   "cell_type": "markdown",
   "id": "93d9b924-f66e-4114-9538-52bac76deffd",
   "metadata": {},
   "source": [
    "This is the same as "
   ]
  },
  {
   "cell_type": "code",
   "execution_count": null,
   "id": "c642525f-83e4-41d5-bfbc-dcfec1ce9c82",
   "metadata": {},
   "outputs": [],
   "source": [
    "np.dot(rank, quality_index)"
   ]
  },
  {
   "cell_type": "markdown",
   "id": "43998e8b-b357-4e13-b672-42bebf6b8322",
   "metadata": {},
   "source": [
    "There are several built-in utilities that can be applied to a NumPy array. For example, we can compute the maximum and minimum values of an array using"
   ]
  },
  {
   "cell_type": "code",
   "execution_count": null,
   "id": "40e2fdeb-f937-4c54-899f-1c728983086a",
   "metadata": {},
   "outputs": [],
   "source": [
    "np.max(quality_index), np.min(quality_index)"
   ]
  },
  {
   "cell_type": "markdown",
   "id": "008cc099-b3be-4b0a-b2a8-5a2d555ac4b0",
   "metadata": {},
   "source": [
    "Note that we can also pick which axes to compute the maximum or minimum for:"
   ]
  },
  {
   "cell_type": "code",
   "execution_count": null,
   "id": "3cc7f30a-b96d-4940-ae87-0e992bba809b",
   "metadata": {},
   "outputs": [],
   "source": [
    "np.max(quality_safety, axis=0)"
   ]
  },
  {
   "cell_type": "code",
   "execution_count": null,
   "id": "c27587f4-741c-4fc6-89b1-ce5dc4066081",
   "metadata": {},
   "outputs": [],
   "source": [
    "np.max(quality_safety, axis=1)"
   ]
  },
  {
   "cell_type": "markdown",
   "id": "4885cec1-afa0-447f-a277-9ea059e79258",
   "metadata": {},
   "source": [
    "Other functions include:"
   ]
  },
  {
   "cell_type": "code",
   "execution_count": null,
   "id": "ddc89641-96bf-467f-a146-0b8a9e67d75e",
   "metadata": {},
   "outputs": [],
   "source": [
    "np.sum(quality_index)"
   ]
  },
  {
   "cell_type": "code",
   "execution_count": null,
   "id": "4e48f240-9514-4738-8e5e-ff9ca788cd39",
   "metadata": {},
   "outputs": [],
   "source": [
    "np.mean(quality_index)"
   ]
  },
  {
   "cell_type": "markdown",
   "id": "74e775d0-e315-4949-9616-fc4d972c8351",
   "metadata": {},
   "source": [
    "You can also use `np.linspace()` to create an array with values that are spaced linearly in a specified interval:"
   ]
  },
  {
   "cell_type": "code",
   "execution_count": null,
   "id": "802d421a-e25e-49d6-bf53-56880621b1f1",
   "metadata": {},
   "outputs": [],
   "source": [
    "np.linspace(0, 10, num=5)"
   ]
  },
  {
   "cell_type": "markdown",
   "id": "e57b4f0c-7b6c-42ce-bff6-30f0e77d1da2",
   "metadata": {},
   "source": [
    "### Exercises"
   ]
  },
  {
   "cell_type": "markdown",
   "id": "6d53e616",
   "metadata": {},
   "source": [
    "### Adding, removing, and sorting elements"
   ]
  },
  {
   "cell_type": "code",
   "execution_count": null,
   "id": "15b6e693-14c5-43bc-9aca-823a28578667",
   "metadata": {},
   "outputs": [],
   "source": [
    "pollution_index = np.array(quality_of_life['Pollution Index'])\n",
    "cost_index = np.array(quality_of_life['Cost of Living Index'])"
   ]
  },
  {
   "cell_type": "markdown",
   "id": "ff5ded80-9451-43c7-a637-bfd69196e006",
   "metadata": {},
   "source": [
    "- sorting, adding, removing https://numpy.org/devdocs/user/absolute_beginners.html#adding-removing-and-sorting-elements"
   ]
  },
  {
   "cell_type": "markdown",
   "id": "a5598c80-f756-4263-836d-4c7e36cc8877",
   "metadata": {},
   "source": [
    "## Plotting"
   ]
  },
  {
   "cell_type": "code",
   "execution_count": null,
   "id": "d989cc2b-df6d-42e2-9c0f-7fbdae99e0cb",
   "metadata": {},
   "outputs": [],
   "source": [
    "import matplotlib.pyplot as plt"
   ]
  },
  {
   "cell_type": "code",
   "execution_count": null,
   "id": "f0ceb498-485a-4986-b5c8-385214ef29a0",
   "metadata": {},
   "outputs": [],
   "source": [
    "plt.plot(np.arange(len(cost_index)), cost_index)"
   ]
  },
  {
   "cell_type": "markdown",
   "id": "46a3b092",
   "metadata": {},
   "source": [
    "## Saving data for later use with `np.savez`"
   ]
  },
  {
   "cell_type": "code",
   "execution_count": null,
   "id": "56f0ebdd-b283-4c5f-b0df-bc8277a6ff8c",
   "metadata": {},
   "outputs": [],
   "source": [
    "np.savez?"
   ]
  },
  {
   "cell_type": "code",
   "execution_count": null,
   "id": "a34b1a44-9bc2-49af-9cad-56c47b7b3c5d",
   "metadata": {},
   "outputs": [],
   "source": [
    "np.savez('cost_index.npz', cost_index)"
   ]
  },
  {
   "cell_type": "code",
   "execution_count": null,
   "id": "88fa0264-6cc1-43e4-875f-28a2f6233498",
   "metadata": {},
   "outputs": [],
   "source": [
    "!ls"
   ]
  },
  {
   "cell_type": "markdown",
   "id": "0102bcb3-ecf1-46c4-b954-ab2590196665",
   "metadata": {},
   "source": [
    "---"
   ]
  },
  {
   "cell_type": "markdown",
   "id": "b16ead73-4fd9-47e0-b56c-8076c28ee84c",
   "metadata": {},
   "source": [
    "## Read more"
   ]
  },
  {
   "cell_type": "markdown",
   "id": "f931563a-39e3-4d93-848e-599fbeabcc4c",
   "metadata": {},
   "source": [
    "- [NumPy functions and methods overview](https://numpy.org/devdocs/user/quickstart.html#functions-and-methods-overview)\n",
    "- [NumPy Quickstart guide](https://numpy.org/devdocs/user/quickstart.html)\n",
    "- [NumPy for absolute beginners](https://numpy.org/devdocs/user/absolute_beginners.html)"
   ]
  },
  {
   "cell_type": "code",
   "execution_count": null,
   "id": "3d29c1ae-c961-427d-9924-c127e032915a",
   "metadata": {},
   "outputs": [],
   "source": []
  }
 ],
 "metadata": {
  "kernelspec": {
   "display_name": "Python 3 (ipykernel)",
   "language": "python",
   "name": "python3"
  },
  "language_info": {
   "codemirror_mode": {
    "name": "ipython",
    "version": 3
   },
   "file_extension": ".py",
   "mimetype": "text/x-python",
   "name": "python",
   "nbconvert_exporter": "python",
   "pygments_lexer": "ipython3",
   "version": "3.9.6"
  }
 },
 "nbformat": 4,
 "nbformat_minor": 5
}
