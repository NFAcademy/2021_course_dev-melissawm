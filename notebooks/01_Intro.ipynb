{
 "cells": [
  {
   "cell_type": "markdown",
   "id": "5efedba1",
   "metadata": {},
   "source": [
    "# Intro"
   ]
  },
  {
   "cell_type": "markdown",
   "id": "83d77baf",
   "metadata": {},
   "source": [
    "In this notebook, you will learn about\n",
    "- Getting data from a csv file\n",
    "- Basic indexing and manipulation\n",
    "- Saving data for later use with `np.savez`\n",
    "- Basic built-in NumPy tools for plotting and integrating with Matplotlib."
   ]
  },
  {
   "cell_type": "markdown",
   "id": "f74a0a09",
   "metadata": {},
   "source": [
    "---"
   ]
  },
  {
   "cell_type": "markdown",
   "id": "c9ce28a7",
   "metadata": {},
   "source": [
    "## 1. What is NumPy?"
   ]
  },
  {
   "cell_type": "markdown",
   "id": "90e94d55",
   "metadata": {},
   "source": [
    "NumPy (Numerical Python) is an open source Python library that’s used in almost every field of science and engineering. It’s the universal standard for working with numerical data in Python, and it’s at the core of the scientific Python and PyData ecosystems. NumPy users include everyone from beginning coders to experienced researchers doing state-of-the-art scientific and industrial research and development. The NumPy API is used extensively in Pandas, SciPy, Matplotlib, scikit-learn, scikit-image and most other data science and scientific Python packages.\n",
    "\n",
    "The NumPy library contains multidimensional array and matrix data structures (you’ll find more information about this in later sections). It provides ndarray, a homogeneous n-dimensional array object, with methods to efficiently operate on it. NumPy can be used to perform a wide variety of mathematical operations on arrays. It adds powerful data structures to Python that guarantee efficient calculations with arrays and matrices and it supplies an enormous library of high-level mathematical functions that operate on these arrays and matrices.\n",
    "\n",
    "Learn more about NumPy [here!](https://numpy.org/devdocs/user/whatisnumpy.html#whatisnumpy)"
   ]
  },
  {
   "cell_type": "markdown",
   "id": "636ff5cc",
   "metadata": {},
   "source": [
    "To access NumPy and its functions import it in your Python code like this:"
   ]
  },
  {
   "cell_type": "code",
   "execution_count": 1,
   "id": "8130494c",
   "metadata": {},
   "outputs": [],
   "source": [
    "import numpy as np"
   ]
  },
  {
   "cell_type": "markdown",
   "id": "a61d5eb6",
   "metadata": {},
   "source": [
    "We shorten the imported name to `np` for better readability of code using NumPy. This is a widely adopted convention that you should follow so that anyone working with your code can easily understand it."
   ]
  },
  {
   "cell_type": "markdown",
   "id": "06fd2f1c",
   "metadata": {},
   "source": [
    "### What's the difference between a Python list and a NumPy array?"
   ]
  },
  {
   "cell_type": "markdown",
   "id": "d0a8d1cd",
   "metadata": {},
   "source": [
    "NumPy gives you an enormous range of fast and efficient ways of creating arrays and manipulating numerical data inside them. While a Python list can contain different data types within a single list, all of the elements in a NumPy array should be homogeneous. The mathematical operations that are meant to be performed on arrays would be extremely inefficient if the arrays weren’t homogeneous."
   ]
  },
  {
   "cell_type": "markdown",
   "id": "31d808c3",
   "metadata": {},
   "source": [
    "### Why use NumPy?"
   ]
  },
  {
   "cell_type": "markdown",
   "id": "311f149a",
   "metadata": {},
   "source": [
    "NumPy arrays are faster and more compact than Python lists. An array consumes less memory and is convenient to use. NumPy uses much less memory to store data and it provides a mechanism of specifying the data types. This allows the code to be optimized even further."
   ]
  },
  {
   "cell_type": "markdown",
   "id": "9379880f",
   "metadata": {},
   "source": [
    "### What is an array?"
   ]
  },
  {
   "cell_type": "markdown",
   "id": "c8eaf34b",
   "metadata": {},
   "source": [
    "An array is a central data structure of the NumPy library. An array is a grid of values and it contains information about the raw data, how to locate an element, and how to interpret an element. It has a grid of elements that can be indexed in various ways. The elements are all of the same type, referred to as the array dtype.\n",
    "\n",
    "An array can be indexed by a tuple of nonnegative integers, by booleans, by another array, or by integers. The rank of the array is the number of dimensions. The shape of the array is a tuple of integers giving the size of the array along each dimension.\n",
    "\n",
    "One way we can initialize NumPy arrays is from Python lists, using nested lists for two- or higher-dimensional data. For this, we can use the `np.array()` function.\n",
    "\n",
    "For example:"
   ]
  },
  {
   "cell_type": "code",
   "execution_count": 2,
   "id": "10b89743",
   "metadata": {},
   "outputs": [],
   "source": [
    "a = np.array([1, 2, 3, 4, 5, 6])"
   ]
  },
  {
   "cell_type": "markdown",
   "id": "972c1993",
   "metadata": {},
   "source": [
    "or:"
   ]
  },
  {
   "cell_type": "code",
   "execution_count": 3,
   "id": "bf4b4387",
   "metadata": {},
   "outputs": [],
   "source": [
    "a = np.array([[1, 2, 3, 4], \n",
    "              [5, 6, 7, 8], \n",
    "              [9, 10, 11, 12]])"
   ]
  },
  {
   "cell_type": "markdown",
   "id": "3f0f2ec7",
   "metadata": {},
   "source": [
    "We can access the elements in the array using square brackets. When you’re accessing elements, remember that indexing in NumPy starts at 0. That means that if you want to access the first element in your array, you’ll be accessing element “0”."
   ]
  },
  {
   "cell_type": "code",
   "execution_count": 4,
   "id": "5a32e7a8",
   "metadata": {},
   "outputs": [
    {
     "name": "stdout",
     "output_type": "stream",
     "text": [
      "[1 2 3 4]\n"
     ]
    }
   ],
   "source": [
    "print(a[0])"
   ]
  },
  {
   "cell_type": "markdown",
   "id": "db852c39",
   "metadata": {},
   "source": [
    "You might occasionally hear an array referred to as a “ndarray,” which is shorthand for “N-dimensional array.” An N-dimensional array is simply an array with any number of dimensions. You might also hear 1-D, or one-dimensional array, 2-D, or two-dimensional array, and so on. The NumPy ndarray class is used to represent both matrices and vectors. A vector is an array with a single dimension (there’s no difference between row and column vectors), while a matrix refers to an array with two dimensions. For 3-D or higher dimensional arrays, the term tensor is also commonly used."
   ]
  },
  {
   "cell_type": "markdown",
   "id": "2f4a80a6",
   "metadata": {},
   "source": [
    "![TODO](https://www.oreilly.com/library/view/elegant-scipy/9781491922927/assets/elsp_0105.png width=100px)"
   ]
  },
  {
   "cell_type": "markdown",
   "id": "1a45fe27",
   "metadata": {},
   "source": [
    "### What are the attributes of an array?"
   ]
  },
  {
   "cell_type": "markdown",
   "id": "6796256f",
   "metadata": {},
   "source": [
    "An array is usually a fixed-size container of items of the same type and size. The number of dimensions and items in an array is defined by its shape. The shape of an array is a tuple of non-negative integers that specify the sizes of each dimension.\n",
    "\n",
    "In NumPy, dimensions are called axes. This means that if you have a 2D array that looks like this:\n",
    "\n",
    "```python\n",
    "[[0., 0., 0.],\n",
    " [1., 1., 1.]]\n",
    "```\n",
    "\n",
    "Your array has 2 axes. The first axis has a length of 2 and the second axis has a length of 3.\n",
    "\n",
    "Just like in other Python container objects, the contents of an array can be accessed and modified by indexing or slicing the array. Unlike the typical container objects, different arrays can share the same data, so changes made on one array might be visible in another.\n",
    "\n",
    "Array attributes reflect information intrinsic to the array itself. If you need to get, or even set, properties of an array without creating a new array, you can often access an array through its attributes."
   ]
  },
  {
   "cell_type": "markdown",
   "id": "81238320",
   "metadata": {},
   "source": [
    "## 2. A problem to explore"
   ]
  },
  {
   "cell_type": "markdown",
   "id": "569baae1",
   "metadata": {},
   "source": [
    "From [Wikipedia](https://en.wikipedia.org/wiki/Cost_of_living):\n",
    "    \n",
    "    Cost of living is the cost of maintaining a certain standard of living. Changes in the cost of living over time are often operationalized in a cost-of-living index. Cost of living calculations are also used to compare the cost of maintaining a certain standard of living in different geographic areas. Differences in cost of living between locations can also be measured in terms of purchasing power parity rates. \n",
    "    \n",
    "From [Numbeo](https://www.numbeo.com), it is possible to obtain data about the cost of living and quality of life indices for several cities across the world as a `.csv` (comma separated values) file. We will explore this data using NumPy and its array manipulating capabilities."
   ]
  },
  {
   "cell_type": "markdown",
   "id": "b1222fee",
   "metadata": {},
   "source": [
    "### Getting data from a `.csv` file"
   ]
  },
  {
   "cell_type": "markdown",
   "id": "5264afcc",
   "metadata": {},
   "source": [
    "CSV files are standard in data analysis and other applications. Because we are mostly interested in the array manipulations, we will use the [pandas library](https://pandas.pydata.org/), which is the industry standard, to obtain the data and later convert it into NumPy arrays. "
   ]
  },
  {
   "cell_type": "code",
   "execution_count": 5,
   "id": "26bdd56a",
   "metadata": {},
   "outputs": [],
   "source": [
    "import pandas as pd\n",
    "\n",
    "cost_of_living = pd.read_csv('../data/Cost_of_living_index.csv')\n",
    "quality_of_life = pd.read_csv('../data/quality_of_life_index.csv')"
   ]
  },
  {
   "cell_type": "markdown",
   "id": "0a7af0e6",
   "metadata": {},
   "source": [
    "First, let's explore what is in each file:"
   ]
  },
  {
   "cell_type": "code",
   "execution_count": 6,
   "id": "b24968cc",
   "metadata": {},
   "outputs": [
    {
     "data": {
      "text/html": [
       "<div>\n",
       "<style scoped>\n",
       "    .dataframe tbody tr th:only-of-type {\n",
       "        vertical-align: middle;\n",
       "    }\n",
       "\n",
       "    .dataframe tbody tr th {\n",
       "        vertical-align: top;\n",
       "    }\n",
       "\n",
       "    .dataframe thead th {\n",
       "        text-align: right;\n",
       "    }\n",
       "</style>\n",
       "<table border=\"1\" class=\"dataframe\">\n",
       "  <thead>\n",
       "    <tr style=\"text-align: right;\">\n",
       "      <th></th>\n",
       "      <th>Rank</th>\n",
       "      <th>City</th>\n",
       "      <th>Cost of Living Index</th>\n",
       "      <th>Rent Index</th>\n",
       "      <th>Cost of Living Plus Rent Index</th>\n",
       "      <th>Groceries Index</th>\n",
       "      <th>Restaurant Price Index</th>\n",
       "      <th>Local Purchasing Power Index</th>\n",
       "    </tr>\n",
       "  </thead>\n",
       "  <tbody>\n",
       "    <tr>\n",
       "      <th>0</th>\n",
       "      <td>1</td>\n",
       "      <td>Hamilton, Bermuda</td>\n",
       "      <td>137.56</td>\n",
       "      <td>103.03</td>\n",
       "      <td>121.21</td>\n",
       "      <td>126.56</td>\n",
       "      <td>151.77</td>\n",
       "      <td>114.19</td>\n",
       "    </tr>\n",
       "    <tr>\n",
       "      <th>1</th>\n",
       "      <td>2</td>\n",
       "      <td>Zurich, Switzerland</td>\n",
       "      <td>128.65</td>\n",
       "      <td>62.62</td>\n",
       "      <td>97.39</td>\n",
       "      <td>127.35</td>\n",
       "      <td>127.14</td>\n",
       "      <td>142.39</td>\n",
       "    </tr>\n",
       "    <tr>\n",
       "      <th>2</th>\n",
       "      <td>3</td>\n",
       "      <td>Basel, Switzerland</td>\n",
       "      <td>126.89</td>\n",
       "      <td>46.14</td>\n",
       "      <td>88.66</td>\n",
       "      <td>120.44</td>\n",
       "      <td>129.10</td>\n",
       "      <td>141.48</td>\n",
       "    </tr>\n",
       "    <tr>\n",
       "      <th>3</th>\n",
       "      <td>4</td>\n",
       "      <td>Lausanne, Switzerland</td>\n",
       "      <td>119.62</td>\n",
       "      <td>50.35</td>\n",
       "      <td>86.83</td>\n",
       "      <td>116.35</td>\n",
       "      <td>122.83</td>\n",
       "      <td>132.58</td>\n",
       "    </tr>\n",
       "    <tr>\n",
       "      <th>4</th>\n",
       "      <td>5</td>\n",
       "      <td>Bern, Switzerland</td>\n",
       "      <td>118.42</td>\n",
       "      <td>39.22</td>\n",
       "      <td>80.93</td>\n",
       "      <td>114.54</td>\n",
       "      <td>114.86</td>\n",
       "      <td>115.48</td>\n",
       "    </tr>\n",
       "    <tr>\n",
       "      <th>...</th>\n",
       "      <td>...</td>\n",
       "      <td>...</td>\n",
       "      <td>...</td>\n",
       "      <td>...</td>\n",
       "      <td>...</td>\n",
       "      <td>...</td>\n",
       "      <td>...</td>\n",
       "      <td>...</td>\n",
       "    </tr>\n",
       "    <tr>\n",
       "      <th>531</th>\n",
       "      <td>532</td>\n",
       "      <td>Vadodara, India</td>\n",
       "      <td>22.28</td>\n",
       "      <td>3.78</td>\n",
       "      <td>13.52</td>\n",
       "      <td>22.26</td>\n",
       "      <td>14.43</td>\n",
       "      <td>74.59</td>\n",
       "    </tr>\n",
       "    <tr>\n",
       "      <th>532</th>\n",
       "      <td>533</td>\n",
       "      <td>Kochi, India</td>\n",
       "      <td>21.73</td>\n",
       "      <td>5.45</td>\n",
       "      <td>14.02</td>\n",
       "      <td>21.93</td>\n",
       "      <td>12.20</td>\n",
       "      <td>73.42</td>\n",
       "    </tr>\n",
       "    <tr>\n",
       "      <th>533</th>\n",
       "      <td>534</td>\n",
       "      <td>Visakhapatnam, India</td>\n",
       "      <td>21.52</td>\n",
       "      <td>4.26</td>\n",
       "      <td>13.35</td>\n",
       "      <td>21.09</td>\n",
       "      <td>17.09</td>\n",
       "      <td>55.47</td>\n",
       "    </tr>\n",
       "    <tr>\n",
       "      <th>534</th>\n",
       "      <td>535</td>\n",
       "      <td>Navi Mumbai, India</td>\n",
       "      <td>19.30</td>\n",
       "      <td>4.70</td>\n",
       "      <td>12.39</td>\n",
       "      <td>19.21</td>\n",
       "      <td>12.55</td>\n",
       "      <td>138.06</td>\n",
       "    </tr>\n",
       "    <tr>\n",
       "      <th>535</th>\n",
       "      <td>536</td>\n",
       "      <td>Thiruvananthapuram, India</td>\n",
       "      <td>19.26</td>\n",
       "      <td>4.69</td>\n",
       "      <td>12.36</td>\n",
       "      <td>18.14</td>\n",
       "      <td>11.93</td>\n",
       "      <td>68.15</td>\n",
       "    </tr>\n",
       "  </tbody>\n",
       "</table>\n",
       "<p>536 rows × 8 columns</p>\n",
       "</div>"
      ],
      "text/plain": [
       "     Rank                       City  Cost of Living Index  Rent Index  \\\n",
       "0       1          Hamilton, Bermuda                137.56      103.03   \n",
       "1       2        Zurich, Switzerland                128.65       62.62   \n",
       "2       3         Basel, Switzerland                126.89       46.14   \n",
       "3       4      Lausanne, Switzerland                119.62       50.35   \n",
       "4       5          Bern, Switzerland                118.42       39.22   \n",
       "..    ...                        ...                   ...         ...   \n",
       "531   532            Vadodara, India                 22.28        3.78   \n",
       "532   533               Kochi, India                 21.73        5.45   \n",
       "533   534       Visakhapatnam, India                 21.52        4.26   \n",
       "534   535         Navi Mumbai, India                 19.30        4.70   \n",
       "535   536  Thiruvananthapuram, India                 19.26        4.69   \n",
       "\n",
       "     Cost of Living Plus Rent Index  Groceries Index  Restaurant Price Index  \\\n",
       "0                            121.21           126.56                  151.77   \n",
       "1                             97.39           127.35                  127.14   \n",
       "2                             88.66           120.44                  129.10   \n",
       "3                             86.83           116.35                  122.83   \n",
       "4                             80.93           114.54                  114.86   \n",
       "..                              ...              ...                     ...   \n",
       "531                           13.52            22.26                   14.43   \n",
       "532                           14.02            21.93                   12.20   \n",
       "533                           13.35            21.09                   17.09   \n",
       "534                           12.39            19.21                   12.55   \n",
       "535                           12.36            18.14                   11.93   \n",
       "\n",
       "     Local Purchasing Power Index  \n",
       "0                          114.19  \n",
       "1                          142.39  \n",
       "2                          141.48  \n",
       "3                          132.58  \n",
       "4                          115.48  \n",
       "..                            ...  \n",
       "531                         74.59  \n",
       "532                         73.42  \n",
       "533                         55.47  \n",
       "534                        138.06  \n",
       "535                         68.15  \n",
       "\n",
       "[536 rows x 8 columns]"
      ]
     },
     "execution_count": 6,
     "metadata": {},
     "output_type": "execute_result"
    }
   ],
   "source": [
    "cost_of_living"
   ]
  },
  {
   "cell_type": "code",
   "execution_count": 7,
   "id": "dc08ee9a",
   "metadata": {},
   "outputs": [
    {
     "data": {
      "text/html": [
       "<div>\n",
       "<style scoped>\n",
       "    .dataframe tbody tr th:only-of-type {\n",
       "        vertical-align: middle;\n",
       "    }\n",
       "\n",
       "    .dataframe tbody tr th {\n",
       "        vertical-align: top;\n",
       "    }\n",
       "\n",
       "    .dataframe thead th {\n",
       "        text-align: right;\n",
       "    }\n",
       "</style>\n",
       "<table border=\"1\" class=\"dataframe\">\n",
       "  <thead>\n",
       "    <tr style=\"text-align: right;\">\n",
       "      <th></th>\n",
       "      <th>Rank</th>\n",
       "      <th>City</th>\n",
       "      <th>Quality of Life Index</th>\n",
       "      <th>Purchasing Power Index</th>\n",
       "      <th>Safety Index</th>\n",
       "      <th>Health Care Index</th>\n",
       "      <th>Cost of Living Index</th>\n",
       "      <th>Property Price to Income Ratio</th>\n",
       "      <th>Traffic Commute Time Index</th>\n",
       "      <th>Pollution Index</th>\n",
       "      <th>Climate Index</th>\n",
       "    </tr>\n",
       "  </thead>\n",
       "  <tbody>\n",
       "    <tr>\n",
       "      <th>0</th>\n",
       "      <td>1</td>\n",
       "      <td>Canberra, Australia</td>\n",
       "      <td>204.86</td>\n",
       "      <td>98.62</td>\n",
       "      <td>77.66</td>\n",
       "      <td>81.98</td>\n",
       "      <td>76.12</td>\n",
       "      <td>5.10</td>\n",
       "      <td>24.09</td>\n",
       "      <td>13.52</td>\n",
       "      <td>82.72</td>\n",
       "    </tr>\n",
       "    <tr>\n",
       "      <th>1</th>\n",
       "      <td>2</td>\n",
       "      <td>Adelaide, Australia</td>\n",
       "      <td>202.30</td>\n",
       "      <td>96.69</td>\n",
       "      <td>71.25</td>\n",
       "      <td>80.61</td>\n",
       "      <td>74.32</td>\n",
       "      <td>4.21</td>\n",
       "      <td>24.18</td>\n",
       "      <td>18.26</td>\n",
       "      <td>94.96</td>\n",
       "    </tr>\n",
       "    <tr>\n",
       "      <th>2</th>\n",
       "      <td>3</td>\n",
       "      <td>Raleigh, NC, United States</td>\n",
       "      <td>202.09</td>\n",
       "      <td>131.63</td>\n",
       "      <td>65.12</td>\n",
       "      <td>75.64</td>\n",
       "      <td>66.84</td>\n",
       "      <td>3.18</td>\n",
       "      <td>32.79</td>\n",
       "      <td>22.61</td>\n",
       "      <td>83.88</td>\n",
       "    </tr>\n",
       "    <tr>\n",
       "      <th>3</th>\n",
       "      <td>4</td>\n",
       "      <td>Wellington, New Zealand</td>\n",
       "      <td>195.73</td>\n",
       "      <td>86.22</td>\n",
       "      <td>71.78</td>\n",
       "      <td>74.90</td>\n",
       "      <td>77.15</td>\n",
       "      <td>6.46</td>\n",
       "      <td>27.74</td>\n",
       "      <td>13.69</td>\n",
       "      <td>97.68</td>\n",
       "    </tr>\n",
       "    <tr>\n",
       "      <th>4</th>\n",
       "      <td>5</td>\n",
       "      <td>Charlotte, NC, United States</td>\n",
       "      <td>195.65</td>\n",
       "      <td>140.43</td>\n",
       "      <td>55.07</td>\n",
       "      <td>74.62</td>\n",
       "      <td>70.98</td>\n",
       "      <td>2.32</td>\n",
       "      <td>35.09</td>\n",
       "      <td>28.44</td>\n",
       "      <td>84.05</td>\n",
       "    </tr>\n",
       "    <tr>\n",
       "      <th>...</th>\n",
       "      <td>...</td>\n",
       "      <td>...</td>\n",
       "      <td>...</td>\n",
       "      <td>...</td>\n",
       "      <td>...</td>\n",
       "      <td>...</td>\n",
       "      <td>...</td>\n",
       "      <td>...</td>\n",
       "      <td>...</td>\n",
       "      <td>...</td>\n",
       "      <td>...</td>\n",
       "    </tr>\n",
       "    <tr>\n",
       "      <th>242</th>\n",
       "      <td>243</td>\n",
       "      <td>Rio de Janeiro, Brazil</td>\n",
       "      <td>64.61</td>\n",
       "      <td>18.38</td>\n",
       "      <td>22.37</td>\n",
       "      <td>44.63</td>\n",
       "      <td>37.42</td>\n",
       "      <td>26.81</td>\n",
       "      <td>51.40</td>\n",
       "      <td>67.40</td>\n",
       "      <td>88.22</td>\n",
       "    </tr>\n",
       "    <tr>\n",
       "      <th>243</th>\n",
       "      <td>244</td>\n",
       "      <td>Dhaka, Bangladesh</td>\n",
       "      <td>53.31</td>\n",
       "      <td>21.71</td>\n",
       "      <td>35.33</td>\n",
       "      <td>39.97</td>\n",
       "      <td>35.55</td>\n",
       "      <td>17.70</td>\n",
       "      <td>58.62</td>\n",
       "      <td>93.33</td>\n",
       "      <td>71.29</td>\n",
       "    </tr>\n",
       "    <tr>\n",
       "      <th>244</th>\n",
       "      <td>245</td>\n",
       "      <td>Lagos, Nigeria</td>\n",
       "      <td>49.58</td>\n",
       "      <td>8.69</td>\n",
       "      <td>34.43</td>\n",
       "      <td>46.04</td>\n",
       "      <td>35.99</td>\n",
       "      <td>13.15</td>\n",
       "      <td>66.78</td>\n",
       "      <td>89.46</td>\n",
       "      <td>60.75</td>\n",
       "    </tr>\n",
       "    <tr>\n",
       "      <th>245</th>\n",
       "      <td>246</td>\n",
       "      <td>Manila, Philippines</td>\n",
       "      <td>45.45</td>\n",
       "      <td>19.55</td>\n",
       "      <td>35.34</td>\n",
       "      <td>63.07</td>\n",
       "      <td>41.58</td>\n",
       "      <td>34.44</td>\n",
       "      <td>54.36</td>\n",
       "      <td>89.86</td>\n",
       "      <td>61.23</td>\n",
       "    </tr>\n",
       "    <tr>\n",
       "      <th>246</th>\n",
       "      <td>247</td>\n",
       "      <td>Tehran, Iran</td>\n",
       "      <td>35.88</td>\n",
       "      <td>12.27</td>\n",
       "      <td>45.09</td>\n",
       "      <td>52.77</td>\n",
       "      <td>35.04</td>\n",
       "      <td>52.16</td>\n",
       "      <td>52.90</td>\n",
       "      <td>81.34</td>\n",
       "      <td>70.99</td>\n",
       "    </tr>\n",
       "  </tbody>\n",
       "</table>\n",
       "<p>247 rows × 11 columns</p>\n",
       "</div>"
      ],
      "text/plain": [
       "     Rank                          City  Quality of Life Index  \\\n",
       "0       1           Canberra, Australia                 204.86   \n",
       "1       2           Adelaide, Australia                 202.30   \n",
       "2       3    Raleigh, NC, United States                 202.09   \n",
       "3       4       Wellington, New Zealand                 195.73   \n",
       "4       5  Charlotte, NC, United States                 195.65   \n",
       "..    ...                           ...                    ...   \n",
       "242   243        Rio de Janeiro, Brazil                  64.61   \n",
       "243   244             Dhaka, Bangladesh                  53.31   \n",
       "244   245                Lagos, Nigeria                  49.58   \n",
       "245   246           Manila, Philippines                  45.45   \n",
       "246   247                  Tehran, Iran                  35.88   \n",
       "\n",
       "     Purchasing Power Index  Safety Index  Health Care Index  \\\n",
       "0                     98.62         77.66              81.98   \n",
       "1                     96.69         71.25              80.61   \n",
       "2                    131.63         65.12              75.64   \n",
       "3                     86.22         71.78              74.90   \n",
       "4                    140.43         55.07              74.62   \n",
       "..                      ...           ...                ...   \n",
       "242                   18.38         22.37              44.63   \n",
       "243                   21.71         35.33              39.97   \n",
       "244                    8.69         34.43              46.04   \n",
       "245                   19.55         35.34              63.07   \n",
       "246                   12.27         45.09              52.77   \n",
       "\n",
       "     Cost of Living Index  Property Price to Income Ratio  \\\n",
       "0                   76.12                            5.10   \n",
       "1                   74.32                            4.21   \n",
       "2                   66.84                            3.18   \n",
       "3                   77.15                            6.46   \n",
       "4                   70.98                            2.32   \n",
       "..                    ...                             ...   \n",
       "242                 37.42                           26.81   \n",
       "243                 35.55                           17.70   \n",
       "244                 35.99                           13.15   \n",
       "245                 41.58                           34.44   \n",
       "246                 35.04                           52.16   \n",
       "\n",
       "     Traffic Commute Time Index  Pollution Index  Climate Index  \n",
       "0                         24.09            13.52          82.72  \n",
       "1                         24.18            18.26          94.96  \n",
       "2                         32.79            22.61          83.88  \n",
       "3                         27.74            13.69          97.68  \n",
       "4                         35.09            28.44          84.05  \n",
       "..                          ...              ...            ...  \n",
       "242                       51.40            67.40          88.22  \n",
       "243                       58.62            93.33          71.29  \n",
       "244                       66.78            89.46          60.75  \n",
       "245                       54.36            89.86          61.23  \n",
       "246                       52.90            81.34          70.99  \n",
       "\n",
       "[247 rows x 11 columns]"
      ]
     },
     "execution_count": 7,
     "metadata": {},
     "output_type": "execute_result"
    }
   ],
   "source": [
    "quality_of_life"
   ]
  },
  {
   "cell_type": "markdown",
   "id": "8270ef65",
   "metadata": {},
   "source": [
    "From [Numbeo](https://www.numbeo.com/cost-of-living/cpi_explained.jsp):\n",
    "\n",
    "    Cost of living indices are relative to New York City (NYC). Which means that for New York City, each index should be 100(%). If another city has, for example, rent index of 120, it means that on an average in that city rents are 20% more expensive than in New York City. If a city has rent index of 70, that means on average rent in that city is 30% less expensive than in New York City. \n",
    "\n",
    "For more details on the other indices, check Numbeo's website."
   ]
  },
  {
   "cell_type": "markdown",
   "id": "93be2b7b",
   "metadata": {},
   "source": [
    "## 3. Array properties"
   ]
  },
  {
   "cell_type": "markdown",
   "id": "603021e7",
   "metadata": {},
   "source": [
    "At this point, because we used pandas to obtain the data from the csv files, what we have are objects called [DataFrames](https://pandas.pydata.org/docs/reference/api/pandas.DataFrame.html):"
   ]
  },
  {
   "cell_type": "code",
   "execution_count": 8,
   "id": "31267541",
   "metadata": {},
   "outputs": [
    {
     "data": {
      "text/plain": [
       "pandas.core.frame.DataFrame"
      ]
     },
     "execution_count": 8,
     "metadata": {},
     "output_type": "execute_result"
    }
   ],
   "source": [
    "type(quality_of_life)"
   ]
  },
  {
   "cell_type": "markdown",
   "id": "8409912e",
   "metadata": {},
   "source": [
    "To create a NumPy array from this data, you can use the `np.array()` function:"
   ]
  },
  {
   "cell_type": "code",
   "execution_count": 9,
   "id": "03969711",
   "metadata": {},
   "outputs": [
    {
     "data": {
      "text/plain": [
       "array([[1, 'Canberra, Australia', 204.86, ..., 24.09, 13.52, 82.72],\n",
       "       [2, 'Adelaide, Australia', 202.3, ..., 24.18, 18.26, 94.96],\n",
       "       [3, 'Raleigh, NC, United States', 202.09, ..., 32.79, 22.61,\n",
       "        83.88],\n",
       "       ...,\n",
       "       [245, 'Lagos, Nigeria', 49.58, ..., 66.78, 89.46, 60.75],\n",
       "       [246, 'Manila, Philippines', 45.45, ..., 54.36, 89.86, 61.23],\n",
       "       [247, 'Tehran, Iran', 35.88, ..., 52.9, 81.34, 70.99]],\n",
       "      dtype=object)"
      ]
     },
     "execution_count": 9,
     "metadata": {},
     "output_type": "execute_result"
    }
   ],
   "source": [
    "data = np.array(quality_of_life)\n",
    "data"
   ]
  },
  {
   "cell_type": "markdown",
   "id": "284f5a0c",
   "metadata": {},
   "source": [
    "The last line containes the expression `dtype=object`. As we mentioned before, what makes NumPy arrays efficient is the fact that it contains homogeneous data, meaning that every entry should have the same data type. Because we tried creating an array with different data types (integer numbers in the first column, character strings in the second, floating point numbers for the others), the only possible way for this array to contain a homogeneous set of data is by using the `object` data type, which is very general and includes all the data described. However, this is clearly as inefficient as using a plain Python list (maybe even worse!).\n",
    "\n",
    "To fix this, let's select only a subset of the data to put in our NumPy array."
   ]
  },
  {
   "cell_type": "code",
   "execution_count": 10,
   "id": "5967be71",
   "metadata": {},
   "outputs": [
    {
     "data": {
      "text/plain": [
       "array([204.86, 202.3 , 202.09, 195.73, 195.65, 194.03, 192.97, 191.33,\n",
       "       190.39, 190.38, 189.85, 189.49, 189.36, 187.7 , 186.38, 185.99,\n",
       "       184.49, 184.01, 183.48, 183.47, 182.79, 182.63, 182.12, 181.27,\n",
       "       180.95, 180.52, 180.  , 179.84, 178.91, 177.79, 177.71, 177.15,\n",
       "       176.83, 176.21, 175.6 , 175.06, 174.77, 174.71, 174.38, 173.92,\n",
       "       173.77, 173.68, 173.43, 173.32, 173.21, 173.08, 172.88, 172.84,\n",
       "       172.67, 172.12, 171.84, 171.61, 170.94, 170.88, 169.67, 169.57,\n",
       "       169.46, 168.61, 168.6 , 168.58, 167.62, 166.64, 166.62, 166.41,\n",
       "       166.36, 165.77, 165.38, 165.05, 164.74, 164.63, 164.58, 164.46,\n",
       "       164.41, 163.78, 163.76, 163.52, 163.13, 162.82, 162.46, 162.01,\n",
       "       161.93, 161.11, 161.11, 160.87, 160.77, 160.7 , 160.1 , 160.01,\n",
       "       159.21, 159.1 , 158.39, 158.14, 158.01, 157.58, 156.55, 155.88,\n",
       "       155.7 , 155.55, 155.3 , 153.81, 152.75, 152.59, 152.2 , 152.18,\n",
       "       152.07, 150.84, 150.34, 150.06, 149.5 , 149.32, 149.17, 149.09,\n",
       "       148.97, 148.93, 148.81, 146.71, 146.45, 146.38, 146.18, 146.13,\n",
       "       145.66, 145.46, 145.25, 145.17, 143.89, 143.67, 143.3 , 142.78,\n",
       "       141.89, 140.85, 140.76, 140.38, 140.12, 140.09, 139.99, 139.73,\n",
       "       139.54, 139.53, 139.06, 138.82, 138.61, 138.6 , 137.01, 136.26,\n",
       "       135.18, 135.18, 133.36, 132.59, 132.26, 131.14, 130.67, 129.89,\n",
       "       128.86, 128.37, 128.2 , 124.22, 123.24, 123.24, 123.06, 122.84,\n",
       "       122.63, 122.51, 122.33, 122.17, 122.04, 122.01, 121.45, 121.17,\n",
       "       121.02, 120.78, 120.08, 119.28, 118.88, 118.27, 117.55, 117.42,\n",
       "       117.34, 116.49, 116.31, 116.02, 115.86, 115.37, 115.06, 114.62,\n",
       "       113.82, 113.14, 112.31, 112.17, 111.96, 110.04, 109.62, 109.08,\n",
       "       108.95, 108.79, 108.56, 108.52, 108.39, 108.31, 107.94, 107.05,\n",
       "       106.8 , 106.27, 105.47, 103.89, 103.7 , 103.55, 103.24, 102.56,\n",
       "       102.53, 102.02, 100.64,  99.08,  98.42,  97.05,  94.53,  94.43,\n",
       "        94.11,  93.78,  91.18,  90.35,  89.06,  88.41,  87.47,  87.01,\n",
       "        86.98,  86.02,  85.38,  84.75,  83.98,  82.46,  82.32,  81.34,\n",
       "        80.6 ,  78.91,  77.12,  75.53,  74.34,  74.04,  69.31,  67.64,\n",
       "        67.29,  66.74,  64.61,  53.31,  49.58,  45.45,  35.88])"
      ]
     },
     "execution_count": 10,
     "metadata": {},
     "output_type": "execute_result"
    }
   ],
   "source": [
    "quality_index = np.array(quality_of_life['Quality of Life Index'])\n",
    "quality_index"
   ]
  },
  {
   "cell_type": "markdown",
   "id": "7cbdd581",
   "metadata": {},
   "source": [
    "Now, you can check the data type of this new array by querying the `dtype` property of this array:"
   ]
  },
  {
   "cell_type": "code",
   "execution_count": 11,
   "id": "f0d9c8c1",
   "metadata": {},
   "outputs": [
    {
     "data": {
      "text/plain": [
       "dtype('float64')"
      ]
     },
     "execution_count": 11,
     "metadata": {},
     "output_type": "execute_result"
    }
   ],
   "source": [
    "quality_index.dtype"
   ]
  },
  {
   "cell_type": "markdown",
   "id": "d83d1685",
   "metadata": {},
   "source": [
    "As expected, the data type for the `quality_index` array is now `float64`, or 64-bit floating point numbers."
   ]
  },
  {
   "cell_type": "markdown",
   "id": "2ca21bb8",
   "metadata": {},
   "source": [
    "Now, let's look at the \"Rank\" column of our `quality_of_life` DataFrame:"
   ]
  },
  {
   "cell_type": "code",
   "execution_count": 12,
   "id": "9ad51076",
   "metadata": {},
   "outputs": [
    {
     "data": {
      "text/plain": [
       "array([  1,   2,   3,   4,   5,   6,   7,   8,   9,  10,  11,  12,  13,\n",
       "        14,  15,  16,  17,  18,  19,  20,  21,  22,  23,  24,  25,  26,\n",
       "        27,  28,  29,  30,  31,  32,  33,  34,  35,  36,  37,  38,  39,\n",
       "        40,  41,  42,  43,  44,  45,  46,  47,  48,  49,  50,  51,  52,\n",
       "        53,  54,  55,  56,  57,  58,  59,  60,  61,  62,  63,  64,  65,\n",
       "        66,  67,  68,  69,  70,  71,  72,  73,  74,  75,  76,  77,  78,\n",
       "        79,  80,  81,  82,  83,  84,  85,  86,  87,  88,  89,  90,  91,\n",
       "        92,  93,  94,  95,  96,  97,  98,  99, 100, 101, 102, 103, 104,\n",
       "       105, 106, 107, 108, 109, 110, 111, 112, 113, 114, 115, 116, 117,\n",
       "       118, 119, 120, 121, 122, 123, 124, 125, 126, 127, 128, 129, 130,\n",
       "       131, 132, 133, 134, 135, 136, 137, 138, 139, 140, 141, 142, 143,\n",
       "       144, 145, 146, 147, 148, 149, 150, 151, 152, 153, 154, 155, 156,\n",
       "       157, 158, 159, 160, 161, 162, 163, 164, 165, 166, 167, 168, 169,\n",
       "       170, 171, 172, 173, 174, 175, 176, 177, 178, 179, 180, 181, 182,\n",
       "       183, 184, 185, 186, 187, 188, 189, 190, 191, 192, 193, 194, 195,\n",
       "       196, 197, 198, 199, 200, 201, 202, 203, 204, 205, 206, 207, 208,\n",
       "       209, 210, 211, 212, 213, 214, 215, 216, 217, 218, 219, 220, 221,\n",
       "       222, 223, 224, 225, 226, 227, 228, 229, 230, 231, 232, 233, 234,\n",
       "       235, 236, 237, 238, 239, 240, 241, 242, 243, 244, 245, 246, 247])"
      ]
     },
     "execution_count": 12,
     "metadata": {},
     "output_type": "execute_result"
    }
   ],
   "source": [
    "rank = np.array(quality_of_life['Rank'])\n",
    "rank"
   ]
  },
  {
   "cell_type": "code",
   "execution_count": 13,
   "id": "91f69f1e",
   "metadata": {},
   "outputs": [
    {
     "data": {
      "text/plain": [
       "dtype('int64')"
      ]
     },
     "execution_count": 13,
     "metadata": {},
     "output_type": "execute_result"
    }
   ],
   "source": [
    "rank.dtype"
   ]
  },
  {
   "cell_type": "markdown",
   "id": "02711fa7",
   "metadata": {},
   "source": [
    "Here we have integer data, but not that we could have selected a different data type to represent these items by using the `dtype` keyword when calling the `np.array()` function. Different data types available can be found [here](dtype documentation)."
   ]
  },
  {
   "cell_type": "code",
   "execution_count": 14,
   "id": "47098ff5",
   "metadata": {},
   "outputs": [
    {
     "data": {
      "text/plain": [
       "array([  1.,   2.,   3.,   4.,   5.,   6.,   7.,   8.,   9.,  10.,  11.,\n",
       "        12.,  13.,  14.,  15.,  16.,  17.,  18.,  19.,  20.,  21.,  22.,\n",
       "        23.,  24.,  25.,  26.,  27.,  28.,  29.,  30.,  31.,  32.,  33.,\n",
       "        34.,  35.,  36.,  37.,  38.,  39.,  40.,  41.,  42.,  43.,  44.,\n",
       "        45.,  46.,  47.,  48.,  49.,  50.,  51.,  52.,  53.,  54.,  55.,\n",
       "        56.,  57.,  58.,  59.,  60.,  61.,  62.,  63.,  64.,  65.,  66.,\n",
       "        67.,  68.,  69.,  70.,  71.,  72.,  73.,  74.,  75.,  76.,  77.,\n",
       "        78.,  79.,  80.,  81.,  82.,  83.,  84.,  85.,  86.,  87.,  88.,\n",
       "        89.,  90.,  91.,  92.,  93.,  94.,  95.,  96.,  97.,  98.,  99.,\n",
       "       100., 101., 102., 103., 104., 105., 106., 107., 108., 109., 110.,\n",
       "       111., 112., 113., 114., 115., 116., 117., 118., 119., 120., 121.,\n",
       "       122., 123., 124., 125., 126., 127., 128., 129., 130., 131., 132.,\n",
       "       133., 134., 135., 136., 137., 138., 139., 140., 141., 142., 143.,\n",
       "       144., 145., 146., 147., 148., 149., 150., 151., 152., 153., 154.,\n",
       "       155., 156., 157., 158., 159., 160., 161., 162., 163., 164., 165.,\n",
       "       166., 167., 168., 169., 170., 171., 172., 173., 174., 175., 176.,\n",
       "       177., 178., 179., 180., 181., 182., 183., 184., 185., 186., 187.,\n",
       "       188., 189., 190., 191., 192., 193., 194., 195., 196., 197., 198.,\n",
       "       199., 200., 201., 202., 203., 204., 205., 206., 207., 208., 209.,\n",
       "       210., 211., 212., 213., 214., 215., 216., 217., 218., 219., 220.,\n",
       "       221., 222., 223., 224., 225., 226., 227., 228., 229., 230., 231.,\n",
       "       232., 233., 234., 235., 236., 237., 238., 239., 240., 241., 242.,\n",
       "       243., 244., 245., 246., 247.])"
      ]
     },
     "execution_count": 14,
     "metadata": {},
     "output_type": "execute_result"
    }
   ],
   "source": [
    "rank_float = np.array(rank, dtype=np.float64)\n",
    "rank_float"
   ]
  },
  {
   "cell_type": "markdown",
   "id": "261cc44e",
   "metadata": {},
   "source": [
    "### Shape and size"
   ]
  },
  {
   "cell_type": "markdown",
   "id": "f27fa89a",
   "metadata": {},
   "source": [
    "At this point, we may also be interested in checking for the physical layout of this array, like its size. If you are used to Python lists, you may be tempted to apply the `len` function to this array:"
   ]
  },
  {
   "cell_type": "code",
   "execution_count": 15,
   "id": "f71e3e97",
   "metadata": {},
   "outputs": [
    {
     "data": {
      "text/plain": [
       "247"
      ]
     },
     "execution_count": 15,
     "metadata": {},
     "output_type": "execute_result"
    }
   ],
   "source": [
    "len(quality_index)"
   ]
  },
  {
   "cell_type": "markdown",
   "id": "091b3034",
   "metadata": {},
   "source": [
    "However, there are specific properties provided by NumPy for this information:"
   ]
  },
  {
   "cell_type": "markdown",
   "id": "ee9100b9",
   "metadata": {},
   "source": [
    "- `.ndim` will tell you the number of axes, or dimensions, of the array.\n",
    "- `.size` will tell you the total number of elements of the array. This is the product of the elements of the array’s shape.\n",
    "- `.shape` will display a tuple of integers that indicate the number of elements stored along each dimension of the array. If, for example, you have a 2-D array with 2 rows and 3 columns, the shape of your array is (2, 3)."
   ]
  },
  {
   "cell_type": "code",
   "execution_count": 16,
   "id": "d3bd2e8e",
   "metadata": {},
   "outputs": [
    {
     "data": {
      "text/plain": [
       "1"
      ]
     },
     "execution_count": 16,
     "metadata": {},
     "output_type": "execute_result"
    }
   ],
   "source": [
    "quality_index.ndim"
   ]
  },
  {
   "cell_type": "code",
   "execution_count": 17,
   "id": "f386a73a",
   "metadata": {},
   "outputs": [
    {
     "data": {
      "text/plain": [
       "247"
      ]
     },
     "execution_count": 17,
     "metadata": {},
     "output_type": "execute_result"
    }
   ],
   "source": [
    "quality_index.size"
   ]
  },
  {
   "cell_type": "code",
   "execution_count": 18,
   "id": "43cc80de",
   "metadata": {},
   "outputs": [
    {
     "data": {
      "text/plain": [
       "(247,)"
      ]
     },
     "execution_count": 18,
     "metadata": {},
     "output_type": "execute_result"
    }
   ],
   "source": [
    "quality_index.shape"
   ]
  },
  {
   "cell_type": "markdown",
   "id": "2f6008e8",
   "metadata": {},
   "source": [
    "Note that we could also have selected a 2-dimensional subset of the data, by choosing to represent two columns of the initial DataFrame as a NumPy array:"
   ]
  },
  {
   "cell_type": "code",
   "execution_count": 19,
   "id": "9bfa15ab",
   "metadata": {},
   "outputs": [],
   "source": [
    "quality_safety = np.array(quality_of_life[['Quality of Life Index', 'Safety Index']])"
   ]
  },
  {
   "cell_type": "code",
   "execution_count": 20,
   "id": "491cf521",
   "metadata": {
    "tags": []
   },
   "outputs": [
    {
     "data": {
      "text/plain": [
       "array([[204.86,  77.66],\n",
       "       [202.3 ,  71.25],\n",
       "       [202.09,  65.12],\n",
       "       [195.73,  71.78],\n",
       "       [195.65,  55.07],\n",
       "       [194.03,  56.21],\n",
       "       [192.97,  83.34],\n",
       "       [191.33,  50.07],\n",
       "       [190.39,  62.81],\n",
       "       [190.38,  65.48],\n",
       "       [189.85,  55.65],\n",
       "       [189.49,  54.6 ],\n",
       "       [189.36,  75.79],\n",
       "       [187.7 ,  58.03],\n",
       "       [186.38,  65.58],\n",
       "       [185.99,  49.87],\n",
       "       [184.49,  75.55],\n",
       "       [184.01,  73.05],\n",
       "       [183.48,  42.26],\n",
       "       [183.47,  50.3 ],\n",
       "       [182.79,  74.03],\n",
       "       [182.63,  64.04],\n",
       "       [182.12,  63.26],\n",
       "       [181.27,  53.9 ],\n",
       "       [180.95,  72.66],\n",
       "       [180.52,  77.87],\n",
       "       [180.  ,  51.11],\n",
       "       [179.84,  82.44],\n",
       "       [178.91,  71.1 ],\n",
       "       [177.79,  30.17],\n",
       "       [177.71,  64.98],\n",
       "       [177.15,  70.  ],\n",
       "       [176.83,  85.33],\n",
       "       [176.21,  66.31],\n",
       "       [175.6 ,  69.32],\n",
       "       [175.06,  50.65],\n",
       "       [174.77,  55.99],\n",
       "       [174.71,  74.01],\n",
       "       [174.38,  56.65],\n",
       "       [173.92,  78.79],\n",
       "       [173.77,  48.07],\n",
       "       [173.68,  67.35],\n",
       "       [173.43,  43.64],\n",
       "       [173.32,  48.79],\n",
       "       [173.21,  73.9 ],\n",
       "       [173.08,  52.44],\n",
       "       [172.88,  43.15],\n",
       "       [172.84,  62.83],\n",
       "       [172.67,  87.85],\n",
       "       [172.12,  45.85],\n",
       "       [171.84,  51.78],\n",
       "       [171.61,  64.75],\n",
       "       [170.94,  56.48],\n",
       "       [170.88,  71.47],\n",
       "       [169.67,  66.21],\n",
       "       [169.57,  75.19],\n",
       "       [169.46,  64.68],\n",
       "       [168.61,  29.14],\n",
       "       [168.6 ,  61.21],\n",
       "       [168.58,  77.42],\n",
       "       [167.62,  64.1 ],\n",
       "       [166.64,  57.16],\n",
       "       [166.62,  36.05],\n",
       "       [166.41,  71.36],\n",
       "       [166.36,  51.46],\n",
       "       [165.77,  35.28],\n",
       "       [165.38,  54.62],\n",
       "       [165.05,  45.73],\n",
       "       [164.74,  78.54],\n",
       "       [164.63,  73.1 ],\n",
       "       [164.58,  58.12],\n",
       "       [164.46,  37.87],\n",
       "       [164.41,  52.27],\n",
       "       [163.78,  56.92],\n",
       "       [163.76,  54.21],\n",
       "       [163.52,  62.16],\n",
       "       [163.13,  59.32],\n",
       "       [162.82,  65.2 ],\n",
       "       [162.46,  55.9 ],\n",
       "       [162.01,  36.99],\n",
       "       [161.93,  33.24],\n",
       "       [161.11,  57.12],\n",
       "       [161.11,  41.74],\n",
       "       [160.87,  35.17],\n",
       "       [160.77,  25.54],\n",
       "       [160.7 ,  76.39],\n",
       "       [160.1 ,  59.96],\n",
       "       [160.01,  49.72],\n",
       "       [159.21,  57.29],\n",
       "       [159.1 ,  54.51],\n",
       "       [158.39,  78.13],\n",
       "       [158.14,  75.87],\n",
       "       [158.01,  83.67],\n",
       "       [157.58,  47.64],\n",
       "       [156.55,  56.33],\n",
       "       [155.88,  69.83],\n",
       "       [155.7 ,  73.53],\n",
       "       [155.55,  71.9 ],\n",
       "       [155.3 ,  77.09],\n",
       "       [153.81,  64.17],\n",
       "       [152.75,  63.27],\n",
       "       [152.59,  55.63],\n",
       "       [152.2 ,  59.26],\n",
       "       [152.18,  74.85],\n",
       "       [152.07,  42.93],\n",
       "       [150.84,  70.39],\n",
       "       [150.34,  52.83],\n",
       "       [150.06,  34.77],\n",
       "       [149.5 ,  48.07],\n",
       "       [149.32,  77.93],\n",
       "       [149.17,  46.62],\n",
       "       [149.09,  72.02],\n",
       "       [148.97,  71.44],\n",
       "       [148.93,  67.34],\n",
       "       [148.81,  88.2 ],\n",
       "       [146.71,  46.59],\n",
       "       [146.45,  43.97],\n",
       "       [146.38,  44.74],\n",
       "       [146.18,  26.23],\n",
       "       [146.13,  69.63],\n",
       "       [145.66,  38.22],\n",
       "       [145.46,  73.84],\n",
       "       [145.25,  73.12],\n",
       "       [145.17,  67.97],\n",
       "       [143.89,  72.66],\n",
       "       [143.67,  61.99],\n",
       "       [143.3 ,  85.52],\n",
       "       [142.78,  38.74],\n",
       "       [141.89,  42.44],\n",
       "       [140.85,  71.12],\n",
       "       [140.76,  48.65],\n",
       "       [140.38,  78.12],\n",
       "       [140.12,  70.49],\n",
       "       [140.09,  69.09],\n",
       "       [139.99,  48.6 ],\n",
       "       [139.73,  46.5 ],\n",
       "       [139.54,  86.48],\n",
       "       [139.53,  39.45],\n",
       "       [139.06,  57.82],\n",
       "       [138.82,  54.09],\n",
       "       [138.61,  52.65],\n",
       "       [138.6 ,  68.23],\n",
       "       [137.01,  70.33],\n",
       "       [136.26,  53.13],\n",
       "       [135.18,  59.22],\n",
       "       [135.18,  19.15],\n",
       "       [133.36,  37.48],\n",
       "       [132.59,  17.91],\n",
       "       [132.26,  51.26],\n",
       "       [131.14,  65.27],\n",
       "       [130.67,  60.04],\n",
       "       [129.89,  46.79],\n",
       "       [128.86,  49.82],\n",
       "       [128.37,  70.89],\n",
       "       [128.2 ,  25.7 ],\n",
       "       [124.22,  66.39],\n",
       "       [123.24,  76.3 ],\n",
       "       [123.24,  73.58],\n",
       "       [123.06,  33.43],\n",
       "       [122.84,  57.52],\n",
       "       [122.63,  44.86],\n",
       "       [122.51,  64.46],\n",
       "       [122.33,  60.21],\n",
       "       [122.17,  54.64],\n",
       "       [122.04,  60.18],\n",
       "       [122.01,  48.32],\n",
       "       [121.45,  30.87],\n",
       "       [121.17,  71.63],\n",
       "       [121.02,  45.92],\n",
       "       [120.78,  19.33],\n",
       "       [120.08,  55.75],\n",
       "       [119.28,  38.53],\n",
       "       [118.88,  45.39],\n",
       "       [118.27,  77.72],\n",
       "       [117.55,  44.56],\n",
       "       [117.42,  25.99],\n",
       "       [117.34,  72.19],\n",
       "       [116.49,  67.48],\n",
       "       [116.31,  67.27],\n",
       "       [116.02,  67.28],\n",
       "       [115.86,  55.09],\n",
       "       [115.37,  58.32],\n",
       "       [115.06,  44.53],\n",
       "       [114.62,  47.1 ],\n",
       "       [113.82,  56.59],\n",
       "       [113.14,  75.37],\n",
       "       [112.31,  61.98],\n",
       "       [112.17,  68.41],\n",
       "       [111.96,  51.65],\n",
       "       [110.04,  56.86],\n",
       "       [109.62,  61.78],\n",
       "       [109.08,  51.94],\n",
       "       [108.95,  69.27],\n",
       "       [108.79,  66.81],\n",
       "       [108.56,  47.25],\n",
       "       [108.52,  39.17],\n",
       "       [108.39,  52.52],\n",
       "       [108.31,  35.53],\n",
       "       [107.94,  52.93],\n",
       "       [107.05,  39.22],\n",
       "       [106.8 ,  54.15],\n",
       "       [106.27,  46.25],\n",
       "       [105.47,  44.34],\n",
       "       [103.89,  55.39],\n",
       "       [103.7 ,  59.69],\n",
       "       [103.55,  35.88],\n",
       "       [103.24,  61.78],\n",
       "       [102.56,  69.22],\n",
       "       [102.53,  60.94],\n",
       "       [102.02,  60.74],\n",
       "       [100.64,  42.96],\n",
       "       [ 99.08,  77.88],\n",
       "       [ 98.42,  67.4 ],\n",
       "       [ 97.05,  48.2 ],\n",
       "       [ 94.53,  62.28],\n",
       "       [ 94.43,  41.68],\n",
       "       [ 94.11,  36.53],\n",
       "       [ 93.78,  37.32],\n",
       "       [ 91.18,  52.25],\n",
       "       [ 90.35,  57.47],\n",
       "       [ 89.06,  52.95],\n",
       "       [ 88.41,  64.13],\n",
       "       [ 87.47,  30.35],\n",
       "       [ 87.01,  65.45],\n",
       "       [ 86.98,  44.19],\n",
       "       [ 86.02,  35.31],\n",
       "       [ 85.38,  53.07],\n",
       "       [ 84.75,  58.15],\n",
       "       [ 83.98,  46.75],\n",
       "       [ 82.46,  29.87],\n",
       "       [ 82.32,  29.7 ],\n",
       "       [ 81.34,  34.76],\n",
       "       [ 80.6 ,  50.24],\n",
       "       [ 78.91,  40.17],\n",
       "       [ 77.12,  52.71],\n",
       "       [ 75.53,  56.48],\n",
       "       [ 74.34,  15.65],\n",
       "       [ 74.04,  40.36],\n",
       "       [ 69.31,  46.39],\n",
       "       [ 67.64,  59.97],\n",
       "       [ 67.29,  46.26],\n",
       "       [ 66.74,  66.47],\n",
       "       [ 64.61,  22.37],\n",
       "       [ 53.31,  35.33],\n",
       "       [ 49.58,  34.43],\n",
       "       [ 45.45,  35.34],\n",
       "       [ 35.88,  45.09]])"
      ]
     },
     "execution_count": 20,
     "metadata": {},
     "output_type": "execute_result"
    }
   ],
   "source": [
    "quality_safety"
   ]
  },
  {
   "cell_type": "markdown",
   "id": "498af472",
   "metadata": {},
   "source": [
    "Now:"
   ]
  },
  {
   "cell_type": "code",
   "execution_count": 21,
   "id": "8d215e44",
   "metadata": {},
   "outputs": [
    {
     "data": {
      "text/plain": [
       "247"
      ]
     },
     "execution_count": 21,
     "metadata": {},
     "output_type": "execute_result"
    }
   ],
   "source": [
    "len(quality_safety)"
   ]
  },
  {
   "cell_type": "code",
   "execution_count": 22,
   "id": "a14ed04c",
   "metadata": {},
   "outputs": [
    {
     "data": {
      "text/plain": [
       "2"
      ]
     },
     "execution_count": 22,
     "metadata": {},
     "output_type": "execute_result"
    }
   ],
   "source": [
    "quality_safety.ndim"
   ]
  },
  {
   "cell_type": "code",
   "execution_count": 23,
   "id": "f2af5136",
   "metadata": {},
   "outputs": [
    {
     "data": {
      "text/plain": [
       "494"
      ]
     },
     "execution_count": 23,
     "metadata": {},
     "output_type": "execute_result"
    }
   ],
   "source": [
    "quality_safety.size"
   ]
  },
  {
   "cell_type": "code",
   "execution_count": 24,
   "id": "249bc850",
   "metadata": {},
   "outputs": [
    {
     "data": {
      "text/plain": [
       "(247, 2)"
      ]
     },
     "execution_count": 24,
     "metadata": {},
     "output_type": "execute_result"
    }
   ],
   "source": [
    "quality_safety.shape"
   ]
  },
  {
   "cell_type": "markdown",
   "id": "61e9c7ef",
   "metadata": {},
   "source": [
    "In this case, it is clear that the `len` function is no longer appropriate, and that NumPy arrays require a bit more information to be understood correctly."
   ]
  },
  {
   "cell_type": "markdown",
   "id": "52b5566c",
   "metadata": {},
   "source": [
    "### Exercises"
   ]
  },
  {
   "cell_type": "markdown",
   "id": "954d20aa",
   "metadata": {},
   "source": [
    "## 4. Basic indexing and manipulation"
   ]
  },
  {
   "cell_type": "markdown",
   "id": "488a8511",
   "metadata": {},
   "source": [
    "In the original `quality_of_life` table, the data corresponding to the city of Lagos in Nigeria had index 244. Let's consult its data from the current `quality_safety` array:"
   ]
  },
  {
   "cell_type": "code",
   "execution_count": 25,
   "id": "f36ddb8c",
   "metadata": {},
   "outputs": [
    {
     "data": {
      "text/plain": [
       "array([49.58, 34.43])"
      ]
     },
     "execution_count": 25,
     "metadata": {},
     "output_type": "execute_result"
    }
   ],
   "source": [
    "quality_safety[244]"
   ]
  },
  {
   "cell_type": "markdown",
   "id": "58310dde",
   "metadata": {},
   "source": [
    "Because of the way we built this array, at position 244 we have two items: the Quality of Life Index in the first position, and the Safety Index in the second position. We can access those individually by using the following syntax:"
   ]
  },
  {
   "cell_type": "code",
   "execution_count": 26,
   "id": "3fd15d60",
   "metadata": {},
   "outputs": [
    {
     "data": {
      "text/plain": [
       "49.58"
      ]
     },
     "execution_count": 26,
     "metadata": {},
     "output_type": "execute_result"
    }
   ],
   "source": [
    "quality_safety[244, 0]"
   ]
  },
  {
   "cell_type": "markdown",
   "id": "4dcbb23e",
   "metadata": {},
   "source": [
    "We could also use "
   ]
  },
  {
   "cell_type": "code",
   "execution_count": 27,
   "id": "e2ec1bc4",
   "metadata": {},
   "outputs": [
    {
     "data": {
      "text/plain": [
       "49.58"
      ]
     },
     "execution_count": 27,
     "metadata": {},
     "output_type": "execute_result"
    }
   ],
   "source": [
    "quality_safety[244][0]"
   ]
  },
  {
   "cell_type": "markdown",
   "id": "5e558269",
   "metadata": {},
   "source": [
    "We can also access the extremities of our array:"
   ]
  },
  {
   "cell_type": "code",
   "execution_count": 28,
   "id": "4397b0a7",
   "metadata": {},
   "outputs": [
    {
     "data": {
      "text/plain": [
       "array([204.86,  77.66])"
      ]
     },
     "execution_count": 28,
     "metadata": {},
     "output_type": "execute_result"
    }
   ],
   "source": [
    "quality_safety[0]"
   ]
  },
  {
   "cell_type": "code",
   "execution_count": 29,
   "id": "98fc847f",
   "metadata": {},
   "outputs": [
    {
     "data": {
      "text/plain": [
       "array([35.88, 45.09])"
      ]
     },
     "execution_count": 29,
     "metadata": {},
     "output_type": "execute_result"
    }
   ],
   "source": [
    "quality_safety[-1]"
   ]
  },
  {
   "cell_type": "code",
   "execution_count": 30,
   "id": "8a1a142c",
   "metadata": {},
   "outputs": [
    {
     "data": {
      "text/plain": [
       "(247, 2)"
      ]
     },
     "execution_count": 30,
     "metadata": {},
     "output_type": "execute_result"
    }
   ],
   "source": [
    "quality_safety.shape"
   ]
  },
  {
   "cell_type": "markdown",
   "id": "c5d412c0",
   "metadata": {},
   "source": [
    "Note that because this is a two-dimensional array, the shape is a 2-item tuple. "
   ]
  },
  {
   "cell_type": "markdown",
   "id": "4046ac9d",
   "metadata": {},
   "source": [
    "Because the indexing starts at 0, a shape of `(247, 2)` means an index range from 0 to 246, and if we try to access index 247 this will raise an `IndexError`:"
   ]
  },
  {
   "cell_type": "code",
   "execution_count": 31,
   "id": "d8333f4f",
   "metadata": {},
   "outputs": [
    {
     "ename": "IndexError",
     "evalue": "index 247 is out of bounds for axis 0 with size 247",
     "output_type": "error",
     "traceback": [
      "\u001b[0;31m---------------------------------------------------------------------------\u001b[0m",
      "\u001b[0;31mIndexError\u001b[0m                                Traceback (most recent call last)",
      "\u001b[0;32m<ipython-input-31-4c2d6afee7a2>\u001b[0m in \u001b[0;36m<module>\u001b[0;34m\u001b[0m\n\u001b[0;32m----> 1\u001b[0;31m \u001b[0mquality_safety\u001b[0m\u001b[0;34m[\u001b[0m\u001b[0;36m247\u001b[0m\u001b[0;34m]\u001b[0m\u001b[0;34m\u001b[0m\u001b[0;34m\u001b[0m\u001b[0m\n\u001b[0m",
      "\u001b[0;31mIndexError\u001b[0m: index 247 is out of bounds for axis 0 with size 247"
     ]
    }
   ],
   "source": [
    "quality_safety[247]"
   ]
  },
  {
   "cell_type": "markdown",
   "id": "7c4662b5",
   "metadata": {},
   "source": [
    "### Exercises"
   ]
  },
  {
   "cell_type": "markdown",
   "id": "3c0329a4",
   "metadata": {},
   "source": [
    "## 5. Operations and built-in utilities"
   ]
  },
  {
   "cell_type": "markdown",
   "id": "cba390d7",
   "metadata": {},
   "source": [
    "Arrays can be operated on as single objects, simplifying the way we manipulate data. Say we wish to increase every item in the array by 1 unit. We could do:"
   ]
  },
  {
   "cell_type": "code",
   "execution_count": 32,
   "id": "85699595",
   "metadata": {},
   "outputs": [],
   "source": [
    "for i in range(quality_index.shape[0]):\n",
    "    quality_index[i] += 1"
   ]
  },
  {
   "cell_type": "markdown",
   "id": "8ae40016",
   "metadata": {},
   "source": [
    "In general, looping through an array is not necessary or efficient. Because of the vectorization properties of NumPy arrays, we could do instead"
   ]
  },
  {
   "cell_type": "code",
   "execution_count": 33,
   "id": "fff479ab",
   "metadata": {},
   "outputs": [],
   "source": [
    "quality_index += 1"
   ]
  },
  {
   "cell_type": "markdown",
   "id": "e78e09bd",
   "metadata": {},
   "source": [
    "This is valid for other operations as well."
   ]
  },
  {
   "cell_type": "code",
   "execution_count": 34,
   "id": "488f737c",
   "metadata": {},
   "outputs": [
    {
     "data": {
      "text/plain": [
       "array([413.72, 408.6 , 408.18, 395.46, 395.3 , 392.06, 389.94, 386.66,\n",
       "       384.78, 384.76, 383.7 , 382.98, 382.72, 379.4 , 376.76, 375.98,\n",
       "       372.98, 372.02, 370.96, 370.94, 369.58, 369.26, 368.24, 366.54,\n",
       "       365.9 , 365.04, 364.  , 363.68, 361.82, 359.58, 359.42, 358.3 ,\n",
       "       357.66, 356.42, 355.2 , 354.12, 353.54, 353.42, 352.76, 351.84,\n",
       "       351.54, 351.36, 350.86, 350.64, 350.42, 350.16, 349.76, 349.68,\n",
       "       349.34, 348.24, 347.68, 347.22, 345.88, 345.76, 343.34, 343.14,\n",
       "       342.92, 341.22, 341.2 , 341.16, 339.24, 337.28, 337.24, 336.82,\n",
       "       336.72, 335.54, 334.76, 334.1 , 333.48, 333.26, 333.16, 332.92,\n",
       "       332.82, 331.56, 331.52, 331.04, 330.26, 329.64, 328.92, 328.02,\n",
       "       327.86, 326.22, 326.22, 325.74, 325.54, 325.4 , 324.2 , 324.02,\n",
       "       322.42, 322.2 , 320.78, 320.28, 320.02, 319.16, 317.1 , 315.76,\n",
       "       315.4 , 315.1 , 314.6 , 311.62, 309.5 , 309.18, 308.4 , 308.36,\n",
       "       308.14, 305.68, 304.68, 304.12, 303.  , 302.64, 302.34, 302.18,\n",
       "       301.94, 301.86, 301.62, 297.42, 296.9 , 296.76, 296.36, 296.26,\n",
       "       295.32, 294.92, 294.5 , 294.34, 291.78, 291.34, 290.6 , 289.56,\n",
       "       287.78, 285.7 , 285.52, 284.76, 284.24, 284.18, 283.98, 283.46,\n",
       "       283.08, 283.06, 282.12, 281.64, 281.22, 281.2 , 278.02, 276.52,\n",
       "       274.36, 274.36, 270.72, 269.18, 268.52, 266.28, 265.34, 263.78,\n",
       "       261.72, 260.74, 260.4 , 252.44, 250.48, 250.48, 250.12, 249.68,\n",
       "       249.26, 249.02, 248.66, 248.34, 248.08, 248.02, 246.9 , 246.34,\n",
       "       246.04, 245.56, 244.16, 242.56, 241.76, 240.54, 239.1 , 238.84,\n",
       "       238.68, 236.98, 236.62, 236.04, 235.72, 234.74, 234.12, 233.24,\n",
       "       231.64, 230.28, 228.62, 228.34, 227.92, 224.08, 223.24, 222.16,\n",
       "       221.9 , 221.58, 221.12, 221.04, 220.78, 220.62, 219.88, 218.1 ,\n",
       "       217.6 , 216.54, 214.94, 211.78, 211.4 , 211.1 , 210.48, 209.12,\n",
       "       209.06, 208.04, 205.28, 202.16, 200.84, 198.1 , 193.06, 192.86,\n",
       "       192.22, 191.56, 186.36, 184.7 , 182.12, 180.82, 178.94, 178.02,\n",
       "       177.96, 176.04, 174.76, 173.5 , 171.96, 168.92, 168.64, 166.68,\n",
       "       165.2 , 161.82, 158.24, 155.06, 152.68, 152.08, 142.62, 139.28,\n",
       "       138.58, 137.48, 133.22, 110.62, 103.16,  94.9 ,  75.76])"
      ]
     },
     "execution_count": 34,
     "metadata": {},
     "output_type": "execute_result"
    }
   ],
   "source": [
    "2*quality_index"
   ]
  },
  {
   "cell_type": "markdown",
   "id": "6217f001",
   "metadata": {},
   "source": [
    "We can also perform operations on pairs of arrays:"
   ]
  },
  {
   "cell_type": "code",
   "execution_count": 35,
   "id": "631d302b",
   "metadata": {},
   "outputs": [
    {
     "data": {
      "text/plain": [
       "array([207.86, 206.3 , 207.09, 201.73, 202.65, 202.03, 201.97, 201.33,\n",
       "       201.39, 202.38, 202.85, 203.49, 204.36, 203.7 , 203.38, 203.99,\n",
       "       203.49, 204.01, 204.48, 205.47, 205.79, 206.63, 207.12, 207.27,\n",
       "       207.95, 208.52, 209.  , 209.84, 209.91, 209.79, 210.71, 211.15,\n",
       "       211.83, 212.21, 212.6 , 213.06, 213.77, 214.71, 215.38, 215.92,\n",
       "       216.77, 217.68, 218.43, 219.32, 220.21, 221.08, 221.88, 222.84,\n",
       "       223.67, 224.12, 224.84, 225.61, 225.94, 226.88, 226.67, 227.57,\n",
       "       228.46, 228.61, 229.6 , 230.58, 230.62, 230.64, 231.62, 232.41,\n",
       "       233.36, 233.77, 234.38, 235.05, 235.74, 236.63, 237.58, 238.46,\n",
       "       239.41, 239.78, 240.76, 241.52, 242.13, 242.82, 243.46, 244.01,\n",
       "       244.93, 245.11, 246.11, 246.87, 247.77, 248.7 , 249.1 , 250.01,\n",
       "       250.21, 251.1 , 251.39, 252.14, 253.01, 253.58, 253.55, 253.88,\n",
       "       254.7 , 255.55, 256.3 , 255.81, 255.75, 256.59, 257.2 , 258.18,\n",
       "       259.07, 258.84, 259.34, 260.06, 260.5 , 261.32, 262.17, 263.09,\n",
       "       263.97, 264.93, 265.81, 264.71, 265.45, 266.38, 267.18, 268.13,\n",
       "       268.66, 269.46, 270.25, 271.17, 270.89, 271.67, 272.3 , 272.78,\n",
       "       272.89, 272.85, 273.76, 274.38, 275.12, 276.09, 276.99, 277.73,\n",
       "       278.54, 279.53, 280.06, 280.82, 281.61, 282.6 , 282.01, 282.26,\n",
       "       282.18, 283.18, 282.36, 282.59, 283.26, 283.14, 283.67, 283.89,\n",
       "       283.86, 284.37, 285.2 , 282.22, 282.24, 283.24, 284.06, 284.84,\n",
       "       285.63, 286.51, 287.33, 288.17, 289.04, 290.01, 290.45, 291.17,\n",
       "       292.02, 292.78, 293.08, 293.28, 293.88, 294.27, 294.55, 295.42,\n",
       "       296.34, 296.49, 297.31, 298.02, 298.86, 299.37, 300.06, 300.62,\n",
       "       300.82, 301.14, 301.31, 302.17, 302.96, 302.04, 302.62, 303.08,\n",
       "       303.95, 304.79, 305.56, 306.52, 307.39, 308.31, 308.94, 309.05,\n",
       "       309.8 , 310.27, 310.47, 309.89, 310.7 , 311.55, 312.24, 312.56,\n",
       "       313.53, 314.02, 313.64, 313.08, 313.42, 313.05, 311.53, 312.43,\n",
       "       313.11, 313.78, 312.18, 312.35, 312.06, 312.41, 312.47, 313.01,\n",
       "       313.98, 314.02, 314.38, 314.75, 314.98, 314.46, 315.32, 315.34,\n",
       "       315.6 , 314.91, 314.12, 313.53, 313.34, 314.04, 310.31, 309.64,\n",
       "       310.29, 310.74, 309.61, 299.31, 296.58, 293.45, 284.88])"
      ]
     },
     "execution_count": 35,
     "metadata": {},
     "output_type": "execute_result"
    }
   ],
   "source": [
    "quality_index+rank"
   ]
  },
  {
   "cell_type": "markdown",
   "id": "190cc2a4",
   "metadata": {},
   "source": [
    "There are subtleties when dealing with arrays of different shapes, and we will discuss this later."
   ]
  },
  {
   "cell_type": "markdown",
   "id": "8b5ef6e3",
   "metadata": {},
   "source": [
    "Beware: the multiplication symbol `*` means element-by-element multiplication:"
   ]
  },
  {
   "cell_type": "code",
   "execution_count": 36,
   "id": "600546a6",
   "metadata": {},
   "outputs": [],
   "source": [
    "product = rank*quality_index"
   ]
  },
  {
   "cell_type": "code",
   "execution_count": 37,
   "id": "77af6db1",
   "metadata": {},
   "outputs": [
    {
     "data": {
      "text/plain": [
       "(247,)"
      ]
     },
     "execution_count": 37,
     "metadata": {},
     "output_type": "execute_result"
    }
   ],
   "source": [
    "rank.shape"
   ]
  },
  {
   "cell_type": "code",
   "execution_count": 38,
   "id": "a6c8069b",
   "metadata": {},
   "outputs": [
    {
     "data": {
      "text/plain": [
       "(247,)"
      ]
     },
     "execution_count": 38,
     "metadata": {},
     "output_type": "execute_result"
    }
   ],
   "source": [
    "quality_index.shape"
   ]
  },
  {
   "cell_type": "code",
   "execution_count": 39,
   "id": "8faaef3c",
   "metadata": {},
   "outputs": [
    {
     "data": {
      "text/plain": [
       "(247,)"
      ]
     },
     "execution_count": 39,
     "metadata": {},
     "output_type": "execute_result"
    }
   ],
   "source": [
    "product.shape"
   ]
  },
  {
   "cell_type": "markdown",
   "id": "2e01ee69",
   "metadata": {},
   "source": [
    "To perform a matrix product operation, you can use the operator `@`:"
   ]
  },
  {
   "cell_type": "code",
   "execution_count": 40,
   "id": "463ede37",
   "metadata": {},
   "outputs": [
    {
     "data": {
      "text/plain": [
       "3709680.9299999997"
      ]
     },
     "execution_count": 40,
     "metadata": {},
     "output_type": "execute_result"
    }
   ],
   "source": [
    "rank@quality_index"
   ]
  },
  {
   "cell_type": "markdown",
   "id": "f58fc200",
   "metadata": {},
   "source": [
    "This is the same as "
   ]
  },
  {
   "cell_type": "code",
   "execution_count": 41,
   "id": "0427e91b",
   "metadata": {},
   "outputs": [
    {
     "data": {
      "text/plain": [
       "3709680.9299999997"
      ]
     },
     "execution_count": 41,
     "metadata": {},
     "output_type": "execute_result"
    }
   ],
   "source": [
    "np.dot(rank, quality_index)"
   ]
  },
  {
   "cell_type": "markdown",
   "id": "5949ffd8",
   "metadata": {},
   "source": [
    "There are several built-in utilities that can be applied to a NumPy array. For example, we can compute the maximum and minimum values of an array using"
   ]
  },
  {
   "cell_type": "code",
   "execution_count": 42,
   "id": "66adf7f0",
   "metadata": {},
   "outputs": [
    {
     "data": {
      "text/plain": [
       "(206.86, 37.88)"
      ]
     },
     "execution_count": 42,
     "metadata": {},
     "output_type": "execute_result"
    }
   ],
   "source": [
    "np.max(quality_index), np.min(quality_index)"
   ]
  },
  {
   "cell_type": "markdown",
   "id": "f9626a72",
   "metadata": {},
   "source": [
    "Note that we can also pick which axes to compute the maximum or minimum for:"
   ]
  },
  {
   "cell_type": "code",
   "execution_count": 43,
   "id": "ff923e23",
   "metadata": {},
   "outputs": [
    {
     "data": {
      "text/plain": [
       "array([204.86,  88.2 ])"
      ]
     },
     "execution_count": 43,
     "metadata": {},
     "output_type": "execute_result"
    }
   ],
   "source": [
    "np.max(quality_safety, axis=0)"
   ]
  },
  {
   "cell_type": "code",
   "execution_count": 44,
   "id": "769d788f",
   "metadata": {},
   "outputs": [
    {
     "data": {
      "text/plain": [
       "array([204.86, 202.3 , 202.09, 195.73, 195.65, 194.03, 192.97, 191.33,\n",
       "       190.39, 190.38, 189.85, 189.49, 189.36, 187.7 , 186.38, 185.99,\n",
       "       184.49, 184.01, 183.48, 183.47, 182.79, 182.63, 182.12, 181.27,\n",
       "       180.95, 180.52, 180.  , 179.84, 178.91, 177.79, 177.71, 177.15,\n",
       "       176.83, 176.21, 175.6 , 175.06, 174.77, 174.71, 174.38, 173.92,\n",
       "       173.77, 173.68, 173.43, 173.32, 173.21, 173.08, 172.88, 172.84,\n",
       "       172.67, 172.12, 171.84, 171.61, 170.94, 170.88, 169.67, 169.57,\n",
       "       169.46, 168.61, 168.6 , 168.58, 167.62, 166.64, 166.62, 166.41,\n",
       "       166.36, 165.77, 165.38, 165.05, 164.74, 164.63, 164.58, 164.46,\n",
       "       164.41, 163.78, 163.76, 163.52, 163.13, 162.82, 162.46, 162.01,\n",
       "       161.93, 161.11, 161.11, 160.87, 160.77, 160.7 , 160.1 , 160.01,\n",
       "       159.21, 159.1 , 158.39, 158.14, 158.01, 157.58, 156.55, 155.88,\n",
       "       155.7 , 155.55, 155.3 , 153.81, 152.75, 152.59, 152.2 , 152.18,\n",
       "       152.07, 150.84, 150.34, 150.06, 149.5 , 149.32, 149.17, 149.09,\n",
       "       148.97, 148.93, 148.81, 146.71, 146.45, 146.38, 146.18, 146.13,\n",
       "       145.66, 145.46, 145.25, 145.17, 143.89, 143.67, 143.3 , 142.78,\n",
       "       141.89, 140.85, 140.76, 140.38, 140.12, 140.09, 139.99, 139.73,\n",
       "       139.54, 139.53, 139.06, 138.82, 138.61, 138.6 , 137.01, 136.26,\n",
       "       135.18, 135.18, 133.36, 132.59, 132.26, 131.14, 130.67, 129.89,\n",
       "       128.86, 128.37, 128.2 , 124.22, 123.24, 123.24, 123.06, 122.84,\n",
       "       122.63, 122.51, 122.33, 122.17, 122.04, 122.01, 121.45, 121.17,\n",
       "       121.02, 120.78, 120.08, 119.28, 118.88, 118.27, 117.55, 117.42,\n",
       "       117.34, 116.49, 116.31, 116.02, 115.86, 115.37, 115.06, 114.62,\n",
       "       113.82, 113.14, 112.31, 112.17, 111.96, 110.04, 109.62, 109.08,\n",
       "       108.95, 108.79, 108.56, 108.52, 108.39, 108.31, 107.94, 107.05,\n",
       "       106.8 , 106.27, 105.47, 103.89, 103.7 , 103.55, 103.24, 102.56,\n",
       "       102.53, 102.02, 100.64,  99.08,  98.42,  97.05,  94.53,  94.43,\n",
       "        94.11,  93.78,  91.18,  90.35,  89.06,  88.41,  87.47,  87.01,\n",
       "        86.98,  86.02,  85.38,  84.75,  83.98,  82.46,  82.32,  81.34,\n",
       "        80.6 ,  78.91,  77.12,  75.53,  74.34,  74.04,  69.31,  67.64,\n",
       "        67.29,  66.74,  64.61,  53.31,  49.58,  45.45,  45.09])"
      ]
     },
     "execution_count": 44,
     "metadata": {},
     "output_type": "execute_result"
    }
   ],
   "source": [
    "np.max(quality_safety, axis=1)"
   ]
  },
  {
   "cell_type": "markdown",
   "id": "77cdb65a",
   "metadata": {},
   "source": [
    "Other functions include:"
   ]
  },
  {
   "cell_type": "code",
   "execution_count": 45,
   "id": "57c0796a",
   "metadata": {},
   "outputs": [
    {
     "data": {
      "text/plain": [
       "34827.67"
      ]
     },
     "execution_count": 45,
     "metadata": {},
     "output_type": "execute_result"
    }
   ],
   "source": [
    "np.sum(quality_index)"
   ]
  },
  {
   "cell_type": "code",
   "execution_count": 46,
   "id": "8370533a",
   "metadata": {},
   "outputs": [
    {
     "data": {
      "text/plain": [
       "141.00271255060727"
      ]
     },
     "execution_count": 46,
     "metadata": {},
     "output_type": "execute_result"
    }
   ],
   "source": [
    "np.mean(quality_index)"
   ]
  },
  {
   "cell_type": "markdown",
   "id": "af3438b3",
   "metadata": {},
   "source": [
    "You can also use `np.linspace()` to create an array with values that are spaced linearly in a specified interval:"
   ]
  },
  {
   "cell_type": "code",
   "execution_count": 47,
   "id": "e52818ff",
   "metadata": {},
   "outputs": [
    {
     "data": {
      "text/plain": [
       "array([ 0. ,  2.5,  5. ,  7.5, 10. ])"
      ]
     },
     "execution_count": 47,
     "metadata": {},
     "output_type": "execute_result"
    }
   ],
   "source": [
    "np.linspace(0, 10, num=5)"
   ]
  },
  {
   "cell_type": "markdown",
   "id": "c23c1f32",
   "metadata": {},
   "source": [
    "### Exercises"
   ]
  },
  {
   "cell_type": "markdown",
   "id": "b789711d",
   "metadata": {},
   "source": [
    "### Adding, removing, and sorting elements"
   ]
  },
  {
   "cell_type": "code",
   "execution_count": 48,
   "id": "a1c2bcdd",
   "metadata": {},
   "outputs": [],
   "source": [
    "pollution_index = np.array(quality_of_life['Pollution Index'])\n",
    "cost_index = np.array(quality_of_life['Cost of Living Index'])"
   ]
  },
  {
   "cell_type": "markdown",
   "id": "7f0413a0",
   "metadata": {},
   "source": [
    "- sorting, adding, removing https://numpy.org/devdocs/user/absolute_beginners.html#adding-removing-and-sorting-elements"
   ]
  },
  {
   "cell_type": "markdown",
   "id": "88b75b7b",
   "metadata": {},
   "source": [
    "## Plotting"
   ]
  },
  {
   "cell_type": "code",
   "execution_count": 49,
   "id": "0622f872",
   "metadata": {},
   "outputs": [],
   "source": [
    "import matplotlib.pyplot as plt"
   ]
  },
  {
   "cell_type": "code",
   "execution_count": 50,
   "id": "e31b1ded",
   "metadata": {},
   "outputs": [
    {
     "data": {
      "text/plain": [
       "[<matplotlib.lines.Line2D at 0x7f4b0dcc0e20>]"
      ]
     },
     "execution_count": 50,
     "metadata": {},
     "output_type": "execute_result"
    },
    {
     "data": {
      "image/png": "[encoded data removed]",
      "text/plain": [
       "<Figure size 432x288 with 1 Axes>"
      ]
     },
     "metadata": {
      "needs_background": "light"
     },
     "output_type": "display_data"
    }
   ],
   "source": [
    "plt.plot(np.arange(len(cost_index)), cost_index)"
   ]
  },
  {
   "cell_type": "markdown",
   "id": "9bba842b",
   "metadata": {},
   "source": [
    "## Saving data for later use with `np.savez`"
   ]
  },
  {
   "cell_type": "code",
   "execution_count": 51,
   "id": "68071a69",
   "metadata": {},
   "outputs": [
    {
     "data": {
      "text/plain": [
       "\u001b[0;31mSignature:\u001b[0m \u001b[0mnp\u001b[0m\u001b[0;34m.\u001b[0m\u001b[0msavez\u001b[0m\u001b[0;34m(\u001b[0m\u001b[0mfile\u001b[0m\u001b[0;34m,\u001b[0m \u001b[0;34m*\u001b[0m\u001b[0margs\u001b[0m\u001b[0;34m,\u001b[0m \u001b[0;34m**\u001b[0m\u001b[0mkwds\u001b[0m\u001b[0;34m)\u001b[0m\u001b[0;34m\u001b[0m\u001b[0;34m\u001b[0m\u001b[0m\n",
       "\u001b[0;31mDocstring:\u001b[0m\n",
       "Save several arrays into a single file in uncompressed ``.npz`` format.\n",
       "\n",
       "If arguments are passed in with no keywords, the corresponding variable\n",
       "names, in the ``.npz`` file, are 'arr_0', 'arr_1', etc. If keyword\n",
       "arguments are given, the corresponding variable names, in the ``.npz``\n",
       "file will match the keyword names.\n",
       "\n",
       "Parameters\n",
       "----------\n",
       "file : str or file\n",
       "    Either the filename (string) or an open file (file-like object)\n",
       "    where the data will be saved. If file is a string or a Path, the\n",
       "    ``.npz`` extension will be appended to the filename if it is not\n",
       "    already there.\n",
       "args : Arguments, optional\n",
       "    Arrays to save to the file. Since it is not possible for Python to\n",
       "    know the names of the arrays outside `savez`, the arrays will be saved\n",
       "    with names \"arr_0\", \"arr_1\", and so on. These arguments can be any\n",
       "    expression.\n",
       "kwds : Keyword arguments, optional\n",
       "    Arrays to save to the file. Arrays will be saved in the file with the\n",
       "    keyword names.\n",
       "\n",
       "Returns\n",
       "-------\n",
       "None\n",
       "\n",
       "See Also\n",
       "--------\n",
       "save : Save a single array to a binary file in NumPy format.\n",
       "savetxt : Save an array to a file as plain text.\n",
       "savez_compressed : Save several arrays into a compressed ``.npz`` archive\n",
       "\n",
       "Notes\n",
       "-----\n",
       "The ``.npz`` file format is a zipped archive of files named after the\n",
       "variables they contain.  The archive is not compressed and each file\n",
       "in the archive contains one variable in ``.npy`` format. For a\n",
       "description of the ``.npy`` format, see :py:mod:`numpy.lib.format`.\n",
       "\n",
       "When opening the saved ``.npz`` file with `load` a `NpzFile` object is\n",
       "returned. This is a dictionary-like object which can be queried for\n",
       "its list of arrays (with the ``.files`` attribute), and for the arrays\n",
       "themselves.\n",
       "\n",
       "When saving dictionaries, the dictionary keys become filenames\n",
       "inside the ZIP archive. Therefore, keys should be valid filenames.\n",
       "E.g., avoid keys that begin with ``/`` or contain ``.``.\n",
       "\n",
       "Examples\n",
       "--------\n",
       ">>> from tempfile import TemporaryFile\n",
       ">>> outfile = TemporaryFile()\n",
       ">>> x = np.arange(10)\n",
       ">>> y = np.sin(x)\n",
       "\n",
       "Using `savez` with \\*args, the arrays are saved with default names.\n",
       "\n",
       ">>> np.savez(outfile, x, y)\n",
       ">>> _ = outfile.seek(0) # Only needed here to simulate closing & reopening file\n",
       ">>> npzfile = np.load(outfile)\n",
       ">>> npzfile.files\n",
       "['arr_0', 'arr_1']\n",
       ">>> npzfile['arr_0']\n",
       "array([0, 1, 2, 3, 4, 5, 6, 7, 8, 9])\n",
       "\n",
       "Using `savez` with \\**kwds, the arrays are saved with the keyword names.\n",
       "\n",
       ">>> outfile = TemporaryFile()\n",
       ">>> np.savez(outfile, x=x, y=y)\n",
       ">>> _ = outfile.seek(0)\n",
       ">>> npzfile = np.load(outfile)\n",
       ">>> sorted(npzfile.files)\n",
       "['x', 'y']\n",
       ">>> npzfile['x']\n",
       "array([0, 1, 2, 3, 4, 5, 6, 7, 8, 9])\n",
       "\u001b[0;31mFile:\u001b[0m      ~/.conda/envs/work/lib/python3.9/site-packages/numpy/lib/npyio.py\n",
       "\u001b[0;31mType:\u001b[0m      function\n"
      ]
     },
     "metadata": {},
     "output_type": "display_data"
    }
   ],
   "source": [
    "np.savez?"
   ]
  },
  {
   "cell_type": "code",
   "execution_count": 52,
   "id": "1ced72ca",
   "metadata": {},
   "outputs": [],
   "source": [
    "np.savez('cost_index.npz', cost_index)"
   ]
  },
  {
   "cell_type": "code",
   "execution_count": 53,
   "id": "3e403edd",
   "metadata": {},
   "outputs": [
    {
     "name": "stdout",
     "output_type": "stream",
     "text": [
      "01_Intro.ipynb                        03_Vectorization.ipynb  cost_index.npz\n",
      "02_How_to_write_efficient_code.ipynb  04_Submodules.ipynb     README.md\n"
     ]
    }
   ],
   "source": [
    "!ls"
   ]
  },
  {
   "cell_type": "markdown",
   "id": "e3d9fb4a",
   "metadata": {},
   "source": [
    "---"
   ]
  },
  {
   "cell_type": "markdown",
   "id": "51928877",
   "metadata": {},
   "source": [
    "## Read more"
   ]
  },
  {
   "cell_type": "markdown",
   "id": "b50ec4c5",
   "metadata": {},
   "source": [
    "- [NumPy functions and methods overview](https://numpy.org/devdocs/user/quickstart.html#functions-and-methods-overview)\n",
    "- [NumPy Quickstart guide](https://numpy.org/devdocs/user/quickstart.html)\n",
    "- [NumPy for absolute beginners](https://numpy.org/devdocs/user/absolute_beginners.html)"
   ]
  },
  {
   "cell_type": "code",
   "execution_count": null,
   "id": "5477085c",
   "metadata": {},
   "outputs": [],
   "source": []
  }
 ],
 "metadata": {
  "kernelspec": {
   "display_name": "Python 3",
   "language": "python",
   "name": "python3"
  },
  "language_info": {
   "codemirror_mode": {
    "name": "ipython",
    "version": 3
   },
   "file_extension": ".py",
   "mimetype": "text/x-python",
   "name": "python",
   "nbconvert_exporter": "python",
   "pygments_lexer": "ipython3",
   "version": "3.9.0"
  }
 },
 "nbformat": 4,
 "nbformat_minor": 5
}
