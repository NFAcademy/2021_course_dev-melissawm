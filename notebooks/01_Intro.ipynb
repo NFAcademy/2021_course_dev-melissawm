{
 "cells": [
  {
   "cell_type": "markdown",
   "id": "junior-compensation",
   "metadata": {},
   "source": [
    "# Introduction"
   ]
  },
  {
   "cell_type": "markdown",
   "id": "forty-installation",
   "metadata": {},
   "source": [
    "In this notebook, you will learn about\n",
    "- Getting data from a csv file\n",
    "- Basic indexing and processing\n",
    "- Exploring array properties"
   ]
  },
  {
   "cell_type": "markdown",
   "id": "apart-equilibrium",
   "metadata": {},
   "source": [
    "---"
   ]
  },
  {
   "cell_type": "markdown",
   "id": "miniature-mathematics",
   "metadata": {},
   "source": [
    "## 1. What is NumPy?"
   ]
  },
  {
   "cell_type": "markdown",
   "id": "hungarian-adventure",
   "metadata": {},
   "source": [
    "NumPy (Numerical Python) is an open source Python library that’s used in almost every field of science and engineering. It’s the universal standard for working with numerical data in Python, and it’s at the core of the scientific Python and PyData ecosystems. NumPy users include everyone from beginning coders to experienced researchers doing state-of-the-art scientific and industrial research and development. The NumPy API is used extensively in Pandas, SciPy, Matplotlib, scikit-learn, scikit-image and most other data science and scientific Python packages.\n",
    "\n",
    "The NumPy library contains multidimensional array and matrix data structures (you’ll find more information about this in later sections). It provides ndarray, a homogeneous n-dimensional array object, with methods to efficiently operate on it. NumPy can be used to perform a wide variety of mathematical operations on arrays. It adds powerful data structures to Python that guarantee efficient calculations with arrays and matrices and it supplies an enormous library of high-level mathematical functions that operate on these arrays and matrices.\n",
    "\n",
    "Learn more about NumPy [here](https://numpy.org/devdocs/user/whatisnumpy.html#whatisnumpy)."
   ]
  },
  {
   "cell_type": "markdown",
   "id": "promotional-tennessee",
   "metadata": {},
   "source": [
    "### Getting started"
   ]
  },
  {
   "cell_type": "markdown",
   "id": "functional-strategy",
   "metadata": {},
   "source": [
    "To access NumPy and its functions import it in your Python code like this:"
   ]
  },
  {
   "cell_type": "code",
   "execution_count": null,
   "id": "utility-chess",
   "metadata": {},
   "outputs": [],
   "source": [
    "import numpy as np"
   ]
  },
  {
   "cell_type": "markdown",
   "id": "forty-suite",
   "metadata": {},
   "source": [
    "We use the widely adopted convention to shorten `numpy` to `np` in our\n",
    "examples. The shortened version makes code easier to read. "
   ]
  },
  {
   "cell_type": "markdown",
   "id": "educational-linux",
   "metadata": {},
   "source": [
    "### What's the difference between a Python list and a NumPy array?"
   ]
  },
  {
   "cell_type": "markdown",
   "id": "charming-physiology",
   "metadata": {},
   "source": [
    "NumPy gives you fast and efficient ways to create arrays and process\n",
    "numerical data. A Python list can contain different data types\n",
    "within a single list, but all of the elements in a NumPy array should be\n",
    "homogeneous. The mathematical operations that are meant to be performed\n",
    "on arrays would be extremely inefficient if the arrays weren’t\n",
    "homogeneous.\n",
    "\n",
    "#### Homogeneous list and array\n",
    "\n",
    "`my_list = [1, 2, 3]` and `my_array = np.array([1, 2, 3])`\n",
    "\n",
    "#### Inhomogenous list\n",
    "\n",
    "`my_inhomogenous_list = [1, '2', 'hello']`"
   ]
  },
  {
   "cell_type": "markdown",
   "id": "unique-repair",
   "metadata": {},
   "source": [
    "### Why use NumPy?"
   ]
  },
  {
   "cell_type": "markdown",
   "id": "encouraging-dance",
   "metadata": {},
   "source": [
    "NumPy arrays are faster and more compact than Python lists. An array consumes less memory and is convenient to use. NumPy uses much less memory to store data and it provides a mechanism of specifying the data types. This allows the code to be optimized even further."
   ]
  },
  {
   "cell_type": "markdown",
   "id": "affecting-ocean",
   "metadata": {},
   "source": [
    "### What is an array?"
   ]
  },
  {
   "cell_type": "markdown",
   "id": "nutritional-learning",
   "metadata": {},
   "source": [
    "An array is a central data structure of the NumPy library. An array is a grid of values and it contains information about the raw data, how to locate an element, and how to interpret an element. It has a grid of elements that can be indexed in various ways. The elements are all of the same type, referred to as the array dtype. In a sense, arrays can be seen as generalized vectors or matrices commonly used in mathematics.\n",
    "\n",
    "An array can be indexed by a tuple of integers, by booleans, by another array, or by integers. The rank of the array is the number of dimensions. The shape of the array is a tuple of integers giving the size of the array along each dimension.\n",
    "\n",
    "We can initialize NumPy arrays from Python lists with the `np.array()`\n",
    "function. Nested lists create two- or higher-dimensional data. \n",
    "\n",
    "For example:"
   ]
  },
  {
   "cell_type": "code",
   "execution_count": null,
   "id": "fifth-density",
   "metadata": {},
   "outputs": [],
   "source": [
    "a = np.array([1, 2, 3, 4, 5, 6])"
   ]
  },
  {
   "cell_type": "markdown",
   "id": "olive-spelling",
   "metadata": {},
   "source": [
    "or"
   ]
  },
  {
   "cell_type": "code",
   "execution_count": null,
   "id": "flexible-england",
   "metadata": {},
   "outputs": [],
   "source": [
    "a = np.array([[1, 2, 3, 4], \n",
    "              [5, 6, 7, 8], \n",
    "              [9, 10, 11, 12]])"
   ]
  },
  {
   "cell_type": "markdown",
   "id": "artificial-aurora",
   "metadata": {},
   "source": [
    "We use square brackets to access the elements in the array. When you’re accessing elements, remember that indexing in NumPy starts at 0. That means that if you want to access the first element in your array, you’ll be accessing element “0”."
   ]
  },
  {
   "cell_type": "code",
   "execution_count": null,
   "id": "acting-collect",
   "metadata": {},
   "outputs": [],
   "source": [
    "print(a[0])"
   ]
  },
  {
   "cell_type": "markdown",
   "id": "empty-kidney",
   "metadata": {},
   "source": [
    "An array is often referred to as a “ndarray.” This is shorthand for\n",
    "“N-dimensional array.” An N-dimensional array is an array with any\n",
    "number of dimensions e.g. a 1-D array _or vector_ has a single dimension\n",
    "and a 2-D array _or matrix_ has two dimensions.  The NumPy ndarray class\n",
    "is used to represent both matrices and vectors. For 3-D or higher\n",
    "dimensional arrays, the term tensor is also commonly used."
   ]
  },
  {
   "cell_type": "markdown",
   "id": "developmental-fancy",
   "metadata": {},
   "source": [
    "<img src=\"https://www.oreilly.com/library/view/elegant-scipy/9781491922927/assets/elsp_0105.png\" alt=\"Image showing 3 diagrams representing arrays of different shapes and sizes. First, there is a 1D array, represented by four squares stacked horizontally, an indication that this represents axis 0, and shape (4,). In the center, there is a representation of a 2D array, with 6 squares organized in a 2 rows, 3 columns matrix. It shows axis 0 and axis 1 and shape (2, 3). Finally, a diagram of a 3D array, showing a 'cube' of data with shape (4, 3, 2)- 4 items in axis 0, 3 items in axis 1 and 2 items in axis 2.\" width=\"800\" align=\"middle\"/>"
   ]
  },
  {
   "cell_type": "markdown",
   "id": "sporting-quantity",
   "metadata": {},
   "source": [
    "*Image credits: [Elegant SciPy, O'Reilly](https://github.com/elegant-scipy/elegant-scipy)*"
   ]
  },
  {
   "cell_type": "markdown",
   "id": "other-stability",
   "metadata": {},
   "source": [
    "### What are the attributes of an array?"
   ]
  },
  {
   "cell_type": "markdown",
   "id": "stone-warren",
   "metadata": {},
   "source": [
    "An array is usually a fixed-size container of items of the same type and\n",
    "size. The number of dimensions and items in an array is defined by its\n",
    "shape. The shape of an array is a tuple of non-negative integers that\n",
    "specify the sizes of each dimension.\n",
    "\n",
    "In NumPy, dimensions are called axes. This means that if you have a 2D array that looks like this:\n",
    "\n",
    "```python\n",
    "np.array(\n",
    "[[0., 0., 0.],\n",
    " [1., 1., 1.]]\n",
    " )\n",
    "```\n",
    "\n",
    "Your array has 2 axes. The first axis has a length of 2 and the second axis has a length of 3."
   ]
  },
  {
   "cell_type": "markdown",
   "id": "sitting-atmosphere",
   "metadata": {},
   "source": [
    "> **Note** Just like in other Python container objects, the contents of\n",
    "> an array can be accessed and modified by indexing or slicing the\n",
    "> array. Unlike the typical container objects, different arrays can\n",
    "> share the same data, so changes made on one array might be visible in\n",
    "> another.\n",
    "\n",
    "Array attributes reflect information intrinsic to the array itself. If\n",
    "you need to get, or even set, properties of an array without creating a\n",
    "new array, you can often access an array through its attributes."
   ]
  },
  {
   "cell_type": "markdown",
   "id": "civilian-society",
   "metadata": {},
   "source": [
    "## 2. A problem to explore"
   ]
  },
  {
   "cell_type": "markdown",
   "id": "rural-still",
   "metadata": {},
   "source": [
    "From [Wikipedia](https://en.wikipedia.org/wiki/Cost_of_living):\n",
    "    \n",
    "    Cost of living is the cost of maintaining a certain standard of living. Changes in the cost of living over time are often operationalized in a cost-of-living index. Cost of living calculations are also used to compare the cost of maintaining a certain standard of living in different geographic areas. Differences in cost of living between locations can also be measured in terms of purchasing power parity rates. \n",
    "    \n",
    "From [Numbeo](https://www.numbeo.com), it is possible to obtain data about the cost of living and quality of life indices for several cities across the world as a `.csv` (comma separated values) file. We will explore this data using NumPy and its array processing capabilities."
   ]
  },
  {
   "cell_type": "markdown",
   "id": "current-drain",
   "metadata": {},
   "source": [
    "### Getting data from a `.csv` file"
   ]
  },
  {
   "cell_type": "markdown",
   "id": "sophisticated-possibility",
   "metadata": {},
   "source": [
    "CSV files are standard in data analysis and other applications. We want\n",
    "to process data as arrays. We will use the\n",
    "[pandas library](https://pandas.pydata.org/), which is the industry\n",
    "standard, to obtain the data and later convert it into NumPy arrays."
   ]
  },
  {
   "cell_type": "code",
   "execution_count": null,
   "id": "upset-castle",
   "metadata": {},
   "outputs": [],
   "source": [
    "import pandas as pd\n",
    "\n",
    "quality_of_life = pd.read_csv('../data/quality_of_life_index.csv')"
   ]
  },
  {
   "cell_type": "markdown",
   "id": "confused-worry",
   "metadata": {},
   "source": [
    "First, let's explore what is in this file: "
   ]
  },
  {
   "cell_type": "code",
   "execution_count": null,
   "id": "corresponding-garlic",
   "metadata": {},
   "outputs": [],
   "source": [
    "quality_of_life"
   ]
  },
  {
   "cell_type": "markdown",
   "id": "smart-basin",
   "metadata": {},
   "source": [
    "From [Numbeo](https://www.numbeo.com/quality-of-life/indices_explained.jsp):\n",
    "\n",
    "    Quality of Life Index (higher is better) is an estimation of overall quality of life by using an empirical formula which takes into account purchasing power index (higher is better), pollution index (lower is better), house price to income ratio (lower is better), cost of living index (lower is better), safety index (higher is better), health care index (higher is better), traffic commute time index (lower is better) and climate index (higher is better).\n",
    "\n",
    "For more details on the other indices, check Numbeo's website."
   ]
  },
  {
   "cell_type": "markdown",
   "id": "separate-enforcement",
   "metadata": {},
   "source": [
    "## 3. Array properties"
   ]
  },
  {
   "cell_type": "markdown",
   "id": "spectacular-machinery",
   "metadata": {},
   "source": [
    "We can identify this `quality_of_life` object by inspecting its type:"
   ]
  },
  {
   "cell_type": "code",
   "execution_count": null,
   "id": "formal-sculpture",
   "metadata": {},
   "outputs": [],
   "source": [
    "type(quality_of_life)"
   ]
  },
  {
   "cell_type": "markdown",
   "id": "opposed-lecture",
   "metadata": {},
   "source": [
    "At this point, because we used pandas to obtain the data from the csv files, what we have are objects called [DataFrames](https://pandas.pydata.org/docs/reference/api/pandas.DataFrame.html)."
   ]
  },
  {
   "cell_type": "markdown",
   "id": "private-valley",
   "metadata": {},
   "source": [
    "Because we want to work with NumPy arrays, we can convert this data using the `np.array()` function like we did earlier for lists:"
   ]
  },
  {
   "cell_type": "code",
   "execution_count": null,
   "id": "latest-findings",
   "metadata": {},
   "outputs": [],
   "source": [
    "data = np.array(quality_of_life)\n",
    "data"
   ]
  },
  {
   "cell_type": "markdown",
   "id": "adverse-funds",
   "metadata": {},
   "source": [
    "### Data type"
   ]
  },
  {
   "cell_type": "markdown",
   "id": "continuous-congo",
   "metadata": {},
   "source": [
    "The last line in the previous operation containes the expression `dtype=object`. As we mentioned before, what makes NumPy arrays efficient is the fact that it contains homogeneous data, meaning that every entry should have the same data type. Because we tried creating an array with different data types (integer numbers in the first column, character strings in the second, floating point numbers for the others), the only possible way for this array to contain a homogeneous set of data is by using the `object` data type, which is very general and includes all the data described. However, this is clearly as inefficient as using a plain Python list (maybe even worse!).\n",
    "\n",
    "To fix this, let's select only a subset of the data to put in our NumPy array. Using the pandas syntax, this can be done by, for example, choosing the `'Quality of Life Index'` columns from the pandas DataFrame, and converting it into a NumPy array:"
   ]
  },
  {
   "cell_type": "code",
   "execution_count": null,
   "id": "smart-factor",
   "metadata": {},
   "outputs": [],
   "source": [
    "quality_index = np.array(quality_of_life['Quality of Life Index'])\n",
    "quality_index"
   ]
  },
  {
   "cell_type": "markdown",
   "id": "plain-logic",
   "metadata": {},
   "source": [
    "Now, you can check the data type of this new array by querying the `dtype` property of this array:"
   ]
  },
  {
   "cell_type": "code",
   "execution_count": null,
   "id": "occasional-trick",
   "metadata": {},
   "outputs": [],
   "source": [
    "quality_index.dtype"
   ]
  },
  {
   "cell_type": "markdown",
   "id": "exempt-invite",
   "metadata": {},
   "source": [
    "As expected, the data type for the `quality_index` array is now `float64`, or 64-bit floating point numbers."
   ]
  },
  {
   "cell_type": "markdown",
   "id": "lesser-footwear",
   "metadata": {},
   "source": [
    "Now, check another subset of this DataFrame, the `Rank` column:"
   ]
  },
  {
   "cell_type": "code",
   "execution_count": null,
   "id": "nonprofit-custom",
   "metadata": {},
   "outputs": [],
   "source": [
    "rank = np.array(quality_of_life['Rank'])\n",
    "rank"
   ]
  },
  {
   "cell_type": "code",
   "execution_count": null,
   "id": "billion-dimension",
   "metadata": {},
   "outputs": [],
   "source": [
    "rank.dtype"
   ]
  },
  {
   "cell_type": "markdown",
   "id": "satisfied-destination",
   "metadata": {},
   "source": [
    "Here we have integer data, but note that we could have selected a different data type to represent these items by using the `dtype` keyword when calling the `np.array()` function. Different data types available can be found at [NumPy's Array objects](https://numpy.org/devdocs/reference/arrays.dtypes.html). For example, we can try with the `np.float64` data type:"
   ]
  },
  {
   "cell_type": "code",
   "execution_count": null,
   "id": "compliant-control",
   "metadata": {},
   "outputs": [],
   "source": [
    "rank_float = np.array(rank, dtype=np.float64)\n",
    "rank_float"
   ]
  },
  {
   "cell_type": "code",
   "execution_count": null,
   "id": "excess-american",
   "metadata": {},
   "outputs": [],
   "source": [
    "rank_float.dtype"
   ]
  },
  {
   "cell_type": "markdown",
   "id": "authorized-bonus",
   "metadata": {},
   "source": [
    "### Shape and size"
   ]
  },
  {
   "cell_type": "markdown",
   "id": "chubby-alberta",
   "metadata": {},
   "source": [
    "At this point, we may also be interested in checking for the physical layout of this array, like its shape and size. If you are used to Python lists, you may be tempted to apply the `len` function to this array:"
   ]
  },
  {
   "cell_type": "code",
   "execution_count": null,
   "id": "photographic-yellow",
   "metadata": {},
   "outputs": [],
   "source": [
    "len(quality_index)"
   ]
  },
  {
   "cell_type": "markdown",
   "id": "operational-springer",
   "metadata": {},
   "source": [
    "However, there are specific properties provided by NumPy for this information:"
   ]
  },
  {
   "cell_type": "markdown",
   "id": "amino-manchester",
   "metadata": {},
   "source": [
    "- `.ndim` will tell you the number of axes, or dimensions, of the array.\n",
    "- `.size` will tell you the total number of elements of the array. This is the product of the elements of the array’s shape.\n",
    "- `.shape` will display a tuple of integers that indicate the number of elements stored along each dimension of the array. If, for example, you have a 2-D array with 2 rows and 3 columns, the shape of your array is (2, 3)."
   ]
  },
  {
   "cell_type": "code",
   "execution_count": null,
   "id": "acute-appendix",
   "metadata": {},
   "outputs": [],
   "source": [
    "quality_index.ndim"
   ]
  },
  {
   "cell_type": "code",
   "execution_count": null,
   "id": "sound-facility",
   "metadata": {
    "tags": []
   },
   "outputs": [],
   "source": [
    "quality_index.size"
   ]
  },
  {
   "cell_type": "code",
   "execution_count": null,
   "id": "descending-eugene",
   "metadata": {},
   "outputs": [],
   "source": [
    "quality_index.shape"
   ]
  },
  {
   "cell_type": "markdown",
   "id": "minus-secret",
   "metadata": {},
   "source": [
    "We could have selected a 2-dimensional subset of the data, by choosing to represent two columns of the initial DataFrame as a NumPy array:"
   ]
  },
  {
   "cell_type": "code",
   "execution_count": null,
   "id": "honest-addiction",
   "metadata": {},
   "outputs": [],
   "source": [
    "quality_safety = np.array(quality_of_life[['Quality of Life Index', 'Safety Index']])"
   ]
  },
  {
   "cell_type": "code",
   "execution_count": null,
   "id": "noble-malpractice",
   "metadata": {
    "scrolled": true,
    "tags": []
   },
   "outputs": [],
   "source": [
    "quality_safety"
   ]
  },
  {
   "cell_type": "markdown",
   "id": "another-morning",
   "metadata": {
    "tags": []
   },
   "source": [
    "Now, for this two-dimensional array, we have:"
   ]
  },
  {
   "cell_type": "code",
   "execution_count": null,
   "id": "informational-trout",
   "metadata": {},
   "outputs": [],
   "source": [
    "len(quality_safety)"
   ]
  },
  {
   "cell_type": "code",
   "execution_count": null,
   "id": "indian-nickel",
   "metadata": {},
   "outputs": [],
   "source": [
    "quality_safety.ndim"
   ]
  },
  {
   "cell_type": "code",
   "execution_count": null,
   "id": "substantial-prague",
   "metadata": {},
   "outputs": [],
   "source": [
    "quality_safety.size"
   ]
  },
  {
   "cell_type": "code",
   "execution_count": null,
   "id": "smart-flood",
   "metadata": {},
   "outputs": [],
   "source": [
    "quality_safety.shape"
   ]
  },
  {
   "cell_type": "markdown",
   "id": "suspected-saturn",
   "metadata": {},
   "source": [
    "In this case, it is clear that the `len` function is no longer appropriate, and that NumPy arrays require a bit more information to be understood correctly."
   ]
  },
  {
   "cell_type": "markdown",
   "id": "romance-factory",
   "metadata": {},
   "source": [
    "---"
   ]
  },
  {
   "cell_type": "markdown",
   "id": "exterior-burner",
   "metadata": {},
   "source": [
    "#### Self-assessment 1"
   ]
  },
  {
   "cell_type": "markdown",
   "id": "suspended-circular",
   "metadata": {},
   "source": [
    "---"
   ]
  },
  {
   "cell_type": "markdown",
   "id": "loose-silicon",
   "metadata": {},
   "source": [
    "### Creating arrays"
   ]
  },
  {
   "cell_type": "markdown",
   "id": "complicated-chain",
   "metadata": {},
   "source": [
    "You can create arrays [in several ways](https://numpy.org/devdocs/user/basics.creation.html). We have seen above how to create an array from a list, but we could also create an array with zeros in every entry, by choosing its shape:"
   ]
  },
  {
   "cell_type": "code",
   "execution_count": null,
   "id": "independent-price",
   "metadata": {},
   "outputs": [],
   "source": [
    "z = np.zeros((2, 3))\n",
    "z"
   ]
  },
  {
   "cell_type": "markdown",
   "id": "empty-pennsylvania",
   "metadata": {},
   "source": [
    "Similarly, we can create arrays containing only the value `1`:"
   ]
  },
  {
   "cell_type": "code",
   "execution_count": null,
   "id": "neural-device",
   "metadata": {},
   "outputs": [],
   "source": [
    "all_ones = np.ones((2, 6, 3))\n",
    "all_ones"
   ]
  },
  {
   "cell_type": "markdown",
   "id": "august-probe",
   "metadata": {},
   "source": [
    "We can specify the dtype. If we wanted `all_ones` to be an integer array:"
   ]
  },
  {
   "cell_type": "code",
   "execution_count": null,
   "id": "hydraulic-shore",
   "metadata": {},
   "outputs": [],
   "source": [
    "all_ones = np.ones((2, 6, 3), dtype=np.int64)\n",
    "all_ones"
   ]
  },
  {
   "cell_type": "markdown",
   "id": "liable-advisory",
   "metadata": {},
   "source": [
    "It is often useful to create arrays from regularly incrementing values. We can do that with the `np.arange()` function:"
   ]
  },
  {
   "cell_type": "code",
   "execution_count": null,
   "id": "earlier-olympus",
   "metadata": {
    "scrolled": true,
    "tags": []
   },
   "outputs": [],
   "source": [
    "np.arange?"
   ]
  },
  {
   "cell_type": "markdown",
   "id": "empty-virgin",
   "metadata": {},
   "source": [
    "We only need to specify the `stop` parameter, but we can be more specific by using the `start` and `step` parameters as needed. For example, to create an array of even numbers between 10 and 20, we can do"
   ]
  },
  {
   "cell_type": "code",
   "execution_count": null,
   "id": "final-large",
   "metadata": {},
   "outputs": [],
   "source": [
    "np.arange(10, 20, 2)"
   ]
  },
  {
   "cell_type": "markdown",
   "id": "reserved-carol",
   "metadata": {},
   "source": [
    "> **Note**: The `stop` value is not included in the output."
   ]
  },
  {
   "cell_type": "markdown",
   "id": "particular-license",
   "metadata": {},
   "source": [
    "---"
   ]
  },
  {
   "cell_type": "markdown",
   "id": "southwest-finish",
   "metadata": {},
   "source": [
    "#### Self-assessment 2"
   ]
  },
  {
   "cell_type": "markdown",
   "id": "equivalent-words",
   "metadata": {},
   "source": [
    "---"
   ]
  },
  {
   "cell_type": "markdown",
   "id": "attractive-poverty",
   "metadata": {},
   "source": [
    "## 4. Basic indexing and processing"
   ]
  },
  {
   "cell_type": "markdown",
   "id": "established-decision",
   "metadata": {},
   "source": [
    "In the original `quality_of_life` table, the data corresponding to the city of Lagos in Nigeria had index 244:"
   ]
  },
  {
   "cell_type": "code",
   "execution_count": null,
   "id": "cross-hampton",
   "metadata": {},
   "outputs": [],
   "source": [
    "quality_of_life"
   ]
  },
  {
   "cell_type": "markdown",
   "id": "numerous-startup",
   "metadata": {},
   "source": [
    "To consult data corresponding to Lagos from the current `quality_safety` array, we will access the entry with index 244:"
   ]
  },
  {
   "cell_type": "code",
   "execution_count": null,
   "id": "alleged-nevada",
   "metadata": {},
   "outputs": [],
   "source": [
    "quality_safety[244]"
   ]
  },
  {
   "cell_type": "markdown",
   "id": "instructional-arrangement",
   "metadata": {},
   "source": [
    "Take some time to check that the values obtained here are as expected from the DataFrame above."
   ]
  },
  {
   "cell_type": "markdown",
   "id": "organized-index",
   "metadata": {},
   "source": [
    "Because of the way we built this array, at position 244 we have two items: the Quality of Life Index in the first position, and the Safety Index in the second position:"
   ]
  },
  {
   "cell_type": "code",
   "execution_count": null,
   "id": "liberal-florence",
   "metadata": {
    "scrolled": true,
    "tags": []
   },
   "outputs": [],
   "source": [
    "quality_safety"
   ]
  },
  {
   "cell_type": "markdown",
   "id": "north-relative",
   "metadata": {},
   "source": [
    "This means that we need two indices in order to access one individual entry, one for each axis. For example, to get the Quality of Life Index located at row 244 and column 0, we can do"
   ]
  },
  {
   "cell_type": "code",
   "execution_count": null,
   "id": "speaking-houston",
   "metadata": {},
   "outputs": [],
   "source": [
    "quality_safety[244, 0]"
   ]
  },
  {
   "cell_type": "markdown",
   "id": "altered-ghost",
   "metadata": {},
   "source": [
    "> **Note**: It is not necessary to separate each dimension's index\n",
    "> into its own set of square brackets, but it is allowed e.g.\n",
    "> `quality_safety[244][0]`"
   ]
  },
  {
   "cell_type": "markdown",
   "id": "international-touch",
   "metadata": {},
   "source": [
    "Because of the nested nature of an ndarray, you can think of each row in the `quality_safety` array as a 1D array with two elements. Indeed:"
   ]
  },
  {
   "cell_type": "code",
   "execution_count": null,
   "id": "polished-prototype",
   "metadata": {},
   "outputs": [],
   "source": [
    "quality_safety[0]"
   ]
  },
  {
   "cell_type": "markdown",
   "id": "distinct-underwear",
   "metadata": {},
   "source": [
    "Just like for regular Python lists, we can use the index `-1` to select the last entry in our array:"
   ]
  },
  {
   "cell_type": "code",
   "execution_count": null,
   "id": "creative-broad",
   "metadata": {},
   "outputs": [],
   "source": [
    "quality_safety[-1]"
   ]
  },
  {
   "cell_type": "markdown",
   "id": "worthy-grill",
   "metadata": {},
   "source": [
    "This is a two-dimensional array so the shape is a 2-item tuple. "
   ]
  },
  {
   "cell_type": "code",
   "execution_count": null,
   "id": "delayed-newfoundland",
   "metadata": {},
   "outputs": [],
   "source": [
    "quality_safety.shape"
   ]
  },
  {
   "cell_type": "markdown",
   "id": "lovely-rogers",
   "metadata": {},
   "source": [
    "Because the indexing starts at 0, a shape of `(247, 2)` means an index range from 0 to 246, and if we try to access index 247 this will raise an `IndexError`:"
   ]
  },
  {
   "cell_type": "markdown",
   "id": "western-lecture",
   "metadata": {},
   "source": [
    "```ipython\n",
    "quality_safety[247]\n",
    "\n",
    "---------------------------------------------------------------------------\n",
    "IndexError                                Traceback (most recent call last)\n",
    "/var/folders/3w/490kdvj917n7kpxjpx14zztw0000gq/T/ipykernel_36431/3641354653.py in <module>\n",
    "----> 1 quality_safety[247]\n",
    "\n",
    "IndexError: index 247 is out of bounds for axis 0 with size 247\n",
    "```"
   ]
  },
  {
   "cell_type": "markdown",
   "id": "known-jersey",
   "metadata": {},
   "source": [
    "---"
   ]
  },
  {
   "cell_type": "markdown",
   "id": "outer-punch",
   "metadata": {
    "tags": []
   },
   "source": [
    "#### Self-assessment 3"
   ]
  },
  {
   "cell_type": "markdown",
   "id": "identical-protein",
   "metadata": {},
   "source": [
    "---"
   ]
  },
  {
   "cell_type": "markdown",
   "id": "knowing-sheet",
   "metadata": {},
   "source": [
    "### Operations between arrays"
   ]
  },
  {
   "cell_type": "markdown",
   "id": "classical-works",
   "metadata": {},
   "source": [
    "Let's gather more data from our initial dataframe:"
   ]
  },
  {
   "cell_type": "code",
   "execution_count": null,
   "id": "excited-gilbert",
   "metadata": {},
   "outputs": [],
   "source": [
    "cost_index = np.array(quality_of_life['Cost of Living Index'])"
   ]
  },
  {
   "cell_type": "markdown",
   "id": "lucky-certificate",
   "metadata": {},
   "source": [
    "Suppose we wish to choose a city with a high quality of life index and a low cost of living index. A (perhaps very simplistic) way of computing this is by computing the ratio of these indexes. The higher the ratio, the closer the city is to our goal. "
   ]
  },
  {
   "cell_type": "markdown",
   "id": "capital-knife",
   "metadata": {},
   "source": [
    "We could do: "
   ]
  },
  {
   "cell_type": "code",
   "execution_count": null,
   "id": "solved-mistake",
   "metadata": {},
   "outputs": [],
   "source": [
    "ratio = np.zeros(cost_index.shape)\n",
    "for i in range(quality_index.shape[0]):\n",
    "    ratio[i] = quality_index[i]/cost_index[i]"
   ]
  },
  {
   "cell_type": "code",
   "execution_count": null,
   "id": "involved-michigan",
   "metadata": {
    "scrolled": true,
    "tags": []
   },
   "outputs": [],
   "source": [
    "ratio"
   ]
  },
  {
   "cell_type": "markdown",
   "id": "outer-frederick",
   "metadata": {},
   "source": [
    "In general, looping through an array is not necessary or efficient. Because of the vectorization properties of NumPy arrays, we could instead operate on these arrays as single objects, simplifying the way we process the data:"
   ]
  },
  {
   "cell_type": "code",
   "execution_count": null,
   "id": "scenic-certificate",
   "metadata": {},
   "outputs": [],
   "source": [
    "ratio = quality_index/cost_index"
   ]
  },
  {
   "cell_type": "markdown",
   "id": "entitled-homeless",
   "metadata": {},
   "source": [
    "This is valid for other operations as well."
   ]
  },
  {
   "cell_type": "code",
   "execution_count": null,
   "id": "stainless-frank",
   "metadata": {
    "scrolled": true,
    "tags": []
   },
   "outputs": [],
   "source": [
    "2*quality_index"
   ]
  },
  {
   "cell_type": "markdown",
   "id": "indirect-knitting",
   "metadata": {},
   "source": [
    "> **Note**: There are subtleties when dealing with arrays of different\n",
    "> shapes, and we will discuss this later when we talk about\n",
    "> Broadcasting."
   ]
  },
  {
   "cell_type": "markdown",
   "id": "assisted-backup",
   "metadata": {},
   "source": [
    "**Beware**: Math symbols, including the multiplication symbol `*`, mean element-by-element multiplication.\n"
   ]
  },
  {
   "cell_type": "code",
   "execution_count": null,
   "id": "recovered-damage",
   "metadata": {},
   "outputs": [],
   "source": [
    "product = rank*quality_index"
   ]
  },
  {
   "cell_type": "code",
   "execution_count": null,
   "id": "destroyed-specific",
   "metadata": {},
   "outputs": [],
   "source": [
    "rank.shape"
   ]
  },
  {
   "cell_type": "code",
   "execution_count": null,
   "id": "hispanic-reunion",
   "metadata": {},
   "outputs": [],
   "source": [
    "quality_index.shape"
   ]
  },
  {
   "cell_type": "code",
   "execution_count": null,
   "id": "chief-desktop",
   "metadata": {},
   "outputs": [],
   "source": [
    "product.shape"
   ]
  },
  {
   "cell_type": "markdown",
   "id": "sized-kazakhstan",
   "metadata": {},
   "source": [
    "To perform a matrix product operation, you can use the operator `@`:"
   ]
  },
  {
   "cell_type": "code",
   "execution_count": null,
   "id": "fewer-walker",
   "metadata": {},
   "outputs": [],
   "source": [
    "rank@quality_index"
   ]
  },
  {
   "cell_type": "markdown",
   "id": "alleged-enemy",
   "metadata": {},
   "source": [
    "This is the same as "
   ]
  },
  {
   "cell_type": "code",
   "execution_count": null,
   "id": "purple-following",
   "metadata": {},
   "outputs": [],
   "source": [
    "np.dot(rank, quality_index)"
   ]
  },
  {
   "cell_type": "markdown",
   "id": "neither-supervision",
   "metadata": {},
   "source": [
    "---"
   ]
  },
  {
   "cell_type": "markdown",
   "id": "hourly-omaha",
   "metadata": {},
   "source": [
    "#### Self-assessment 4"
   ]
  },
  {
   "cell_type": "markdown",
   "id": "concerned-designer",
   "metadata": {},
   "source": [
    "---"
   ]
  },
  {
   "cell_type": "markdown",
   "id": "younger-relief",
   "metadata": {},
   "source": [
    "### Adding, removing and sorting elements"
   ]
  },
  {
   "cell_type": "markdown",
   "id": "conditional-porter",
   "metadata": {},
   "source": [
    "Now, we can try and organize this data by *stacking* the existing arrays, meaning that we will create a 2-dimensional array from these four arrays. We can to that by using `np.stack()`:"
   ]
  },
  {
   "cell_type": "code",
   "execution_count": null,
   "id": "distinguished-manor",
   "metadata": {},
   "outputs": [],
   "source": [
    "new_index = np.stack((rank, quality_index, cost_index, ratio))"
   ]
  },
  {
   "cell_type": "markdown",
   "id": "geographic-spread",
   "metadata": {},
   "source": [
    "This works, but note that"
   ]
  },
  {
   "cell_type": "code",
   "execution_count": null,
   "id": "allied-antique",
   "metadata": {},
   "outputs": [],
   "source": [
    "new_index.shape"
   ]
  },
  {
   "cell_type": "markdown",
   "id": "favorite-adelaide",
   "metadata": {},
   "source": [
    "It would be more natural to organize these by columns, just like in the original dataframe. Now, we could look at the *transpose* of this 2-dimensional array:"
   ]
  },
  {
   "cell_type": "code",
   "execution_count": null,
   "id": "legitimate-steps",
   "metadata": {
    "scrolled": true,
    "tags": []
   },
   "outputs": [],
   "source": [
    "new_index.T"
   ]
  },
  {
   "cell_type": "markdown",
   "id": "durable-nancy",
   "metadata": {},
   "source": [
    "However, looking at the `np.stack` docstring might give us another idea:"
   ]
  },
  {
   "cell_type": "code",
   "execution_count": null,
   "id": "instructional-treasure",
   "metadata": {
    "scrolled": true,
    "tags": []
   },
   "outputs": [],
   "source": [
    "np.stack?"
   ]
  },
  {
   "cell_type": "markdown",
   "id": "adaptive-abortion",
   "metadata": {},
   "source": [
    "Using the `axis` keyword to denote that we want to stack columns (`axis=1`\n",
    ") together, we can get the desired shape:"
   ]
  },
  {
   "cell_type": "code",
   "execution_count": null,
   "id": "following-field",
   "metadata": {},
   "outputs": [],
   "source": [
    "new_index = np.stack((rank, quality_index, cost_index, ratio), axis=1)"
   ]
  },
  {
   "cell_type": "code",
   "execution_count": null,
   "id": "accomplished-concept",
   "metadata": {},
   "outputs": [],
   "source": [
    "new_index.shape"
   ]
  },
  {
   "cell_type": "code",
   "execution_count": null,
   "id": "advised-drunk",
   "metadata": {
    "scrolled": true,
    "tags": []
   },
   "outputs": [],
   "source": [
    "new_index"
   ]
  },
  {
   "cell_type": "markdown",
   "id": "earned-edwards",
   "metadata": {},
   "source": [
    "Now that we have computed the `quality_of_life/cost_of_living` ratio, we can sort the data by this ratio. To do that, we can use the `np.sort()` function from NumPy:  "
   ]
  },
  {
   "cell_type": "code",
   "execution_count": null,
   "id": "environmental-bandwidth",
   "metadata": {
    "scrolled": true,
    "tags": []
   },
   "outputs": [],
   "source": [
    "np.sort(ratio)"
   ]
  },
  {
   "cell_type": "markdown",
   "id": "excellent-specific",
   "metadata": {},
   "source": [
    "We now have the ratios sorted, but we can't identify which city would have the best ratio. We can use `np.argsort()` to help with that:"
   ]
  },
  {
   "cell_type": "code",
   "execution_count": null,
   "id": "moving-grenada",
   "metadata": {},
   "outputs": [],
   "source": [
    "np.argsort(ratio)"
   ]
  },
  {
   "cell_type": "markdown",
   "id": "binding-nitrogen",
   "metadata": {},
   "source": [
    "The result shows the original indices of the sorted elements in our array. This means that the smallest ratio, corresponding to the last element in the sorted `ratio` array, originally had index 132:"
   ]
  },
  {
   "cell_type": "code",
   "execution_count": null,
   "id": "superior-extent",
   "metadata": {},
   "outputs": [],
   "source": [
    "ratio[132]"
   ]
  },
  {
   "cell_type": "markdown",
   "id": "celtic-throw",
   "metadata": {},
   "source": [
    "Now, using the pandas `iloc` syntax, we can recover from our original dataset which city is this:"
   ]
  },
  {
   "cell_type": "code",
   "execution_count": null,
   "id": "distant-ability",
   "metadata": {},
   "outputs": [],
   "source": [
    "quality_of_life.iloc[132]"
   ]
  },
  {
   "cell_type": "markdown",
   "id": "included-scanning",
   "metadata": {},
   "source": [
    "---"
   ]
  },
  {
   "cell_type": "markdown",
   "id": "convinced-forwarding",
   "metadata": {},
   "source": [
    "#### Self-assessment 5"
   ]
  },
  {
   "cell_type": "markdown",
   "id": "derived-overview",
   "metadata": {},
   "source": [
    "---"
   ]
  },
  {
   "cell_type": "markdown",
   "id": "engaging-bikini",
   "metadata": {},
   "source": [
    "---"
   ]
  },
  {
   "cell_type": "markdown",
   "id": "romantic-quarterly",
   "metadata": {},
   "source": [
    "## Read more"
   ]
  },
  {
   "cell_type": "markdown",
   "id": "guilty-cartridge",
   "metadata": {},
   "source": [
    "- Some of the content in this page comes from the [NumPy for absolute beginners](https://numpy.org/devdocs/user/absolute_beginners.html) tutorial in the NumPy documentation.\n",
    "- [NumPy functions and methods overview](https://numpy.org/devdocs/user/quickstart.html#functions-and-methods-overview)\n",
    "- [NumPy Quickstart guide](https://numpy.org/devdocs/user/quickstart.html)"
   ]
  },
  {
   "cell_type": "markdown",
   "id": "cheap-rapid",
   "metadata": {},
   "source": [
    "## Next"
   ]
  },
  {
   "cell_type": "markdown",
   "id": "laughing-africa",
   "metadata": {},
   "source": [
    "Go to [Notebook 2: How to write efficient code with NumPy](02_How_to_write_efficient_code.ipynb)."
   ]
  }
 ],
 "metadata": {
  "kernelspec": {
   "display_name": "Python 3 (ipykernel)",
   "language": "python",
   "name": "python3"
  },
  "language_info": {
   "codemirror_mode": {
    "name": "ipython",
    "version": 3
   },
   "file_extension": ".py",
   "mimetype": "text/x-python",
   "name": "python",
   "nbconvert_exporter": "python",
   "pygments_lexer": "ipython3",
   "version": "3.9.6"
  }
 },
 "nbformat": 4,
 "nbformat_minor": 5
}
