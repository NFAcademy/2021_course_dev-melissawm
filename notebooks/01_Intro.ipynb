{
 "cells": [
  {
   "cell_type": "markdown",
   "id": "c51e3bc3",
   "metadata": {},
   "source": [
    "# Intro"
   ]
  },
  {
   "cell_type": "markdown",
   "id": "c4ae2855",
   "metadata": {},
   "source": [
    "In this notebook, you will learn about\n",
    "- Getting data from a csv file\n",
    "- Basic indexing and manipulation\n",
    "- Saving data for later use with `np.savez`\n",
    "- Basic built-in NumPy tools for plotting and integrating with Matplotlib."
   ]
  },
  {
   "cell_type": "markdown",
   "id": "a486d1df",
   "metadata": {},
   "source": [
    "---"
   ]
  },
  {
   "cell_type": "markdown",
   "id": "469d3a98",
   "metadata": {},
   "source": [
    "## 1. What is NumPy?"
   ]
  },
  {
   "cell_type": "markdown",
   "id": "2a5e5def",
   "metadata": {},
   "source": [
    "NumPy (Numerical Python) is an open source Python library that’s used in almost every field of science and engineering. It’s the universal standard for working with numerical data in Python, and it’s at the core of the scientific Python and PyData ecosystems. NumPy users include everyone from beginning coders to experienced researchers doing state-of-the-art scientific and industrial research and development. The NumPy API is used extensively in Pandas, SciPy, Matplotlib, scikit-learn, scikit-image and most other data science and scientific Python packages.\n",
    "\n",
    "The NumPy library contains multidimensional array and matrix data structures (you’ll find more information about this in later sections). It provides ndarray, a homogeneous n-dimensional array object, with methods to efficiently operate on it. NumPy can be used to perform a wide variety of mathematical operations on arrays. It adds powerful data structures to Python that guarantee efficient calculations with arrays and matrices and it supplies an enormous library of high-level mathematical functions that operate on these arrays and matrices.\n",
    "\n",
    "Learn more about NumPy [here!](https://numpy.org/devdocs/user/whatisnumpy.html#whatisnumpy)"
   ]
  },
  {
   "cell_type": "markdown",
   "id": "ab2c14b8",
   "metadata": {},
   "source": [
    "To access NumPy and its functions import it in your Python code like this:"
   ]
  },
  {
   "cell_type": "code",
   "execution_count": null,
   "id": "cc2e5f9e",
   "metadata": {},
   "outputs": [],
   "source": [
    "import numpy as np"
   ]
  },
  {
   "cell_type": "markdown",
   "id": "d3b68b82",
   "metadata": {},
   "source": [
    "We shorten the imported name to `np` for better readability of code using NumPy. This is a widely adopted convention that you should follow so that anyone working with your code can easily understand it."
   ]
  },
  {
   "cell_type": "markdown",
   "id": "895399dd",
   "metadata": {},
   "source": [
    "### What's the difference between a Python list and a NumPy array?"
   ]
  },
  {
   "cell_type": "markdown",
   "id": "ab363738",
   "metadata": {},
   "source": [
    "NumPy gives you an enormous range of fast and efficient ways of creating arrays and manipulating numerical data inside them. While a Python list can contain different data types within a single list, all of the elements in a NumPy array should be homogeneous. The mathematical operations that are meant to be performed on arrays would be extremely inefficient if the arrays weren’t homogeneous."
   ]
  },
  {
   "cell_type": "markdown",
   "id": "a82932cb",
   "metadata": {},
   "source": [
    "### Why use NumPy?"
   ]
  },
  {
   "cell_type": "markdown",
   "id": "fae76e80",
   "metadata": {},
   "source": [
    "NumPy arrays are faster and more compact than Python lists. An array consumes less memory and is convenient to use. NumPy uses much less memory to store data and it provides a mechanism of specifying the data types. This allows the code to be optimized even further."
   ]
  },
  {
   "cell_type": "markdown",
   "id": "e25c18db",
   "metadata": {},
   "source": [
    "### What is an array?"
   ]
  },
  {
   "cell_type": "markdown",
   "id": "3f554d57",
   "metadata": {},
   "source": [
    "An array is a central data structure of the NumPy library. An array is a grid of values and it contains information about the raw data, how to locate an element, and how to interpret an element. It has a grid of elements that can be indexed in various ways. The elements are all of the same type, referred to as the array dtype.\n",
    "\n",
    "An array can be indexed by a tuple of nonnegative integers, by booleans, by another array, or by integers. The rank of the array is the number of dimensions. The shape of the array is a tuple of integers giving the size of the array along each dimension.\n",
    "\n",
    "One way we can initialize NumPy arrays is from Python lists, using nested lists for two- or higher-dimensional data. For this, we can use the `np.array()` function.\n",
    "\n",
    "For example:"
   ]
  },
  {
   "cell_type": "code",
   "execution_count": null,
   "id": "f5368e37",
   "metadata": {},
   "outputs": [],
   "source": [
    "a = np.array([1, 2, 3, 4, 5, 6])"
   ]
  },
  {
   "cell_type": "markdown",
   "id": "ed6ed3be",
   "metadata": {},
   "source": [
    "or:"
   ]
  },
  {
   "cell_type": "code",
   "execution_count": null,
   "id": "beeb1ebf",
   "metadata": {},
   "outputs": [],
   "source": [
    "a = np.array([[1, 2, 3, 4], \n",
    "              [5, 6, 7, 8], \n",
    "              [9, 10, 11, 12]])"
   ]
  },
  {
   "cell_type": "markdown",
   "id": "9409bfe9",
   "metadata": {},
   "source": [
    "We can access the elements in the array using square brackets. When you’re accessing elements, remember that indexing in NumPy starts at 0. That means that if you want to access the first element in your array, you’ll be accessing element “0”."
   ]
  },
  {
   "cell_type": "code",
   "execution_count": null,
   "id": "d275e39c",
   "metadata": {},
   "outputs": [],
   "source": [
    "print(a[0])"
   ]
  },
  {
   "cell_type": "markdown",
   "id": "a92668be",
   "metadata": {},
   "source": [
    "You might occasionally hear an array referred to as a “ndarray,” which is shorthand for “N-dimensional array.” An N-dimensional array is simply an array with any number of dimensions. You might also hear 1-D, or one-dimensional array, 2-D, or two-dimensional array, and so on. The NumPy ndarray class is used to represent both matrices and vectors. A vector is an array with a single dimension (there’s no difference between row and column vectors), while a matrix refers to an array with two dimensions. For 3-D or higher dimensional arrays, the term tensor is also commonly used."
   ]
  },
  {
   "cell_type": "markdown",
   "id": "35867473",
   "metadata": {},
   "source": [
    "![TODO](https://www.oreilly.com/library/view/elegant-scipy/9781491922927/assets/elsp_0105.png width=100px)"
   ]
  },
  {
   "cell_type": "markdown",
   "id": "3889dadf",
   "metadata": {},
   "source": [
    "### What are the attributes of an array?"
   ]
  },
  {
   "cell_type": "markdown",
   "id": "5d2381c8",
   "metadata": {},
   "source": [
    "An array is usually a fixed-size container of items of the same type and size. The number of dimensions and items in an array is defined by its shape. The shape of an array is a tuple of non-negative integers that specify the sizes of each dimension.\n",
    "\n",
    "In NumPy, dimensions are called axes. This means that if you have a 2D array that looks like this:\n",
    "\n",
    "```python\n",
    "[[0., 0., 0.],\n",
    " [1., 1., 1.]]\n",
    "```\n",
    "\n",
    "Your array has 2 axes. The first axis has a length of 2 and the second axis has a length of 3.\n",
    "\n",
    "Just like in other Python container objects, the contents of an array can be accessed and modified by indexing or slicing the array. Unlike the typical container objects, different arrays can share the same data, so changes made on one array might be visible in another.\n",
    "\n",
    "Array attributes reflect information intrinsic to the array itself. If you need to get, or even set, properties of an array without creating a new array, you can often access an array through its attributes."
   ]
  },
  {
   "cell_type": "markdown",
   "id": "44b52779",
   "metadata": {},
   "source": [
    "## 2. A problem to explore"
   ]
  },
  {
   "cell_type": "markdown",
   "id": "59b7bbae",
   "metadata": {},
   "source": [
    "From [Wikipedia](https://en.wikipedia.org/wiki/Cost_of_living):\n",
    "    \n",
    "    Cost of living is the cost of maintaining a certain standard of living. Changes in the cost of living over time are often operationalized in a cost-of-living index. Cost of living calculations are also used to compare the cost of maintaining a certain standard of living in different geographic areas. Differences in cost of living between locations can also be measured in terms of purchasing power parity rates. \n",
    "    \n",
    "From [Numbeo](https://www.numbeo.com), it is possible to obtain data about the cost of living and quality of life indices for several cities across the world as a `.csv` (comma separated values) file. We will explore this data using NumPy and its array manipulating capabilities."
   ]
  },
  {
   "cell_type": "markdown",
   "id": "3f1d5cd0",
   "metadata": {},
   "source": [
    "### Getting data from a `.csv` file"
   ]
  },
  {
   "cell_type": "markdown",
   "id": "76c2a85f",
   "metadata": {},
   "source": [
    "CSV files are standard in data analysis and other applications. Because we are mostly interested in the array manipulations, we will use the [pandas library](https://pandas.pydata.org/), which is the industry standard, to obtain the data and later convert it into NumPy arrays. "
   ]
  },
  {
   "cell_type": "code",
   "execution_count": null,
   "id": "1020f7ba",
   "metadata": {},
   "outputs": [],
   "source": [
    "import pandas as pd\n",
    "\n",
    "cost_of_living = pd.read_csv('../data/Cost_of_living_index.csv')\n",
    "quality_of_life = pd.read_csv('../data/quality_of_life_index.csv')"
   ]
  },
  {
   "cell_type": "markdown",
   "id": "c1c1cd21",
   "metadata": {},
   "source": [
    "First, let's explore what is in each file:"
   ]
  },
  {
   "cell_type": "code",
   "execution_count": null,
   "id": "b2452276",
   "metadata": {},
   "outputs": [],
   "source": [
    "cost_of_living"
   ]
  },
  {
   "cell_type": "code",
   "execution_count": null,
   "id": "972d11a8",
   "metadata": {},
   "outputs": [],
   "source": [
    "quality_of_life"
   ]
  },
  {
   "cell_type": "markdown",
   "id": "5934e7e9",
   "metadata": {},
   "source": [
    "From [Numbeo](https://www.numbeo.com/cost-of-living/cpi_explained.jsp):\n",
    "\n",
    "    Cost of living indices are relative to New York City (NYC). Which means that for New York City, each index should be 100(%). If another city has, for example, rent index of 120, it means that on an average in that city rents are 20% more expensive than in New York City. If a city has rent index of 70, that means on average rent in that city is 30% less expensive than in New York City. \n",
    "\n",
    "For more details on the other indices, check Numbeo's website."
   ]
  },
  {
   "cell_type": "markdown",
   "id": "cb8dc0eb",
   "metadata": {},
   "source": [
    "## 3. Array properties"
   ]
  },
  {
   "cell_type": "markdown",
   "id": "1be1e0f3",
   "metadata": {},
   "source": [
    "At this point, because we used pandas to obtain the data from the csv files, what we have are objects called [DataFrames](https://pandas.pydata.org/docs/reference/api/pandas.DataFrame.html):"
   ]
  },
  {
   "cell_type": "code",
   "execution_count": null,
   "id": "77324fae",
   "metadata": {},
   "outputs": [],
   "source": [
    "type(quality_of_life)"
   ]
  },
  {
   "cell_type": "markdown",
   "id": "5c0e59c2",
   "metadata": {},
   "source": [
    "To create a NumPy array from this data, you can use the `np.array()` function:"
   ]
  },
  {
   "cell_type": "code",
   "execution_count": null,
   "id": "e0d4620c",
   "metadata": {},
   "outputs": [],
   "source": [
    "data = np.array(quality_of_life)\n",
    "data"
   ]
  },
  {
   "cell_type": "markdown",
   "id": "18cf71df",
   "metadata": {},
   "source": [
    "The last line containes the expression `dtype=object`. As we mentioned before, what makes NumPy arrays efficient is the fact that it contains homogeneous data, meaning that every entry should have the same data type. Because we tried creating an array with different data types (integer numbers in the first column, character strings in the second, floating point numbers for the others), the only possible way for this array to contain a homogeneous set of data is by using the `object` data type, which is very general and includes all the data described. However, this is clearly as inefficient as using a plain Python list (maybe even worse!).\n",
    "\n",
    "To fix this, let's select only a subset of the data to put in our NumPy array."
   ]
  },
  {
   "cell_type": "code",
   "execution_count": null,
   "id": "36ccce4f",
   "metadata": {},
   "outputs": [],
   "source": [
    "quality_index = np.array(quality_of_life['Quality of Life Index'])\n",
    "quality_index"
   ]
  },
  {
   "cell_type": "markdown",
   "id": "f69f1a66",
   "metadata": {},
   "source": [
    "Now, you can check the data type of this new array by querying the `dtype` property of this array:"
   ]
  },
  {
   "cell_type": "code",
   "execution_count": null,
   "id": "e6172014",
   "metadata": {},
   "outputs": [],
   "source": [
    "quality_index.dtype"
   ]
  },
  {
   "cell_type": "markdown",
   "id": "49784e20",
   "metadata": {},
   "source": [
    "As expected, the data type for the `quality_index` array is now `float64`, or 64-bit floating point numbers."
   ]
  },
  {
   "cell_type": "markdown",
   "id": "001138d0",
   "metadata": {},
   "source": [
    "Now, let's look at the \"Rank\" column of our `quality_of_life` DataFrame:"
   ]
  },
  {
   "cell_type": "code",
   "execution_count": null,
   "id": "98516cf4",
   "metadata": {},
   "outputs": [],
   "source": [
    "rank = np.array(quality_of_life['Rank'])\n",
    "rank"
   ]
  },
  {
   "cell_type": "code",
   "execution_count": null,
   "id": "26af4e60",
   "metadata": {},
   "outputs": [],
   "source": [
    "rank.dtype"
   ]
  },
  {
   "cell_type": "markdown",
   "id": "15ffaf5c",
   "metadata": {},
   "source": [
    "Here we have integer data, but not that we could have selected a different data type to represent these items by using the `dtype` keyword when calling the `np.array()` function. Different data types available can be found [here](dtype documentation)."
   ]
  },
  {
   "cell_type": "code",
   "execution_count": null,
   "id": "4baabfcd",
   "metadata": {},
   "outputs": [],
   "source": [
    "rank_float = np.array(rank, dtype=np.float64)\n",
    "rank_float"
   ]
  },
  {
   "cell_type": "markdown",
   "id": "34434e1b",
   "metadata": {},
   "source": [
    "### Shape and size"
   ]
  },
  {
   "cell_type": "markdown",
   "id": "2ea05680",
   "metadata": {},
   "source": [
    "At this point, we may also be interested in checking for the physical layout of this array, like its size. If you are used to Python lists, you may be tempted to apply the `len` function to this array:"
   ]
  },
  {
   "cell_type": "code",
   "execution_count": null,
   "id": "e67fb1c1",
   "metadata": {},
   "outputs": [],
   "source": [
    "len(quality_index)"
   ]
  },
  {
   "cell_type": "markdown",
   "id": "7d5dad2d",
   "metadata": {},
   "source": [
    "However, there are specific properties provided by NumPy for this information:"
   ]
  },
  {
   "cell_type": "markdown",
   "id": "98412dae",
   "metadata": {},
   "source": [
    "- `.ndim` will tell you the number of axes, or dimensions, of the array.\n",
    "- `.size` will tell you the total number of elements of the array. This is the product of the elements of the array’s shape.\n",
    "- `.shape` will display a tuple of integers that indicate the number of elements stored along each dimension of the array. If, for example, you have a 2-D array with 2 rows and 3 columns, the shape of your array is (2, 3)."
   ]
  },
  {
   "cell_type": "code",
   "execution_count": null,
   "id": "a667d252",
   "metadata": {},
   "outputs": [],
   "source": [
    "quality_index.ndim"
   ]
  },
  {
   "cell_type": "code",
   "execution_count": null,
   "id": "87623ee8",
   "metadata": {},
   "outputs": [],
   "source": [
    "quality_index.size"
   ]
  },
  {
   "cell_type": "code",
   "execution_count": null,
   "id": "e71cb103",
   "metadata": {},
   "outputs": [],
   "source": [
    "quality_index.shape"
   ]
  },
  {
   "cell_type": "markdown",
   "id": "8e2e2d4c",
   "metadata": {},
   "source": [
    "Note that we could also have selected a 2-dimensional subset of the data, by choosing to represent two columns of the initial DataFrame as a NumPy array:"
   ]
  },
  {
   "cell_type": "code",
   "execution_count": null,
   "id": "3de60254",
   "metadata": {},
   "outputs": [],
   "source": [
    "quality_safety = np.array(quality_of_life[['Quality of Life Index', 'Safety Index']])"
   ]
  },
  {
   "cell_type": "code",
   "execution_count": null,
   "id": "10c9b2bd",
   "metadata": {
    "tags": []
   },
   "outputs": [],
   "source": [
    "quality_safety"
   ]
  },
  {
   "cell_type": "markdown",
   "id": "c73e7536",
   "metadata": {},
   "source": [
    "Now:"
   ]
  },
  {
   "cell_type": "code",
   "execution_count": null,
   "id": "1546a021",
   "metadata": {},
   "outputs": [],
   "source": [
    "len(quality_safety)"
   ]
  },
  {
   "cell_type": "code",
   "execution_count": null,
   "id": "7a1b3878",
   "metadata": {},
   "outputs": [],
   "source": [
    "quality_safety.ndim"
   ]
  },
  {
   "cell_type": "code",
   "execution_count": null,
   "id": "ebe1c67c",
   "metadata": {},
   "outputs": [],
   "source": [
    "quality_safety.size"
   ]
  },
  {
   "cell_type": "code",
   "execution_count": null,
   "id": "7e98bf4e",
   "metadata": {},
   "outputs": [],
   "source": [
    "quality_safety.shape"
   ]
  },
  {
   "cell_type": "markdown",
   "id": "c1ebc468",
   "metadata": {},
   "source": [
    "In this case, it is clear that the `len` function is no longer appropriate, and that NumPy arrays require a bit more information to be understood correctly."
   ]
  },
  {
   "cell_type": "markdown",
   "id": "3c4bbaa5",
   "metadata": {},
   "source": [
    "### Exercises"
   ]
  },
  {
   "cell_type": "markdown",
   "id": "b9e50dc5",
   "metadata": {},
   "source": [
    "## 4. Basic indexing and manipulation"
   ]
  },
  {
   "cell_type": "markdown",
   "id": "c3898707",
   "metadata": {},
   "source": [
    "In the original `quality_of_life` table, the data corresponding to the city of Lagos in Nigeria had index 244. Let's consult its data from the current `quality_safety` array:"
   ]
  },
  {
   "cell_type": "code",
   "execution_count": null,
   "id": "aeb8ce87",
   "metadata": {},
   "outputs": [],
   "source": [
    "quality_safety[244]"
   ]
  },
  {
   "cell_type": "markdown",
   "id": "ee6cc677",
   "metadata": {},
   "source": [
    "Because of the way we built this array, at position 244 we have two items: the Quality of Life Index in the first position, and the Safety Index in the second position. We can access those individually by using the following syntax:"
   ]
  },
  {
   "cell_type": "code",
   "execution_count": null,
   "id": "7736872f",
   "metadata": {},
   "outputs": [],
   "source": [
    "quality_safety[244, 0]"
   ]
  },
  {
   "cell_type": "markdown",
   "id": "50bb560e",
   "metadata": {},
   "source": [
    "We could also use "
   ]
  },
  {
   "cell_type": "code",
   "execution_count": null,
   "id": "9eae8a21",
   "metadata": {},
   "outputs": [],
   "source": [
    "quality_safety[244][0]"
   ]
  },
  {
   "cell_type": "markdown",
   "id": "b7b0260c",
   "metadata": {},
   "source": [
    "We can also access the extremities of our array:"
   ]
  },
  {
   "cell_type": "code",
   "execution_count": null,
   "id": "64487728",
   "metadata": {},
   "outputs": [],
   "source": [
    "quality_safety[0]"
   ]
  },
  {
   "cell_type": "code",
   "execution_count": null,
   "id": "40c8facc",
   "metadata": {},
   "outputs": [],
   "source": [
    "quality_safety[-1]"
   ]
  },
  {
   "cell_type": "code",
   "execution_count": null,
   "id": "6ce8cb19",
   "metadata": {},
   "outputs": [],
   "source": [
    "quality_safety.shape"
   ]
  },
  {
   "cell_type": "markdown",
   "id": "ea3a48d1",
   "metadata": {},
   "source": [
    "Note that because this is a two-dimensional array, the shape is a 2-item tuple. "
   ]
  },
  {
   "cell_type": "markdown",
   "id": "2846a8b7",
   "metadata": {},
   "source": [
    "Because the indexing starts at 0, a shape of `(247, 2)` means an index range from 0 to 246, and if we try to access index 247 this will raise an `IndexError`:"
   ]
  },
  {
   "cell_type": "code",
   "execution_count": null,
   "id": "c6cd7e29",
   "metadata": {},
   "outputs": [],
   "source": [
    "quality_safety[247]"
   ]
  },
  {
   "cell_type": "markdown",
   "id": "731422ed",
   "metadata": {},
   "source": [
    "### Exercises"
   ]
  },
  {
   "cell_type": "markdown",
   "id": "e5bcb3e2",
   "metadata": {},
   "source": [
    "## 5. Operations and built-in utilities"
   ]
  },
  {
   "cell_type": "markdown",
   "id": "95103a58",
   "metadata": {},
   "source": [
    "Arrays can be operated on as single objects, simplifying the way we manipulate data. Say we wish to increase every item in the array by 1 unit. We could do:"
   ]
  },
  {
   "cell_type": "code",
   "execution_count": null,
   "id": "58be347c",
   "metadata": {},
   "outputs": [],
   "source": [
    "for i in range(quality_index.shape[0]):\n",
    "    quality_index[i] += 1"
   ]
  },
  {
   "cell_type": "markdown",
   "id": "241c65dc",
   "metadata": {},
   "source": [
    "In general, looping through an array is not necessary or efficient. Because of the vectorization properties of NumPy arrays, we could do instead"
   ]
  },
  {
   "cell_type": "code",
   "execution_count": null,
   "id": "2e793637",
   "metadata": {},
   "outputs": [],
   "source": [
    "quality_index += 1"
   ]
  },
  {
   "cell_type": "markdown",
   "id": "cf3f18c6",
   "metadata": {},
   "source": [
    "This is valid for other operations as well."
   ]
  },
  {
   "cell_type": "code",
   "execution_count": null,
   "id": "c718c764",
   "metadata": {},
   "outputs": [],
   "source": [
    "2*quality_index"
   ]
  },
  {
   "cell_type": "markdown",
   "id": "a7f909e0",
   "metadata": {},
   "source": [
    "We can also perform operations on pairs of arrays:"
   ]
  },
  {
   "cell_type": "code",
   "execution_count": null,
   "id": "6e6059a2",
   "metadata": {},
   "outputs": [],
   "source": [
    "quality_index+rank"
   ]
  },
  {
   "cell_type": "markdown",
   "id": "2eab4202",
   "metadata": {},
   "source": [
    "There are subtleties when dealing with arrays of different shapes, and we will discuss this later."
   ]
  },
  {
   "cell_type": "markdown",
   "id": "b16bf92d",
   "metadata": {},
   "source": [
    "Beware: the multiplication symbol `*` means element-by-element multiplication:"
   ]
  },
  {
   "cell_type": "code",
   "execution_count": null,
   "id": "b5ac7b9f",
   "metadata": {},
   "outputs": [],
   "source": [
    "product = rank*quality_index"
   ]
  },
  {
   "cell_type": "code",
   "execution_count": null,
   "id": "1ac9a475",
   "metadata": {},
   "outputs": [],
   "source": [
    "rank.shape"
   ]
  },
  {
   "cell_type": "code",
   "execution_count": null,
   "id": "711551a1",
   "metadata": {},
   "outputs": [],
   "source": [
    "quality_index.shape"
   ]
  },
  {
   "cell_type": "code",
   "execution_count": null,
   "id": "b71d8a22",
   "metadata": {},
   "outputs": [],
   "source": [
    "product.shape"
   ]
  },
  {
   "cell_type": "markdown",
   "id": "3c1b432c",
   "metadata": {},
   "source": [
    "To perform a matrix product operation, you can use the operator `@`:"
   ]
  },
  {
   "cell_type": "code",
   "execution_count": null,
   "id": "ff5e12b9",
   "metadata": {},
   "outputs": [],
   "source": [
    "rank@quality_index"
   ]
  },
  {
   "cell_type": "markdown",
   "id": "9f1798f7",
   "metadata": {},
   "source": [
    "This is the same as "
   ]
  },
  {
   "cell_type": "code",
   "execution_count": null,
   "id": "852c1800",
   "metadata": {},
   "outputs": [],
   "source": [
    "np.dot(rank, quality_index)"
   ]
  },
  {
   "cell_type": "markdown",
   "id": "97087af0",
   "metadata": {},
   "source": [
    "There are several built-in utilities that can be applied to a NumPy array. For example, we can compute the maximum and minimum values of an array using"
   ]
  },
  {
   "cell_type": "code",
   "execution_count": null,
   "id": "c60c37fa",
   "metadata": {},
   "outputs": [],
   "source": [
    "np.max(quality_index), np.min(quality_index)"
   ]
  },
  {
   "cell_type": "markdown",
   "id": "cf383e84",
   "metadata": {},
   "source": [
    "Note that we can also pick which axes to compute the maximum or minimum for:"
   ]
  },
  {
   "cell_type": "code",
   "execution_count": null,
   "id": "edb71567",
   "metadata": {},
   "outputs": [],
   "source": [
    "np.max(quality_safety, axis=0)"
   ]
  },
  {
   "cell_type": "code",
   "execution_count": null,
   "id": "f4f63919",
   "metadata": {},
   "outputs": [],
   "source": [
    "np.max(quality_safety, axis=1)"
   ]
  },
  {
   "cell_type": "markdown",
   "id": "e840f56f",
   "metadata": {},
   "source": [
    "Other functions include:"
   ]
  },
  {
   "cell_type": "code",
   "execution_count": null,
   "id": "013db24c",
   "metadata": {},
   "outputs": [],
   "source": [
    "np.sum(quality_index)"
   ]
  },
  {
   "cell_type": "code",
   "execution_count": null,
   "id": "c960ad20",
   "metadata": {},
   "outputs": [],
   "source": [
    "np.mean(quality_index)"
   ]
  },
  {
   "cell_type": "markdown",
   "id": "e18f9633",
   "metadata": {},
   "source": [
    "You can also use `np.linspace()` to create an array with values that are spaced linearly in a specified interval:"
   ]
  },
  {
   "cell_type": "code",
   "execution_count": null,
   "id": "9fba9cad",
   "metadata": {},
   "outputs": [],
   "source": [
    "np.linspace(0, 10, num=5)"
   ]
  },
  {
   "cell_type": "markdown",
   "id": "a9cae709",
   "metadata": {},
   "source": [
    "### Exercises"
   ]
  },
  {
   "cell_type": "markdown",
   "id": "5aba46ef",
   "metadata": {},
   "source": [
    "### Adding, removing, and sorting elements"
   ]
  },
  {
   "cell_type": "code",
   "execution_count": null,
   "id": "974dd0fa",
   "metadata": {},
   "outputs": [],
   "source": [
    "pollution_index = np.array(quality_of_life['Pollution Index'])\n",
    "cost_index = np.array(quality_of_life['Cost of Living Index'])"
   ]
  },
  {
   "cell_type": "markdown",
   "id": "80f0c01b",
   "metadata": {},
   "source": [
    "- sorting, adding, removing https://numpy.org/devdocs/user/absolute_beginners.html#adding-removing-and-sorting-elements"
   ]
  },
  {
   "cell_type": "markdown",
   "id": "a559e0e7",
   "metadata": {},
   "source": [
    "## Plotting"
   ]
  },
  {
   "cell_type": "code",
   "execution_count": null,
   "id": "57047e85",
   "metadata": {},
   "outputs": [],
   "source": [
    "import matplotlib.pyplot as plt"
   ]
  },
  {
   "cell_type": "code",
   "execution_count": null,
   "id": "845a48cf",
   "metadata": {},
   "outputs": [],
   "source": [
    "plt.plot(np.arange(len(cost_index)), cost_index)"
   ]
  },
  {
   "cell_type": "markdown",
   "id": "3d2cdafe",
   "metadata": {},
   "source": [
    "## Saving data for later use with `np.savez`"
   ]
  },
  {
   "cell_type": "code",
   "execution_count": null,
   "id": "58a2a97e",
   "metadata": {},
   "outputs": [],
   "source": [
    "np.savez?"
   ]
  },
  {
   "cell_type": "code",
   "execution_count": null,
   "id": "c81c0a57",
   "metadata": {},
   "outputs": [],
   "source": [
    "np.savez('cost_index.npz', cost_index)"
   ]
  },
  {
   "cell_type": "code",
   "execution_count": null,
   "id": "0050ab8a",
   "metadata": {},
   "outputs": [],
   "source": [
    "!ls"
   ]
  },
  {
   "cell_type": "markdown",
   "id": "df04ea23",
   "metadata": {},
   "source": [
    "---"
   ]
  },
  {
   "cell_type": "markdown",
   "id": "d0a3df6c",
   "metadata": {},
   "source": [
    "## Read more"
   ]
  },
  {
   "cell_type": "markdown",
   "id": "7727ede4",
   "metadata": {},
   "source": [
    "- [NumPy functions and methods overview](https://numpy.org/devdocs/user/quickstart.html#functions-and-methods-overview)\n",
    "- [NumPy Quickstart guide](https://numpy.org/devdocs/user/quickstart.html)\n",
    "- [NumPy for absolute beginners](https://numpy.org/devdocs/user/absolute_beginners.html)"
   ]
  },
  {
   "cell_type": "code",
   "execution_count": null,
   "id": "214f33d1",
   "metadata": {},
   "outputs": [],
   "source": []
  }
 ],
 "metadata": {
  "kernelspec": {
   "display_name": "Python 3 (ipykernel)",
   "language": "python",
   "name": "python3"
  },
  "language_info": {
   "codemirror_mode": {
    "name": "ipython",
    "version": 3
   },
   "file_extension": ".py",
   "mimetype": "text/x-python",
   "name": "python",
   "nbconvert_exporter": "python",
   "pygments_lexer": "ipython3",
   "version": "3.9.6"
  }
 },
 "nbformat": 4,
 "nbformat_minor": 5
}
