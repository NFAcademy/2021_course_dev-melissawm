{
 "cells": [
  {
   "cell_type": "markdown",
   "id": "60aed8f8",
   "metadata": {},
   "source": [
    "# Submodules"
   ]
  },
  {
   "cell_type": "markdown",
   "id": "967d66f7",
   "metadata": {},
   "source": [
    "In this notebook, you will learn about\n",
    "- The polynomial submodule: analyzing and building an approximation to existing data\n",
    "- Random number generation and processing"
   ]
  },
  {
   "cell_type": "code",
   "execution_count": 1,
   "id": "a5125e93",
   "metadata": {},
   "outputs": [],
   "source": [
    "import numpy as np\n",
    "import matplotlib.pyplot as plt\n",
    "plt.style.use('fivethirtyeight')\n",
    "import pandas as pd"
   ]
  },
  {
   "cell_type": "markdown",
   "id": "a52029f0",
   "metadata": {},
   "source": [
    "In notebooks [01_Intro](./01_Intro.ipynb) and [02_How_to_write_efficient_code](./02_How_to_write_efficient_code.ipynb), you looked at how to load the cost of living and quality of life data sets into NumPy and process the data. In this notebook, you will load this data into NumPy again to find the cost of living to get the greatest quality of life. You'll do this in three steps:\n",
    "\n",
    "1. merge the \"cost of living\" and \"quality of life\" data based upon City\n",
    "2. Plot the data and look for a trend\n",
    "3. Create a polynomial fit to estimate the trend and calculate the maximum \"quality of life\" given \"cost of living\"\n"
   ]
  },
  {
   "cell_type": "markdown",
   "id": "1178b33e",
   "metadata": {},
   "source": [
    "## 1. merge the \"cost of living\" and \"quality of life\" data based upon City\n",
    "\n",
    "The two data sets have many of the same cities, but not all. First, you load the two data sets into two variable\n",
    "\n",
    "- `cost_of_living`: the \"cost of living\" data set\n",
    "- `quality_of_life`: the \"quality of life\" data set"
   ]
  },
  {
   "cell_type": "code",
   "execution_count": 2,
   "id": "bf689fdf",
   "metadata": {},
   "outputs": [],
   "source": [
    "cost_of_living = pd.read_csv('../data/Cost_of_living_index.csv')\n",
    "quality_of_life = pd.read_csv('../data/quality_of_life_index.csv')"
   ]
  },
  {
   "cell_type": "markdown",
   "id": "9c54ec24",
   "metadata": {},
   "source": [
    "Now, you can `merge` the data sets into one based upon the `'City'`. "
   ]
  },
  {
   "cell_type": "code",
   "execution_count": 4,
   "id": "6eeea4ec",
   "metadata": {},
   "outputs": [
    {
     "data": {
      "text/html": [
       "<div>\n",
       "<style scoped>\n",
       "    .dataframe tbody tr th:only-of-type {\n",
       "        vertical-align: middle;\n",
       "    }\n",
       "\n",
       "    .dataframe tbody tr th {\n",
       "        vertical-align: top;\n",
       "    }\n",
       "\n",
       "    .dataframe thead th {\n",
       "        text-align: right;\n",
       "    }\n",
       "</style>\n",
       "<table border=\"1\" class=\"dataframe\">\n",
       "  <thead>\n",
       "    <tr style=\"text-align: right;\">\n",
       "      <th></th>\n",
       "      <th>Rank_x</th>\n",
       "      <th>City</th>\n",
       "      <th>Cost of Living Index_x</th>\n",
       "      <th>Rent Index</th>\n",
       "      <th>Cost of Living Plus Rent Index</th>\n",
       "      <th>Groceries Index</th>\n",
       "      <th>Restaurant Price Index</th>\n",
       "      <th>Local Purchasing Power Index</th>\n",
       "      <th>Rank_y</th>\n",
       "      <th>Quality of Life Index</th>\n",
       "      <th>Purchasing Power Index</th>\n",
       "      <th>Safety Index</th>\n",
       "      <th>Health Care Index</th>\n",
       "      <th>Cost of Living Index_y</th>\n",
       "      <th>Property Price to Income Ratio</th>\n",
       "      <th>Traffic Commute Time Index</th>\n",
       "      <th>Pollution Index</th>\n",
       "      <th>Climate Index</th>\n",
       "    </tr>\n",
       "  </thead>\n",
       "  <tbody>\n",
       "    <tr>\n",
       "      <th>0</th>\n",
       "      <td>2</td>\n",
       "      <td>Zurich, Switzerland</td>\n",
       "      <td>128.65</td>\n",
       "      <td>62.62</td>\n",
       "      <td>97.39</td>\n",
       "      <td>127.35</td>\n",
       "      <td>127.14</td>\n",
       "      <td>142.39</td>\n",
       "      <td>7</td>\n",
       "      <td>192.97</td>\n",
       "      <td>112.95</td>\n",
       "      <td>83.34</td>\n",
       "      <td>74.43</td>\n",
       "      <td>128.33</td>\n",
       "      <td>8.52</td>\n",
       "      <td>34.93</td>\n",
       "      <td>18.00</td>\n",
       "      <td>81.48</td>\n",
       "    </tr>\n",
       "    <tr>\n",
       "      <th>1</th>\n",
       "      <td>6</td>\n",
       "      <td>Geneva, Switzerland</td>\n",
       "      <td>118.33</td>\n",
       "      <td>69.16</td>\n",
       "      <td>95.06</td>\n",
       "      <td>112.08</td>\n",
       "      <td>119.78</td>\n",
       "      <td>133.47</td>\n",
       "      <td>18</td>\n",
       "      <td>184.01</td>\n",
       "      <td>104.75</td>\n",
       "      <td>73.05</td>\n",
       "      <td>73.18</td>\n",
       "      <td>119.58</td>\n",
       "      <td>9.67</td>\n",
       "      <td>25.49</td>\n",
       "      <td>25.28</td>\n",
       "      <td>82.61</td>\n",
       "    </tr>\n",
       "    <tr>\n",
       "      <th>2</th>\n",
       "      <td>7</td>\n",
       "      <td>Reykjavik, Iceland</td>\n",
       "      <td>112.57</td>\n",
       "      <td>57.40</td>\n",
       "      <td>86.45</td>\n",
       "      <td>98.53</td>\n",
       "      <td>127.87</td>\n",
       "      <td>94.21</td>\n",
       "      <td>26</td>\n",
       "      <td>180.52</td>\n",
       "      <td>70.57</td>\n",
       "      <td>77.87</td>\n",
       "      <td>66.85</td>\n",
       "      <td>97.13</td>\n",
       "      <td>6.62</td>\n",
       "      <td>19.96</td>\n",
       "      <td>15.01</td>\n",
       "      <td>68.81</td>\n",
       "    </tr>\n",
       "    <tr>\n",
       "      <th>3</th>\n",
       "      <td>10</td>\n",
       "      <td>Oslo, Norway</td>\n",
       "      <td>107.14</td>\n",
       "      <td>48.58</td>\n",
       "      <td>79.42</td>\n",
       "      <td>93.81</td>\n",
       "      <td>114.42</td>\n",
       "      <td>104.30</td>\n",
       "      <td>78</td>\n",
       "      <td>162.82</td>\n",
       "      <td>80.05</td>\n",
       "      <td>65.20</td>\n",
       "      <td>76.81</td>\n",
       "      <td>103.09</td>\n",
       "      <td>10.80</td>\n",
       "      <td>31.21</td>\n",
       "      <td>23.72</td>\n",
       "      <td>59.99</td>\n",
       "    </tr>\n",
       "    <tr>\n",
       "      <th>4</th>\n",
       "      <td>12</td>\n",
       "      <td>New York, NY, United States</td>\n",
       "      <td>100.00</td>\n",
       "      <td>100.00</td>\n",
       "      <td>100.00</td>\n",
       "      <td>100.00</td>\n",
       "      <td>100.00</td>\n",
       "      <td>100.00</td>\n",
       "      <td>141</td>\n",
       "      <td>138.61</td>\n",
       "      <td>100.00</td>\n",
       "      <td>52.65</td>\n",
       "      <td>62.37</td>\n",
       "      <td>100.00</td>\n",
       "      <td>9.40</td>\n",
       "      <td>42.77</td>\n",
       "      <td>57.66</td>\n",
       "      <td>79.66</td>\n",
       "    </tr>\n",
       "    <tr>\n",
       "      <th>...</th>\n",
       "      <td>...</td>\n",
       "      <td>...</td>\n",
       "      <td>...</td>\n",
       "      <td>...</td>\n",
       "      <td>...</td>\n",
       "      <td>...</td>\n",
       "      <td>...</td>\n",
       "      <td>...</td>\n",
       "      <td>...</td>\n",
       "      <td>...</td>\n",
       "      <td>...</td>\n",
       "      <td>...</td>\n",
       "      <td>...</td>\n",
       "      <td>...</td>\n",
       "      <td>...</td>\n",
       "      <td>...</td>\n",
       "      <td>...</td>\n",
       "      <td>...</td>\n",
       "    </tr>\n",
       "    <tr>\n",
       "      <th>237</th>\n",
       "      <td>519</td>\n",
       "      <td>Ahmedabad, India</td>\n",
       "      <td>24.24</td>\n",
       "      <td>5.19</td>\n",
       "      <td>15.22</td>\n",
       "      <td>24.89</td>\n",
       "      <td>17.40</td>\n",
       "      <td>70.18</td>\n",
       "      <td>194</td>\n",
       "      <td>108.79</td>\n",
       "      <td>34.67</td>\n",
       "      <td>66.81</td>\n",
       "      <td>65.74</td>\n",
       "      <td>26.43</td>\n",
       "      <td>10.55</td>\n",
       "      <td>38.43</td>\n",
       "      <td>73.19</td>\n",
       "      <td>49.27</td>\n",
       "    </tr>\n",
       "    <tr>\n",
       "      <th>238</th>\n",
       "      <td>521</td>\n",
       "      <td>Karachi, Pakistan</td>\n",
       "      <td>23.90</td>\n",
       "      <td>6.15</td>\n",
       "      <td>15.50</td>\n",
       "      <td>20.89</td>\n",
       "      <td>18.57</td>\n",
       "      <td>36.66</td>\n",
       "      <td>229</td>\n",
       "      <td>83.98</td>\n",
       "      <td>28.44</td>\n",
       "      <td>46.75</td>\n",
       "      <td>57.31</td>\n",
       "      <td>21.34</td>\n",
       "      <td>14.48</td>\n",
       "      <td>41.93</td>\n",
       "      <td>89.84</td>\n",
       "      <td>71.32</td>\n",
       "    </tr>\n",
       "    <tr>\n",
       "      <th>239</th>\n",
       "      <td>524</td>\n",
       "      <td>Hyderabad, India</td>\n",
       "      <td>23.59</td>\n",
       "      <td>5.99</td>\n",
       "      <td>15.26</td>\n",
       "      <td>23.02</td>\n",
       "      <td>17.35</td>\n",
       "      <td>78.00</td>\n",
       "      <td>185</td>\n",
       "      <td>113.82</td>\n",
       "      <td>47.08</td>\n",
       "      <td>56.59</td>\n",
       "      <td>65.10</td>\n",
       "      <td>26.71</td>\n",
       "      <td>8.96</td>\n",
       "      <td>42.95</td>\n",
       "      <td>76.13</td>\n",
       "      <td>73.54</td>\n",
       "    </tr>\n",
       "    <tr>\n",
       "      <th>240</th>\n",
       "      <td>529</td>\n",
       "      <td>Mangalore, India</td>\n",
       "      <td>22.40</td>\n",
       "      <td>5.05</td>\n",
       "      <td>14.19</td>\n",
       "      <td>22.21</td>\n",
       "      <td>15.92</td>\n",
       "      <td>79.58</td>\n",
       "      <td>104</td>\n",
       "      <td>152.18</td>\n",
       "      <td>43.45</td>\n",
       "      <td>74.85</td>\n",
       "      <td>78.16</td>\n",
       "      <td>23.77</td>\n",
       "      <td>7.85</td>\n",
       "      <td>31.84</td>\n",
       "      <td>44.95</td>\n",
       "      <td>66.65</td>\n",
       "    </tr>\n",
       "    <tr>\n",
       "      <th>241</th>\n",
       "      <td>530</td>\n",
       "      <td>Coimbatore, India</td>\n",
       "      <td>22.38</td>\n",
       "      <td>5.21</td>\n",
       "      <td>14.25</td>\n",
       "      <td>22.45</td>\n",
       "      <td>14.39</td>\n",
       "      <td>56.46</td>\n",
       "      <td>165</td>\n",
       "      <td>122.04</td>\n",
       "      <td>39.37</td>\n",
       "      <td>60.18</td>\n",
       "      <td>70.76</td>\n",
       "      <td>23.36</td>\n",
       "      <td>9.99</td>\n",
       "      <td>47.50</td>\n",
       "      <td>63.10</td>\n",
       "      <td>78.10</td>\n",
       "    </tr>\n",
       "  </tbody>\n",
       "</table>\n",
       "<p>242 rows × 18 columns</p>\n",
       "</div>"
      ],
      "text/plain": [
       "     Rank_x                         City  Cost of Living Index_x  Rent Index  \\\n",
       "0         2          Zurich, Switzerland                  128.65       62.62   \n",
       "1         6          Geneva, Switzerland                  118.33       69.16   \n",
       "2         7           Reykjavik, Iceland                  112.57       57.40   \n",
       "3        10                 Oslo, Norway                  107.14       48.58   \n",
       "4        12  New York, NY, United States                  100.00      100.00   \n",
       "..      ...                          ...                     ...         ...   \n",
       "237     519             Ahmedabad, India                   24.24        5.19   \n",
       "238     521            Karachi, Pakistan                   23.90        6.15   \n",
       "239     524             Hyderabad, India                   23.59        5.99   \n",
       "240     529             Mangalore, India                   22.40        5.05   \n",
       "241     530            Coimbatore, India                   22.38        5.21   \n",
       "\n",
       "     Cost of Living Plus Rent Index  Groceries Index  Restaurant Price Index  \\\n",
       "0                             97.39           127.35                  127.14   \n",
       "1                             95.06           112.08                  119.78   \n",
       "2                             86.45            98.53                  127.87   \n",
       "3                             79.42            93.81                  114.42   \n",
       "4                            100.00           100.00                  100.00   \n",
       "..                              ...              ...                     ...   \n",
       "237                           15.22            24.89                   17.40   \n",
       "238                           15.50            20.89                   18.57   \n",
       "239                           15.26            23.02                   17.35   \n",
       "240                           14.19            22.21                   15.92   \n",
       "241                           14.25            22.45                   14.39   \n",
       "\n",
       "     Local Purchasing Power Index  Rank_y  Quality of Life Index  \\\n",
       "0                          142.39       7                 192.97   \n",
       "1                          133.47      18                 184.01   \n",
       "2                           94.21      26                 180.52   \n",
       "3                          104.30      78                 162.82   \n",
       "4                          100.00     141                 138.61   \n",
       "..                            ...     ...                    ...   \n",
       "237                         70.18     194                 108.79   \n",
       "238                         36.66     229                  83.98   \n",
       "239                         78.00     185                 113.82   \n",
       "240                         79.58     104                 152.18   \n",
       "241                         56.46     165                 122.04   \n",
       "\n",
       "     Purchasing Power Index  Safety Index  Health Care Index  \\\n",
       "0                    112.95         83.34              74.43   \n",
       "1                    104.75         73.05              73.18   \n",
       "2                     70.57         77.87              66.85   \n",
       "3                     80.05         65.20              76.81   \n",
       "4                    100.00         52.65              62.37   \n",
       "..                      ...           ...                ...   \n",
       "237                   34.67         66.81              65.74   \n",
       "238                   28.44         46.75              57.31   \n",
       "239                   47.08         56.59              65.10   \n",
       "240                   43.45         74.85              78.16   \n",
       "241                   39.37         60.18              70.76   \n",
       "\n",
       "     Cost of Living Index_y  Property Price to Income Ratio  \\\n",
       "0                    128.33                            8.52   \n",
       "1                    119.58                            9.67   \n",
       "2                     97.13                            6.62   \n",
       "3                    103.09                           10.80   \n",
       "4                    100.00                            9.40   \n",
       "..                      ...                             ...   \n",
       "237                   26.43                           10.55   \n",
       "238                   21.34                           14.48   \n",
       "239                   26.71                            8.96   \n",
       "240                   23.77                            7.85   \n",
       "241                   23.36                            9.99   \n",
       "\n",
       "     Traffic Commute Time Index  Pollution Index  Climate Index  \n",
       "0                         34.93            18.00          81.48  \n",
       "1                         25.49            25.28          82.61  \n",
       "2                         19.96            15.01          68.81  \n",
       "3                         31.21            23.72          59.99  \n",
       "4                         42.77            57.66          79.66  \n",
       "..                          ...              ...            ...  \n",
       "237                       38.43            73.19          49.27  \n",
       "238                       41.93            89.84          71.32  \n",
       "239                       42.95            76.13          73.54  \n",
       "240                       31.84            44.95          66.65  \n",
       "241                       47.50            63.10          78.10  \n",
       "\n",
       "[242 rows x 18 columns]"
      ]
     },
     "execution_count": 4,
     "metadata": {},
     "output_type": "execute_result"
    }
   ],
   "source": [
    "merged_data = cost_of_living.merge(quality_of_life, how = 'inner', on = ['City'])\n",
    "merged_data"
   ]
  },
  {
   "cell_type": "markdown",
   "id": "3243782b",
   "metadata": {},
   "source": [
    "The merged data matches the City between `cost_of_living` and `quality_of_life` so each row now has both data sets. If a city was missing from either data set it was not included. "
   ]
  },
  {
   "cell_type": "markdown",
   "id": "f47fb1ca",
   "metadata": {},
   "source": [
    "## 2. Plot the data and look for a trend\n",
    "\n",
    "Now, create 3 arrays with the data of interest:\n",
    "\n",
    "- `city` is the city where the data was collected e.g. 'Oslo, Norway', 'New York, NY, United States'\n",
    "- `cost_of_living` is the cost of living plus rent index for each city\n",
    "- `quality_of_life` is the quality of life index measured for each city"
   ]
  },
  {
   "cell_type": "code",
   "execution_count": 6,
   "id": "24a72fa5",
   "metadata": {},
   "outputs": [],
   "source": [
    "city = merged_data['City'].values\n",
    "cost_of_living = merged_data[\"Cost of Living Plus Rent Index\"].values\n",
    "quality_of_life = merged_data[\"Quality of Life Index\"].values"
   ]
  },
  {
   "cell_type": "markdown",
   "id": "7c4d15c0",
   "metadata": {},
   "source": [
    "Now, you can plot the `quality_of_life` vs the `cost_of_living` and label some cities of interest. Lets start off with 3 labels:\n",
    "\n",
    "- city with highest `cost_of_living`\n",
    "- city with highest `quality_of_life`\n",
    "- city with minimum `cost_of_living`"
   ]
  },
  {
   "cell_type": "code",
   "execution_count": 15,
   "id": "8d743c03",
   "metadata": {},
   "outputs": [],
   "source": [
    "max_cost_of_living = np.max(cost_of_living)\n",
    "max_quality_of_life = np.max(quality_of_life)\n",
    "min_cost_of_living = np.min(cost_of_living)"
   ]
  },
  {
   "cell_type": "code",
   "execution_count": 25,
   "id": "691964c0",
   "metadata": {},
   "outputs": [
    {
     "data": {
      "text/plain": [
       "Text(0, 0.5, 'quality of life')"
      ]
     },
     "execution_count": 25,
     "metadata": {},
     "output_type": "execute_result"
    },
    {
     "data": {
      "image/png": "[encoded data removed]",
      "text/plain": [
       "<Figure size 432x288 with 1 Axes>"
      ]
     },
     "metadata": {},
     "output_type": "display_data"
    }
   ],
   "source": [
    "plt.plot(cost_of_living, quality_of_life, 'o')\n",
    "plt.text(max_cost_of_living, quality_of_life[cost_of_living == max_cost_of_living], city[cost_of_living == max_cost_of_living])\n",
    "plt.text(cost_of_living[quality_of_life == max_quality_of_life], \n",
    "         max_quality_of_life, \n",
    "         city[quality_of_life == max_quality_of_life])\n",
    "plt.text(min_cost_of_living, \n",
    "         quality_of_life[cost_of_living == min_cost_of_living], \n",
    "         city[cost_of_living == min_cost_of_living])\n",
    "plt.xlabel('cost of living + rent (%)')\n",
    "plt.ylabel('quality of life')"
   ]
  },
  {
   "cell_type": "markdown",
   "id": "9e637b53",
   "metadata": {},
   "source": [
    "Above, you have all of the 'quality of life' plotted vs the 'cost of living' for each city. There appears to be a maximum 'quality of life' in the 50-60 \\% 'cost of living' index. Next, use the NumPy `polyfit` to create a polynomial to estimate this data set as a quadratic. "
   ]
  },
  {
   "cell_type": "markdown",
   "id": "20afda3a",
   "metadata": {},
   "source": [
    "## 3. Create a polynomial fit to estimate the trend and calculate the maximum \"quality of life\" given \"cost of living\"\n",
    "\n",
    "Here, use the function, [`np.polyfit`](https://numpy.org/doc/stable/reference/generated/numpy.polyfit.html) to create a second-order polynomial fit to the 'quality of life' vs 'cost of living' measures. Use the function as such\n",
    "\n",
    "```python\n",
    "PP = np.polyfit(x_data, y_data, order)\n",
    "```\n",
    "\n",
    "where\n",
    "- `PP` is the output array that has the polynomial coefficients, highest order first\n",
    "- `x_data` are the x-axis values: 'cost of living' measurements\n",
    "- `y_data` are the y-axis values: 'quality of life' measuremnts\n",
    "- `order` is the polynomial degree: 2 for quadratic e.g. $y(x) = Ax^2 + Bx + C$"
   ]
  },
  {
   "cell_type": "code",
   "execution_count": 18,
   "id": "c780325b",
   "metadata": {},
   "outputs": [
    {
     "data": {
      "text/plain": [
       "array([-2.16733754e-02,  3.31281609e+00,  4.36270129e+01])"
      ]
     },
     "execution_count": 18,
     "metadata": {},
     "output_type": "execute_result"
    }
   ],
   "source": [
    "PP = np.polyfit(cost_of_living, quality_of_life, 2)\n",
    "PP"
   ]
  },
  {
   "cell_type": "markdown",
   "id": "6a0e016f",
   "metadata": {},
   "source": [
    "The output, `PP`, are the polynomial coefficients in an array with shape `(3, )`. One way to evaluate the polynomial at new values is to manually enter the formula as such\n",
    "\n",
    "```python\n",
    "x_values = np.linspace(10, 110, 50)\n",
    "y_poly = PP[0]*x_values**2 + PP[1]*x_values + PP[2]\n",
    "```\n",
    "\n",
    "but, there is a better way! You can use the built-in NumPy function, [`np.polyval`](https://numpy.org/doc/stable/reference/generated/numpy.polyval.html) to specify the constants and pass the array of x values. \n",
    "\n",
    "```python\n",
    "x_values = np.linspace(10, 110, 50)\n",
    "y_poly = np.polyval(PP, x_values)\n",
    "```\n",
    "\n",
    "where\n",
    "\n",
    "- `PP` is an array that has polynomial coefficents ordered from highest order to lowest $y(x) = PP_0 x^n + PP_1 x^{n-1} +...+PP_{n-1} x + PP_n$\n",
    "- `x_values` is an array that will be evaluated at given `x` locations it can be a floating point number or a 1D array\n",
    "- `y_poly` is the returned array evaluated at each `x_values` location given coefficients in `PP`\n",
    "\n",
    "Here, define the `cost_values` to go from 10\\% to 110\\% with 50 steps and evaluate `quality_poly` at each cost. "
   ]
  },
  {
   "cell_type": "code",
   "execution_count": 21,
   "id": "b789b6d3",
   "metadata": {},
   "outputs": [],
   "source": [
    "cost_values = np.linspace(10, 110, 50)\n",
    "quality_poly = np.polyval(PP, cost_values)"
   ]
  },
  {
   "cell_type": "markdown",
   "id": "3ce875c9",
   "metadata": {},
   "source": [
    "The `quality_poly` is now a quadratic best-fit data set for the 'quality of life' given a 'cost of living' index. Plot the result to look for the maximum of the polynomial. "
   ]
  },
  {
   "cell_type": "code",
   "execution_count": 24,
   "id": "a3718802",
   "metadata": {},
   "outputs": [
    {
     "data": {
      "text/plain": [
       "Text(0, 0.5, 'quality of life')"
      ]
     },
     "execution_count": 24,
     "metadata": {},
     "output_type": "execute_result"
    },
    {
     "data": {
      "image/png": "[encoded data removed]",
      "text/plain": [
       "<Figure size 432x288 with 1 Axes>"
      ]
     },
     "metadata": {},
     "output_type": "display_data"
    }
   ],
   "source": [
    "plt.plot(cost_of_living, quality_of_life, 'o')\n",
    "plt.plot(cost_values, quality_poly)\n",
    "plt.xlabel('cost of living + rent (%)')\n",
    "plt.ylabel('quality of life')"
   ]
  },
  {
   "cell_type": "markdown",
   "id": "c2ad5487",
   "metadata": {},
   "source": [
    "This looks like a nice fit for the data, but __Where should I live?__\n",
    "\n",
    "You will find some of the cities that are close to the optimium \"cost of living\". You will print out the cities as an array, then add some annotations to the plot you created above. Approach this in 3 steps:\n",
    "\n",
    "1. find the optimum cost using `np.max()`\n",
    "2. find all the \"cost of living\" values within 5\\% of this optimum\n",
    "3. print the cities and display four on the \"quality of life\" vs \"cost of living\" graph\n",
    "\n",
    "First, assign the variable `optimum_cost` to the cost that results in the maximum polynomial result. "
   ]
  },
  {
   "cell_type": "code",
   "execution_count": 58,
   "id": "bdb94627",
   "metadata": {},
   "outputs": [],
   "source": [
    "optimum_cost = cost_values[quality_poly == quality_poly.max()]"
   ]
  },
  {
   "cell_type": "markdown",
   "id": "14117ef9",
   "metadata": {},
   "source": [
    "The `quality_poly == quality_poly.max()` creates an array of `True`/`False` statements that are passed into `cost_values`. There is only one maximum value in `quality_poly` so `optimum cost` is an array with one value, shape is `(1, )`. \n",
    "\n",
    "Second, use the [`np.isclose`](https://numpy.org/doc/stable/reference/generated/numpy.isclose.html) to assign `optimum_bools` to an array of `True`/`False` statements to find\n",
    "- `optimum_cities` the city names closest to the optimum quality of life\n",
    "- `optimum_costs` the \"cost of living\" values closest to the optimum quality of life\n",
    "- `optimum_quality` the \"quality of life\" values closest to the optimum quality of life"
   ]
  },
  {
   "cell_type": "code",
   "execution_count": 59,
   "id": "0b2f984b",
   "metadata": {},
   "outputs": [],
   "source": [
    "optimum_bools = np.isclose(cost_of_living, optimum_cost, atol=5)\n",
    "\n",
    "optimum_cities = city[optimum_bools]\n",
    "optimum_costs = cost_of_living[optimum_bools]\n",
    "optimum_quality = quality_of_life[optimum_bools]"
   ]
  },
  {
   "cell_type": "markdown",
   "id": "cf71f42a",
   "metadata": {},
   "source": [
    "Third, you want to see which cities optimize \"cost of living\" to \"quality of life\". The list of cities in `optimum_cities` are the cities closest to the quadratic fit maximum \"quality of life\" measurements. Take a look at the list of names, \"cost of living\", and \"quality of life\" measures. \n",
    "\n",
    "> __Note__: Here you use a combination of `print` and string [`format`](https://docs.python.org/3.4/library/functions.html#format) work to get the data into a table. The `{:30s}` prints out a string that is always 30 characters long. This ensures the next column, \"cost of living\" is in the right location after the tab, `\\t`. \n",
    "\n"
   ]
  },
  {
   "cell_type": "code",
   "execution_count": 75,
   "id": "b0915f4f",
   "metadata": {},
   "outputs": [
    {
     "name": "stdout",
     "output_type": "stream",
     "text": [
      "City:\t\t\tCost of living:\tQuality of life:\n",
      "Oslo, Norway                   \t 79.42 \t 162.82\n",
      "Honolulu, HI, United States    \t 79.63 \t 152.59\n",
      "Washington, DC, United States  \t 79.87 \t 161.11\n",
      "Luxembourg, Luxembourg         \t 74.76 \t 178.91\n",
      "Seattle, WA, United States     \t 75.66 \t 183.47\n",
      "London, United Kingdom         \t 76.1 \t 129.89\n",
      "Oakland, CA, United States     \t 79.27 \t 160.87\n",
      "Boston, MA, United States      \t 78.39 \t 171.61\n",
      "Los Angeles, CA, United States \t 74.25 \t 132.26\n",
      "San Jose, CA, United States    \t 76.43 \t 181.27\n",
      "Hong Kong, Hong Kong           \t 76.44 \t 99.08\n"
     ]
    }
   ],
   "source": [
    "print('City:\\t\\t\\tCost of living:\\tQuality of life:')\n",
    "for i in range(len(optimum_cities)):\n",
    "    print('{:30s} \\t {} \\t {}'.format(optimum_cities[i], optimum_costs[i], optimum_quality[i]))"
   ]
  },
  {
   "cell_type": "markdown",
   "id": "b3ac3a68",
   "metadata": {},
   "source": [
    "You can print out all of these city names on the plot, but it gets messy. Instead, use the `plt.text` to show every fourth city name (or 3 cities). Create the plot with the data and quadratic fit then use a `for`-loop to add the text for the cities. "
   ]
  },
  {
   "cell_type": "code",
   "execution_count": 76,
   "id": "8cde165c",
   "metadata": {},
   "outputs": [
    {
     "data": {
      "text/plain": [
       "Text(0, 0.5, 'quality of life')"
      ]
     },
     "execution_count": 76,
     "metadata": {},
     "output_type": "execute_result"
    },
    {
     "data": {
      "image/png": "[encoded data removed]",
      "text/plain": [
       "<Figure size 432x288 with 1 Axes>"
      ]
     },
     "metadata": {},
     "output_type": "display_data"
    }
   ],
   "source": [
    "plt.plot(cost_of_living, quality_of_life, 'o')\n",
    "plt.plot(cost_values, quality_poly)\n",
    "for i in range(0, len(optimum_costs), 4):\n",
    "    plt.text(optimum_costs[i], optimum_quality[i], optimum_cities[i])\n",
    "plt.xlabel('cost of living + rent (%)')\n",
    "plt.ylabel('quality of life')"
   ]
  },
  {
   "cell_type": "markdown",
   "id": "3d764e7b",
   "metadata": {},
   "source": [
    "So, if you're in the US it looks like Washington, DC (East coast) and Seattle, WA (West coast) are good options or in Europe Oslo, Norway is an optimal place to live too. "
   ]
  },
  {
   "cell_type": "markdown",
   "id": "7b1de116",
   "metadata": {},
   "source": [
    "## Read more\n",
    "- [NumPy functions and methods overview](https://numpy.org/devdocs/user/quickstart.html#functions-and-methods-overview)\n",
    "- [NumPy Quickstart guide](https://numpy.org/devdocs/user/quickstart.html)\n",
    "- [NumPy for absolute beginners](https://numpy.org/devdocs/user/absolute_beginners.html)"
   ]
  }
 ],
 "metadata": {
  "kernelspec": {
   "display_name": "Python 3",
   "language": "python",
   "name": "python3"
  },
  "language_info": {
   "codemirror_mode": {
    "name": "ipython",
    "version": 3
   },
   "file_extension": ".py",
   "mimetype": "text/x-python",
   "name": "python",
   "nbconvert_exporter": "python",
   "pygments_lexer": "ipython3",
   "version": "3.9.0"
  }
 },
 "nbformat": 4,
 "nbformat_minor": 5
}
