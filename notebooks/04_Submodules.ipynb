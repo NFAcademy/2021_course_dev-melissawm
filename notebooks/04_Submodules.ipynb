{
 "cells": [
  {
   "cell_type": "markdown",
   "id": "60aed8f8",
   "metadata": {},
   "source": [
    "# Submodules"
   ]
  },
  {
   "cell_type": "markdown",
   "id": "967d66f7",
   "metadata": {},
   "source": [
    "In this notebook, you will learn about\n",
    "- The polynomial submodule: analyzing and building an approximation to existing data\n",
    "- Random number generation and processing"
   ]
  },
  {
   "cell_type": "markdown",
   "id": "e60ca2ac-40e7-45b9-bb97-3c22dc0a8259",
   "metadata": {},
   "source": [
    "---"
   ]
  },
  {
   "cell_type": "code",
   "execution_count": null,
   "id": "a5125e93",
   "metadata": {},
   "outputs": [],
   "source": [
    "import numpy as np\n",
    "import matplotlib.pyplot as plt\n",
    "plt.style.use('fivethirtyeight')\n",
    "import pandas as pd"
   ]
  },
  {
   "cell_type": "markdown",
   "id": "a52029f0",
   "metadata": {},
   "source": [
    "In notebooks [01_Intro](./01_Intro.ipynb) and [02_How_to_write_efficient_code](./02_How_to_write_efficient_code.ipynb), you looked at how to load the cost of living and quality of life data sets into NumPy and process the data. In this notebook, you will load this data into NumPy again to find the cost of living to get the greatest quality of life. You'll do this in three steps:\n",
    "\n",
    "1. Merge the \"cost of living\" and \"quality of life\" data based upon City\n",
    "2. Plot the data and look for a trend\n",
    "3. Create a polynomial fit to estimate the trend and calculate the maximum \"quality of life\" given \"cost of living\"."
   ]
  },
  {
   "cell_type": "markdown",
   "id": "1178b33e",
   "metadata": {},
   "source": [
    "## 1. Merge the `cost of living` and `quality of life` data based upon City\n",
    "\n",
    "The two data sets have many of the same cities, but not all. First, you load the two data sets into two variable\n",
    "\n",
    "- `cost_of_living`: the \"cost of living\" data set\n",
    "- `quality_of_life`: the \"quality of life\" data set"
   ]
  },
  {
   "cell_type": "code",
   "execution_count": null,
   "id": "bf689fdf",
   "metadata": {},
   "outputs": [],
   "source": [
    "cost_of_living = pd.read_csv('../data/Cost_of_living_index.csv')\n",
    "quality_of_life = pd.read_csv('../data/quality_of_life_index.csv')"
   ]
  },
  {
   "cell_type": "markdown",
   "id": "9c54ec24",
   "metadata": {},
   "source": [
    "Now, you can `merge` the data sets into one based upon the `'City'`. "
   ]
  },
  {
   "cell_type": "code",
   "execution_count": null,
   "id": "6eeea4ec",
   "metadata": {},
   "outputs": [],
   "source": [
    "merged_data = cost_of_living.merge(quality_of_life, how = 'inner', on = ['City'])\n",
    "merged_data"
   ]
  },
  {
   "cell_type": "markdown",
   "id": "3243782b",
   "metadata": {},
   "source": [
    "The merged data matches the City between `cost_of_living` and `quality_of_life` so each row now has both data sets. If a city was missing from either data set it was not included. "
   ]
  },
  {
   "cell_type": "markdown",
   "id": "f47fb1ca",
   "metadata": {},
   "source": [
    "## 2. Plot the data and look for a trend\n",
    "\n",
    "Now, create 3 arrays with the data of interest:\n",
    "\n",
    "- `city` is the city where the data was collected e.g. 'Oslo, Norway', 'New York, NY, United States'\n",
    "- `cost_of_living` is the cost of living plus rent index for each city\n",
    "- `quality_of_life` is the quality of life index measured for each city"
   ]
  },
  {
   "cell_type": "code",
   "execution_count": null,
   "id": "24a72fa5",
   "metadata": {},
   "outputs": [],
   "source": [
    "city = merged_data['City'].values\n",
    "cost_of_living = merged_data[\"Cost of Living Plus Rent Index\"].values\n",
    "quality_of_life = merged_data[\"Quality of Life Index\"].values"
   ]
  },
  {
   "cell_type": "markdown",
   "id": "7c4d15c0",
   "metadata": {},
   "source": [
    "Now, you can plot the `quality_of_life` vs the `cost_of_living` and label some cities of interest. Lets start off with 3 labels:\n",
    "\n",
    "- city with highest `cost_of_living`\n",
    "- city with highest `quality_of_life`\n",
    "- city with minimum `cost_of_living`"
   ]
  },
  {
   "cell_type": "code",
   "execution_count": null,
   "id": "8d743c03",
   "metadata": {},
   "outputs": [],
   "source": [
    "max_cost_of_living = np.max(cost_of_living)\n",
    "max_quality_of_life = np.max(quality_of_life)\n",
    "min_cost_of_living = np.min(cost_of_living)"
   ]
  },
  {
   "cell_type": "code",
   "execution_count": null,
   "id": "691964c0",
   "metadata": {},
   "outputs": [],
   "source": [
    "plt.plot(cost_of_living, quality_of_life, 'o')\n",
    "plt.text(max_cost_of_living, quality_of_life[cost_of_living == max_cost_of_living], city[cost_of_living == max_cost_of_living])\n",
    "plt.text(cost_of_living[quality_of_life == max_quality_of_life], \n",
    "         max_quality_of_life, \n",
    "         city[quality_of_life == max_quality_of_life])\n",
    "plt.text(min_cost_of_living, \n",
    "         quality_of_life[cost_of_living == min_cost_of_living], \n",
    "         city[cost_of_living == min_cost_of_living])\n",
    "plt.xlabel('cost of living + rent (%)')\n",
    "plt.ylabel('quality of life')"
   ]
  },
  {
   "cell_type": "markdown",
   "id": "9e637b53",
   "metadata": {},
   "source": [
    "Above, you have all of the 'quality of life' plotted vs the 'cost of living' for each city. There appears to be a maximum 'quality of life' in the 50-60 \\% 'cost of living' index. Next, use the NumPy `polyfit` to create a polynomial to estimate this data set as a quadratic. "
   ]
  },
  {
   "cell_type": "markdown",
   "id": "20afda3a",
   "metadata": {},
   "source": [
    "## 3. Create a polynomial fit to estimate the trend and calculate the maximum \"quality of life\" given \"cost of living\"\n",
    "\n",
    "Here, use the function, [`np.polyfit`](https://numpy.org/doc/stable/reference/generated/numpy.polyfit.html) to create a second-order polynomial fit to the 'quality of life' vs 'cost of living' measures. Use the function as such\n",
    "\n",
    "```python\n",
    "PP = np.polyfit(x_data, y_data, order)\n",
    "```\n",
    "\n",
    "where\n",
    "- `PP` is the output array that has the polynomial coefficients, highest order first\n",
    "- `x_data` are the x-axis values: 'cost of living' measurements\n",
    "- `y_data` are the y-axis values: 'quality of life' measuremnts\n",
    "- `order` is the polynomial degree: 2 for quadratic e.g. $y(x) = Ax^2 + Bx + C$"
   ]
  },
  {
   "cell_type": "code",
   "execution_count": null,
   "id": "c780325b",
   "metadata": {},
   "outputs": [],
   "source": [
    "PP = np.polyfit(cost_of_living, quality_of_life, 2)\n",
    "PP"
   ]
  },
  {
   "cell_type": "markdown",
   "id": "6a0e016f",
   "metadata": {},
   "source": [
    "The output, `PP`, are the polynomial coefficients in an array with shape `(3, )`. One way to evaluate the polynomial at new values is to manually enter the formula as such\n",
    "\n",
    "```python\n",
    "x_values = np.linspace(10, 110, 50)\n",
    "y_poly = PP[0]*x_values**2 + PP[1]*x_values + PP[2]\n",
    "```\n",
    "\n",
    "but, there is a better way! You can use the built-in NumPy function, [`np.polyval`](https://numpy.org/doc/stable/reference/generated/numpy.polyval.html) to specify the constants and pass the array of x values. \n",
    "\n",
    "```python\n",
    "x_values = np.linspace(10, 110, 50)\n",
    "y_poly = np.polyval(PP, x_values)\n",
    "```\n",
    "\n",
    "where\n",
    "\n",
    "- `PP` is an array that has polynomial coefficents ordered from highest order to lowest $y(x) = PP_0 x^n + PP_1 x^{n-1} +...+PP_{n-1} x + PP_n$\n",
    "- `x_values` is an array that will be evaluated at given `x` locations it can be a floating point number or a 1D array\n",
    "- `y_poly` is the returned array evaluated at each `x_values` location given coefficients in `PP`\n",
    "\n",
    "Here, define the `cost_values` to go from 10\\% to 110\\% with 50 steps and evaluate `quality_poly` at each cost. "
   ]
  },
  {
   "cell_type": "code",
   "execution_count": null,
   "id": "b789b6d3",
   "metadata": {},
   "outputs": [],
   "source": [
    "cost_values = np.linspace(10, 110, 50)\n",
    "quality_poly = np.polyval(PP, cost_values)"
   ]
  },
  {
   "cell_type": "markdown",
   "id": "3ce875c9",
   "metadata": {},
   "source": [
    "The `quality_poly` is now a quadratic best-fit data set for the 'quality of life' given a 'cost of living' index. Plot the result to look for the maximum of the polynomial. "
   ]
  },
  {
   "cell_type": "code",
   "execution_count": null,
   "id": "a3718802",
   "metadata": {},
   "outputs": [],
   "source": [
    "plt.plot(cost_of_living, quality_of_life, 'o')\n",
    "plt.plot(cost_values, quality_poly)\n",
    "plt.xlabel('cost of living + rent (%)')\n",
    "plt.ylabel('quality of life')"
   ]
  },
  {
   "cell_type": "markdown",
   "id": "c2ad5487",
   "metadata": {},
   "source": [
    "This looks like a nice fit for the data, but __Where should I live?__\n",
    "\n",
    "You will find some of the cities that are close to the optimium \"cost of living\". You will print out the cities as an array, then add some annotations to the plot you created above. Approach this in 3 steps:\n",
    "\n",
    "1. find the optimum cost using `np.max()`\n",
    "2. find all the \"cost of living\" values within 5\\% of this optimum\n",
    "3. print the cities and display four on the \"quality of life\" vs \"cost of living\" graph\n",
    "\n",
    "First, assign the variable `optimum_cost` to the cost that results in the maximum polynomial result. "
   ]
  },
  {
   "cell_type": "code",
   "execution_count": null,
   "id": "bdb94627",
   "metadata": {},
   "outputs": [],
   "source": [
    "optimum_cost = cost_values[quality_poly == quality_poly.max()]"
   ]
  },
  {
   "cell_type": "markdown",
   "id": "14117ef9",
   "metadata": {},
   "source": [
    "The `quality_poly == quality_poly.max()` creates an array of `True`/`False` statements that are passed into `cost_values`. There is only one maximum value in `quality_poly` so `optimum cost` is an array with one value, shape is `(1, )`. \n",
    "\n",
    "Second, use the [`np.isclose`](https://numpy.org/doc/stable/reference/generated/numpy.isclose.html) to assign `optimum_bools` to an array of `True`/`False` statements to find\n",
    "- `optimum_cities` the city names closest to the optimum quality of life\n",
    "- `optimum_costs` the \"cost of living\" values closest to the optimum quality of life\n",
    "- `optimum_quality` the \"quality of life\" values closest to the optimum quality of life"
   ]
  },
  {
   "cell_type": "code",
   "execution_count": null,
   "id": "0b2f984b",
   "metadata": {},
   "outputs": [],
   "source": [
    "optimum_bools = np.isclose(cost_of_living, optimum_cost, atol=5)\n",
    "\n",
    "optimum_cities = city[optimum_bools]\n",
    "optimum_costs = cost_of_living[optimum_bools]\n",
    "optimum_quality = quality_of_life[optimum_bools]"
   ]
  },
  {
   "cell_type": "markdown",
   "id": "cf71f42a",
   "metadata": {},
   "source": [
    "Third, you want to see which cities optimize \"cost of living\" to \"quality of life\". The list of cities in `optimum_cities` are the cities closest to the quadratic fit maximum \"quality of life\" measurements. Take a look at the list of names, \"cost of living\", and \"quality of life\" measures. \n",
    "\n",
    "> __Note__: Here you use a combination of `print` and string [`format`](https://docs.python.org/3.4/library/functions.html#format) work to get the data into a table. The `{:30s}` prints out a string that is always 30 characters long. This ensures the next column, \"cost of living\" is in the right location after the tab, `\\t`. \n",
    "\n"
   ]
  },
  {
   "cell_type": "code",
   "execution_count": null,
   "id": "b0915f4f",
   "metadata": {},
   "outputs": [],
   "source": [
    "print('City:\\t\\t\\tCost of living:\\tQuality of life:')\n",
    "for i in range(len(optimum_cities)):\n",
    "    print('{:30s} \\t {} \\t {}'.format(optimum_cities[i], optimum_costs[i], optimum_quality[i]))"
   ]
  },
  {
   "cell_type": "markdown",
   "id": "b3ac3a68",
   "metadata": {},
   "source": [
    "You can print out all of these city names on the plot, but it gets messy. Instead, use the `plt.text` to show every fourth city name (or 3 cities). Create the plot with the data and quadratic fit then use a `for`-loop to add the text for the cities. "
   ]
  },
  {
   "cell_type": "code",
   "execution_count": null,
   "id": "8cde165c",
   "metadata": {},
   "outputs": [],
   "source": [
    "plt.plot(cost_of_living, quality_of_life, 'o')\n",
    "plt.plot(cost_values, quality_poly)\n",
    "for i in range(0, len(optimum_costs), 4):\n",
    "    plt.text(optimum_costs[i], optimum_quality[i], optimum_cities[i])\n",
    "plt.xlabel('cost of living + rent (%)')\n",
    "plt.ylabel('quality of life')"
   ]
  },
  {
   "cell_type": "markdown",
   "id": "3d764e7b",
   "metadata": {},
   "source": [
    "So, if you're in the US it looks like Washington, DC (East coast) and Seattle, WA (West coast) are good options or in Europe Oslo, Norway is an optimal place to live too. "
   ]
  },
  {
   "cell_type": "markdown",
   "id": "a4b71cce-e0a0-4ce1-acbd-869c57c2d439",
   "metadata": {},
   "source": [
    "## 4. Saving data for later use with `np.savez`"
   ]
  },
  {
   "cell_type": "markdown",
   "id": "a22aaf92-e215-4784-9190-6b8a7f04d93f",
   "metadata": {},
   "source": [
    "Now, let's say after all the hard work we want to save your arrays for later use. We can save these arrays to disk using the NumPy `.savez()` function."
   ]
  },
  {
   "cell_type": "code",
   "execution_count": null,
   "id": "89810ee5-1b5b-4234-9f54-f890cee215f9",
   "metadata": {
    "scrolled": true,
    "tags": []
   },
   "outputs": [],
   "source": [
    "np.savez?"
   ]
  },
  {
   "cell_type": "markdown",
   "id": "33cc94c5-ee61-4a4d-b93a-0db29cc311a3",
   "metadata": {},
   "source": [
    "The `.npz` file format is the most appropriate and efficient to use with NumPy arrays, so we will use it here. Choosing a filename of `optimum.npz`, we can save the array by doing"
   ]
  },
  {
   "cell_type": "code",
   "execution_count": null,
   "id": "fd69952b-74a6-4cff-ae4a-fae28844e11c",
   "metadata": {},
   "outputs": [],
   "source": [
    "np.savez('optimum.npz', optimum_costs, optimum_quality)"
   ]
  },
  {
   "cell_type": "markdown",
   "id": "32f4bf60-1108-454e-be9f-449b0617d31b",
   "metadata": {},
   "source": [
    "By listing the contents of the current folder, we can see that the file we just created is indeed there:"
   ]
  },
  {
   "cell_type": "code",
   "execution_count": null,
   "id": "8e9a4c23-28c9-4c8c-8ddf-330305dc9d09",
   "metadata": {},
   "outputs": [],
   "source": [
    "!ls"
   ]
  },
  {
   "cell_type": "markdown",
   "id": "504ac8c2-215a-47a5-ad2b-ee3a29a582aa",
   "metadata": {},
   "source": [
    "To recover these arrays, we can use"
   ]
  },
  {
   "cell_type": "code",
   "execution_count": null,
   "id": "e8ada055-cd70-4686-9973-9922ddd80e91",
   "metadata": {},
   "outputs": [],
   "source": [
    "npzfile = np.load('optimum.npz')"
   ]
  },
  {
   "cell_type": "markdown",
   "id": "88e78bbd-fc2f-4628-b0bc-7314d2835164",
   "metadata": {},
   "source": [
    "The `npzfile` object now contains both arrays that were stored in this file.  "
   ]
  },
  {
   "cell_type": "code",
   "execution_count": null,
   "id": "4a23cf8c-e539-48c9-86a3-db261e5547d3",
   "metadata": {},
   "outputs": [],
   "source": [
    "npzfile.files"
   ]
  },
  {
   "cell_type": "code",
   "execution_count": null,
   "id": "246b65db-be71-4097-9776-87d491fce6df",
   "metadata": {},
   "outputs": [],
   "source": [
    "npzfile['arr_0']"
   ]
  },
  {
   "cell_type": "markdown",
   "id": "bab44d63-558c-49d9-ab35-e35683560399",
   "metadata": {},
   "source": [
    "Let's test that we have actually recovered the correct values for all elements in our `optimum_costs` array:"
   ]
  },
  {
   "cell_type": "code",
   "execution_count": null,
   "id": "0d530de3-6137-462c-b4db-0ead59ac1ef6",
   "metadata": {},
   "outputs": [],
   "source": [
    "np.equal(npzfile['arr_0'], optimum_costs) "
   ]
  },
  {
   "cell_type": "markdown",
   "id": "508a18c0-d1a5-45ee-88e0-fd1a0645d31c",
   "metadata": {},
   "source": [
    "---"
   ]
  },
  {
   "cell_type": "markdown",
   "id": "9940df7b-7f03-4106-a3d2-aabadb36e412",
   "metadata": {},
   "source": [
    "### Self-assessment 1"
   ]
  },
  {
   "cell_type": "markdown",
   "id": "becf7368-2a19-4ab4-90f7-f02e81c2271a",
   "metadata": {},
   "source": [
    "---"
   ]
  },
  {
   "cell_type": "markdown",
   "id": "7b1de116",
   "metadata": {},
   "source": [
    "## Read more\n",
    "- [NumPy functions and methods overview](https://numpy.org/devdocs/user/quickstart.html#functions-and-methods-overview)\n",
    "- [NumPy Quickstart guide](https://numpy.org/devdocs/user/quickstart.html)\n",
    "- [NumPy for absolute beginners](https://numpy.org/devdocs/user/absolute_beginners.html)"
   ]
  }
 ],
 "metadata": {
  "kernelspec": {
   "display_name": "Python 3 (ipykernel)",
   "language": "python",
   "name": "python3"
  },
  "language_info": {
   "codemirror_mode": {
    "name": "ipython",
    "version": 3
   },
   "file_extension": ".py",
   "mimetype": "text/x-python",
   "name": "python",
   "nbconvert_exporter": "python",
   "pygments_lexer": "ipython3",
   "version": "3.9.7"
  }
 },
 "nbformat": 4,
 "nbformat_minor": 5
}
