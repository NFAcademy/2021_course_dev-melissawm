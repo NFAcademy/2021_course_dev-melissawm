{
 "cells": [
  {
   "cell_type": "markdown",
   "id": "c3f6b352",
   "metadata": {},
   "source": [
    "# Submodules"
   ]
  },
  {
   "cell_type": "markdown",
   "id": "aa602942",
   "metadata": {},
   "source": [
    "In this notebook, you will learn about\n",
    "- The polynomial submodule: analyzing and building an approximation to existing data\n",
    "- Random number generation and manipulation"
   ]
  },
  {
   "cell_type": "code",
   "execution_count": null,
   "id": "b8b6d5eb",
   "metadata": {},
   "outputs": [],
   "source": []
  }
 ],
 "metadata": {
  "kernelspec": {
   "display_name": "Python 3 (ipykernel)",
   "language": "python",
   "name": "python3"
  },
  "language_info": {
   "codemirror_mode": {
    "name": "ipython",
    "version": 3
   },
   "file_extension": ".py",
   "mimetype": "text/x-python",
   "name": "python",
   "nbconvert_exporter": "python",
   "pygments_lexer": "ipython3",
   "version": "3.9.7"
  }
 },
 "nbformat": 4,
 "nbformat_minor": 5
}
