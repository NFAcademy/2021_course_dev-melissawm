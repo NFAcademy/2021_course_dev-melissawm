{
 "cells": [
  {
   "cell_type": "markdown",
   "id": "2c8d1b61",
   "metadata": {},
   "source": [
    "# Vectorization: an introduction to universal functions"
   ]
  },
  {
   "cell_type": "markdown",
   "id": "6bfddefa",
   "metadata": {},
   "source": [
    "In this notebook, you will learn about\n",
    "- When and how to vectorize code\n",
    "- Why this works: ufuncs\n",
    "- Saving data for later use with `np.savez`\n",
    "- Basic built-in NumPy tools for plotting and integrating with Matplotlib.\n",
    "- Examples and applications"
   ]
  },
  {
   "cell_type": "markdown",
   "id": "a94b3dfb-f76b-4964-9395-162e62c77b9a",
   "metadata": {},
   "source": [
    "---"
   ]
  },
  {
   "cell_type": "markdown",
   "id": "66263922-e0ac-4b6b-ae64-a0a7479b8319",
   "metadata": {
    "tags": []
   },
   "source": [
    "## 1. Broadcasting"
   ]
  },
  {
   "cell_type": "markdown",
   "id": "44695e17-8f95-4324-9332-f398783f0797",
   "metadata": {},
   "source": [
    "The term broadcasting describes how NumPy treats arrays with different shapes during arithmetic operations. Subject to certain constraints, the smaller array is “broadcast” across the larger array so that they have compatible shapes. Broadcasting provides a means of vectorizing array operations so that looping occurs in C instead of Python. It does this without making needless copies of data and usually leads to efficient algorithm implementations. There are, however, cases where broadcasting is a bad idea because it leads to inefficient use of memory that slows computation."
   ]
  },
  {
   "cell_type": "code",
   "execution_count": null,
   "id": "2dba5a34-2b8f-42d5-9451-6b2374e215d2",
   "metadata": {},
   "outputs": [],
   "source": [
    "import numpy as np"
   ]
  },
  {
   "cell_type": "markdown",
   "id": "cc82bee9-ccd2-4cc1-b820-d6d92a920c8b",
   "metadata": {},
   "source": [
    "NumPy operations are usually done on pairs of arrays on an element-by-element basis. In the simplest case, the two arrays must have exactly the same shape, as in the following example:"
   ]
  },
  {
   "cell_type": "code",
   "execution_count": null,
   "id": "a77a5a93-fc6d-484c-8b9a-c40443b5dab0",
   "metadata": {},
   "outputs": [],
   "source": [
    "a = np.array([1.0, 2.0, 3.0])\n",
    "b = np.array([2.0, 2.0, 2.0])\n",
    "a * b"
   ]
  },
  {
   "cell_type": "markdown",
   "id": "2ac2821e-259f-4b94-a3b4-a93bb13bf926",
   "metadata": {},
   "source": [
    "NumPy’s broadcasting rule relaxes this constraint when the arrays’ shapes meet certain constraints. The simplest broadcasting example occurs when an array and a scalar value are combined in an operation:"
   ]
  },
  {
   "cell_type": "code",
   "execution_count": null,
   "id": "40ae5fe5-87d6-4d46-80a6-158ef307e635",
   "metadata": {},
   "outputs": [],
   "source": [
    "a = np.array([1.0, 2.0, 3.0])\n",
    "b = 2.0\n",
    "a * b"
   ]
  },
  {
   "cell_type": "markdown",
   "id": "8bf2a8e4-c351-4f00-ba51-76043a990c94",
   "metadata": {},
   "source": [
    "We can think of the scalar `b` being stretched during the arithmetic operation into an array with the same shape as `a`. The new elements in `b`, as shown in the figure below, are simply copies of the original scalar."
   ]
  },
  {
   "cell_type": "markdown",
   "id": "e77c7bb9-76a2-4716-b5ce-06c2f6ce67e4",
   "metadata": {},
   "source": [
    "![\"A scalar is broadcast to match the shape of the 1-d array it is being multiplied to.\"](https://numpy.org/devdocs/_images/broadcasting_1.svg)"
   ]
  },
  {
   "cell_type": "markdown",
   "id": "3b40d151-8ac6-4f48-a451-3026a5620809",
   "metadata": {},
   "source": [
    "We will continue using the example of [Notebook 1](01_Intro.ipynb):"
   ]
  },
  {
   "cell_type": "code",
   "execution_count": null,
   "id": "ee11a654-10a2-4ecb-8298-d81647f9332d",
   "metadata": {},
   "outputs": [],
   "source": [
    "import pandas as pd\n",
    "\n",
    "quality_of_life = pd.read_csv('../data/quality_of_life_index.csv')\n",
    "quality_index = np.array(quality_of_life['Quality of Life Index'])\n",
    "quality_cost_pollution = np.array(quality_of_life[['Quality of Life Index', 'Cost of Living Index', 'Pollution Index']]) "
   ]
  },
  {
   "cell_type": "markdown",
   "id": "894d9c71-cefc-4db5-9b8c-3ce0b0a9cf70",
   "metadata": {},
   "source": [
    "From the [Numbeo website](https://www.numbeo.com/quality-of-life/indices_explained.jsp), the formula for the Quality of Life Index involves a combination of a weighted sum of the other indices in our `quality_of_life` DataFrame. Let's say we wanted to renormalize every value in our `quality_cost_pollution` array by the `quality_of_life` index. Because of the broadcasting properties of NumPy arrays, this can be done by putting together a few of the things we've learned:"
   ]
  },
  {
   "cell_type": "code",
   "execution_count": null,
   "id": "afc9095e-8a65-4706-bf33-b15af8334bc3",
   "metadata": {},
   "outputs": [],
   "source": [
    "renormalized_values = quality_cost_pollution/quality_index[:, np.newaxis]"
   ]
  },
  {
   "cell_type": "code",
   "execution_count": null,
   "id": "72932bd8-570b-49a6-a26a-46e6ba448c17",
   "metadata": {
    "scrolled": true,
    "tags": []
   },
   "outputs": [],
   "source": [
    "renormalized_values"
   ]
  },
  {
   "cell_type": "markdown",
   "id": "10cafd70-0705-4ce7-9537-d7b83a2b2328",
   "metadata": {},
   "source": [
    "## 2. Universal Functions"
   ]
  },
  {
   "cell_type": "markdown",
   "id": "628a87f0-dbb2-4a3c-9658-da1b67e9cd4b",
   "metadata": {},
   "source": [
    "These operations are called [Universal Functions (ufunc)](https://numpy.org/doc/stable/reference/generated/numpy.ufunc.html), which are functions that operate on ndarrays in an element-by-element fashion, supporting array broadcasting, type casting, and several other standard features. That is, a ufunc is a “vectorized” wrapper for a function that takes a fixed number of specific inputs and produces a fixed number of specific outputs.\n",
    "\n",
    "This is what makes mathematical operations work with ndarrays. We've seen a few arithmetic operations, but it's also possible to apply boolean operations, like `<`, `>` or `==` to ndarrays. NumPy has a number of other `ufunc` functions that operate on each element, such as\n",
    "\n",
    "- sine and cosine: `np.sin` and `np.cos`\n",
    "- exponential $e^x$: `np.exp(x)`\n",
    "- logarithms $\\log(x)$: `np.log(x)`\n",
    "\n",
    "and others."
   ]
  },
  {
   "cell_type": "markdown",
   "id": "6d09eb1c-0c57-4b55-9d3f-75d79ba279c1",
   "metadata": {},
   "source": [
    "Going back to our example, we can compute"
   ]
  },
  {
   "cell_type": "code",
   "execution_count": null,
   "id": "a1b367db-6945-4a1e-b7f1-bce63e95f1ea",
   "metadata": {
    "scrolled": true,
    "tags": []
   },
   "outputs": [],
   "source": [
    "np.log(quality_index)"
   ]
  },
  {
   "cell_type": "markdown",
   "id": "015a44ba-887c-4100-8989-e5466a3cea67",
   "metadata": {
    "tags": []
   },
   "source": [
    "## 3. Plotting"
   ]
  },
  {
   "cell_type": "markdown",
   "id": "e7929811-ce32-40b5-ad46-54b5e78fe69e",
   "metadata": {},
   "source": [
    "With the [Matplotlib](https://matplotlib.org) library, we can create plots and graphs directly from NumPy arrays. First, let's import the `pyplot` submodule of the matplotlib library:"
   ]
  },
  {
   "cell_type": "code",
   "execution_count": null,
   "id": "bd43148c-bae0-42ce-b769-6e2ea4d9794a",
   "metadata": {},
   "outputs": [],
   "source": [
    "import matplotlib.pyplot as plt"
   ]
  },
  {
   "cell_type": "markdown",
   "id": "3ae5cd9e-89f1-448f-93a7-46c519bf3c3f",
   "metadata": {},
   "source": [
    "In order to create a regular 2D plot, we need to have one sequence representing values in the x-axis, and another representing the values in the y-axis. In our case, let's say we want to create a plot with both the `quality_index` and `cost_index` arrays, choosing the indices of the arrays as the x-axis values. Without going into too much detail on the matplotlib syntax, we can do:"
   ]
  },
  {
   "cell_type": "code",
   "execution_count": null,
   "id": "8b17b727-103c-46fe-bb47-0d1218444a79",
   "metadata": {},
   "outputs": [],
   "source": [
    "fig, ax = plt.subplots()  # Creates the figure and the axis elements, where we will plot our arrays\n",
    "\n",
    "ax.plot(np.arange(len(quality_index)), quality_index, label='Quality Index')\n",
    "\n",
    "plt.legend()  # Creates legends with labels set in each line plot\n",
    "plt.show()  # Plots the result   "
   ]
  },
  {
   "cell_type": "markdown",
   "id": "92121ac5-a14a-4938-8b15-0fc4962b8410",
   "metadata": {},
   "source": [
    "Note that because the matplotlib library is expecting to deal with NumPy ndarrays, it is also possible to plot a 2D array directly; in this particular case, one line plot is create for each column of our 2D array:"
   ]
  },
  {
   "cell_type": "code",
   "execution_count": null,
   "id": "067bed99-487a-490b-8592-ffc08a4aaaba",
   "metadata": {},
   "outputs": [],
   "source": [
    "fig, ax = plt.subplots()\n",
    "ax.plot(np.arange(len(quality_index)), quality_cost_pollution, label=['Quality Index', 'Cost of Living Index', 'Pollution Index'])\n",
    "\n",
    "plt.legend()  # Note that here we can set one label per column in our 2D array directly as a list of labels.\n",
    "plt.show()"
   ]
  },
  {
   "cell_type": "markdown",
   "id": "54a63d67-c343-4901-a2cd-021aac6d2f26",
   "metadata": {},
   "source": [
    "## 4. Putting it all together"
   ]
  },
  {
   "cell_type": "markdown",
   "id": "9a4337fd-151a-43fc-a09e-af53bda32277",
   "metadata": {},
   "source": [
    "By inspection, we can see that the curve representing the Quality of Life Index that we have obtained has a familiar shape:"
   ]
  },
  {
   "cell_type": "code",
   "execution_count": null,
   "id": "bcb42962-995d-4b84-b558-e20ffdda634b",
   "metadata": {},
   "outputs": [],
   "source": [
    "plt.plot(quality_index) "
   ]
  },
  {
   "cell_type": "markdown",
   "id": "b251f5c1-f300-4b7d-b2a2-5a5e2de45080",
   "metadata": {},
   "source": [
    "We could try to use universal functions to verify our hypothesis. Using the inverse of the [logistic function](https://en.wikipedia.org/wiki/Logistic_function), we can identify a trend in the data we have. First, define a function which computes the inverse of the logistic function for all allowed values of $x$: "
   ]
  },
  {
   "cell_type": "code",
   "execution_count": null,
   "id": "b1f134fb-6c45-4796-9092-7bcd217b9d46",
   "metadata": {},
   "outputs": [],
   "source": [
    "def inverse_logistic(x):\n",
    "    return (1/0.05)*np.log(10/x - 1)+100"
   ]
  },
  {
   "cell_type": "markdown",
   "id": "619fdecb-482c-4acb-bc5b-ff7d9b9ac636",
   "metadata": {},
   "source": [
    "Note that we have defined this function as we would for a scalar variable `x` - we only made sure to use `np.log` to compute the logarithm. Now, we can build the domain where we will compute this function:"
   ]
  },
  {
   "cell_type": "code",
   "execution_count": null,
   "id": "5c1a42cc-dca8-4ffc-9fdb-d329e93d54c7",
   "metadata": {},
   "outputs": [],
   "source": [
    "domain = np.linspace(0.1, 9.9)"
   ]
  },
  {
   "cell_type": "markdown",
   "id": "fbbc9e47-1902-4485-8244-b7b2586624b9",
   "metadata": {},
   "source": [
    "Finally, let's plot this curve:"
   ]
  },
  {
   "cell_type": "code",
   "execution_count": null,
   "id": "e8dd0269-5f11-4f08-a706-b1f848c96932",
   "metadata": {},
   "outputs": [],
   "source": [
    "plt.plot(inverse_logistic(domain))"
   ]
  },
  {
   "cell_type": "markdown",
   "id": "446d004f-a4d5-43b8-8048-2119b851b9f5",
   "metadata": {},
   "source": [
    "---"
   ]
  },
  {
   "cell_type": "markdown",
   "id": "f1360c8e-8d5f-4e91-b5d4-771c7c0fba92",
   "metadata": {},
   "source": [
    "#### Self-assessment 1"
   ]
  },
  {
   "cell_type": "markdown",
   "id": "a47d1dd9-abde-48c2-aaf3-bb3524cc45f7",
   "metadata": {},
   "source": [
    "---"
   ]
  },
  {
   "cell_type": "markdown",
   "id": "03fa4a96-5730-48ec-8282-f12a40ae5e38",
   "metadata": {},
   "source": [
    "## 5. Another problem to solve "
   ]
  },
  {
   "cell_type": "markdown",
   "id": "5950ffe2",
   "metadata": {},
   "source": [
    "Consider the motion of a ball thrown from one person to another. The path of the ball is defined here as\n",
    "\n",
    "- $x(t) = x_0 + v_x t$ the forward distance of the ball\n",
    "- $y(t) = y_0 + v_y t - \\frac{g}{2}t^2$ the height of the ball\n",
    "\n",
    "where\n",
    "\n",
    "- $x_0 = 0~m$ is the initial distance travelled\n",
    "- $v_x$ is the initial forward speed of the ball\n",
    "- $y_0$ is the initial height of the ball\n",
    "- $v_y$ is the initial upward speed of the ball\n",
    "- $g = 9.81~\\frac{m}{s^2}$ is the acceleration due to gravity\n",
    "\n",
    "Let's use NumPy to find all the locations where a 175-cm person can stand to catch a ball thrown from $x_0=0~m$ and $y_0=2~m$ high at $v_x = 3.5~m$ and $v_y = 4.5~m$. \n",
    "\n",
    "You will do this in five steps:\n",
    "\n",
    "1. define your constants: $x_0,~v_x,~y_0,~v_y,~g$\n",
    "2. define your independent variable, time, as a NumPy array\n",
    "3. calculate the positions using time and your constants\n",
    "4. plot the path of the ball\n",
    "5. find the x-locations where $y(t)<0.175~m$"
   ]
  },
  {
   "cell_type": "markdown",
   "id": "664ea98d",
   "metadata": {},
   "source": [
    "### 5.1. Define your constants\n",
    "\n",
    "First, define the variables that are constant in the functions, $x(t)$ and $y(t)$:\n",
    "\n",
    "- $x_0$ as `x0`\n",
    "- $y_0$ as `y0`\n",
    "- $v_x$ as `vx`\n",
    "- $v_y$ as `vy`\n",
    "- $g$ as `g`"
   ]
  },
  {
   "cell_type": "code",
   "execution_count": null,
   "id": "f3152015",
   "metadata": {},
   "outputs": [],
   "source": [
    "x0 = 0\n",
    "y0 = 2\n",
    "\n",
    "vx = 3.5\n",
    "vy = 4.5\n",
    "g = 9.81"
   ]
  },
  {
   "cell_type": "markdown",
   "id": "fc74e529",
   "metadata": {},
   "source": [
    "### 5.2. Define your independent variable, time, as a NumPy array\n",
    "\n",
    "Now, you will use a built-in NumPy function, [`np.linspace`](https://numpy.org/doc/stable/reference/generated/numpy.linspace.html) to create the independent variable $t$ as `time`. The function `np.linspace` uses three arguments to define an array, as such\n",
    "\n",
    "```python\n",
    "time = np.linspace(start, end, number_of_steps)\n",
    "```\n",
    "\n",
    "- the `start` creates the first value in the array `time`\n",
    "- the `end` creates the last value in the array `time`\n",
    "- the `number_of_steps` defines how many steps to take between `start` and `end`"
   ]
  },
  {
   "cell_type": "code",
   "execution_count": null,
   "id": "baaff053",
   "metadata": {},
   "outputs": [],
   "source": [
    "time = np.linspace(0, 1, 21)"
   ]
  },
  {
   "cell_type": "markdown",
   "id": "94c229d3-bc57-4b49-b318-2eeac96e9dc5",
   "metadata": {},
   "source": [
    "**Note** `np.linspace` is very similar to `np.arange`, but you should be aware that `np.arange` may give unexpected results due to loss of precision. Check [the `np.arange` docstring](https://numpy.org/devdocs/reference/generated/numpy.arange.html) for more details."
   ]
  },
  {
   "cell_type": "markdown",
   "id": "c2a07526",
   "metadata": {},
   "source": [
    "Consider the output from the array, `time`. Here you `print` some descriptions of how `np.linspace` defined your array. "
   ]
  },
  {
   "cell_type": "code",
   "execution_count": null,
   "id": "f83fa0f5",
   "metadata": {},
   "outputs": [],
   "source": [
    "print('Your independent variable is time')\n",
    "print('time starts at {} s and ends at {} s'.format(time[0], time[-1]))\n",
    "print()\n",
    "print('it has {} time steps and each step is {} s'.format(len(time), time[1] - time[0]))"
   ]
  },
  {
   "cell_type": "markdown",
   "id": "fa496b02",
   "metadata": {},
   "source": [
    "### 5.3. Calculate the positions using time and your constants\n",
    "\n",
    "Now, that you have a NumPy array, you can plug it directly into equations to create new arrays. Next you define \n",
    "\n",
    "- `x` as $x(t) = x_0 + v_x t$ the forward distance of the ball\n",
    "- `y` as $y(t) = y_0 + v_y t - \\frac{g}{2}t^2$ the height of the ball"
   ]
  },
  {
   "cell_type": "markdown",
   "id": "1e4ceb2d-a6e4-4cbf-a481-01557f32c834",
   "metadata": {},
   "source": [
    "NumPy arrays make defining these functions straightforward. In the array `x`, each value of time [0, 0.05, ..., 1] s was multiplied by the initial speed, `vx`, then added to the initial position, `x0`. No need to create a `for`-loop and define each value of `x`. "
   ]
  },
  {
   "cell_type": "code",
   "execution_count": null,
   "id": "dc5ab385",
   "metadata": {},
   "outputs": [],
   "source": [
    "x = x0 + vx*time\n",
    "y = y0 + vy*time -g/2*time**2"
   ]
  },
  {
   "cell_type": "markdown",
   "id": "debdd270",
   "metadata": {},
   "source": [
    "### 5.4. Plot the path of the ball\n",
    "\n",
    "Now, you have defined three arrays, `t`, `x`, and `y`. Each of these arrays is the same shape `(21, )`. "
   ]
  },
  {
   "cell_type": "code",
   "execution_count": null,
   "id": "41152b27",
   "metadata": {},
   "outputs": [],
   "source": [
    "print(np.shape(time))\n",
    "print(np.shape(x))\n",
    "print(np.shape(y))"
   ]
  },
  {
   "cell_type": "markdown",
   "id": "a446c826",
   "metadata": {},
   "source": [
    "Because they are all the same shape, you can use [Matplotlib](https://matplotlib.org/stable/index.html) to see how the ball will travel through the air. Here, you use `plt.plot` to plot $y(t)$ vs $x(t)$. "
   ]
  },
  {
   "cell_type": "code",
   "execution_count": null,
   "id": "2b9d43cb",
   "metadata": {},
   "outputs": [],
   "source": [
    "plt.plot(x, y, 'o')\n",
    "plt.xlabel('forward distance (m)')\n",
    "plt.ylabel('height (m)')"
   ]
  },
  {
   "cell_type": "markdown",
   "id": "d6d2c5c4",
   "metadata": {},
   "source": [
    "By plotting the path of the ball, notice how the height is over 2 meters for most of the time in the air. Somewhere past $x(t) = 3~m$ the ball is getting back to its original height of $2~m$. Next, you can find what those positions and times are. "
   ]
  },
  {
   "cell_type": "markdown",
   "id": "49328d4e",
   "metadata": {},
   "source": [
    "### 5.5. Find the x-locations where $y(t)<0.175~m$\n",
    "\n",
    "Now, you want to find the locations to stand _and even when to catch the ball_. You can use another `ufunc` function that operates on every element in the variable `y`. Use the `<` operator to check when $y(t) < 1.75~m$"
   ]
  },
  {
   "cell_type": "code",
   "execution_count": null,
   "id": "ae185032",
   "metadata": {},
   "outputs": [],
   "source": [
    "y < 1.75"
   ]
  },
  {
   "cell_type": "markdown",
   "id": "698b0605",
   "metadata": {},
   "source": [
    "The result is a list of `True` and `False` statements. \n",
    "- If the value of `y` is more than $1.75~m$, then the result is `False` \n",
    "- If the value of `y` is less than $1.75~m$, then the result is `True`\n",
    "\n",
    "Now, you can use this list of `True`/`False` statements to just look at the times and positions of the ball when the statement is `True`, using advanced indexing:"
   ]
  },
  {
   "cell_type": "code",
   "execution_count": null,
   "id": "070b4eae",
   "metadata": {},
   "outputs": [],
   "source": [
    "time[y < 1.75]"
   ]
  },
  {
   "cell_type": "code",
   "execution_count": null,
   "id": "6b982075",
   "metadata": {},
   "outputs": [],
   "source": [
    "x[y < 1.75]"
   ]
  },
  {
   "cell_type": "code",
   "execution_count": null,
   "id": "7bd014e3",
   "metadata": {},
   "outputs": [],
   "source": [
    "y[y < 1.75]"
   ]
  },
  {
   "cell_type": "code",
   "execution_count": null,
   "id": "4d5e1354",
   "metadata": {},
   "outputs": [],
   "source": [
    "plt.plot(x, y, 'o')\n",
    "plt.text(x[y < 1.75], y[y < 1.75], '<- Stand here')\n",
    "plt.xlabel('forward distance (m)')\n",
    "plt.ylabel('height (m)')"
   ]
  },
  {
   "cell_type": "markdown",
   "id": "af4ba0f5",
   "metadata": {},
   "source": [
    "The result is that at $t = 1~s$, the ball has travelled $x(t=1) = 3.5~m$ and will be $y(t=1) = 1.595~m$ high. This is a great place to stand to catch the ball, just be ready!"
   ]
  },
  {
   "cell_type": "markdown",
   "id": "1aa098ea-affd-475f-a1b4-686781015969",
   "metadata": {},
   "source": [
    "---"
   ]
  },
  {
   "cell_type": "markdown",
   "id": "c3ca66a4",
   "metadata": {},
   "source": [
    "## Read more\n",
    "- [NumPy functions and methods overview](https://numpy.org/devdocs/user/quickstart.html#functions-and-methods-overview)\n",
    "- [NumPy Quickstart guide](https://numpy.org/devdocs/user/quickstart.html)\n",
    "- [NumPy for absolute beginners](https://numpy.org/devdocs/user/absolute_beginners.html)\n",
    "- [Broadcasting](https://numpy.org/devdocs/user/basics.broadcasting.html)"
   ]
  },
  {
   "cell_type": "markdown",
   "id": "ea06b570-7fc2-48f4-be7a-b5d0d2503b71",
   "metadata": {},
   "source": [
    "## Next"
   ]
  },
  {
   "cell_type": "markdown",
   "id": "cf96e747-4247-4c3f-b7b1-cc6cd8788c73",
   "metadata": {},
   "source": [
    "Go to [Notebook 4: Submodules](04_Submodules.ipynb)."
   ]
  },
  {
   "cell_type": "code",
   "execution_count": null,
   "id": "fd5461c7-1029-4186-b998-80bcb35d3d42",
   "metadata": {},
   "outputs": [],
   "source": []
  }
 ],
 "metadata": {
  "kernelspec": {
   "display_name": "Python 3 (ipykernel)",
   "language": "python",
   "name": "python3"
  },
  "language_info": {
   "codemirror_mode": {
    "name": "ipython",
    "version": 3
   },
   "file_extension": ".py",
   "mimetype": "text/x-python",
   "name": "python",
   "nbconvert_exporter": "python",
   "pygments_lexer": "ipython3",
   "version": "3.9.7"
  }
 },
 "nbformat": 4,
 "nbformat_minor": 5
}
