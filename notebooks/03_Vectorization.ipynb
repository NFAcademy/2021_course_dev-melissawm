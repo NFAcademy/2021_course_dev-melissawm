{
 "cells": [
  {
   "cell_type": "markdown",
   "id": "2c8d1b61",
   "metadata": {},
   "source": [
    "# Vectorization: an introduction to universal functions"
   ]
  },
  {
   "cell_type": "code",
   "execution_count": 14,
   "id": "26bf1bfd",
   "metadata": {},
   "outputs": [],
   "source": [
    "import numpy as np\n",
    "import matplotlib.pyplot as plt"
   ]
  },
  {
   "cell_type": "markdown",
   "id": "6bfddefa",
   "metadata": {},
   "source": [
    "In this notebook, you will learn about\n",
    "- When and how to vectorize code\n",
    "- Why this works: ufuncs\n",
    "- Examples and applications"
   ]
  },
  {
   "cell_type": "markdown",
   "id": "5950ffe2",
   "metadata": {},
   "source": [
    "Consider the motion of a ball thrown from one person to another. The path of the ball is defined here as\n",
    "\n",
    "- $x(t) = x_0 + v_x t$ the forward distance of the ball\n",
    "- $y(t) = y_0 + v_y t - \\frac{g}{2}t^2$ the height of the ball\n",
    "\n",
    "where\n",
    "\n",
    "- $x_0 = 0~m$ is the initial distance travelled\n",
    "- $v_x$ is the initial forward speed of the ball\n",
    "- $y_0$ is the initial height of the ball\n",
    "- $v_y$ is the initial upward speed of the ball\n",
    "- $g = 9.81~\\frac{m}{s^2}$ is the acceleration due to gravity\n",
    "\n",
    "Let's use NumPy to find all the locations where a 175-cm person can stand to catch a ball thrown from $x_0=0~m$ and $y_0=2~m$ high at $v_x = 3.5~m$ and $v_y = 4.5~m$. \n",
    "\n",
    "You will do this in five steps:\n",
    "\n",
    "1. define your constants: $x_0,~v_x,~y_0,~v_y,~g$\n",
    "2. define your independent variable, time, as a NumPy array\n",
    "3. calculate the positions using time and your constants\n",
    "4. plot the path of the ball\n",
    "5. find the x-locations where $y(t)<0.175~m$"
   ]
  },
  {
   "cell_type": "markdown",
   "id": "664ea98d",
   "metadata": {},
   "source": [
    "## 1. define your constants\n",
    "\n",
    "First, define the variables that are constant in the functions, $x(t)$ and $y(t)$:\n",
    "\n",
    "- $x_0$ as `x0`\n",
    "- $y_0$ as `y0`\n",
    "- $v_x$ as `vx`\n",
    "- $v_y$ as `vy`\n",
    "- $g$ as `g`"
   ]
  },
  {
   "cell_type": "code",
   "execution_count": 15,
   "id": "f3152015",
   "metadata": {},
   "outputs": [],
   "source": [
    "x0 = 0\n",
    "y0 = 2\n",
    "\n",
    "vx = 3.5\n",
    "vy = 4.5\n",
    "g = 9.81"
   ]
  },
  {
   "cell_type": "markdown",
   "id": "fc74e529",
   "metadata": {},
   "source": [
    "## 2. Define your independent variable, time, as a NumPy array\n",
    "\n",
    "Now, you will use a built-in NumPy function, [`np.linspace`](https://numpy.org/doc/stable/reference/generated/numpy.linspace.html) to create the independent variable $t$ as `time`. The function `np.linspace` uses three arguments to define an array, as such\n",
    "\n",
    "```python\n",
    "time = np.linspace(start, end, number_of_steps)\n",
    "```\n",
    "\n",
    "- the `start` creates the first value in the array `time`\n",
    "- the `end` creates the last value in the array `time`\n",
    "- the `number_of_steps` defines how many steps to take between `start` and `end`"
   ]
  },
  {
   "cell_type": "code",
   "execution_count": 24,
   "id": "baaff053",
   "metadata": {},
   "outputs": [],
   "source": [
    "time = np.linspace(0, 1, 21)"
   ]
  },
  {
   "cell_type": "markdown",
   "id": "c2a07526",
   "metadata": {},
   "source": [
    "Consider the output from the array, `time`. Here you `print` some descriptions of how `np.linspace` defined your array. "
   ]
  },
  {
   "cell_type": "code",
   "execution_count": 28,
   "id": "f83fa0f5",
   "metadata": {},
   "outputs": [
    {
     "name": "stdout",
     "output_type": "stream",
     "text": [
      "Your independent variable is time\n",
      "time starts at 0.0 s and ends at 1.0 s\n",
      "\n",
      "it has 21 time steps and each step is 0.05 s\n"
     ]
    }
   ],
   "source": [
    "print('Your independent variable is time')\n",
    "print('time starts at {} s and ends at {} s'.format(time[0], time[-1]))\n",
    "print()\n",
    "print('it has {} time steps and each step is {} s'.format(len(time), time[1] - time[0]))"
   ]
  },
  {
   "cell_type": "markdown",
   "id": "fa496b02",
   "metadata": {},
   "source": [
    "## 3. Calculate the positions using time and your constants\n",
    "\n",
    "Now, that you have a NumPy array, you can plug it directly into equations to create new arrays. Next you define \n",
    "\n",
    "- `x` as $x(t) = x_0 + v_x t$ the forward distance of the ball\n",
    "- `y` as $y(t) = y_0 + v_y t - \\frac{g}{2}t^2$ the height of the ball"
   ]
  },
  {
   "cell_type": "code",
   "execution_count": 29,
   "id": "dc5ab385",
   "metadata": {},
   "outputs": [],
   "source": [
    "x = x0 + vx*time\n",
    "y = y0 + vy*time -g/2*time**2"
   ]
  },
  {
   "cell_type": "markdown",
   "id": "46a069e5",
   "metadata": {},
   "source": [
    "NumPy arrays make defining these functions straightforward. In the array `x`, each value of time [0, 0.05, ..., 1] s was multiplied by the initial speed, `vx`, then added to the initial position, `x0`. No need to create a `for`-loop and define each value of `x`. These operations are called [`ufunc`](https://numpy.org/doc/stable/reference/generated/numpy.ufunc.html) functions because they operate on each item in the array individually. It works any math operations e.g. \n",
    "- add: `+`\n",
    "- subtract: `-`\n",
    "- multiply: `*`\n",
    "- divide: `/`\n",
    "- powers: `**` e.g. squared: `**2`\n",
    "- boolean operations e.g. `<`, `>`, `==`\n",
    "\n",
    "NumPy has a number of other `ufunc` functions that operate on each element e.g. \n",
    "- sine and cosine: `np.sin` and `np.cos`\n",
    "- exponential $e^x$: `np.exp(x)`\n",
    "- logarithms $\\log(x)$: `np.log(x)`\n"
   ]
  },
  {
   "cell_type": "markdown",
   "id": "debdd270",
   "metadata": {},
   "source": [
    "## 4. plot the path of the ball\n",
    "\n",
    "Now, you have defined three arrays, `t`, `x`, and `y`. Each of these arrays is the same shape `(21, )`. "
   ]
  },
  {
   "cell_type": "code",
   "execution_count": 36,
   "id": "41152b27",
   "metadata": {},
   "outputs": [
    {
     "name": "stdout",
     "output_type": "stream",
     "text": [
      "(21,)\n",
      "(21,)\n",
      "(21,)\n"
     ]
    }
   ],
   "source": [
    "print(np.shape(time))\n",
    "print(np.shape(x))\n",
    "print(np.shape(y))"
   ]
  },
  {
   "cell_type": "markdown",
   "id": "a446c826",
   "metadata": {},
   "source": [
    "Because they are all the same shape, you can use [Matplotlib](https://matplotlib.org/stable/index.html) to see how the ball will travel through the air. Here, you use `plt.plot` to plot $y(t)$ vs $x(t)$. "
   ]
  },
  {
   "cell_type": "code",
   "execution_count": 46,
   "id": "2b9d43cb",
   "metadata": {},
   "outputs": [
    {
     "data": {
      "text/plain": [
       "Text(0, 0.5, 'height (m)')"
      ]
     },
     "execution_count": 46,
     "metadata": {},
     "output_type": "execute_result"
    },
    {
     "data": {
      "image/png": "[encoded data removed]",
      "text/plain": [
       "<Figure size 432x288 with 1 Axes>"
      ]
     },
     "metadata": {},
     "output_type": "display_data"
    }
   ],
   "source": [
    "plt.plot(x, y, 'o')\n",
    "plt.xlabel('forward distance (m)')\n",
    "plt.ylabel('height (m)')"
   ]
  },
  {
   "cell_type": "markdown",
   "id": "d6d2c5c4",
   "metadata": {},
   "source": [
    "By plotting the path of the ball, notice how the height is over 2 meters for most of the time in the air. Somewhere past $x(t) = 3~m$ the ball is getting back to its original height of $2~m$. Next, you can find what those positions and times are. "
   ]
  },
  {
   "cell_type": "markdown",
   "id": "49328d4e",
   "metadata": {},
   "source": [
    "## 5. find the x-locations where $y(t)<0.175~m$\n",
    "\n",
    "Now, you want to find the locations to stand _and even when to catch the ball_. You can use another `ufunc` function that operates on every element in the variable `y`. Use the `<` operator to check when $y(t) < 1.75~m$"
   ]
  },
  {
   "cell_type": "code",
   "execution_count": 47,
   "id": "ae185032",
   "metadata": {},
   "outputs": [
    {
     "data": {
      "text/plain": [
       "array([False, False, False, False, False, False, False, False, False,\n",
       "       False, False, False, False, False, False, False, False, False,\n",
       "       False, False,  True])"
      ]
     },
     "execution_count": 47,
     "metadata": {},
     "output_type": "execute_result"
    }
   ],
   "source": [
    "y < 1.75"
   ]
  },
  {
   "cell_type": "markdown",
   "id": "698b0605",
   "metadata": {},
   "source": [
    "The result is a list of `True` and `False` statements. \n",
    "- If the value of `y` is more than $1.75~m$, then the result is `False` \n",
    "- If the value of `y` is less than $1.75~m$, then the result is `True`\n",
    "\n",
    "Now, you can use this list of `True`/`False` statements to just look at the times and positions of the ball when the statement is `True`."
   ]
  },
  {
   "cell_type": "code",
   "execution_count": 39,
   "id": "070b4eae",
   "metadata": {},
   "outputs": [
    {
     "data": {
      "text/plain": [
       "array([1.])"
      ]
     },
     "execution_count": 39,
     "metadata": {},
     "output_type": "execute_result"
    }
   ],
   "source": [
    "time[y < 1.75]"
   ]
  },
  {
   "cell_type": "code",
   "execution_count": 40,
   "id": "6b982075",
   "metadata": {},
   "outputs": [
    {
     "data": {
      "text/plain": [
       "array([3.5])"
      ]
     },
     "execution_count": 40,
     "metadata": {},
     "output_type": "execute_result"
    }
   ],
   "source": [
    "x[y < 1.75]"
   ]
  },
  {
   "cell_type": "code",
   "execution_count": 42,
   "id": "7bd014e3",
   "metadata": {},
   "outputs": [
    {
     "data": {
      "text/plain": [
       "array([1.595])"
      ]
     },
     "execution_count": 42,
     "metadata": {},
     "output_type": "execute_result"
    }
   ],
   "source": [
    "y[y < 1.75]"
   ]
  },
  {
   "cell_type": "code",
   "execution_count": 48,
   "id": "4d5e1354",
   "metadata": {},
   "outputs": [
    {
     "data": {
      "text/plain": [
       "Text(0, 0.5, 'height (m)')"
      ]
     },
     "execution_count": 48,
     "metadata": {},
     "output_type": "execute_result"
    },
    {
     "data": {
      "image/png": "[encoded data removed]",
      "text/plain": [
       "<Figure size 432x288 with 1 Axes>"
      ]
     },
     "metadata": {},
     "output_type": "display_data"
    }
   ],
   "source": [
    "plt.plot(x, y, 'o')\n",
    "plt.text(x[y < 1.75], y[y < 1.75], '<- Stand here')\n",
    "plt.xlabel('forward distance (m)')\n",
    "plt.ylabel('height (m)')"
   ]
  },
  {
   "cell_type": "markdown",
   "id": "af4ba0f5",
   "metadata": {},
   "source": [
    "The result is that at $t = 1~s$, the ball has travelled $x(t=1) = 3.5~m$ and will be $y(t=1) = 1.595~m$ high. This is a great place to stand to catch the ball, just be ready!"
   ]
  },
  {
   "cell_type": "markdown",
   "id": "c3ca66a4",
   "metadata": {},
   "source": [
    "## Read more\n",
    "- [NumPy functions and methods overview](https://numpy.org/devdocs/user/quickstart.html#functions-and-methods-overview)\n",
    "- [NumPy Quickstart guide](https://numpy.org/devdocs/user/quickstart.html)\n",
    "- [NumPy for absolute beginners](https://numpy.org/devdocs/user/absolute_beginners.html)"
   ]
  },
  {
   "cell_type": "markdown",
   "id": "0de10ada",
   "metadata": {},
   "source": [
    "## Exercises"
   ]
  },
  {
   "cell_type": "code",
   "execution_count": null,
   "id": "d8245013",
   "metadata": {},
   "outputs": [],
   "source": []
  }
 ],
 "metadata": {
  "kernelspec": {
   "display_name": "Python 3",
   "language": "python",
   "name": "python3"
  },
  "language_info": {
   "codemirror_mode": {
    "name": "ipython",
    "version": 3
   },
   "file_extension": ".py",
   "mimetype": "text/x-python",
   "name": "python",
   "nbconvert_exporter": "python",
   "pygments_lexer": "ipython3",
   "version": "3.9.0"
  }
 },
 "nbformat": 4,
 "nbformat_minor": 5
}
