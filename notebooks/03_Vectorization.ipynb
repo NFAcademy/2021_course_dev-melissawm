{
 "cells": [
  {
   "cell_type": "markdown",
   "id": "e55a705f",
   "metadata": {},
   "source": [
    "# Vectorization: an introduction to universal functions"
   ]
  },
  {
   "cell_type": "markdown",
   "id": "ad66c512",
   "metadata": {},
   "source": [
    "In this notebook, you will learn about\n",
    "- When and how to vectorize code\n",
    "- Why this works: ufuncs\n",
    "- Saving data for later use with `np.savez`\n",
    "- Basic built-in NumPy tools for plotting and integrating with Matplotlib.\n",
    "- Examples and applications"
   ]
  },
  {
   "cell_type": "markdown",
   "id": "ec4cf0a3",
   "metadata": {},
   "source": [
    "---"
   ]
  },
  {
   "cell_type": "markdown",
   "id": "2cdd7ef7",
   "metadata": {
    "tags": []
   },
   "source": [
    "## 1. Broadcasting"
   ]
  },
  {
   "cell_type": "markdown",
   "id": "ca3d21cf",
   "metadata": {},
   "source": [
    "The term broadcasting describes how NumPy treats arrays with different shapes during arithmetic operations. Subject to certain constraints, the smaller array is “broadcast” across the larger array so that they have compatible shapes. Broadcasting provides a means of vectorizing array operations so that looping occurs in C instead of Python. It does this without making needless copies of data and usually leads to efficient algorithm implementations. There are, however, cases where broadcasting is a bad idea because it leads to inefficient use of memory that slows computation."
   ]
  },
  {
   "cell_type": "code",
   "execution_count": 1,
   "id": "a8339b3c",
   "metadata": {},
   "outputs": [],
   "source": [
    "import numpy as np"
   ]
  },
  {
   "cell_type": "markdown",
   "id": "bdae7350",
   "metadata": {},
   "source": [
    "NumPy operations are usually done on pairs of arrays on an element-by-element basis. In the simplest case, the two arrays must have exactly the same shape, as in the following example:"
   ]
  },
  {
   "cell_type": "code",
   "execution_count": 2,
   "id": "a962b9de",
   "metadata": {},
   "outputs": [
    {
     "data": {
      "text/plain": [
       "array([2., 4., 6.])"
      ]
     },
     "execution_count": 2,
     "metadata": {},
     "output_type": "execute_result"
    }
   ],
   "source": [
    "a = np.array([1.0, 2.0, 3.0])\n",
    "b = np.array([2.0, 2.0, 2.0])\n",
    "a * b"
   ]
  },
  {
   "cell_type": "markdown",
   "id": "1973a699",
   "metadata": {},
   "source": [
    "NumPy’s broadcasting rule relaxes this constraint when the arrays’ shapes meet certain constraints. The simplest broadcasting example occurs when an array and a scalar value are combined in an operation:"
   ]
  },
  {
   "cell_type": "code",
   "execution_count": 3,
   "id": "88142cbd",
   "metadata": {},
   "outputs": [
    {
     "data": {
      "text/plain": [
       "array([2., 4., 6.])"
      ]
     },
     "execution_count": 3,
     "metadata": {},
     "output_type": "execute_result"
    }
   ],
   "source": [
    "a = np.array([1.0, 2.0, 3.0])\n",
    "b = 2.0\n",
    "a * b"
   ]
  },
  {
   "cell_type": "markdown",
   "id": "253cfd23",
   "metadata": {},
   "source": [
    "We can think of the scalar `b` being stretched during the arithmetic operation into an array with the same shape as `a`. The new elements in `b`, as shown in the figure below, are simply copies of the original scalar."
   ]
  },
  {
   "cell_type": "markdown",
   "id": "c36c06ad",
   "metadata": {},
   "source": [
    "![\"A scalar is broadcast to match the shape of the 1-d array it is being multiplied to.\"](https://numpy.org/devdocs/_images/broadcasting_1.svg)"
   ]
  },
  {
   "cell_type": "markdown",
   "id": "e24e4abb",
   "metadata": {},
   "source": [
    "We will continue using the example of [Notebook 1](01_Intro.ipynb):"
   ]
  },
  {
   "cell_type": "code",
   "execution_count": 4,
   "id": "9e614b73",
   "metadata": {},
   "outputs": [],
   "source": [
    "import pandas as pd\n",
    "\n",
    "quality_of_life = pd.read_csv('../data/quality_of_life_index.csv')\n",
    "quality_index = np.array(quality_of_life['Quality of Life Index'])\n",
    "quality_cost_pollution = np.array(quality_of_life[['Quality of Life Index', 'Cost of Living Index', 'Pollution Index']]) "
   ]
  },
  {
   "cell_type": "markdown",
   "id": "5177b16b",
   "metadata": {},
   "source": [
    "From the [Numbeo website](https://www.numbeo.com/quality-of-life/indices_explained.jsp), the formula for the Quality of Life Index involves a combination of a weighted sum of the other indices in our `quality_of_life` DataFrame. Let's say we wanted to renormalize every value in our `quality_cost_pollution` array by the `quality_of_life` index. Because of the broadcasting properties of NumPy arrays, this can be done by putting together a few of the things we've learned:"
   ]
  },
  {
   "cell_type": "code",
   "execution_count": 5,
   "id": "5dc99d44",
   "metadata": {},
   "outputs": [],
   "source": [
    "renormalized_values = quality_cost_pollution/quality_index[:, np.newaxis]"
   ]
  },
  {
   "cell_type": "code",
   "execution_count": 6,
   "id": "3d896424",
   "metadata": {
    "scrolled": true,
    "tags": []
   },
   "outputs": [
    {
     "data": {
      "text/plain": [
       "array([[1.        , 0.37157083, 0.06599629],\n",
       "       [1.        , 0.36737519, 0.09026199],\n",
       "       [1.        , 0.33074373, 0.11188085],\n",
       "       [1.        , 0.39416543, 0.06994329],\n",
       "       [1.        , 0.3627907 , 0.14536162],\n",
       "       [1.        , 0.36138741, 0.13379374],\n",
       "       [1.        , 0.66502565, 0.09327875],\n",
       "       [1.        , 0.33763654, 0.11508911],\n",
       "       [1.        , 0.34292767, 0.19171175],\n",
       "       [1.        , 0.35439647, 0.09969535],\n",
       "       [1.        , 0.38651567, 0.14248091],\n",
       "       [1.        , 0.34951712, 0.16433585],\n",
       "       [1.        , 0.39475074, 0.10963245],\n",
       "       [1.        , 0.41513053, 0.12466702],\n",
       "       [1.        , 0.42123618, 0.12007726],\n",
       "       [1.        , 0.3581913 , 0.22538846],\n",
       "       [1.        , 0.43411567, 0.12222885],\n",
       "       [1.        , 0.64985599, 0.13738384],\n",
       "       [1.        , 0.36341836, 0.17119032],\n",
       "       [1.        , 0.4701041 , 0.15544776],\n",
       "       [1.        , 0.37978008, 0.09541003],\n",
       "       [1.        , 0.4010294 , 0.08005257],\n",
       "       [1.        , 0.40907094, 0.19245552],\n",
       "       [1.        , 0.41198213, 0.25144812],\n",
       "       [1.        , 0.50489085, 0.12213319],\n",
       "       [1.        , 0.53805673, 0.08314868],\n",
       "       [1.        , 0.34677778, 0.24977778],\n",
       "       [1.        , 0.42815836, 0.13879004],\n",
       "       [1.        , 0.4743167 , 0.11838354],\n",
       "       [1.        , 0.37510546, 0.2195849 ],\n",
       "       [1.        , 0.39879579, 0.13437623],\n",
       "       [1.        , 0.41512842, 0.15450183],\n",
       "       [1.        , 0.37182605, 0.15625177],\n",
       "       [1.        , 0.46961012, 0.15532603],\n",
       "       [1.        , 0.38952164, 0.19100228],\n",
       "       [1.        , 0.36159031, 0.25088541],\n",
       "       [1.        , 0.4394919 , 0.14830921],\n",
       "       [1.        , 0.41354244, 0.12323279],\n",
       "       [1.        , 0.37676339, 0.15666934],\n",
       "       [1.        , 0.28892594, 0.20877415],\n",
       "       [1.        , 0.38464637, 0.20158831],\n",
       "       [1.        , 0.36791801, 0.35657531],\n",
       "       [1.        , 0.40050741, 0.24067347],\n",
       "       [1.        , 0.44380337, 0.17770598],\n",
       "       [1.        , 0.45060909, 0.07944114],\n",
       "       [1.        , 0.45048532, 0.11959787],\n",
       "       [1.        , 0.37667746, 0.24167052],\n",
       "       [1.        , 0.42403379, 0.14574173],\n",
       "       [1.        , 0.33671165, 0.25783286],\n",
       "       [1.        , 0.39420172, 0.13083895],\n",
       "       [1.        , 0.43691806, 0.17236965],\n",
       "       [1.        , 0.50836198, 0.15634287],\n",
       "       [1.        , 0.41827542, 0.21890722],\n",
       "       [1.        , 0.43340356, 0.18831929],\n",
       "       [1.        , 0.48329109, 0.18123416],\n",
       "       [1.        , 0.31638851, 0.26213363],\n",
       "       [1.        , 0.46258704, 0.15561194],\n",
       "       [1.        , 0.3651029 , 0.16066663],\n",
       "       [1.        , 0.46269276, 0.27384342],\n",
       "       [1.        , 0.33639815, 0.13358643],\n",
       "       [1.        , 0.46432407, 0.2535497 ],\n",
       "       [1.        , 0.43080893, 0.18446952],\n",
       "       [1.        , 0.37840595, 0.33819469],\n",
       "       [1.        , 0.42100835, 0.28111291],\n",
       "       [1.        , 0.45840346, 0.26526809],\n",
       "       [1.        , 0.45044339, 0.23460216],\n",
       "       [1.        , 0.41504414, 0.21580602],\n",
       "       [1.        , 0.49094214, 0.15886095],\n",
       "       [1.        , 0.35528712, 0.14088867],\n",
       "       [1.        , 0.28937618, 0.14110429],\n",
       "       [1.        , 0.42283388, 0.2365415 ],\n",
       "       [1.        , 0.55119786, 0.10069318],\n",
       "       [1.        , 0.44054498, 0.2172009 ],\n",
       "       [1.        , 0.4325925 , 0.17779949],\n",
       "       [1.        , 0.50232047, 0.17910357],\n",
       "       [1.        , 0.27372798, 0.15918542],\n",
       "       [1.        , 0.44896708, 0.14074664],\n",
       "       [1.        , 0.63315318, 0.14568235],\n",
       "       [1.        , 0.45851286, 0.26855841],\n",
       "       [1.        , 0.46348991, 0.27701994],\n",
       "       [1.        , 0.45525845, 0.17841042],\n",
       "       [1.        , 0.4354168 , 0.15020793],\n",
       "       [1.        , 0.51436906, 0.24864999],\n",
       "       [1.        , 0.56269037, 0.22515074],\n",
       "       [1.        , 0.44672514, 0.31336692],\n",
       "       [1.        , 0.54747978, 0.26403236],\n",
       "       [1.        , 0.44359775, 0.27620237],\n",
       "       [1.        , 0.39660021, 0.16467721],\n",
       "       [1.        , 0.42051379, 0.2872307 ],\n",
       "       [1.        , 0.51885607, 0.1230044 ],\n",
       "       [1.        , 0.31656039, 0.20436896],\n",
       "       [1.        , 0.32332111, 0.21797142],\n",
       "       [1.        , 0.40181001, 0.31884058],\n",
       "       [1.        , 0.43393832, 0.16042645],\n",
       "       [1.        , 0.454168  , 0.26023635],\n",
       "       [1.        , 0.44014627, 0.21311265],\n",
       "       [1.        , 0.31496468, 0.277842  ],\n",
       "       [1.        , 0.2139505 , 0.2783028 ],\n",
       "       [1.        , 0.23586607, 0.36677399],\n",
       "       [1.        , 0.3310578 , 0.22833366],\n",
       "       [1.        , 0.48438625, 0.38396072],\n",
       "       [1.        , 0.682548  , 0.24025165],\n",
       "       [1.        , 0.47910644, 0.25085414],\n",
       "       [1.        , 0.15619661, 0.2953739 ],\n",
       "       [1.        , 0.61971461, 0.31314526],\n",
       "       [1.        , 0.39929727, 0.34466985],\n",
       "       [1.        , 0.51529866, 0.33896501],\n",
       "       [1.        , 0.5153272 , 0.32067173],\n",
       "       [1.        , 0.46334448, 0.37665552],\n",
       "       [1.        , 0.27009108, 0.29286097],\n",
       "       [1.        , 0.52550781, 0.2623852 ],\n",
       "       [1.        , 0.547857  , 0.22342209],\n",
       "       [1.        , 0.366651  , 0.23951131],\n",
       "       [1.        , 0.37447123, 0.23722554],\n",
       "       [1.        , 0.42201465, 0.4061555 ],\n",
       "       [1.        , 0.45900075, 0.27169245],\n",
       "       [1.        , 0.50372141, 0.36162513],\n",
       "       [1.        , 0.4621533 , 0.36234458],\n",
       "       [1.        , 0.28389657, 0.26364756],\n",
       "       [1.        , 0.34428249, 0.27988777],\n",
       "       [1.        , 0.53899492, 0.37058904],\n",
       "       [1.        , 0.63838856, 0.32297539],\n",
       "       [1.        , 0.36048193, 0.44337349],\n",
       "       [1.        , 0.4618034 , 0.36756906],\n",
       "       [1.        , 0.58669817, 0.51977205],\n",
       "       [1.        , 0.36395907, 0.26150205],\n",
       "       [1.        , 0.34926727, 0.33524075],\n",
       "       [1.        , 0.47156464, 0.33492086],\n",
       "       [1.        , 0.48889985, 0.26090634],\n",
       "       [1.        , 0.36443024, 0.48938587],\n",
       "       [1.        , 0.53893151, 0.4413896 ],\n",
       "       [1.        , 0.38659353, 0.43624448],\n",
       "       [1.        , 0.1554382 , 0.29874393],\n",
       "       [1.        , 0.46227425, 0.445999  ],\n",
       "       [1.        , 0.58197014, 0.29123509],\n",
       "       [1.        , 0.46174766, 0.39225649],\n",
       "       [1.        , 0.4691128 , 0.35222875],\n",
       "       [1.        , 0.27270121, 0.23571992],\n",
       "       [1.        , 0.53689055, 0.38767439],\n",
       "       [1.        , 0.50821207, 0.40541709],\n",
       "       [1.        , 0.72144867, 0.4159873 ],\n",
       "       [1.        , 0.24444444, 0.24473304],\n",
       "       [1.        , 0.22341435, 0.43113641],\n",
       "       [1.        , 0.46580068, 0.48546896],\n",
       "       [1.        , 0.27822163, 0.35286285],\n",
       "       [1.        , 0.29101938, 0.38829709],\n",
       "       [1.        , 0.24535093, 0.23567786],\n",
       "       [1.        , 0.33501772, 0.42899163],\n",
       "       [1.        , 0.6031302 , 0.50536821],\n",
       "       [1.        , 0.30311118, 0.48970566],\n",
       "       [1.        , 0.24527436, 0.50286982],\n",
       "       [1.        , 0.66379244, 0.44553083],\n",
       "       [1.        , 0.517228  , 0.54974391],\n",
       "       [1.        , 0.28620394, 0.45851835],\n",
       "       [1.        , 0.53486739, 0.4725429 ],\n",
       "       [1.        , 0.24657865, 0.38938979],\n",
       "       [1.        , 0.33049335, 0.62544628],\n",
       "       [1.        , 0.62893541, 0.47744239],\n",
       "       [1.        , 0.33430847, 0.38599057],\n",
       "       [1.        , 0.33873331, 0.5582058 ],\n",
       "       [1.        , 0.70227514, 0.51944875],\n",
       "       [1.        , 0.37572443, 0.44486164],\n",
       "       [1.        , 0.2555383 , 0.42597891],\n",
       "       [1.        , 0.31096014, 0.54956209],\n",
       "       [1.        , 0.19141265, 0.51704359],\n",
       "       [1.        , 0.24153758, 0.5134825 ],\n",
       "       [1.        , 0.58427336, 0.41852614],\n",
       "       [1.        , 0.41569695, 0.50812907],\n",
       "       [1.        , 0.2307883 , 0.6854239 ],\n",
       "       [1.        , 0.37630402, 0.50761716],\n",
       "       [1.        , 0.63191206, 0.56154231],\n",
       "       [1.        , 0.29309188, 0.52665996],\n",
       "       [1.        , 0.45003365, 0.41184388],\n",
       "       [1.        , 0.28451847, 0.48355458],\n",
       "       [1.        , 0.49306678, 0.48728201],\n",
       "       [1.        , 0.2765287 , 0.48058252],\n",
       "       [1.        , 0.34694051, 0.64334413],\n",
       "       [1.        , 0.36543909, 0.56356769],\n",
       "       [1.        , 0.42378127, 0.50004299],\n",
       "       [1.        , 0.36407516, 0.55783486],\n",
       "       [1.        , 0.27861212, 0.55895046],\n",
       "       [1.        , 0.23723672, 0.61601803],\n",
       "       [1.        , 0.41534851, 0.45150356],\n",
       "       [1.        , 0.51134183, 0.55836678],\n",
       "       [1.        , 0.23466878, 0.66886312],\n",
       "       [1.        , 0.26286017, 0.65617819],\n",
       "       [1.        , 0.46807942, 0.67384917],\n",
       "       [1.        , 0.39074619, 0.65730588],\n",
       "       [1.        , 0.35235798, 0.63219007],\n",
       "       [1.        , 0.35532534, 0.61059615],\n",
       "       [1.        , 0.36626528, 0.58930852],\n",
       "       [1.        , 0.28722039, 0.51200953],\n",
       "       [1.        , 0.44644332, 0.60403855],\n",
       "       [1.        , 0.24294512, 0.67276404],\n",
       "       [1.        , 0.68303242, 0.61090641],\n",
       "       [1.        , 0.30648728, 0.38039071],\n",
       "       [1.        , 0.31229818, 0.6386198 ],\n",
       "       [1.        , 0.3625704 , 0.61757917],\n",
       "       [1.        , 0.51315546, 0.59727626],\n",
       "       [1.        , 0.39028491, 0.61746847],\n",
       "       [1.        , 0.32537453, 0.61310861],\n",
       "       [1.        , 0.31043568, 0.59386468],\n",
       "       [1.        , 0.32094434, 0.86820897],\n",
       "       [1.        , 0.34074502, 0.79651555],\n",
       "       [1.        , 0.26094503, 0.72642237],\n",
       "       [1.        , 0.32554322, 0.50690488],\n",
       "       [1.        , 0.4191205 , 0.55676095],\n",
       "       [1.        , 0.30099454, 0.73946958],\n",
       "       [1.        , 0.20618356, 0.76592217],\n",
       "       [1.        , 0.37110371, 0.61144874],\n",
       "       [1.        , 0.47168124, 0.69485294],\n",
       "       [1.        , 0.80601534, 0.68358902],\n",
       "       [1.        , 0.49796789, 0.62649868],\n",
       "       [1.        , 0.31602267, 0.83441525],\n",
       "       [1.        , 0.38030255, 0.94530837],\n",
       "       [1.        , 0.31240072, 0.97882029],\n",
       "       [1.        , 0.38114972, 0.55753905],\n",
       "       [1.        , 0.47536788, 0.76935381],\n",
       "       [1.        , 0.3842948 , 0.84294801],\n",
       "       [1.        , 0.44261206, 0.96867737],\n",
       "       [1.        , 0.29171345, 0.88356164],\n",
       "       [1.        , 0.33921502, 1.07928967],\n",
       "       [1.        , 0.42940437, 0.94592432],\n",
       "       [1.        , 0.59556373, 0.88438111],\n",
       "       [1.        , 0.42860428, 0.94446999],\n",
       "       [1.        , 0.33666589, 0.81736805],\n",
       "       [1.        , 0.39154369, 0.82712579],\n",
       "       [1.        , 0.58761062, 0.90890855],\n",
       "       [1.        , 0.25410812, 1.06977852],\n",
       "       [1.        , 0.39510065, 1.02789231],\n",
       "       [1.        , 0.46744412, 0.96683673],\n",
       "       [1.        , 0.37976395, 0.96914187],\n",
       "       [1.        , 0.39143921, 1.13449132],\n",
       "       [1.        , 0.46698771, 1.01026486],\n",
       "       [1.        , 1.66727178, 1.21252593],\n",
       "       [1.        , 0.3952072 , 1.09625314],\n",
       "       [1.        , 0.61850955, 0.99044929],\n",
       "       [1.        , 0.37790384, 1.22514857],\n",
       "       [1.        , 0.55879382, 1.3342952 ],\n",
       "       [1.        , 0.47900651, 0.89311059],\n",
       "       [1.        , 0.62505573, 1.25486699],\n",
       "       [1.        , 0.68834282, 1.24782739],\n",
       "       [1.        , 0.57916731, 1.04318217],\n",
       "       [1.        , 0.66685425, 1.75070343],\n",
       "       [1.        , 0.72589754, 1.8043566 ],\n",
       "       [1.        , 0.91485149, 1.97711771],\n",
       "       [1.        , 0.97658863, 2.26700111]])"
      ]
     },
     "execution_count": 6,
     "metadata": {},
     "output_type": "execute_result"
    }
   ],
   "source": [
    "renormalized_values"
   ]
  },
  {
   "cell_type": "markdown",
   "id": "e1027679",
   "metadata": {},
   "source": [
    "## 2. Universal Functions"
   ]
  },
  {
   "cell_type": "markdown",
   "id": "0f3fd2d9",
   "metadata": {},
   "source": [
    "These operations are called [Universal Functions (ufunc)](https://numpy.org/doc/stable/reference/generated/numpy.ufunc.html), which are functions that operate on ndarrays in an element-by-element fashion, supporting array broadcasting, type casting, and several other standard features. That is, a ufunc is a “vectorized” wrapper for a function that takes a fixed number of specific inputs and produces a fixed number of specific outputs.\n",
    "\n",
    "This is what makes mathematical operations work with ndarrays. We've seen a few arithmetic operations, but it's also possible to apply boolean operations, like `<`, `>` or `==` to ndarrays. NumPy has a number of other `ufunc` functions that operate on each element, such as\n",
    "\n",
    "- sine and cosine: `np.sin` and `np.cos`\n",
    "- exponential $e^x$: `np.exp(x)`\n",
    "- logarithms $\\log(x)$: `np.log(x)`\n",
    "\n",
    "and others."
   ]
  },
  {
   "cell_type": "markdown",
   "id": "5ca87d68",
   "metadata": {},
   "source": [
    "Going back to our example, we can compute"
   ]
  },
  {
   "cell_type": "code",
   "execution_count": 7,
   "id": "ae9e5957",
   "metadata": {
    "scrolled": true,
    "tags": []
   },
   "outputs": [
    {
     "data": {
      "text/plain": [
       "array([5.32232682, 5.30975174, 5.30871314, 5.27673616, 5.27632735,\n",
       "       5.26801279, 5.26253474, 5.25399969, 5.2490746 , 5.24902207,\n",
       "       5.24623429, 5.24433625, 5.24364997, 5.23484494, 5.2277876 ,\n",
       "       5.22569291, 5.21759526, 5.2149901 , 5.21210567, 5.21205117,\n",
       "       5.20833795, 5.20746225, 5.20466581, 5.19998763, 5.19822075,\n",
       "       5.19584157, 5.19295685, 5.19206757, 5.18688289, 5.18060308,\n",
       "       5.18015301, 5.17699683, 5.17518882, 5.17167647, 5.16820868,\n",
       "       5.16512877, 5.16347082, 5.16312746, 5.16123683, 5.15859542,\n",
       "       5.15773259, 5.15721453, 5.15577406, 5.1551396 , 5.15450473,\n",
       "       5.15375392, 5.15259771, 5.15236631, 5.15138226, 5.14819191,\n",
       "       5.14656381, 5.14522446, 5.14131262, 5.14096156, 5.13385537,\n",
       "       5.13326582, 5.13261691, 5.12758836, 5.12752905, 5.12741041,\n",
       "       5.12169951, 5.1158358 , 5.11571577, 5.11445462, 5.11415411,\n",
       "       5.11060129, 5.10824586, 5.10624846, 5.10436847, 5.10370053,\n",
       "       5.10339677, 5.10266738, 5.10236331, 5.09852406, 5.09840194,\n",
       "       5.09693531, 5.09454743, 5.0926453 , 5.09043182, 5.08765806,\n",
       "       5.08716414, 5.08208736, 5.08208736, 5.08059659, 5.07997477,\n",
       "       5.07953927, 5.07579862, 5.07523631, 5.07022409, 5.06953294,\n",
       "       5.06506035, 5.06348072, 5.06265832, 5.05993327, 5.05337545,\n",
       "       5.04908648, 5.04793108, 5.04696722, 5.04535873, 5.03571807,\n",
       "       5.0288026 , 5.02775459, 5.02519545, 5.02506403, 5.02434094,\n",
       "       5.01621967, 5.0128994 , 5.01103521, 5.00729639, 5.00609165,\n",
       "       5.0050866 , 5.00455015, 5.00374494, 5.0034764 , 5.00267032,\n",
       "       4.98845785, 4.98668407, 4.98620598, 4.98483874, 4.98449664,\n",
       "       4.98127514, 4.97990113, 4.9784564 , 4.97790547, 4.96904912,\n",
       "       4.967519  , 4.96494033, 4.96130498, 4.95505211, 4.94769549,\n",
       "       4.94705631, 4.94435303, 4.9424992 , 4.94228507, 4.94157099,\n",
       "       4.93971199, 4.9383513 , 4.93827963, 4.93490549, 4.93317813,\n",
       "       4.93166423, 4.93159209, 4.92005392, 4.91456483, 4.90660722,\n",
       "       4.90660722, 4.89305224, 4.88726166, 4.88476968, 4.87626545,\n",
       "       4.87267506, 4.86668794, 4.85872654, 4.85491672, 4.85359154,\n",
       "       4.82205419, 4.81413367, 4.81413367, 4.81267204, 4.8108827 ,\n",
       "       4.80917169, 4.80819266, 4.80672231, 4.80541352, 4.80434886,\n",
       "       4.80410301, 4.79950266, 4.79719452, 4.79595582, 4.79397071,\n",
       "       4.78815819, 4.78147367, 4.77811458, 4.77297015, 4.76686377,\n",
       "       4.76575725, 4.7650757 , 4.75780543, 4.75625904, 4.75376259,\n",
       "       4.75238257, 4.74814435, 4.74545373, 4.74162231, 4.73461825,\n",
       "       4.72862599, 4.7212629 , 4.72001558, 4.71814166, 4.70084394,\n",
       "       4.69701984, 4.69208156, 4.69088906, 4.68941942, 4.68730302,\n",
       "       4.68693449, 4.68573583, 4.68499749, 4.68157552, 4.67329602,\n",
       "       4.67095793, 4.66598303, 4.65842655, 4.64333265, 4.64150212,\n",
       "       4.64005459, 4.63705637, 4.63044799, 4.63015544, 4.62516887,\n",
       "       4.61154979, 4.5959276 , 4.58924404, 4.57522631, 4.54891724,\n",
       "       4.54785882, 4.54446431, 4.54095161, 4.51283557, 4.50369102,\n",
       "       4.4893103 , 4.48198509, 4.47129588, 4.46602305, 4.46567821,\n",
       "       4.45457983, 4.44711188, 4.43970575, 4.43057868, 4.41231333,\n",
       "       4.41061409, 4.3986379 , 4.38949865, 4.36830796, 4.34536265,\n",
       "       4.32452993, 4.30864916, 4.30460549, 4.2385892 , 4.21419952,\n",
       "       4.20901164, 4.20080447, 4.1683692 , 3.97612393, 3.90358753,\n",
       "       3.81661282, 3.58018004])"
      ]
     },
     "execution_count": 7,
     "metadata": {},
     "output_type": "execute_result"
    }
   ],
   "source": [
    "np.log(quality_index)"
   ]
  },
  {
   "cell_type": "markdown",
   "id": "f5dc8819",
   "metadata": {},
   "source": [
    "---"
   ]
  },
  {
   "cell_type": "markdown",
   "id": "74e3ed8b",
   "metadata": {},
   "source": [
    "## 3. Combining Broadcasting and Universal Functions to catch a baseball\n",
    "\n",
    "![Notes for broadcasting and ufunc applications in catching a baseball](../images/03_vectorization-notes.png)"
   ]
  },
  {
   "cell_type": "markdown",
   "id": "90ea3371",
   "metadata": {},
   "source": [
    "Consider the motion of a ball thrown from one person to another. The path of the ball is defined here as\n",
    "\n",
    "- $x(t) = x_0 + v_x t$ the forward distance of the ball\n",
    "- $y(t) = y_0 + v_y t - \\frac{g}{2}t^2$ the height of the ball\n",
    "\n",
    "where\n",
    "\n",
    "- $x_0 = 0~m$ is the initial distance travelled\n",
    "- $v_x$ is the initial forward speed of the ball\n",
    "- $y_0$ is the initial height of the ball\n",
    "- $v_y$ is the initial upward speed of the ball\n",
    "- $g = 9.81~\\frac{m}{s^2}$ is the acceleration due to gravity\n",
    "\n",
    "Let's use NumPy to find all the locations where a 175-cm person can stand to catch a ball thrown from $x_0=0~m$ and $y_0=2~m$ high at $v_x = 3.5~m$ and $v_y = 4.5~m$. \n",
    "\n",
    "You will do this in five steps:\n",
    "\n",
    "1. define your constants: $x_0,~v_x,~y_0,~v_y,~g$\n",
    "2. define your independent variable, time, as a NumPy array\n",
    "3. calculate the positions using time and your constants\n",
    "4. plot the path of the ball\n",
    "5. find the x-locations where $y(t)<0.175~m$"
   ]
  },
  {
   "cell_type": "markdown",
   "id": "44fbdc85",
   "metadata": {},
   "source": [
    "### 3.1. Define your constants\n",
    "\n",
    "First, define the variables that are constant in the functions, $x(t)$ and $y(t)$:\n",
    "\n",
    "- $x_0$ as `x0`\n",
    "- $y_0$ as `y0`\n",
    "- $v_x$ as `vx`\n",
    "- $v_y$ as `vy`\n",
    "- $g$ as `g`"
   ]
  },
  {
   "cell_type": "code",
   "execution_count": 15,
   "id": "a3a41f34",
   "metadata": {},
   "outputs": [],
   "source": [
    "x0 = 0\n",
    "y0 = 2\n",
    "\n",
    "vx = 3.5\n",
    "vy = 4.5\n",
    "g = 9.81"
   ]
  },
  {
   "cell_type": "markdown",
   "id": "901692ec",
   "metadata": {},
   "source": [
    "### 3.2. Define your independent variable, time, as a NumPy array\n",
    "\n",
    "Now, you will use a built-in NumPy function, [`np.linspace`](https://numpy.org/doc/stable/reference/generated/numpy.linspace.html) to create the independent variable $t$ as `time`. The function `np.linspace` uses three arguments to define an array, as such\n",
    "\n",
    "```python\n",
    "time = np.linspace(start, end, number_of_steps)\n",
    "```\n",
    "\n",
    "- the `start` creates the first value in the array `time`\n",
    "- the `end` creates the last value in the array `time`\n",
    "- the `number_of_steps` defines how many steps to take between `start` and `end`"
   ]
  },
  {
   "cell_type": "code",
   "execution_count": 57,
   "id": "2bfb88ee",
   "metadata": {},
   "outputs": [],
   "source": [
    "time = np.linspace(0, 1, 21)"
   ]
  },
  {
   "cell_type": "markdown",
   "id": "5df3bc03",
   "metadata": {},
   "source": [
    "**Note** `np.linspace` is very similar to `np.arange`, but you should be aware that `np.arange` may give unexpected results due to loss of precision. Check [the `np.arange` docstring](https://numpy.org/devdocs/reference/generated/numpy.arange.html) for more details."
   ]
  },
  {
   "cell_type": "markdown",
   "id": "79239a56",
   "metadata": {},
   "source": [
    "Consider the output from the array, `time`. Here you `print` some descriptions of how `np.linspace` defined your array. "
   ]
  },
  {
   "cell_type": "code",
   "execution_count": 58,
   "id": "70477931",
   "metadata": {},
   "outputs": [
    {
     "name": "stdout",
     "output_type": "stream",
     "text": [
      "Your independent variable is time\n",
      "time starts at 0.0 s and ends at 1.0 s\n",
      "\n",
      "it has 21 time steps and each step is 0.05 s\n"
     ]
    }
   ],
   "source": [
    "print('Your independent variable is time')\n",
    "print('time starts at {} s and ends at {} s'.format(time[0], time[-1]))\n",
    "print()\n",
    "print('it has {} time steps and each step is {} s'.format(len(time), time[1] - time[0]))"
   ]
  },
  {
   "cell_type": "markdown",
   "id": "9276647a",
   "metadata": {},
   "source": [
    "### 3.3. Calculate the positions using time and your constants\n",
    "\n",
    "Now, that you have a NumPy array, you can plug it directly into equations to create new arrays. Next you define \n",
    "\n",
    "- `x` as $x(t) = x_0 + v_x t$ the forward distance of the ball\n",
    "- `y` as $y(t) = y_0 + v_y t - \\frac{g}{2}t^2$ the height of the ball"
   ]
  },
  {
   "cell_type": "markdown",
   "id": "08c44fa5",
   "metadata": {},
   "source": [
    "NumPy arrays make defining these functions straightforward. In the array `x`, each value of time [0, 0.05, ..., 1] s was multiplied by the initial speed, `vx`, then added to the initial position, `x0`. No need to create a `for`-loop and define each value of `x`. "
   ]
  },
  {
   "cell_type": "code",
   "execution_count": 59,
   "id": "109997f5",
   "metadata": {},
   "outputs": [],
   "source": [
    "x = x0 + vx*time\n",
    "y = y0 + vy*time -g/2*time**2"
   ]
  },
  {
   "cell_type": "markdown",
   "id": "df5300cf",
   "metadata": {},
   "source": [
    "### 3.4. Plot the path of the ball\n",
    "\n",
    "Now, you have defined three arrays, `t`, `x`, and `y`. Each of these arrays is the same shape `(21, )`. "
   ]
  },
  {
   "cell_type": "code",
   "execution_count": 60,
   "id": "89a438c4",
   "metadata": {},
   "outputs": [
    {
     "name": "stdout",
     "output_type": "stream",
     "text": [
      "(21,)\n",
      "(21,)\n",
      "(21,)\n"
     ]
    }
   ],
   "source": [
    "print(np.shape(time))\n",
    "print(np.shape(x))\n",
    "print(np.shape(y))"
   ]
  },
  {
   "cell_type": "markdown",
   "id": "331a8cc9",
   "metadata": {},
   "source": [
    "Because they are all the same shape, you can use [Matplotlib](https://matplotlib.org/stable/index.html) to see how the ball will travel through the air. Here, you use `plt.plot` to plot $y(t)$ vs $x(t)$. "
   ]
  },
  {
   "cell_type": "code",
   "execution_count": 61,
   "id": "9d037f3e",
   "metadata": {},
   "outputs": [
    {
     "data": {
      "text/plain": [
       "Text(0, 0.5, 'height (m)')"
      ]
     },
     "execution_count": 61,
     "metadata": {},
     "output_type": "execute_result"
    },
    {
     "data": {
      "image/png": "[encoded data removed]",
      "text/plain": [
       "<Figure size 432x288 with 1 Axes>"
      ]
     },
     "metadata": {
      "needs_background": "light"
     },
     "output_type": "display_data"
    }
   ],
   "source": [
    "plt.plot(x, y, 'o')\n",
    "plt.xlabel('forward distance (m)')\n",
    "plt.ylabel('height (m)')"
   ]
  },
  {
   "cell_type": "markdown",
   "id": "25810172",
   "metadata": {},
   "source": [
    "By plotting the path of the ball, notice how the height is over 2 meters for most of the time in the air. Somewhere past $x(t) = 3~m$ the ball is getting back to its original height of $2~m$. Next, you can find what those positions and times are. "
   ]
  },
  {
   "cell_type": "markdown",
   "id": "97e9aad1",
   "metadata": {},
   "source": [
    "### 3.5. Find the x-locations where $y(t)<1.75~m$\n",
    "\n",
    "Now, you want to find the locations to stand _and even when to catch the ball_. You can use another `ufunc` function that operates on every element in the variable `y`. Use the `<` operator to check when $y(t) < 1.75~m$"
   ]
  },
  {
   "cell_type": "code",
   "execution_count": 62,
   "id": "28540b51",
   "metadata": {},
   "outputs": [
    {
     "data": {
      "text/plain": [
       "array([2.       , 2.2127375, 2.40095  , 2.5646375, 2.7038   , 2.8184375,\n",
       "       2.90855  , 2.9741375, 3.0152   , 3.0317375, 3.02375  , 2.9912375,\n",
       "       2.9342   , 2.8526375, 2.74655  , 2.6159375, 2.4608   , 2.2811375,\n",
       "       2.07695  , 1.8482375, 1.595    ])"
      ]
     },
     "execution_count": 62,
     "metadata": {},
     "output_type": "execute_result"
    }
   ],
   "source": [
    "y"
   ]
  },
  {
   "cell_type": "code",
   "execution_count": 63,
   "id": "b6bc8ac1",
   "metadata": {},
   "outputs": [
    {
     "data": {
      "text/plain": [
       "array([False, False, False, False, False, False, False, False, False,\n",
       "       False, False, False, False, False, False, False, False, False,\n",
       "       False, False,  True])"
      ]
     },
     "execution_count": 63,
     "metadata": {},
     "output_type": "execute_result"
    }
   ],
   "source": [
    "y < 1.75"
   ]
  },
  {
   "cell_type": "markdown",
   "id": "4c108959",
   "metadata": {},
   "source": [
    "The result is a list of `True` and `False` statements. \n",
    "- If the value of `y` is more than $1.75~m$, then the result is `False` \n",
    "- If the value of `y` is less than $1.75~m$, then the result is `True`\n",
    "\n",
    "Now, you can use this list of `True`/`False` statements to just look at the times and positions of the ball when the statement is `True`, using advanced indexing:"
   ]
  },
  {
   "cell_type": "code",
   "execution_count": 64,
   "id": "dd181006",
   "metadata": {},
   "outputs": [
    {
     "data": {
      "text/plain": [
       "array([1.])"
      ]
     },
     "execution_count": 64,
     "metadata": {},
     "output_type": "execute_result"
    }
   ],
   "source": [
    "time[y < 1.75]"
   ]
  },
  {
   "cell_type": "code",
   "execution_count": 65,
   "id": "6bcc7e9a",
   "metadata": {},
   "outputs": [
    {
     "data": {
      "text/plain": [
       "array([3.5])"
      ]
     },
     "execution_count": 65,
     "metadata": {},
     "output_type": "execute_result"
    }
   ],
   "source": [
    "x[y < 1.75]"
   ]
  },
  {
   "cell_type": "code",
   "execution_count": 66,
   "id": "6fa4d8cd",
   "metadata": {},
   "outputs": [
    {
     "data": {
      "text/plain": [
       "array([1.595])"
      ]
     },
     "execution_count": 66,
     "metadata": {},
     "output_type": "execute_result"
    }
   ],
   "source": [
    "y[y < 1.75]"
   ]
  },
  {
   "cell_type": "code",
   "execution_count": 67,
   "id": "75721025",
   "metadata": {},
   "outputs": [
    {
     "data": {
      "text/plain": [
       "Text(0, 0.5, 'height (m)')"
      ]
     },
     "execution_count": 67,
     "metadata": {},
     "output_type": "execute_result"
    },
    {
     "data": {
      "image/png": "[encoded data removed]",
      "text/plain": [
       "<Figure size 432x288 with 1 Axes>"
      ]
     },
     "metadata": {
      "needs_background": "light"
     },
     "output_type": "display_data"
    }
   ],
   "source": [
    "plt.plot(x, y, 'o')\n",
    "for ystand in y[y < 1.75]:\n",
    "    plt.text(x[y == ystand], ystand, '<- Stand here')\n",
    "plt.xlabel('forward distance (m)')\n",
    "plt.ylabel('height (m)')"
   ]
  },
  {
   "cell_type": "markdown",
   "id": "f0fbe2ea",
   "metadata": {},
   "source": [
    "The result is that at $t = 1~s$, the ball has travelled $x(t=1) = 3.5~m$ and will be $y(t=1) = 1.595~m$ high. This is a great place to stand to catch the ball, just be ready!"
   ]
  },
  {
   "cell_type": "markdown",
   "id": "9d62618c",
   "metadata": {},
   "source": [
    "---"
   ]
  },
  {
   "cell_type": "markdown",
   "id": "801eb92e",
   "metadata": {},
   "source": [
    "## Read more\n",
    "- [NumPy functions and methods overview](https://numpy.org/devdocs/user/quickstart.html#functions-and-methods-overview)\n",
    "- [NumPy Quickstart guide](https://numpy.org/devdocs/user/quickstart.html)\n",
    "- [NumPy for absolute beginners](https://numpy.org/devdocs/user/absolute_beginners.html)\n",
    "- [Broadcasting](https://numpy.org/devdocs/user/basics.broadcasting.html)"
   ]
  },
  {
   "cell_type": "markdown",
   "id": "55b8190a",
   "metadata": {},
   "source": [
    "## Next"
   ]
  },
  {
   "cell_type": "markdown",
   "id": "4cd4411f",
   "metadata": {},
   "source": [
    "Go to [Notebook 4: Submodules](04_Submodules.ipynb)."
   ]
  },
  {
   "cell_type": "code",
   "execution_count": null,
   "id": "7c1aed64",
   "metadata": {},
   "outputs": [],
   "source": []
  }
 ],
 "metadata": {
  "kernelspec": {
   "display_name": "Python 3",
   "language": "python",
   "name": "python3"
  },
  "language_info": {
   "codemirror_mode": {
    "name": "ipython",
    "version": 3
   },
   "file_extension": ".py",
   "mimetype": "text/x-python",
   "name": "python",
   "nbconvert_exporter": "python",
   "pygments_lexer": "ipython3",
   "version": "3.9.4"
  }
 },
 "nbformat": 4,
 "nbformat_minor": 5
}
